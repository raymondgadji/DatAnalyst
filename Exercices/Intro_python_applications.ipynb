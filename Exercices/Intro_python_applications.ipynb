{
 "cells": [
  {
   "cell_type": "markdown",
   "metadata": {
    "slideshow": {
     "slide_type": "subslide"
    }
   },
   "source": [
    "# Exercice 1:  \n",
    "\n",
    "1-  Remplir une liste d'apprenants, afficher le nombre des enregistrés ainsi que le premier et le dernier de la liste . \n",
    "\n",
    "2-  Ajouter, ensuite, un nouvel apprenant et afficher la liste finale"
   ]
  },
  {
   "cell_type": "code",
   "execution_count": 13,
   "metadata": {
    "slideshow": {
     "slide_type": "fragment"
    }
   },
   "outputs": [
    {
     "name": "stdout",
     "output_type": "stream",
     "text": [
      "françois\n",
      "Céline\n",
      "5\n",
      "['françois', 'Mathilde', 'Sarah', 'Yasmine', 'Céline', 'Nicolas']\n"
     ]
    }
   ],
   "source": [
    "list=['françois', 'Mathilde', 'Sarah', 'Yasmine', 'Céline']\n",
    "print(list[0])\n",
    "print(list[4])\n",
    "print(len(list))\n",
    "list.append('Nicolas')\n",
    "print(list)\n",
    "#TBD"
   ]
  },
  {
   "cell_type": "markdown",
   "metadata": {
    "slideshow": {
     "slide_type": "subslide"
    }
   },
   "source": [
    "* supprimer des élements d'une liste:\n",
    "\n",
    "1- avec del : del variable_a_supprimer. \n",
    "\n",
    "2- avec la méthode remove: qui prend en paramètre l'élément (et non pas l'indice de l'élément à supprimer (pop)."
   ]
  },
  {
   "cell_type": "code",
   "execution_count": 47,
   "metadata": {},
   "outputs": [
    {
     "name": "stdout",
     "output_type": "stream",
     "text": [
      "['françois', 'Mathilde', 'Sarah', 'Céline']\n"
     ]
    }
   ],
   "source": [
    "#TBD\n",
    "list=['françois', 'Mathilde', 'Sarah', 'Yasmine', 'Céline']\n",
    "del list[3]\n",
    "print(list)\n",
    "\n"
   ]
  },
  {
   "cell_type": "code",
   "execution_count": 46,
   "metadata": {},
   "outputs": [
    {
     "name": "stdout",
     "output_type": "stream",
     "text": [
      "['françois', 'Mathilde', 'Yasmine', 'Céline']\n"
     ]
    }
   ],
   "source": [
    "list=['françois', 'Mathilde', 'Sarah', 'Yasmine', 'Céline']\n",
    "list.remove('Sarah')\n",
    "print(list)"
   ]
  },
  {
   "cell_type": "markdown",
   "metadata": {},
   "source": [
    "Pour plus de détails : [La documentation officielle de Python](https://docs.python.org/fr/3/tutorial/controlflow.html#the-range-function)"
   ]
  },
  {
   "cell_type": "markdown",
   "metadata": {
    "slideshow": {
     "slide_type": "subslide"
    }
   },
   "source": [
    "# Exercice 2: \n",
    "\n",
    "soit la liste suivante:\n",
    "\n",
    "weekdays = ['mon', 'tues', 'wed', 'thurs', 'fri']\n",
    "\n",
    "Suivre les instructions ci dessous:"
   ]
  },
  {
   "cell_type": "code",
   "execution_count": 71,
   "metadata": {},
   "outputs": [
    {
     "name": "stdout",
     "output_type": "stream",
     "text": [
      "mon\n",
      "['mon', 'tues', 'wed']\n",
      "['mon', 'wed', 'fri']\n",
      "['fri', 'thurs', 'wed', 'tues', 'mon']\n",
      "['wed', 'tues', 'thurs', 'mon', 'fri']\n",
      "['fri', 'mon', 'thurs', 'tues', 'wed']\n"
     ]
    }
   ],
   "source": [
    "weekdays = ['mon', 'tues', 'wed', 'thurs', 'fri']\n",
    "# Afficher le premier element de la liste\n",
    "#TBD\n",
    "print(weekdays[0])\n",
    "\n",
    "#Afficher les elements 0 (inclus) à 3 (exclus)\n",
    "#TBD\n",
    "print(weekdays[0:3])\n",
    "\n",
    "#Afficher avec un pas de 2 (les indices: 0,2,4)\n",
    "#TBD\n",
    "print(weekdays[::2])\n",
    "\n",
    "#Afficher la liste inversée\n",
    "#TBD\n",
    "weekdays.reverse()\n",
    "print(weekdays)\n",
    "\n",
    "#Afficher la liste triée\n",
    "#TBD\n",
    "weekdays.sort()\n",
    "\n",
    "#Afficher la liste inversement triée\n",
    "print(weekdays[::-1])\n",
    "\n",
    "print(weekdays)"
   ]
  },
  {
   "cell_type": "markdown",
   "metadata": {
    "slideshow": {
     "slide_type": "subslide"
    }
   },
   "source": [
    "# Exercice 3:\n",
    "\n",
    "soit cette liste:\n",
    "\n",
    "a=  [0,3,1]\n",
    "\n",
    "suivre les instructions ci dessous:\n"
   ]
  },
  {
   "cell_type": "code",
   "execution_count": 40,
   "metadata": {},
   "outputs": [
    {
     "name": "stdout",
     "output_type": "stream",
     "text": [
      "3\n",
      "3\n",
      "1\n",
      "1\n",
      "0\n",
      "0\n",
      "1\n",
      "2\n",
      "[0, 3, 2]\n",
      "[0, 3, 2]\n",
      "[0, 3, 2, 3, 4]\n",
      "[0, 2, 3, 3, 4]\n"
     ]
    }
   ],
   "source": [
    "a=[0,3,1]\n",
    "# creer un tuple t à partir de la liste a et afficher son length\n",
    "t1 = (a)\n",
    "t2 = ([0,3,1])\n",
    "print(len(t1))\n",
    "print(len(t2))\n",
    "\n",
    "\n",
    "# compter le nombre d'instances de 0 dans t1\n",
    "print(t1.count(0))\n",
    "\n",
    "# compter le nombre d'instances de 0 dans t2\n",
    "print(t2.count(0))\n",
    "\n",
    "# trouver l'index de la première instance de cet element trouvé:\n",
    "print(t1.index(0))\n",
    "print(t2.index(0))\n",
    "# Que remarquez vous si vous lancer la commande cidessous:\n",
    "print(t1[2])\n",
    "t1[2] = 2\n",
    "print(t1[2])\n",
    "print(t1)\n",
    "print(a)\n",
    "#On remarque la liste a à été modifiée après modification du tuple t1 (via la commande t1[2]=2)\n",
    "\n",
    "#Ajouter au tuple t, les 2 elements (3, 4)\n",
    "#\n",
    "#t += (3,4)\n",
    "#Il est impossible de modifier un tuple alors nous allons le détruire pour en créer un nouveau\n",
    "t1 += (3,4)\n",
    "print(t1)\n",
    "\n",
    "\n",
    "#print(t)\n",
    "#trier le tuple t\n",
    "print(sorted(t1))\n",
    "#Apparemment il est impossible de trier le tuple ? cela peut être apparenté à une modification"
   ]
  },
  {
   "cell_type": "markdown",
   "metadata": {},
   "source": [
    "[La Reference complete est ici](https://docs.python.org/fr/3/tutorial/datastructures.html)"
   ]
  },
  {
   "cell_type": "markdown",
   "metadata": {
    "slideshow": {
     "slide_type": "subslide"
    }
   },
   "source": [
    "# Exercice 4:\n",
    "\n",
    "Créer le dictionnaire suivant et le stocker dans une variable d1 :\n",
    "\n",
    "    age: 20\n",
    "    nom: \"Doe\"\n",
    "\n",
    "Créer un second dictionnaire d2 contenant les valeurs suivantes :\n",
    "\n",
    "    age: 22\n",
    "    firstname: \"John\"\n",
    "    adresse: \"Paris\"\n",
    "\n",
    "continuer les instructions ci dessous:"
   ]
  },
  {
   "cell_type": "code",
   "execution_count": 61,
   "metadata": {},
   "outputs": [
    {
     "name": "stdout",
     "output_type": "stream",
     "text": [
      "{'age': 20, 'nom': 'Doe'}\n",
      "<class 'dict'>\n",
      "{'age': 20, 'nom': 'Doe'}\n",
      "{'age': 22, 'firstname': 'John', 'adresse': 'Paris'}\n",
      "{'age': 22, 'nom': 'Doe', 'firstname': 'John', 'adresse': 'Paris'}\n",
      "{'age': 22, 'nom': 'Doe', 'firstname': 'John', 'adresse': 'Paris'}\n",
      "La clé 'age' contient la valeur '22'\n",
      "La clé 'firstname' contient la valeur 'John'\n",
      "La clé 'adresse' contient la valeur 'Paris'\n",
      "{'age': 22, 'firstname': 'John'}\n"
     ]
    }
   ],
   "source": [
    "#dictionnaire d1\n",
    "d1= {'age': 20 ,'nom': \"Doe\"}\n",
    "print(d1)\n",
    "d11= dict()\n",
    "print(type(d11))\n",
    "d11['age'] = 20 \n",
    "d11['nom'] = \"Doe\"\n",
    "print(d11)\n",
    "\n",
    "#dictionnaire d2\n",
    "d2 = {\n",
    "    'age': 22 ,\n",
    "    'firstname': \"John\",\n",
    "    'adresse': \"Paris\"\n",
    "     }\n",
    "print(d2)\n",
    "\n",
    "#Fusionner le dictionnaire d1 dans d2\n",
    "\n",
    "Fusion1 = { **d1, **d2}\n",
    "print(Fusion1)\n",
    "\n",
    "Fusion2 = d1 | d2\n",
    "print(Fusion2)\n",
    "\n",
    "# A l'aide d'une boucle for afficher à la fois la clé du dictionnaire d2 et sa valeur pour chaque élément\n",
    "\n",
    "for (key, value) in d2.items() :\n",
    "     print(\"La clé '{0}' contient la valeur '{1}'\".format(key,value))\n",
    "     \n",
    "# for value in d2.values():\n",
    "#      print(value)\n",
    "\n",
    "# Supprimer la clé adresse du dictionnaire d2\n",
    "\n",
    "d2.pop('adresse')\n",
    "print(d2)\n"
   ]
  },
  {
   "cell_type": "markdown",
   "metadata": {
    "slideshow": {
     "slide_type": "subslide"
    }
   },
   "source": [
    "# Exercice 5:\n",
    "\n",
    "Coder une fonction duplicate_last_item qui prend une liste en argument et qui lui rajoute le dernier élément. \n",
    "\n",
    "par exemple si l = [1, 2, 3] après application de la fonction l doit être égale à [1, 2, 3, 3]\n"
   ]
  },
  {
   "cell_type": "code",
   "execution_count": 2,
   "metadata": {
    "slideshow": {
     "slide_type": "fragment"
    }
   },
   "outputs": [
    {
     "name": "stdout",
     "output_type": "stream",
     "text": [
      "[1, 2, 3, 3]\n"
     ]
    }
   ],
   "source": [
    "def last(lst):\n",
    "    return lst[-1]\n",
    "\n",
    "def duplicate_last_item(liste):\n",
    "    liste.append(last(liste)) \n",
    "    return liste\n",
    "\n",
    "liste10 = [1, 2, 3] \n",
    "print(duplicate_last_item(liste10))\n"
   ]
  },
  {
   "cell_type": "markdown",
   "metadata": {
    "slideshow": {
     "slide_type": "subslide"
    }
   },
   "source": [
    "# Exercice 6:\n",
    "\n",
    "Coder une fonction multiply_liste qui prend en argument une liste et retourne une liste dont tous les éléments sont multipliés par un coefficient 𝛼 donné en argument \n"
   ]
  },
  {
   "cell_type": "code",
   "execution_count": 103,
   "metadata": {},
   "outputs": [
    {
     "name": "stdout",
     "output_type": "stream",
     "text": [
      "[2, 4, 6]\n"
     ]
    }
   ],
   "source": [
    "\n",
    "\n",
    "def multiply_list(list,alpha):\n",
    "    #a completer\n",
    "    lst = []\n",
    "    for elt in list:\n",
    "       lst.append(alpha*elt)\n",
    "       \n",
    "    return(lst)\n",
    "\n",
    "list = [1, 2, 3]\n",
    "alpha = 2       \n",
    "list2 = multiply_list(list,alpha)\n",
    "print(list2)\n"
   ]
  },
  {
   "cell_type": "code",
   "execution_count": 104,
   "metadata": {
    "slideshow": {
     "slide_type": "subslide"
    }
   },
   "outputs": [
    {
     "data": {
      "text/plain": [
       "[2, 4, 6]"
      ]
     },
     "execution_count": 104,
     "metadata": {},
     "output_type": "execute_result"
    }
   ],
   "source": [
    "#Bonus:\n",
    "#Coder une fonction filter_even_values qui filtre toutes les valeurs paire d'une liste\n",
    "\n",
    "def filter_even_values(list):\n",
    "    lst4 = []\n",
    "    for elt in list:\n",
    "       if elt % 2 == 0:\n",
    "        lst4.append(elt)\n",
    "       \n",
    "    return(lst4)\n",
    "\n",
    "\n",
    "list3 = [1, 2, 3, 4, 5, 6]\n",
    "filter_even_values(list3)"
   ]
  },
  {
   "cell_type": "markdown",
   "metadata": {
    "slideshow": {
     "slide_type": "subslide"
    }
   },
   "source": [
    "# Exercice 7:\n",
    "\n",
    "Coder la fonction is_adult qui affiche \"mineur\" si le nombre en entré est inférieur à 18, \"adulte\" si supérieur ou égale à 18 et inférieur à 65 et \"senior\" sinon\n"
   ]
  },
  {
   "cell_type": "code",
   "execution_count": 111,
   "metadata": {
    "slideshow": {
     "slide_type": "-"
    }
   },
   "outputs": [
    {
     "name": "stdout",
     "output_type": "stream",
     "text": [
      "senior\n"
     ]
    }
   ],
   "source": [
    "\n",
    "def is_adult(age):\n",
    "    if age < 18 :\n",
    "        print(\"mineur\")\n",
    "    elif age < 65 :\n",
    "        print(\"adulte\")\n",
    "    else :\n",
    "        print(\"senior\")\n",
    "\n",
    "age = 66\n",
    "is_adult(age)"
   ]
  },
  {
   "cell_type": "markdown",
   "metadata": {},
   "source": [
    "# Bonus:"
   ]
  },
  {
   "cell_type": "markdown",
   "metadata": {
    "slideshow": {
     "slide_type": "subslide"
    }
   },
   "source": [
    "## Exercice 8:\n",
    "\n",
    "coder la fonction average qui prend en argument une liste de nombre et qui retourne la moyenne de celle-ci. On utilisera une boucle for obligatoirement\n"
   ]
  },
  {
   "cell_type": "code",
   "execution_count": 112,
   "metadata": {},
   "outputs": [
    {
     "name": "stdout",
     "output_type": "stream",
     "text": [
      "Collecting numpy\n",
      "  Downloading numpy-2.3.1-cp313-cp313-win_amd64.whl.metadata (60 kB)\n",
      "Downloading numpy-2.3.1-cp313-cp313-win_amd64.whl (12.7 MB)\n",
      "   ---------------------------------------- 0.0/12.7 MB ? eta -:--:--\n",
      "   ------- -------------------------------- 2.4/12.7 MB 11.6 MB/s eta 0:00:01\n",
      "   ----------------- ---------------------- 5.5/12.7 MB 13.6 MB/s eta 0:00:01\n",
      "   ---------------------------- ----------- 8.9/12.7 MB 14.4 MB/s eta 0:00:01\n",
      "   -------------------------------------- - 12.3/12.7 MB 15.0 MB/s eta 0:00:01\n",
      "   ---------------------------------------- 12.7/12.7 MB 14.2 MB/s eta 0:00:00\n",
      "Installing collected packages: numpy\n",
      "Successfully installed numpy-2.3.1\n"
     ]
    }
   ],
   "source": [
    "! pip install numpy"
   ]
  },
  {
   "cell_type": "code",
   "execution_count": 1,
   "metadata": {},
   "outputs": [
    {
     "name": "stdout",
     "output_type": "stream",
     "text": [
      "Help on ufunc in module numpy:\n",
      "\n",
      "add = <ufunc 'add'>\n",
      "    add(x1, x2, /, out=None, *, where=True, casting='same_kind', order='K', dtype=None, subok=True[, signature])\n",
      "\n",
      "    Add arguments element-wise.\n",
      "\n",
      "    Parameters\n",
      "    ----------\n",
      "    x1, x2 : array_like\n",
      "        The arrays to be added.\n",
      "        If ``x1.shape != x2.shape``, they must be broadcastable to a common\n",
      "        shape (which becomes the shape of the output).\n",
      "    out : ndarray, None, or tuple of ndarray and None, optional\n",
      "        A location into which the result is stored. If provided, it must have\n",
      "        a shape that the inputs broadcast to. If not provided or None,\n",
      "        a freshly-allocated array is returned. A tuple (possible only as a\n",
      "        keyword argument) must have length equal to the number of outputs.\n",
      "    where : array_like, optional\n",
      "        This condition is broadcast over the input. At locations where the\n",
      "        condition is True, the `out` array will be set to the ufunc result.\n",
      "        Elsewhere, the `out` array will retain its original value.\n",
      "        Note that if an uninitialized `out` array is created via the default\n",
      "        ``out=None``, locations within it where the condition is False will\n",
      "        remain uninitialized.\n",
      "    **kwargs\n",
      "        For other keyword-only arguments, see the\n",
      "        :ref:`ufunc docs <ufuncs.kwargs>`.\n",
      "\n",
      "    Returns\n",
      "    -------\n",
      "    add : ndarray or scalar\n",
      "        The sum of `x1` and `x2`, element-wise.\n",
      "        This is a scalar if both `x1` and `x2` are scalars.\n",
      "\n",
      "    Notes\n",
      "    -----\n",
      "    Equivalent to `x1` + `x2` in terms of array broadcasting.\n",
      "\n",
      "    Examples\n",
      "    --------\n",
      "    >>> import numpy as np\n",
      "    >>> np.add(1.0, 4.0)\n",
      "    5.0\n",
      "    >>> x1 = np.arange(9.0).reshape((3, 3))\n",
      "    >>> x2 = np.arange(3.0)\n",
      "    >>> np.add(x1, x2)\n",
      "    array([[  0.,   2.,   4.],\n",
      "           [  3.,   5.,   7.],\n",
      "           [  6.,   8.,  10.]])\n",
      "\n",
      "    The ``+`` operator can be used as a shorthand for ``np.add`` on ndarrays.\n",
      "\n",
      "    >>> x1 = np.arange(9.0).reshape((3, 3))\n",
      "    >>> x2 = np.arange(3.0)\n",
      "    >>> x1 + x2\n",
      "    array([[ 0.,  2.,  4.],\n",
      "           [ 3.,  5.,  7.],\n",
      "           [ 6.,  8., 10.]])\n",
      "\n"
     ]
    }
   ],
   "source": [
    "import numpy as np\n",
    "help(np.add)"
   ]
  },
  {
   "cell_type": "code",
   "execution_count": null,
   "metadata": {},
   "outputs": [],
   "source": [
    "def average(list):\n",
    "    return np.mean\n",
    "\n",
    "\n"
   ]
  },
  {
   "cell_type": "markdown",
   "metadata": {
    "slideshow": {
     "slide_type": "subslide"
    }
   },
   "source": [
    "## Exercice 9:\n",
    "\n",
    " Faire une fonction reverse_string qui prend en argument une chaîne de caractère et qui retourne la chaîne retournée.\n"
   ]
  },
  {
   "cell_type": "code",
   "execution_count": null,
   "metadata": {
    "slideshow": {
     "slide_type": "-"
    }
   },
   "outputs": [],
   "source": [
    "#TBD\n",
    "\n"
   ]
  },
  {
   "cell_type": "code",
   "execution_count": null,
   "metadata": {},
   "outputs": [],
   "source": []
  }
 ],
 "metadata": {
  "celltoolbar": "Diaporama",
  "kernelspec": {
   "display_name": "Python 3 (ipykernel)",
   "language": "python",
   "name": "python3"
  },
  "language_info": {
   "codemirror_mode": {
    "name": "ipython",
    "version": 3
   },
   "file_extension": ".py",
   "mimetype": "text/x-python",
   "name": "python",
   "nbconvert_exporter": "python",
   "pygments_lexer": "ipython3",
   "version": "3.13.5"
  },
  "toc": {
   "base_numbering": 1,
   "nav_menu": {},
   "number_sections": true,
   "sideBar": true,
   "skip_h1_title": false,
   "title_cell": "Table of Contents",
   "title_sidebar": "Contents",
   "toc_cell": false,
   "toc_position": {
    "height": "613.944px",
    "left": "40px",
    "top": "110.806px",
    "width": "212px"
   },
   "toc_section_display": true,
   "toc_window_display": true
  }
 },
 "nbformat": 4,
 "nbformat_minor": 4
}
