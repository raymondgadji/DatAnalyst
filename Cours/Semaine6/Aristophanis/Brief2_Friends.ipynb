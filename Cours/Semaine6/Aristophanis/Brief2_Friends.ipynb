{
 "cells": [
  {
   "cell_type": "markdown",
   "id": "b5f68f01",
   "metadata": {},
   "source": [
    "## Brief 2 \n",
    "\n",
    "On considère le site: www.imdb.com"
   ]
  },
  {
   "cell_type": "markdown",
   "id": "8801e3ba",
   "metadata": {},
   "source": [
    "**1- Analyse du Site Web :**\n",
    "\n",
    "On considère le site imdb et cette URL : https://www.imdb.com/title/tt0108778/episodes/ .\n",
    "\n",
    "inspectez la structure HTML pour comprendre comment les informations de la série ,ses épisodes et les différentes saisons sont présentées.\n",
    "\n",
    "Identifiez les balises HTML, les classes et les IDs pertinents qui contiennent les données que vous souhaitez extraire.\n",
    "\n",
    "**2-Extraction des Informations de Base :**\n",
    "\n",
    "* 2.1- les épisodes de la saison 1:\n",
    "\n",
    "Utilisez Beautiful Soup pour envoyer une requête HTTP à la page https://www.imdb.com/title/tt0108778/episodes/  récupérez le contenu HTML.\n",
    "\n",
    "Récupérez la liste des episodes de la 1ere saison.\n",
    "\n",
    "Récupérer pour chaque épisode , son numéro, son nom, la date de sortie, la note et la description\n",
    " \n",
    "* 2.2-Récupérer toutes les saisons  \n",
    "\n",
    "Etendre votre travail précédent pour extraire les les épisodes des 10 saisons de la série\n",
    "\n"
   ]
  },
  {
   "cell_type": "code",
   "execution_count": 77,
   "id": "957ca859",
   "metadata": {},
   "outputs": [],
   "source": [
    "import requests\n",
    "from bs4 import BeautifulSoup\n",
    "\n",
    "import pandas as pd\n",
    "import matplotlib.pyplot as plt\n",
    "import seaborn as sns"
   ]
  },
  {
   "cell_type": "code",
   "execution_count": 94,
   "id": "ce39b924",
   "metadata": {},
   "outputs": [
    {
     "name": "stdout",
     "output_type": "stream",
     "text": [
      "https://www.imdb.com/title/tt0108778/episodes/ 200\n"
     ]
    }
   ],
   "source": [
    "\n",
    "\n",
    "# L'url du site à scrapper\n",
    "url = 'https://www.imdb.com/title/tt0108778/episodes/'\n",
    "\n",
    "# ma requete HTTP avec un \"GET\" au serveur du site identifier dans l'url\n",
    "headers = {'User-Agent': 'Mozilla/5.0 (Windows NT 10.0; Win64; x64) AppleWebKit/537.36 (KHTML, like Gecko) Chrome/58.0.3029.110 Safari/537.3'}\n",
    "response = requests.get(url, headers=headers)\n",
    "\n",
    "# J'affiche l'url ainsi que le retour du serveur\n",
    "print(url, response.status_code)\n",
    "\n"
   ]
  },
  {
   "cell_type": "code",
   "execution_count": 95,
   "id": "beb7a2be",
   "metadata": {},
   "outputs": [],
   "source": [
    "# Je demande à beautifulSoup de conserver dans une variable \"soup\" la page web à scrapper (un script html)\n",
    "soup = BeautifulSoup(response.content,'html')\n",
    "#soup"
   ]
  },
  {
   "cell_type": "code",
   "execution_count": 96,
   "id": "a30fde0b",
   "metadata": {},
   "outputs": [
    {
     "data": {
      "text/plain": [
       "'Friends'"
      ]
     },
     "execution_count": 96,
     "metadata": {},
     "output_type": "execute_result"
    }
   ],
   "source": [
    "soup.select_one('h2').text"
   ]
  },
  {
   "cell_type": "markdown",
   "id": "7789efb5",
   "metadata": {},
   "source": [
    "# **Récupération des épisodes de la première saison de Friends**"
   ]
  },
  {
   "cell_type": "markdown",
   "id": "cd4f5194",
   "metadata": {},
   "source": [
    "### Nous allons récupérer les détails suivants de chaque épisodes de la saison 1 de Friends:\n",
    "- Titre\n",
    "- Numéro\n",
    "- Date de sortie\n",
    "- Description/résumé\n",
    "- Note\n",
    "- Nombre de votants"
   ]
  },
  {
   "cell_type": "markdown",
   "id": "81ab02de",
   "metadata": {},
   "source": [
    "#### Commençons pas créer des listes indépendantes."
   ]
  },
  {
   "cell_type": "code",
   "execution_count": 154,
   "id": "f52d58c0",
   "metadata": {},
   "outputs": [
    {
     "data": {
      "text/plain": [
       "['S10.E1 ∙ The One After Joey and Rachel Kiss',\n",
       " 'S10.E2 ∙ The One Where Ross Is Fine',\n",
       " \"S10.E3 ∙ The One with Ross's Tan\",\n",
       " 'S10.E4 ∙ The One with the Cake',\n",
       " \"S10.E5 ∙ The One Where Rachel's Sister Babysits\",\n",
       " \"S10.E6 ∙ The One with Ross' Grant\",\n",
       " 'S10.E7 ∙ The One with the Home Study',\n",
       " 'S10.E8 ∙ The One with the Late Thanksgiving',\n",
       " 'S10.E9 ∙ The One with the Birth Mother',\n",
       " 'S10.E10 ∙ The One Where Chandler Gets Caught',\n",
       " 'S10.E11 ∙ The One Where the Stripper Cries',\n",
       " \"S10.E12 ∙ The One with Phoebe's Wedding\",\n",
       " 'S10.E13 ∙ The One Where Joey Speaks French',\n",
       " 'S10.E14 ∙ The One with Princess Consuela',\n",
       " 'S10.E15 ∙ The One Where Estelle Dies',\n",
       " \"S10.E16 ∙ The One with Rachel's Going Away Party\",\n",
       " 'S10.E17 ∙ The Last One: Part 1',\n",
       " 'S10.E18 ∙ The Last One: Part 2']"
      ]
     },
     "execution_count": 154,
     "metadata": {},
     "output_type": "execute_result"
    }
   ],
   "source": [
    "# Liste des titres complet\n",
    "titre_brut = [a.text.strip() for a in soup.select(\"div.ipc-title__text.ipc-title__text--reduced\")]\n",
    "titre_brut"
   ]
  },
  {
   "cell_type": "markdown",
   "id": "6e1270ad",
   "metadata": {},
   "source": [
    "Pour décomposer le titre_brut en numéro d'épisode et titre de l'épisode, on peut créer une fonction qui utilise regex."
   ]
  },
  {
   "cell_type": "code",
   "execution_count": null,
   "id": "40a1c9e5",
   "metadata": {},
   "outputs": [],
   "source": [
    "# Création d'une fonction pour récupérer le numéro de l'épisode et le titre à partir du titre complet\n",
    "import re\n",
    "\n",
    "def numtitre(texte):\n",
    "    match = re.search(r\"(S\\d+\\.\\s*E\\d+)\\s*∙\\s*(.*)\", texte)\n",
    "    if match:\n",
    "        numero = match.group(1).strip()\n",
    "        titre = match.group(2).strip()\n",
    "        return numero, titre\n",
    "    return None, None"
   ]
  },
  {
   "cell_type": "code",
   "execution_count": 106,
   "id": "b7489ea9",
   "metadata": {},
   "outputs": [
    {
     "data": {
      "text/plain": [
       "['Monica and the gang introduce Rachel to the \"real world\" after she leaves her fiancé at the altar.',\n",
       " \"Ross finds out his ex-wife is pregnant. Rachel returns her engagement ring to Barry. Monica becomes stressed when her and Ross's parents come to visit.\",\n",
       " 'Monica becomes irritated when everyone likes her new boyfriend more than she does. Chandler resumes his smoking habit. Phoebe is given $7000 when she finds a thumb in a can of soda.',\n",
       " \"Joey and Chandler take Ross to a hockey game to take his mind off the anniversary of the first time he slept with Carol, while the girls become depressed when they realize they don't have a 'plan'.\",\n",
       " 'Eager to spend time with Rachel, Ross pretends his washroom is rat-infested so he can join her at the laundromat. Meanwhile, Joey has Monica pose as his girlfriend, and Chandler struggles to break up with his girlfriend.',\n",
       " \"Monica's obsessiveness is put to the test after Rachel cleans the apartment. Joey lands a film role as Al Pacino's butt double. Chandler enjoys a relationship with all of the fun but none of the responsibility.\",\n",
       " 'When New York suffers from a blackout, Ross tries to tell Rachel that he likes her, and Chandler gets stuck in an ATM vestibule with a model.',\n",
       " 'Monica and Ross mourn the loss of their grandmother. Chandler is shocked to find that people think he is gay.',\n",
       " \"The gang's plans for Thanksgiving go awry after they get locked out of Monica and Rachel's apartment.\",\n",
       " 'The gang make (and break) a pact not to bring dates to their New Years Eve party. Phoebe starts dating a scientist. Ross compensates for his loneliness by getting a monkey.',\n",
       " \"Chandler's flamboyant romance-novelist mother comes to visit, and Joey catches her kissing Ross. Meanwhile, Monica and Phoebe fight over a guy in a coma.\",\n",
       " \"Rachel and Paolo's relationship hits a snag when he makes a pass at Phoebe. Ross refuses to find out the sex of his baby until it's born. Chandler and Joey go shopping for a new kitchen table.\",\n",
       " 'Joey finds out his dad has a mistress. Rachel tries to even the score after Chandler inadvertently catches a glimpse of her breasts. Phoebe dates a shrink who analyzes the gang.',\n",
       " \"As Valentine's Day approaches; Ross and his date end up at the same restaurant as Carol and Susan, Joey inadvertently sets Chandler up on a blind date with Janice, and the girls burn mementos of their old boyfriends.\",\n",
       " \"Monica cooks a gourmet meal for a restaurateur who is looking for a new chef, however he arrives at the apartment stoned. Meanwhile, Ross tries to master 'dirty talk'.\",\n",
       " 'Phoebe feels neglected when Joey falls for her twin sister. Chandler struggles to fire an attractive co-worker. Ross attends Lamaze classes with Carol and Susan.',\n",
       " 'Rachel switches identities with Monica so she can use her health insurance. Meanwhile, Ursula continues to come between Phoebe and Joey.',\n",
       " 'As Rachel interviews for a new job, the girls take on the guys in a game of poker.',\n",
       " \"The gang frantically search for Ross's monkey Marcel after Rachel loses him.\",\n",
       " \"Rachel and Barry start dating again, despite the fact that he's now engaged to Mindy; Chandler goes nuts when a woman he likes won't return his phone calls.\",\n",
       " 'Monica befriends the woman who stole her credit card. Ross is forced to give away Marcel. Joey tries to come up with a less ethnic-sounding stage name.',\n",
       " \"Monica gets a shock when she finds out her boyfriend is a high school student. Chandler finds out his colleagues don't like him when Phoebe temps as his secretary.\",\n",
       " \"As Carol goes into labor, Ross and Susan argue, Rachel flirts with Carol's doctor, and Joey assists a pregnant single mother.\",\n",
       " \"As Ross leaves for China, Chandler accidentally reveals Ross's feelings for Rachel. Joey takes part in a fertility study and is unable to sleep with his new girlfriend.\"]"
      ]
     },
     "execution_count": 106,
     "metadata": {},
     "output_type": "execute_result"
    }
   ],
   "source": [
    "# Liste des résumés des épisodes\n",
    "descepi = [a.text.strip() for a in soup.select(\"div.ipc-html-content-inner-div\")]\n",
    "descepi"
   ]
  },
  {
   "cell_type": "code",
   "execution_count": 92,
   "id": "00ea49ac",
   "metadata": {},
   "outputs": [
    {
     "data": {
      "text/plain": [
       "['8.1',\n",
       " '7.8',\n",
       " '8.0',\n",
       " '7.9',\n",
       " '8.3',\n",
       " '8.0',\n",
       " '8.8',\n",
       " '7.9',\n",
       " '8.1',\n",
       " '7.9',\n",
       " '8.0',\n",
       " '8.0',\n",
       " '8.5',\n",
       " '8.1',\n",
       " '8.1',\n",
       " '8.0',\n",
       " '8.3',\n",
       " '8.7',\n",
       " '7.9',\n",
       " '7.7',\n",
       " '7.6',\n",
       " '8.1',\n",
       " '8.6',\n",
       " '8.7']"
      ]
     },
     "execution_count": 92,
     "metadata": {},
     "output_type": "execute_result"
    }
   ],
   "source": [
    "# Liste des notes\n",
    "note = [a.text.strip() for a in soup.select(\"span.ipc-rating-star--rating\")]\n",
    "note"
   ]
  },
  {
   "cell_type": "code",
   "execution_count": 93,
   "id": "e8630bcd",
   "metadata": {},
   "outputs": [
    {
     "data": {
      "text/plain": [
       "['(11K)',\n",
       " '(8.6K)',\n",
       " '(8.1K)',\n",
       " '(7.9K)',\n",
       " '(7.9K)',\n",
       " '(7.5K)',\n",
       " '(9.3K)',\n",
       " '(7.3K)',\n",
       " '(7.1K)',\n",
       " '(7.1K)',\n",
       " '(7K)',\n",
       " '(6.9K)',\n",
       " '(7.3K)',\n",
       " '(6.8K)',\n",
       " '(6.8K)',\n",
       " '(6.7K)',\n",
       " '(6.8K)',\n",
       " '(7.5K)',\n",
       " '(6.5K)',\n",
       " '(6.5K)',\n",
       " '(6.6K)',\n",
       " '(6.5K)',\n",
       " '(6.9K)',\n",
       " '(7.3K)']"
      ]
     },
     "execution_count": 93,
     "metadata": {},
     "output_type": "execute_result"
    }
   ],
   "source": [
    "# Liste du nombre de votes\n",
    "nbre_votes = [a.text.strip() for a in soup.select(\"span.ipc-rating-star--voteCount\")]\n",
    "nbre_votes"
   ]
  },
  {
   "cell_type": "markdown",
   "id": "7132f349",
   "metadata": {},
   "source": [
    "### Création d'un DataFrame contenant toutes les informations des épisodes de la saison 1"
   ]
  },
  {
   "cell_type": "code",
   "execution_count": 138,
   "id": "7c966235",
   "metadata": {},
   "outputs": [
    {
     "data": {
      "text/html": [
       "<div>\n",
       "<style scoped>\n",
       "    .dataframe tbody tr th:only-of-type {\n",
       "        vertical-align: middle;\n",
       "    }\n",
       "\n",
       "    .dataframe tbody tr th {\n",
       "        vertical-align: top;\n",
       "    }\n",
       "\n",
       "    .dataframe thead th {\n",
       "        text-align: right;\n",
       "    }\n",
       "</style>\n",
       "<table border=\"1\" class=\"dataframe\">\n",
       "  <thead>\n",
       "    <tr style=\"text-align: right;\">\n",
       "      <th></th>\n",
       "      <th>titre</th>\n",
       "      <th>saison</th>\n",
       "      <th>épisode</th>\n",
       "      <th>résumé</th>\n",
       "      <th>date de diffusion</th>\n",
       "      <th>note</th>\n",
       "      <th>nombre de votants</th>\n",
       "    </tr>\n",
       "  </thead>\n",
       "  <tbody>\n",
       "    <tr>\n",
       "      <th>0</th>\n",
       "      <td>The One Where Monica Gets a Roommate</td>\n",
       "      <td>S1</td>\n",
       "      <td>E1</td>\n",
       "      <td>Monica and the gang introduce Rachel to the \"r...</td>\n",
       "      <td>Tue, Apr 16, 1996</td>\n",
       "      <td>8.1</td>\n",
       "      <td>(11K)</td>\n",
       "    </tr>\n",
       "    <tr>\n",
       "      <th>1</th>\n",
       "      <td>The One with the Sonogram at the End</td>\n",
       "      <td>S1</td>\n",
       "      <td>E2</td>\n",
       "      <td>Ross finds out his ex-wife is pregnant. Rachel...</td>\n",
       "      <td>Thu, Sep 29, 1994</td>\n",
       "      <td>7.8</td>\n",
       "      <td>(8.6K)</td>\n",
       "    </tr>\n",
       "    <tr>\n",
       "      <th>2</th>\n",
       "      <td>The One with the Thumb</td>\n",
       "      <td>S1</td>\n",
       "      <td>E3</td>\n",
       "      <td>Monica becomes irritated when everyone likes h...</td>\n",
       "      <td>Thu, Oct 6, 1994</td>\n",
       "      <td>8.0</td>\n",
       "      <td>(8.1K)</td>\n",
       "    </tr>\n",
       "    <tr>\n",
       "      <th>3</th>\n",
       "      <td>The One with George Stephanopoulos</td>\n",
       "      <td>S1</td>\n",
       "      <td>E4</td>\n",
       "      <td>Joey and Chandler take Ross to a hockey game t...</td>\n",
       "      <td>Thu, Oct 13, 1994</td>\n",
       "      <td>7.9</td>\n",
       "      <td>(7.9K)</td>\n",
       "    </tr>\n",
       "    <tr>\n",
       "      <th>4</th>\n",
       "      <td>The One with the East German Laundry Detergent</td>\n",
       "      <td>S1</td>\n",
       "      <td>E5</td>\n",
       "      <td>Eager to spend time with Rachel, Ross pretends...</td>\n",
       "      <td>Thu, Oct 20, 1994</td>\n",
       "      <td>8.3</td>\n",
       "      <td>(7.9K)</td>\n",
       "    </tr>\n",
       "    <tr>\n",
       "      <th>5</th>\n",
       "      <td>The One with the Butt</td>\n",
       "      <td>S1</td>\n",
       "      <td>E6</td>\n",
       "      <td>Monica's obsessiveness is put to the test afte...</td>\n",
       "      <td>Thu, Oct 27, 1994</td>\n",
       "      <td>8.0</td>\n",
       "      <td>(7.5K)</td>\n",
       "    </tr>\n",
       "    <tr>\n",
       "      <th>6</th>\n",
       "      <td>The One with the Blackout</td>\n",
       "      <td>S1</td>\n",
       "      <td>E7</td>\n",
       "      <td>When New York suffers from a blackout, Ross tr...</td>\n",
       "      <td>Thu, Nov 3, 1994</td>\n",
       "      <td>8.8</td>\n",
       "      <td>(9.3K)</td>\n",
       "    </tr>\n",
       "    <tr>\n",
       "      <th>7</th>\n",
       "      <td>The One Where Nana Dies Twice</td>\n",
       "      <td>S1</td>\n",
       "      <td>E8</td>\n",
       "      <td>Monica and Ross mourn the loss of their grandm...</td>\n",
       "      <td>Thu, Nov 10, 1994</td>\n",
       "      <td>7.9</td>\n",
       "      <td>(7.3K)</td>\n",
       "    </tr>\n",
       "    <tr>\n",
       "      <th>8</th>\n",
       "      <td>The One Where Underdog Gets Away</td>\n",
       "      <td>S1</td>\n",
       "      <td>E9</td>\n",
       "      <td>The gang's plans for Thanksgiving go awry afte...</td>\n",
       "      <td>Thu, Nov 17, 1994</td>\n",
       "      <td>8.1</td>\n",
       "      <td>(7.1K)</td>\n",
       "    </tr>\n",
       "    <tr>\n",
       "      <th>9</th>\n",
       "      <td>The One with the Monkey</td>\n",
       "      <td>S1</td>\n",
       "      <td>E10</td>\n",
       "      <td>The gang make (and break) a pact not to bring ...</td>\n",
       "      <td>Thu, Dec 15, 1994</td>\n",
       "      <td>7.9</td>\n",
       "      <td>(7.1K)</td>\n",
       "    </tr>\n",
       "  </tbody>\n",
       "</table>\n",
       "</div>"
      ],
      "text/plain": [
       "                                            titre saison épisode  \\\n",
       "0            The One Where Monica Gets a Roommate     S1      E1   \n",
       "1            The One with the Sonogram at the End     S1      E2   \n",
       "2                          The One with the Thumb     S1      E3   \n",
       "3              The One with George Stephanopoulos     S1      E4   \n",
       "4  The One with the East German Laundry Detergent     S1      E5   \n",
       "5                           The One with the Butt     S1      E6   \n",
       "6                       The One with the Blackout     S1      E7   \n",
       "7                   The One Where Nana Dies Twice     S1      E8   \n",
       "8                The One Where Underdog Gets Away     S1      E9   \n",
       "9                         The One with the Monkey     S1     E10   \n",
       "\n",
       "                                              résumé  date de diffusion note  \\\n",
       "0  Monica and the gang introduce Rachel to the \"r...  Tue, Apr 16, 1996  8.1   \n",
       "1  Ross finds out his ex-wife is pregnant. Rachel...  Thu, Sep 29, 1994  7.8   \n",
       "2  Monica becomes irritated when everyone likes h...   Thu, Oct 6, 1994  8.0   \n",
       "3  Joey and Chandler take Ross to a hockey game t...  Thu, Oct 13, 1994  7.9   \n",
       "4  Eager to spend time with Rachel, Ross pretends...  Thu, Oct 20, 1994  8.3   \n",
       "5  Monica's obsessiveness is put to the test afte...  Thu, Oct 27, 1994  8.0   \n",
       "6  When New York suffers from a blackout, Ross tr...   Thu, Nov 3, 1994  8.8   \n",
       "7  Monica and Ross mourn the loss of their grandm...  Thu, Nov 10, 1994  7.9   \n",
       "8  The gang's plans for Thanksgiving go awry afte...  Thu, Nov 17, 1994  8.1   \n",
       "9  The gang make (and break) a pact not to bring ...  Thu, Dec 15, 1994  7.9   \n",
       "\n",
       "  nombre de votants  \n",
       "0             (11K)  \n",
       "1            (8.6K)  \n",
       "2            (8.1K)  \n",
       "3            (7.9K)  \n",
       "4            (7.9K)  \n",
       "5            (7.5K)  \n",
       "6            (9.3K)  \n",
       "7            (7.3K)  \n",
       "8            (7.1K)  \n",
       "9            (7.1K)  "
      ]
     },
     "execution_count": 138,
     "metadata": {},
     "output_type": "execute_result"
    }
   ],
   "source": [
    "episodes = []\n",
    "for a in soup.select(\"article.episode-item-wrapper\"):\n",
    "    \n",
    "    titre_brut = a.select_one(\"div.ipc-title__text.ipc-title__text--reduced\").text.strip()\n",
    "    match = re.search(r\"(S\\d+)\\.(\\s*E\\d+)\\s*∙\\s*(.*)\", titre_brut) \n",
    "    saison = match.group(1).strip()\n",
    "    numero = match.group(2).strip()\n",
    "    titre = match.group(3).strip()\n",
    "    \n",
    "    description = a.select_one(\"div.ipc-html-content-inner-div\").text.strip()\n",
    "\n",
    "    date = a.select_one(\"div.sc-5372d523-5.jBUStp span\").text.strip()\n",
    "\n",
    "    note = a.select_one(\"span.ipc-rating-star--rating\").text.strip()\n",
    "\n",
    "    nbre_votants = a.select_one(\"span.ipc-rating-star--voteCount\").text.strip()\n",
    "\n",
    "    episodes.append({'titre': titre, \"saison\": saison, \"épisode\": numero, \"résumé\": description, \"date de diffusion\": date, 'note': note, \"nombre de votants\": nbre_votants})\n",
    "df_saison1 = pd.DataFrame(episodes)\n",
    "df_saison1.head(10)\n"
   ]
  },
  {
   "cell_type": "markdown",
   "id": "aee18434",
   "metadata": {},
   "source": [
    "### Version en utilisant parent de beautifulsoup"
   ]
  },
  {
   "cell_type": "code",
   "execution_count": null,
   "id": "95ec84c8",
   "metadata": {},
   "outputs": [],
   "source": [
    "# Créer une fonction pour la réutiliser ensuite\n",
    "def scrape_saison(soup, saison_num):\n",
    "    \n",
    "    episodes_dt = []\n",
    "\n",
    "    # Vérifier si la requète s'est bien déroulée   -- OPTIONNEL CAR LA VERIFICATION SE FERA LORS DE LA FONCTION GENERALE\n",
    "    #if response.status_code == 200:\n",
    "    \n",
    "    episodes_liens = soup.find_all(\"h4\")\n",
    "\n",
    "    for liens in episodes_liens:\n",
    "\n",
    "        # titre de l'épisode\n",
    "        titre = liens.text.strip()\n",
    "\n",
    "        # le parent pour récupérer les autres infos\n",
    "        parent = liens.find_parent(\"div\", class_=\"sc-5372d523-5 jBUStp\")\n",
    "\n",
    "        # la date de sortie\n",
    "        span = parent.find(\"span\")\n",
    "        date_de_sortie = span.text.strip()\n",
    "\n",
    "        # la description ( résumé )\n",
    "        desc = parent.find_next(\"div\", class_=\"ipc-html-content-inner-div\")\n",
    "        description = desc.text.strip()\n",
    "\n",
    "        # note IMDb\n",
    "        rating_tag = parent.find_next(\"span\", class_=\"ipc-rating-star--rating\")\n",
    "        note = rating_tag.text.strip()\n",
    "\n",
    "        # Ajouter à la liste\n",
    "        episodes_dt.append({\n",
    "            \"Titre\" : titre,\n",
    "            \"Date de sortie\" : date_de_sortie,\n",
    "            \"Résumé\" : description,\n",
    "            \"Note\" : note\n",
    "        })\n",
    "    return episodes_dt"
   ]
  },
  {
   "cell_type": "code",
   "execution_count": null,
   "id": "5c8ccc86",
   "metadata": {},
   "outputs": [],
   "source": [
    "# Changeons l'url de base pour récupérer toutes les saisons\n",
    "base_url = \"https://www.imdb.com/title/tt0108778/episodes?season=\"\n",
    "\n",
    "# Créer une fonction pour scraper toutes les saisons\n",
    "def scrape_all_seasons(base_url, max_saison=20):\n",
    "    # Créér une liste pour récupérer tous les épisodes\n",
    "    tous_episodes = []\n",
    "\n",
    "    for saison in range(1, max_saison + 1):\n",
    "        url = f\"{base_url}{saison}\"\n",
    "        print(f\" Scraping saison {saison} : {url}\")\n",
    "        response = requests.get(url, headers = headers)\n",
    "\n",
    "        if response.status_code != 200:\n",
    "            print (f\"Saison {saison} non disponible\")\n",
    "            break\n",
    "\n",
    "        soup = BeautifulSoup(response.text, \"html.parser\")\n",
    "        saison_episodes = scrape_saison(soup, saison)\n",
    "\n",
    "        if not saison_episodes:\n",
    "            print(f\"Aucun épisode trouvé pour la saison {saison}\")\n",
    "            break\n",
    "\n",
    "        tous_episodes.extend(saison_episodes)\n",
    "\n",
    "    return tous_episodes"
   ]
  },
  {
   "cell_type": "markdown",
   "id": "35a29f2a",
   "metadata": {},
   "source": [
    "# **Récupération des épisodes de toutes les saisons de friends**"
   ]
  },
  {
   "cell_type": "markdown",
   "id": "2dd596e0",
   "metadata": {},
   "source": [
    "### Création d'une liste des URLs des saisons"
   ]
  },
  {
   "cell_type": "code",
   "execution_count": null,
   "id": "805eb829",
   "metadata": {},
   "outputs": [
    {
     "data": {
      "text/plain": [
       "['/title/tt0108778/episodes/?season=1&ref_=ttep',\n",
       " '/title/tt0108778/episodes/?season=2&ref_=ttep',\n",
       " '/title/tt0108778/episodes/?season=3&ref_=ttep',\n",
       " '/title/tt0108778/episodes/?season=4&ref_=ttep',\n",
       " '/title/tt0108778/episodes/?season=5&ref_=ttep',\n",
       " '/title/tt0108778/episodes/?season=6&ref_=ttep',\n",
       " '/title/tt0108778/episodes/?season=7&ref_=ttep',\n",
       " '/title/tt0108778/episodes/?season=8&ref_=ttep',\n",
       " '/title/tt0108778/episodes/?season=9&ref_=ttep',\n",
       " '/title/tt0108778/episodes/?season=10&ref_=ttep']"
      ]
     },
     "execution_count": 148,
     "metadata": {},
     "output_type": "execute_result"
    }
   ],
   "source": [
    "# Création d'une liste saisons_url\n",
    "saisons_url = [a[\"href\"].strip() for a in soup.select(\"div.ipc-tabs.ipc-tabs--base.ipc-tabs--align-left.ipc-tabs--display-chip.ipc-tabs--inherit a\")]\n",
    "saisons_url\n",
    "\n",
    "# Création d'une liste saisons_url  --  AUTRE MANIERE\n",
    "# saisons_url = [a[\"href\"].strip() for a in soup.select(\"ul.ipc-tabs--align-left a\")]\n",
    "# saisons_url = saisons_url[3:]\n",
    "# saisons_url"
   ]
  },
  {
   "cell_type": "code",
   "execution_count": 149,
   "id": "a7cfc5ab",
   "metadata": {},
   "outputs": [
    {
     "data": {
      "text/plain": [
       "['https://www.imdb.com/title/tt0108778/episodes/?season=1&ref_=ttep',\n",
       " 'https://www.imdb.com/title/tt0108778/episodes/?season=2&ref_=ttep',\n",
       " 'https://www.imdb.com/title/tt0108778/episodes/?season=3&ref_=ttep',\n",
       " 'https://www.imdb.com/title/tt0108778/episodes/?season=4&ref_=ttep',\n",
       " 'https://www.imdb.com/title/tt0108778/episodes/?season=5&ref_=ttep',\n",
       " 'https://www.imdb.com/title/tt0108778/episodes/?season=6&ref_=ttep',\n",
       " 'https://www.imdb.com/title/tt0108778/episodes/?season=7&ref_=ttep',\n",
       " 'https://www.imdb.com/title/tt0108778/episodes/?season=8&ref_=ttep',\n",
       " 'https://www.imdb.com/title/tt0108778/episodes/?season=9&ref_=ttep',\n",
       " 'https://www.imdb.com/title/tt0108778/episodes/?season=10&ref_=ttep']"
      ]
     },
     "execution_count": 149,
     "metadata": {},
     "output_type": "execute_result"
    }
   ],
   "source": [
    "# ajustement de la liste saisons_url afin qu'elle contienne les urls complètes\n",
    "base_url = 'https://www.imdb.com'\n",
    "saisons_url = [f\"{base_url}{a}\" for a in saisons_url]\n",
    "saisons_url\n"
   ]
  },
  {
   "cell_type": "markdown",
   "id": "38580ca1",
   "metadata": {},
   "source": [
    "### Création d'une fonction pour récupérer les informations des épisodes"
   ]
  },
  {
   "cell_type": "code",
   "execution_count": 150,
   "id": "b8b24cbc",
   "metadata": {},
   "outputs": [],
   "source": [
    "def infos_episodes(soup):\n",
    "    episaison = []\n",
    "    for a in soup.select(\"article.episode-item-wrapper\"):\n",
    "    \n",
    "        titre_brut = a.select_one(\"div.ipc-title__text.ipc-title__text--reduced\").text.strip()\n",
    "        match = re.search(r\"(S\\d+)\\.(\\s*E\\d+)\\s*∙\\s*(.*)\", titre_brut) \n",
    "        saison = match.group(1).strip()\n",
    "        numero = match.group(2).strip()\n",
    "        titre = match.group(3).strip()\n",
    "    \n",
    "        description = a.select_one(\"div.ipc-html-content-inner-div\").text.strip()\n",
    "\n",
    "        date = a.select_one(\"div.sc-5372d523-5.jBUStp span\").text.strip()\n",
    "\n",
    "        note = a.select_one(\"span.ipc-rating-star--rating\").text.strip()\n",
    "\n",
    "        nbre_votants = a.select_one(\"span.ipc-rating-star--voteCount\").text.strip()\n",
    "\n",
    "        episaison.append({'titre': titre, \"saison\": saison, \"épisode\": numero, \"résumé\": description, \"date de diffusion\": date, 'note': note, \"nombre de votants\": nbre_votants})\n",
    "    return episaison"
   ]
  },
  {
   "cell_type": "markdown",
   "id": "540f98cf",
   "metadata": {},
   "source": [
    "### Création d\"un dataframe contenant les infos des épisodes de toutes les saisons"
   ]
  },
  {
   "cell_type": "code",
   "execution_count": null,
   "id": "1ff0aeb1",
   "metadata": {},
   "outputs": [
    {
     "data": {
      "text/html": [
       "<div>\n",
       "<style scoped>\n",
       "    .dataframe tbody tr th:only-of-type {\n",
       "        vertical-align: middle;\n",
       "    }\n",
       "\n",
       "    .dataframe tbody tr th {\n",
       "        vertical-align: top;\n",
       "    }\n",
       "\n",
       "    .dataframe thead th {\n",
       "        text-align: right;\n",
       "    }\n",
       "</style>\n",
       "<table border=\"1\" class=\"dataframe\">\n",
       "  <thead>\n",
       "    <tr style=\"text-align: right;\">\n",
       "      <th></th>\n",
       "      <th>titre</th>\n",
       "      <th>saison</th>\n",
       "      <th>épisode</th>\n",
       "      <th>résumé</th>\n",
       "      <th>date de diffusion</th>\n",
       "      <th>note</th>\n",
       "      <th>nombre de votants</th>\n",
       "    </tr>\n",
       "  </thead>\n",
       "  <tbody>\n",
       "    <tr>\n",
       "      <th>18</th>\n",
       "      <td>The One Where the Monkey Gets Away</td>\n",
       "      <td>S1</td>\n",
       "      <td>E19</td>\n",
       "      <td>The gang frantically search for Ross's monkey ...</td>\n",
       "      <td>Thu, Mar 9, 1995</td>\n",
       "      <td>7.9</td>\n",
       "      <td>(6.5K)</td>\n",
       "    </tr>\n",
       "    <tr>\n",
       "      <th>212</th>\n",
       "      <td>The One with Rachel's Dream</td>\n",
       "      <td>S9</td>\n",
       "      <td>E19</td>\n",
       "      <td>Nervous about his upcoming romantic scenes, Jo...</td>\n",
       "      <td>Thu, Apr 17, 2003</td>\n",
       "      <td>7.9</td>\n",
       "      <td>(4.6K)</td>\n",
       "    </tr>\n",
       "    <tr>\n",
       "      <th>100</th>\n",
       "      <td>The One Where Phoebe Hates PBS</td>\n",
       "      <td>S5</td>\n",
       "      <td>E4</td>\n",
       "      <td>Ross finally gets in touch with Emily and they...</td>\n",
       "      <td>Sun, Oct 18, 1998</td>\n",
       "      <td>8.1</td>\n",
       "      <td>(5.2K)</td>\n",
       "    </tr>\n",
       "    <tr>\n",
       "      <th>229</th>\n",
       "      <td>The One Where Joey Speaks French</td>\n",
       "      <td>S10</td>\n",
       "      <td>E13</td>\n",
       "      <td>Phoebe tries to teach Joey to speak French for...</td>\n",
       "      <td>Thu, Feb 19, 2004</td>\n",
       "      <td>8.3</td>\n",
       "      <td>(5.2K)</td>\n",
       "    </tr>\n",
       "    <tr>\n",
       "      <th>98</th>\n",
       "      <td>The One with All the Kissing</td>\n",
       "      <td>S5</td>\n",
       "      <td>E2</td>\n",
       "      <td>Chandler must constantly kiss the girls to cov...</td>\n",
       "      <td>Thu, Oct 1, 1998</td>\n",
       "      <td>8.9</td>\n",
       "      <td>(6.3K)</td>\n",
       "    </tr>\n",
       "    <tr>\n",
       "      <th>129</th>\n",
       "      <td>The One Where Ross Got High</td>\n",
       "      <td>S6</td>\n",
       "      <td>E9</td>\n",
       "      <td>Ross is forced to reveal the reason why Jack a...</td>\n",
       "      <td>Thu, Nov 25, 1999</td>\n",
       "      <td>9.1</td>\n",
       "      <td>(7.3K)</td>\n",
       "    </tr>\n",
       "    <tr>\n",
       "      <th>217</th>\n",
       "      <td>The One After Joey and Rachel Kiss</td>\n",
       "      <td>S10</td>\n",
       "      <td>E1</td>\n",
       "      <td>Joey and Ross both attempt to come clean to ea...</td>\n",
       "      <td>Thu, Sep 25, 2003</td>\n",
       "      <td>8.4</td>\n",
       "      <td>(5.4K)</td>\n",
       "    </tr>\n",
       "    <tr>\n",
       "      <th>189</th>\n",
       "      <td>The One with the Baby Shower</td>\n",
       "      <td>S8</td>\n",
       "      <td>E20</td>\n",
       "      <td>Monica and Phoebe throw Rachel a baby shower b...</td>\n",
       "      <td>Thu, Apr 25, 2002</td>\n",
       "      <td>8.1</td>\n",
       "      <td>(4.7K)</td>\n",
       "    </tr>\n",
       "    <tr>\n",
       "      <th>142</th>\n",
       "      <td>The One Where Paul's the Man</td>\n",
       "      <td>S6</td>\n",
       "      <td>E22</td>\n",
       "      <td>Paul threatens to have Ross fired from the uni...</td>\n",
       "      <td>Thu, May 4, 2000</td>\n",
       "      <td>8.9</td>\n",
       "      <td>(6K)</td>\n",
       "    </tr>\n",
       "    <tr>\n",
       "      <th>227</th>\n",
       "      <td>The One Where the Stripper Cries</td>\n",
       "      <td>S10</td>\n",
       "      <td>E11</td>\n",
       "      <td>Old secrets come to light when Ross and Chandl...</td>\n",
       "      <td>Thu, Feb 5, 2004</td>\n",
       "      <td>8.9</td>\n",
       "      <td>(6.2K)</td>\n",
       "    </tr>\n",
       "  </tbody>\n",
       "</table>\n",
       "</div>"
      ],
      "text/plain": [
       "                                  titre saison épisode  \\\n",
       "18   The One Where the Monkey Gets Away     S1     E19   \n",
       "212         The One with Rachel's Dream     S9     E19   \n",
       "100      The One Where Phoebe Hates PBS     S5      E4   \n",
       "229    The One Where Joey Speaks French    S10     E13   \n",
       "98         The One with All the Kissing     S5      E2   \n",
       "129         The One Where Ross Got High     S6      E9   \n",
       "217  The One After Joey and Rachel Kiss    S10      E1   \n",
       "189        The One with the Baby Shower     S8     E20   \n",
       "142        The One Where Paul's the Man     S6     E22   \n",
       "227    The One Where the Stripper Cries    S10     E11   \n",
       "\n",
       "                                                résumé  date de diffusion  \\\n",
       "18   The gang frantically search for Ross's monkey ...   Thu, Mar 9, 1995   \n",
       "212  Nervous about his upcoming romantic scenes, Jo...  Thu, Apr 17, 2003   \n",
       "100  Ross finally gets in touch with Emily and they...  Sun, Oct 18, 1998   \n",
       "229  Phoebe tries to teach Joey to speak French for...  Thu, Feb 19, 2004   \n",
       "98   Chandler must constantly kiss the girls to cov...   Thu, Oct 1, 1998   \n",
       "129  Ross is forced to reveal the reason why Jack a...  Thu, Nov 25, 1999   \n",
       "217  Joey and Ross both attempt to come clean to ea...  Thu, Sep 25, 2003   \n",
       "189  Monica and Phoebe throw Rachel a baby shower b...  Thu, Apr 25, 2002   \n",
       "142  Paul threatens to have Ross fired from the uni...   Thu, May 4, 2000   \n",
       "227  Old secrets come to light when Ross and Chandl...   Thu, Feb 5, 2004   \n",
       "\n",
       "    note nombre de votants  \n",
       "18   7.9            (6.5K)  \n",
       "212  7.9            (4.6K)  \n",
       "100  8.1            (5.2K)  \n",
       "229  8.3            (5.2K)  \n",
       "98   8.9            (6.3K)  \n",
       "129  9.1            (7.3K)  \n",
       "217  8.4            (5.4K)  \n",
       "189  8.1            (4.7K)  \n",
       "142  8.9              (6K)  \n",
       "227  8.9            (6.2K)  "
      ]
     },
     "execution_count": 151,
     "metadata": {},
     "output_type": "execute_result"
    }
   ],
   "source": [
    "all_seasons = []\n",
    "\n",
    "for a in saisons_url:\n",
    "    response = requests.get(a, headers=headers)\n",
    "    if response.status_code == 200:\n",
    "        soup = BeautifulSoup(response.content,'html')\n",
    "        episodes_saison = infos_episodes(soup)\n",
    "        all_seasons.extend(episodes_saison)\n",
    "\n",
    "friends = pd.DataFrame(all_seasons)\n",
    "friends.sample(10) "
   ]
  },
  {
   "cell_type": "markdown",
   "id": "3acb6fd8",
   "metadata": {},
   "source": [
    "# **Préparation des données**"
   ]
  },
  {
   "cell_type": "code",
   "execution_count": 153,
   "id": "78527b22",
   "metadata": {},
   "outputs": [
    {
     "name": "stdout",
     "output_type": "stream",
     "text": [
      "<class 'pandas.core.frame.DataFrame'>\n",
      "RangeIndex: 235 entries, 0 to 234\n",
      "Data columns (total 7 columns):\n",
      " #   Column             Non-Null Count  Dtype \n",
      "---  ------             --------------  ----- \n",
      " 0   titre              235 non-null    object\n",
      " 1   saison             235 non-null    object\n",
      " 2   épisode            235 non-null    object\n",
      " 3   résumé             235 non-null    object\n",
      " 4   date de diffusion  235 non-null    object\n",
      " 5   note               235 non-null    object\n",
      " 6   nombre de votants  235 non-null    object\n",
      "dtypes: object(7)\n",
      "memory usage: 13.0+ KB\n"
     ]
    }
   ],
   "source": [
    "friends.info()"
   ]
  },
  {
   "cell_type": "code",
   "execution_count": 158,
   "id": "1ff18ec3",
   "metadata": {},
   "outputs": [
    {
     "data": {
      "text/plain": [
       "titre                0\n",
       "saison               0\n",
       "épisode              0\n",
       "résumé               0\n",
       "date de diffusion    0\n",
       "note                 0\n",
       "nombre de votants    0\n",
       "dtype: int64"
      ]
     },
     "execution_count": 158,
     "metadata": {},
     "output_type": "execute_result"
    }
   ],
   "source": [
    "friends.isnull().sum()"
   ]
  },
  {
   "cell_type": "code",
   "execution_count": 159,
   "id": "16214e05",
   "metadata": {},
   "outputs": [
    {
     "data": {
      "text/plain": [
       "np.int64(0)"
      ]
     },
     "execution_count": 159,
     "metadata": {},
     "output_type": "execute_result"
    }
   ],
   "source": [
    "friends.duplicated().sum()\n"
   ]
  },
  {
   "cell_type": "markdown",
   "id": "ce36eba1",
   "metadata": {},
   "source": [
    "### Colonne date"
   ]
  },
  {
   "cell_type": "code",
   "execution_count": 161,
   "id": "05f29915",
   "metadata": {},
   "outputs": [
    {
     "data": {
      "text/html": [
       "<div>\n",
       "<style scoped>\n",
       "    .dataframe tbody tr th:only-of-type {\n",
       "        vertical-align: middle;\n",
       "    }\n",
       "\n",
       "    .dataframe tbody tr th {\n",
       "        vertical-align: top;\n",
       "    }\n",
       "\n",
       "    .dataframe thead th {\n",
       "        text-align: right;\n",
       "    }\n",
       "</style>\n",
       "<table border=\"1\" class=\"dataframe\">\n",
       "  <thead>\n",
       "    <tr style=\"text-align: right;\">\n",
       "      <th></th>\n",
       "      <th>titre</th>\n",
       "      <th>saison</th>\n",
       "      <th>épisode</th>\n",
       "      <th>résumé</th>\n",
       "      <th>date de diffusion</th>\n",
       "      <th>note</th>\n",
       "      <th>nombre de votants</th>\n",
       "    </tr>\n",
       "  </thead>\n",
       "  <tbody>\n",
       "    <tr>\n",
       "      <th>0</th>\n",
       "      <td>The One Where Monica Gets a Roommate</td>\n",
       "      <td>S1</td>\n",
       "      <td>E1</td>\n",
       "      <td>Monica and the gang introduce Rachel to the \"r...</td>\n",
       "      <td>1996/04/16</td>\n",
       "      <td>8.1</td>\n",
       "      <td>(11K)</td>\n",
       "    </tr>\n",
       "    <tr>\n",
       "      <th>1</th>\n",
       "      <td>The One with the Sonogram at the End</td>\n",
       "      <td>S1</td>\n",
       "      <td>E2</td>\n",
       "      <td>Ross finds out his ex-wife is pregnant. Rachel...</td>\n",
       "      <td>1994/09/29</td>\n",
       "      <td>7.8</td>\n",
       "      <td>(8.6K)</td>\n",
       "    </tr>\n",
       "    <tr>\n",
       "      <th>2</th>\n",
       "      <td>The One with the Thumb</td>\n",
       "      <td>S1</td>\n",
       "      <td>E3</td>\n",
       "      <td>Monica becomes irritated when everyone likes h...</td>\n",
       "      <td>1994/10/06</td>\n",
       "      <td>8.0</td>\n",
       "      <td>(8.1K)</td>\n",
       "    </tr>\n",
       "    <tr>\n",
       "      <th>3</th>\n",
       "      <td>The One with George Stephanopoulos</td>\n",
       "      <td>S1</td>\n",
       "      <td>E4</td>\n",
       "      <td>Joey and Chandler take Ross to a hockey game t...</td>\n",
       "      <td>1994/10/13</td>\n",
       "      <td>7.9</td>\n",
       "      <td>(7.9K)</td>\n",
       "    </tr>\n",
       "    <tr>\n",
       "      <th>4</th>\n",
       "      <td>The One with the East German Laundry Detergent</td>\n",
       "      <td>S1</td>\n",
       "      <td>E5</td>\n",
       "      <td>Eager to spend time with Rachel, Ross pretends...</td>\n",
       "      <td>1994/10/20</td>\n",
       "      <td>8.3</td>\n",
       "      <td>(7.9K)</td>\n",
       "    </tr>\n",
       "    <tr>\n",
       "      <th>5</th>\n",
       "      <td>The One with the Butt</td>\n",
       "      <td>S1</td>\n",
       "      <td>E6</td>\n",
       "      <td>Monica's obsessiveness is put to the test afte...</td>\n",
       "      <td>1994/10/27</td>\n",
       "      <td>8.0</td>\n",
       "      <td>(7.5K)</td>\n",
       "    </tr>\n",
       "    <tr>\n",
       "      <th>6</th>\n",
       "      <td>The One with the Blackout</td>\n",
       "      <td>S1</td>\n",
       "      <td>E7</td>\n",
       "      <td>When New York suffers from a blackout, Ross tr...</td>\n",
       "      <td>1994/11/03</td>\n",
       "      <td>8.8</td>\n",
       "      <td>(9.3K)</td>\n",
       "    </tr>\n",
       "    <tr>\n",
       "      <th>7</th>\n",
       "      <td>The One Where Nana Dies Twice</td>\n",
       "      <td>S1</td>\n",
       "      <td>E8</td>\n",
       "      <td>Monica and Ross mourn the loss of their grandm...</td>\n",
       "      <td>1994/11/10</td>\n",
       "      <td>7.9</td>\n",
       "      <td>(7.3K)</td>\n",
       "    </tr>\n",
       "    <tr>\n",
       "      <th>8</th>\n",
       "      <td>The One Where Underdog Gets Away</td>\n",
       "      <td>S1</td>\n",
       "      <td>E9</td>\n",
       "      <td>The gang's plans for Thanksgiving go awry afte...</td>\n",
       "      <td>1994/11/17</td>\n",
       "      <td>8.1</td>\n",
       "      <td>(7.1K)</td>\n",
       "    </tr>\n",
       "    <tr>\n",
       "      <th>9</th>\n",
       "      <td>The One with the Monkey</td>\n",
       "      <td>S1</td>\n",
       "      <td>E10</td>\n",
       "      <td>The gang make (and break) a pact not to bring ...</td>\n",
       "      <td>1994/12/15</td>\n",
       "      <td>7.9</td>\n",
       "      <td>(7.1K)</td>\n",
       "    </tr>\n",
       "  </tbody>\n",
       "</table>\n",
       "</div>"
      ],
      "text/plain": [
       "                                            titre saison épisode  \\\n",
       "0            The One Where Monica Gets a Roommate     S1      E1   \n",
       "1            The One with the Sonogram at the End     S1      E2   \n",
       "2                          The One with the Thumb     S1      E3   \n",
       "3              The One with George Stephanopoulos     S1      E4   \n",
       "4  The One with the East German Laundry Detergent     S1      E5   \n",
       "5                           The One with the Butt     S1      E6   \n",
       "6                       The One with the Blackout     S1      E7   \n",
       "7                   The One Where Nana Dies Twice     S1      E8   \n",
       "8                The One Where Underdog Gets Away     S1      E9   \n",
       "9                         The One with the Monkey     S1     E10   \n",
       "\n",
       "                                              résumé date de diffusion note  \\\n",
       "0  Monica and the gang introduce Rachel to the \"r...        1996/04/16  8.1   \n",
       "1  Ross finds out his ex-wife is pregnant. Rachel...        1994/09/29  7.8   \n",
       "2  Monica becomes irritated when everyone likes h...        1994/10/06  8.0   \n",
       "3  Joey and Chandler take Ross to a hockey game t...        1994/10/13  7.9   \n",
       "4  Eager to spend time with Rachel, Ross pretends...        1994/10/20  8.3   \n",
       "5  Monica's obsessiveness is put to the test afte...        1994/10/27  8.0   \n",
       "6  When New York suffers from a blackout, Ross tr...        1994/11/03  8.8   \n",
       "7  Monica and Ross mourn the loss of their grandm...        1994/11/10  7.9   \n",
       "8  The gang's plans for Thanksgiving go awry afte...        1994/11/17  8.1   \n",
       "9  The gang make (and break) a pact not to bring ...        1994/12/15  7.9   \n",
       "\n",
       "  nombre de votants  \n",
       "0             (11K)  \n",
       "1            (8.6K)  \n",
       "2            (8.1K)  \n",
       "3            (7.9K)  \n",
       "4            (7.9K)  \n",
       "5            (7.5K)  \n",
       "6            (9.3K)  \n",
       "7            (7.3K)  \n",
       "8            (7.1K)  \n",
       "9            (7.1K)  "
      ]
     },
     "execution_count": 161,
     "metadata": {},
     "output_type": "execute_result"
    }
   ],
   "source": [
    "# Conversion du format de la date de diffusion\n",
    "friends[\"date de diffusion\"] = pd.to_datetime(friends[\"date de diffusion\"], format=\"%a, %b %d, %Y\")\n",
    "friends[\"date de diffusion\"] = friends[\"date de diffusion\"].dt.strftime(\"%Y/%m/%d\")\n",
    "friends.head(10)\n"
   ]
  },
  {
   "cell_type": "code",
   "execution_count": 164,
   "id": "17f82250",
   "metadata": {},
   "outputs": [
    {
     "data": {
      "text/plain": [
       "titre                        object\n",
       "saison                       object\n",
       "épisode                      object\n",
       "résumé                       object\n",
       "date de diffusion    datetime64[ns]\n",
       "note                         object\n",
       "nombre de votants            object\n",
       "dtype: object"
      ]
     },
     "execution_count": 164,
     "metadata": {},
     "output_type": "execute_result"
    }
   ],
   "source": [
    "# changement de type de la date\n",
    "friends[\"date de diffusion\"] = friends[\"date de diffusion\"].astype(\"datetime64[ns]\")\n",
    "friends.dtypes"
   ]
  },
  {
   "cell_type": "markdown",
   "id": "cb126b69",
   "metadata": {},
   "source": [
    "### Colonne note"
   ]
  },
  {
   "cell_type": "code",
   "execution_count": 165,
   "id": "c3233ddd",
   "metadata": {},
   "outputs": [
    {
     "data": {
      "text/plain": [
       "titre                        object\n",
       "saison                       object\n",
       "épisode                      object\n",
       "résumé                       object\n",
       "date de diffusion    datetime64[ns]\n",
       "note                        float64\n",
       "nombre de votants            object\n",
       "dtype: object"
      ]
     },
     "execution_count": 165,
     "metadata": {},
     "output_type": "execute_result"
    }
   ],
   "source": [
    "# changement du type de note\n",
    "friends[\"note\"] = friends[\"note\"].astype(\"float64\")\n",
    "friends.dtypes"
   ]
  },
  {
   "cell_type": "markdown",
   "id": "4862aec6",
   "metadata": {},
   "source": [
    "### Colonne nombre de votants"
   ]
  },
  {
   "cell_type": "code",
   "execution_count": 172,
   "id": "b4e67a9a",
   "metadata": {},
   "outputs": [
    {
     "data": {
      "text/plain": [
       "titre                        object\n",
       "saison                       object\n",
       "épisode                      object\n",
       "résumé                       object\n",
       "date de diffusion    datetime64[ns]\n",
       "note                        float64\n",
       "nombre de votants            object\n",
       "dtype: object"
      ]
     },
     "execution_count": 172,
     "metadata": {},
     "output_type": "execute_result"
    }
   ],
   "source": [
    "# Conversion du type de la valeur nombre de votants\n",
    "friends[\"nombre de votants\"] = friends[\"nombre de votants\"].astype(str)\n",
    "friends.dtypes"
   ]
  },
  {
   "cell_type": "code",
   "execution_count": 173,
   "id": "97ddd2eb",
   "metadata": {},
   "outputs": [
    {
     "data": {
      "text/html": [
       "<div>\n",
       "<style scoped>\n",
       "    .dataframe tbody tr th:only-of-type {\n",
       "        vertical-align: middle;\n",
       "    }\n",
       "\n",
       "    .dataframe tbody tr th {\n",
       "        vertical-align: top;\n",
       "    }\n",
       "\n",
       "    .dataframe thead th {\n",
       "        text-align: right;\n",
       "    }\n",
       "</style>\n",
       "<table border=\"1\" class=\"dataframe\">\n",
       "  <thead>\n",
       "    <tr style=\"text-align: right;\">\n",
       "      <th></th>\n",
       "      <th>titre</th>\n",
       "      <th>saison</th>\n",
       "      <th>épisode</th>\n",
       "      <th>résumé</th>\n",
       "      <th>date de diffusion</th>\n",
       "      <th>note</th>\n",
       "      <th>nombre de votants</th>\n",
       "    </tr>\n",
       "  </thead>\n",
       "  <tbody>\n",
       "    <tr>\n",
       "      <th>0</th>\n",
       "      <td>The One Where Monica Gets a Roommate</td>\n",
       "      <td>S1</td>\n",
       "      <td>E1</td>\n",
       "      <td>Monica and the gang introduce Rachel to the \"r...</td>\n",
       "      <td>1996-04-16</td>\n",
       "      <td>8.1</td>\n",
       "      <td>11.0</td>\n",
       "    </tr>\n",
       "    <tr>\n",
       "      <th>1</th>\n",
       "      <td>The One with the Sonogram at the End</td>\n",
       "      <td>S1</td>\n",
       "      <td>E2</td>\n",
       "      <td>Ross finds out his ex-wife is pregnant. Rachel...</td>\n",
       "      <td>1994-09-29</td>\n",
       "      <td>7.8</td>\n",
       "      <td>8.6</td>\n",
       "    </tr>\n",
       "    <tr>\n",
       "      <th>2</th>\n",
       "      <td>The One with the Thumb</td>\n",
       "      <td>S1</td>\n",
       "      <td>E3</td>\n",
       "      <td>Monica becomes irritated when everyone likes h...</td>\n",
       "      <td>1994-10-06</td>\n",
       "      <td>8.0</td>\n",
       "      <td>8.1</td>\n",
       "    </tr>\n",
       "    <tr>\n",
       "      <th>3</th>\n",
       "      <td>The One with George Stephanopoulos</td>\n",
       "      <td>S1</td>\n",
       "      <td>E4</td>\n",
       "      <td>Joey and Chandler take Ross to a hockey game t...</td>\n",
       "      <td>1994-10-13</td>\n",
       "      <td>7.9</td>\n",
       "      <td>7.9</td>\n",
       "    </tr>\n",
       "    <tr>\n",
       "      <th>4</th>\n",
       "      <td>The One with the East German Laundry Detergent</td>\n",
       "      <td>S1</td>\n",
       "      <td>E5</td>\n",
       "      <td>Eager to spend time with Rachel, Ross pretends...</td>\n",
       "      <td>1994-10-20</td>\n",
       "      <td>8.3</td>\n",
       "      <td>7.9</td>\n",
       "    </tr>\n",
       "  </tbody>\n",
       "</table>\n",
       "</div>"
      ],
      "text/plain": [
       "                                            titre saison épisode  \\\n",
       "0            The One Where Monica Gets a Roommate     S1      E1   \n",
       "1            The One with the Sonogram at the End     S1      E2   \n",
       "2                          The One with the Thumb     S1      E3   \n",
       "3              The One with George Stephanopoulos     S1      E4   \n",
       "4  The One with the East German Laundry Detergent     S1      E5   \n",
       "\n",
       "                                              résumé date de diffusion  note  \\\n",
       "0  Monica and the gang introduce Rachel to the \"r...        1996-04-16   8.1   \n",
       "1  Ross finds out his ex-wife is pregnant. Rachel...        1994-09-29   7.8   \n",
       "2  Monica becomes irritated when everyone likes h...        1994-10-06   8.0   \n",
       "3  Joey and Chandler take Ross to a hockey game t...        1994-10-13   7.9   \n",
       "4  Eager to spend time with Rachel, Ross pretends...        1994-10-20   8.3   \n",
       "\n",
       "  nombre de votants  \n",
       "0              11.0  \n",
       "1               8.6  \n",
       "2               8.1  \n",
       "3               7.9  \n",
       "4               7.9  "
      ]
     },
     "execution_count": 173,
     "metadata": {},
     "output_type": "execute_result"
    }
   ],
   "source": [
    "# changement de format des valeurs de la colonne nombre de votants\n",
    "friends[\"nombre de votants\"] = friends[\"nombre de votants\"].str.strip(\"()\").str.split(\"K\").str[0]\n",
    "friends.head()"
   ]
  },
  {
   "cell_type": "code",
   "execution_count": 174,
   "id": "e69f0506",
   "metadata": {},
   "outputs": [
    {
     "data": {
      "text/plain": [
       "titre                        object\n",
       "saison                       object\n",
       "épisode                      object\n",
       "résumé                       object\n",
       "date de diffusion    datetime64[ns]\n",
       "note                        float64\n",
       "nombre de votants           float64\n",
       "dtype: object"
      ]
     },
     "execution_count": 174,
     "metadata": {},
     "output_type": "execute_result"
    }
   ],
   "source": [
    "# Conversion du type de la colonne nombre de votants en float\n",
    "friends[\"nombre de votants\"] = friends[\"nombre de votants\"].astype(float)\n",
    "friends.dtypes"
   ]
  },
  {
   "cell_type": "code",
   "execution_count": 175,
   "id": "9af462db",
   "metadata": {},
   "outputs": [
    {
     "data": {
      "text/html": [
       "<div>\n",
       "<style scoped>\n",
       "    .dataframe tbody tr th:only-of-type {\n",
       "        vertical-align: middle;\n",
       "    }\n",
       "\n",
       "    .dataframe tbody tr th {\n",
       "        vertical-align: top;\n",
       "    }\n",
       "\n",
       "    .dataframe thead th {\n",
       "        text-align: right;\n",
       "    }\n",
       "</style>\n",
       "<table border=\"1\" class=\"dataframe\">\n",
       "  <thead>\n",
       "    <tr style=\"text-align: right;\">\n",
       "      <th></th>\n",
       "      <th>titre</th>\n",
       "      <th>saison</th>\n",
       "      <th>épisode</th>\n",
       "      <th>résumé</th>\n",
       "      <th>date de diffusion</th>\n",
       "      <th>note</th>\n",
       "      <th>nombre de votants (en milliers)</th>\n",
       "    </tr>\n",
       "  </thead>\n",
       "  <tbody>\n",
       "    <tr>\n",
       "      <th>0</th>\n",
       "      <td>The One Where Monica Gets a Roommate</td>\n",
       "      <td>S1</td>\n",
       "      <td>E1</td>\n",
       "      <td>Monica and the gang introduce Rachel to the \"r...</td>\n",
       "      <td>1996-04-16</td>\n",
       "      <td>8.1</td>\n",
       "      <td>11.0</td>\n",
       "    </tr>\n",
       "    <tr>\n",
       "      <th>1</th>\n",
       "      <td>The One with the Sonogram at the End</td>\n",
       "      <td>S1</td>\n",
       "      <td>E2</td>\n",
       "      <td>Ross finds out his ex-wife is pregnant. Rachel...</td>\n",
       "      <td>1994-09-29</td>\n",
       "      <td>7.8</td>\n",
       "      <td>8.6</td>\n",
       "    </tr>\n",
       "    <tr>\n",
       "      <th>2</th>\n",
       "      <td>The One with the Thumb</td>\n",
       "      <td>S1</td>\n",
       "      <td>E3</td>\n",
       "      <td>Monica becomes irritated when everyone likes h...</td>\n",
       "      <td>1994-10-06</td>\n",
       "      <td>8.0</td>\n",
       "      <td>8.1</td>\n",
       "    </tr>\n",
       "    <tr>\n",
       "      <th>3</th>\n",
       "      <td>The One with George Stephanopoulos</td>\n",
       "      <td>S1</td>\n",
       "      <td>E4</td>\n",
       "      <td>Joey and Chandler take Ross to a hockey game t...</td>\n",
       "      <td>1994-10-13</td>\n",
       "      <td>7.9</td>\n",
       "      <td>7.9</td>\n",
       "    </tr>\n",
       "    <tr>\n",
       "      <th>4</th>\n",
       "      <td>The One with the East German Laundry Detergent</td>\n",
       "      <td>S1</td>\n",
       "      <td>E5</td>\n",
       "      <td>Eager to spend time with Rachel, Ross pretends...</td>\n",
       "      <td>1994-10-20</td>\n",
       "      <td>8.3</td>\n",
       "      <td>7.9</td>\n",
       "    </tr>\n",
       "  </tbody>\n",
       "</table>\n",
       "</div>"
      ],
      "text/plain": [
       "                                            titre saison épisode  \\\n",
       "0            The One Where Monica Gets a Roommate     S1      E1   \n",
       "1            The One with the Sonogram at the End     S1      E2   \n",
       "2                          The One with the Thumb     S1      E3   \n",
       "3              The One with George Stephanopoulos     S1      E4   \n",
       "4  The One with the East German Laundry Detergent     S1      E5   \n",
       "\n",
       "                                              résumé date de diffusion  note  \\\n",
       "0  Monica and the gang introduce Rachel to the \"r...        1996-04-16   8.1   \n",
       "1  Ross finds out his ex-wife is pregnant. Rachel...        1994-09-29   7.8   \n",
       "2  Monica becomes irritated when everyone likes h...        1994-10-06   8.0   \n",
       "3  Joey and Chandler take Ross to a hockey game t...        1994-10-13   7.9   \n",
       "4  Eager to spend time with Rachel, Ross pretends...        1994-10-20   8.3   \n",
       "\n",
       "   nombre de votants (en milliers)  \n",
       "0                             11.0  \n",
       "1                              8.6  \n",
       "2                              8.1  \n",
       "3                              7.9  \n",
       "4                              7.9  "
      ]
     },
     "execution_count": 175,
     "metadata": {},
     "output_type": "execute_result"
    }
   ],
   "source": [
    "# renommer la colonne nombre de votants\n",
    "friends = friends.rename(columns={\"nombre de votants\": \"nombre de votants (en milliers)\"})\n",
    "friends.head()"
   ]
  },
  {
   "cell_type": "markdown",
   "id": "a0324831",
   "metadata": {},
   "source": [
    "## Ressources utiles\n",
    "\n",
    "\n",
    "\n",
    "https://www.crummy.com/software/BeautifulSoup/bs4/doc/\n",
    "\n",
    "https://www.crummy.com/software/BeautifulSoup/bs4/doc/#css-selectors\n",
    "\n",
    "\n"
   ]
  },
  {
   "cell_type": "code",
   "execution_count": null,
   "id": "ad6a22f7",
   "metadata": {},
   "outputs": [],
   "source": []
  }
 ],
 "metadata": {
  "kernelspec": {
   "display_name": "base",
   "language": "python",
   "name": "python3"
  },
  "language_info": {
   "codemirror_mode": {
    "name": "ipython",
    "version": 3
   },
   "file_extension": ".py",
   "mimetype": "text/x-python",
   "name": "python",
   "nbconvert_exporter": "python",
   "pygments_lexer": "ipython3",
   "version": "3.13.5"
  },
  "toc": {
   "base_numbering": 1,
   "nav_menu": {},
   "number_sections": true,
   "sideBar": true,
   "skip_h1_title": true,
   "title_cell": "Table of Contents",
   "title_sidebar": "Contents",
   "toc_cell": false,
   "toc_position": {
    "height": "calc(100% - 180px)",
    "left": "10px",
    "top": "150px",
    "width": "165px"
   },
   "toc_section_display": true,
   "toc_window_display": true
  }
 },
 "nbformat": 4,
 "nbformat_minor": 5
}
