{
 "cells": [
  {
   "cell_type": "markdown",
   "id": "d05e8e87",
   "metadata": {},
   "source": [
    "# Révision - Analyse de données sur les ventes de meubles et fournitures de bureau"
   ]
  },
  {
   "cell_type": "markdown",
   "id": "1d79aebc",
   "metadata": {},
   "source": [
    "# 0 - contexte et objectifs"
   ]
  },
  {
   "cell_type": "markdown",
   "id": "883fcb72",
   "metadata": {},
   "source": [
    "Vous commencez votre mission en tant que Data Analyst chez une enseigne de Retail. On vous a donné accès à leur base de données pour analyse exploratoire : Produits, clients et ventes.\n",
    "Vous travaillez au service marketing , vous intervenez car l’entreprise souhaite faire le point : analyser ses points forts, ses points faibles, les comportements clients, etc. \n",
    "\n",
    "Par exemple, elle cherche à savoir si elle doit créer certaines offres, adapter certains prix, etc.\n",
    "\n",
    "On vous demande de faire une analyse en deux parties :\n",
    "\n",
    "Partie I - analyse des différents indicateurs généraux\n",
    "\n",
    "    Construire des indicateurs et graphiques autour du chiffre d'affaires. Regarder l’évolution dans le temps\n",
    "    \n",
    "    faire un zoom sur les références, pour voir les tops et les flops, la répartition par catégorie, etc.\n",
    "    \n",
    "    etudier les profils des clients, et également la répartition du chiffre d'affaires entre eux\n",
    "\n",
    "Partie II - comportement des clients l’objectif est cette fois-ci de comprendre le comportement des clients en ligne.\n",
    "\n",
    "    étudier le lien entre le genre d’un client et les catégories des livres achetés\n",
    "    \n",
    "    étudier ensuite le lien entre l’âge des clients et le montant total des achats, la fréquence d’achat, la taille du panier moyen et les catégories des livres achetés.\n",
    "\n"
   ]
  },
  {
   "cell_type": "markdown",
   "id": "9146b256",
   "metadata": {},
   "source": [
    "# 1 - Exploration et  nettoyage des données "
   ]
  },
  {
   "cell_type": "code",
   "execution_count": 1,
   "id": "175279ef",
   "metadata": {},
   "outputs": [],
   "source": [
    "# Import de la librairie Pandas\n",
    "import pandas as pd\n",
    "\n",
    "# Import de la librairie matplotlib\n",
    "import matplotlib.pyplot as plt\n",
    "\n",
    "# Import de la librairie matplotlib pour les graphiques à lire dans la ligne\n",
    "%matplotlib inline\n",
    "\n",
    "# Import de seaborn pour des graphiques plus esthétiques\n",
    "import seaborn as sns\n"
   ]
  },
  {
   "cell_type": "markdown",
   "id": "ad56f18f",
   "metadata": {},
   "source": [
    "## 1.1 - Chargement des données"
   ]
  },
  {
   "cell_type": "markdown",
   "id": "8f14079e",
   "metadata": {},
   "source": [
    "Si vous utilisez anaconda -> je vous conseille de mettre les fichiers csv dans le même répertoire que le notebook\n",
    "\n",
    "Si vous utilisez google colab ->  il faut exécuter le code ci-dessous. \n",
    "\n",
    "from google.colab import files\n",
    "data_to_load = files.upload()"
   ]
  },
  {
   "cell_type": "markdown",
   "id": "1637f458",
   "metadata": {},
   "source": [
    "### 1.1.1 - customers"
   ]
  },
  {
   "cell_type": "code",
   "execution_count": 2,
   "id": "0675c090",
   "metadata": {},
   "outputs": [],
   "source": [
    "# Ouverture du fichier\n",
    "SuperStoreData = pd.read_csv('superstoredata.csv', encoding='utf-8', encoding_errors='ignore', sep=';')"
   ]
  },
  {
   "cell_type": "code",
   "execution_count": 3,
   "id": "b70295b7",
   "metadata": {},
   "outputs": [
    {
     "name": "stdout",
     "output_type": "stream",
     "text": [
      "<class 'pandas.core.frame.DataFrame'>\n",
      "RangeIndex: 9994 entries, 0 to 9993\n",
      "Data columns (total 24 columns):\n",
      " #   Column              Non-Null Count  Dtype  \n",
      "---  ------              --------------  -----  \n",
      " 0   order_id            9994 non-null   object \n",
      " 1   order_date          9994 non-null   object \n",
      " 2   ship_date           9994 non-null   object \n",
      " 3   ship_mode           9994 non-null   object \n",
      " 4   customer_id         9994 non-null   object \n",
      " 5   sales_rep           9994 non-null   object \n",
      " 6   location_id         9993 non-null   object \n",
      " 7   product_id          9994 non-null   object \n",
      " 8   sales               9994 non-null   float64\n",
      " 9   quantity            9994 non-null   int64  \n",
      " 10  discount            9994 non-null   float64\n",
      " 11  profit              9994 non-null   float64\n",
      " 12  customer_name       9994 non-null   object \n",
      " 13  segment             9994 non-null   object \n",
      " 14  product_name        9994 non-null   object \n",
      " 15  category            9994 non-null   object \n",
      " 16  sub_category        9994 non-null   object \n",
      " 17  sales_team          9994 non-null   object \n",
      " 18  sales_team_manager  9994 non-null   object \n",
      " 19  city                9994 non-null   object \n",
      " 20  state               9992 non-null   object \n",
      " 21  postal_code         9994 non-null   object \n",
      " 22  region              9994 non-null   object \n",
      " 23  Unnamed: 23         6 non-null      object \n",
      "dtypes: float64(3), int64(1), object(20)\n",
      "memory usage: 1.8+ MB\n"
     ]
    }
   ],
   "source": [
    "# Affichage des informations \n",
    "SuperStoreData.info()"
   ]
  },
  {
   "cell_type": "code",
   "execution_count": 4,
   "id": "32c566cc",
   "metadata": {},
   "outputs": [
    {
     "data": {
      "text/html": [
       "<div>\n",
       "<style scoped>\n",
       "    .dataframe tbody tr th:only-of-type {\n",
       "        vertical-align: middle;\n",
       "    }\n",
       "\n",
       "    .dataframe tbody tr th {\n",
       "        vertical-align: top;\n",
       "    }\n",
       "\n",
       "    .dataframe thead th {\n",
       "        text-align: right;\n",
       "    }\n",
       "</style>\n",
       "<table border=\"1\" class=\"dataframe\">\n",
       "  <thead>\n",
       "    <tr style=\"text-align: right;\">\n",
       "      <th></th>\n",
       "      <th>order_id</th>\n",
       "      <th>order_date</th>\n",
       "      <th>ship_date</th>\n",
       "      <th>ship_mode</th>\n",
       "      <th>customer_id</th>\n",
       "      <th>sales_rep</th>\n",
       "      <th>location_id</th>\n",
       "      <th>product_id</th>\n",
       "      <th>sales</th>\n",
       "      <th>quantity</th>\n",
       "      <th>...</th>\n",
       "      <th>product_name</th>\n",
       "      <th>category</th>\n",
       "      <th>sub_category</th>\n",
       "      <th>sales_team</th>\n",
       "      <th>sales_team_manager</th>\n",
       "      <th>city</th>\n",
       "      <th>state</th>\n",
       "      <th>postal_code</th>\n",
       "      <th>region</th>\n",
       "      <th>Unnamed: 23</th>\n",
       "    </tr>\n",
       "  </thead>\n",
       "  <tbody>\n",
       "    <tr>\n",
       "      <th>0</th>\n",
       "      <td>CA-2016-152156</td>\n",
       "      <td>08/11/2016</td>\n",
       "      <td>11/11/2016</td>\n",
       "      <td>Second Class</td>\n",
       "      <td>CG-12520</td>\n",
       "      <td>Organic</td>\n",
       "      <td>42420,Henderson</td>\n",
       "      <td>FUR-BO-10001798</td>\n",
       "      <td>261.96</td>\n",
       "      <td>2</td>\n",
       "      <td>...</td>\n",
       "      <td>Bush Somerset Collection Bookcase</td>\n",
       "      <td>Furniture</td>\n",
       "      <td>Bookcases</td>\n",
       "      <td>Organic</td>\n",
       "      <td>Organic</td>\n",
       "      <td>Henderson</td>\n",
       "      <td>Kentucky</td>\n",
       "      <td>42420</td>\n",
       "      <td>South</td>\n",
       "      <td>NaN</td>\n",
       "    </tr>\n",
       "    <tr>\n",
       "      <th>1</th>\n",
       "      <td>CA-2016-152156</td>\n",
       "      <td>08/11/2016</td>\n",
       "      <td>11/11/2016</td>\n",
       "      <td>Second Class</td>\n",
       "      <td>CG-12520</td>\n",
       "      <td>Organic</td>\n",
       "      <td>42420,Henderson</td>\n",
       "      <td>FUR-CH-10000454</td>\n",
       "      <td>731.94</td>\n",
       "      <td>3</td>\n",
       "      <td>...</td>\n",
       "      <td>Hon Deluxe Fabric Upholstered Stacking Chairs,...</td>\n",
       "      <td>Furniture</td>\n",
       "      <td>Chairs</td>\n",
       "      <td>Organic</td>\n",
       "      <td>Organic</td>\n",
       "      <td>Henderson</td>\n",
       "      <td>Kentucky</td>\n",
       "      <td>42420</td>\n",
       "      <td>South</td>\n",
       "      <td>NaN</td>\n",
       "    </tr>\n",
       "    <tr>\n",
       "      <th>2</th>\n",
       "      <td>CA-2016-138688</td>\n",
       "      <td>12/06/2016</td>\n",
       "      <td>16/06/2016</td>\n",
       "      <td>Second Class</td>\n",
       "      <td>DV-13045</td>\n",
       "      <td>Steve Pepple</td>\n",
       "      <td>90036,Los Angeles</td>\n",
       "      <td>OFF-LA-10000240</td>\n",
       "      <td>14.62</td>\n",
       "      <td>2</td>\n",
       "      <td>...</td>\n",
       "      <td>Self-Adhesive Address Labels for Typewriters b...</td>\n",
       "      <td>Office Supplies</td>\n",
       "      <td>Labels</td>\n",
       "      <td>Bravo</td>\n",
       "      <td>Tracy Banks</td>\n",
       "      <td>Los Angeles</td>\n",
       "      <td>California</td>\n",
       "      <td>90036</td>\n",
       "      <td>West</td>\n",
       "      <td>NaN</td>\n",
       "    </tr>\n",
       "    <tr>\n",
       "      <th>3</th>\n",
       "      <td>US-2015-108966</td>\n",
       "      <td>11/10/2015</td>\n",
       "      <td>18/10/2015</td>\n",
       "      <td>Standard Class</td>\n",
       "      <td>SO-20335</td>\n",
       "      <td>Organic</td>\n",
       "      <td>33311,Fort Lauderdale</td>\n",
       "      <td>FUR-TA-10000577</td>\n",
       "      <td>957.58</td>\n",
       "      <td>5</td>\n",
       "      <td>...</td>\n",
       "      <td>Bretford CR4500 Series Slim Rectangular Table</td>\n",
       "      <td>Furniture</td>\n",
       "      <td>Tables</td>\n",
       "      <td>Organic</td>\n",
       "      <td>Organic</td>\n",
       "      <td>Fort Lauderdale</td>\n",
       "      <td>Florida</td>\n",
       "      <td>33311</td>\n",
       "      <td>South</td>\n",
       "      <td>NaN</td>\n",
       "    </tr>\n",
       "    <tr>\n",
       "      <th>4</th>\n",
       "      <td>US-2015-108966</td>\n",
       "      <td>11/10/2015</td>\n",
       "      <td>18/10/2015</td>\n",
       "      <td>Standard Class</td>\n",
       "      <td>SO-20335</td>\n",
       "      <td>Organic</td>\n",
       "      <td>33311,Fort Lauderdale</td>\n",
       "      <td>OFF-ST-10000760</td>\n",
       "      <td>22.37</td>\n",
       "      <td>2</td>\n",
       "      <td>...</td>\n",
       "      <td>Eldon Fold 'N Roll Cart System</td>\n",
       "      <td>Office Supplies</td>\n",
       "      <td>Storage</td>\n",
       "      <td>Organic</td>\n",
       "      <td>Organic</td>\n",
       "      <td>Fort Lauderdale</td>\n",
       "      <td>Florida</td>\n",
       "      <td>33311</td>\n",
       "      <td>South</td>\n",
       "      <td>NaN</td>\n",
       "    </tr>\n",
       "  </tbody>\n",
       "</table>\n",
       "<p>5 rows × 24 columns</p>\n",
       "</div>"
      ],
      "text/plain": [
       "         order_id  order_date   ship_date       ship_mode customer_id  \\\n",
       "0  CA-2016-152156  08/11/2016  11/11/2016    Second Class    CG-12520   \n",
       "1  CA-2016-152156  08/11/2016  11/11/2016    Second Class    CG-12520   \n",
       "2  CA-2016-138688  12/06/2016  16/06/2016    Second Class    DV-13045   \n",
       "3  US-2015-108966  11/10/2015  18/10/2015  Standard Class    SO-20335   \n",
       "4  US-2015-108966  11/10/2015  18/10/2015  Standard Class    SO-20335   \n",
       "\n",
       "      sales_rep            location_id       product_id   sales  quantity  \\\n",
       "0       Organic        42420,Henderson  FUR-BO-10001798  261.96         2   \n",
       "1       Organic        42420,Henderson  FUR-CH-10000454  731.94         3   \n",
       "2  Steve Pepple      90036,Los Angeles  OFF-LA-10000240   14.62         2   \n",
       "3       Organic  33311,Fort Lauderdale  FUR-TA-10000577  957.58         5   \n",
       "4       Organic  33311,Fort Lauderdale  OFF-ST-10000760   22.37         2   \n",
       "\n",
       "   ...                                       product_name         category  \\\n",
       "0  ...                  Bush Somerset Collection Bookcase        Furniture   \n",
       "1  ...  Hon Deluxe Fabric Upholstered Stacking Chairs,...        Furniture   \n",
       "2  ...  Self-Adhesive Address Labels for Typewriters b...  Office Supplies   \n",
       "3  ...      Bretford CR4500 Series Slim Rectangular Table        Furniture   \n",
       "4  ...                     Eldon Fold 'N Roll Cart System  Office Supplies   \n",
       "\n",
       "  sub_category sales_team sales_team_manager             city       state  \\\n",
       "0    Bookcases    Organic            Organic        Henderson    Kentucky   \n",
       "1       Chairs    Organic            Organic        Henderson    Kentucky   \n",
       "2       Labels      Bravo        Tracy Banks      Los Angeles  California   \n",
       "3       Tables    Organic            Organic  Fort Lauderdale     Florida   \n",
       "4      Storage    Organic            Organic  Fort Lauderdale     Florida   \n",
       "\n",
       "  postal_code region Unnamed: 23  \n",
       "0       42420  South         NaN  \n",
       "1       42420  South         NaN  \n",
       "2       90036   West         NaN  \n",
       "3       33311  South         NaN  \n",
       "4       33311  South         NaN  \n",
       "\n",
       "[5 rows x 24 columns]"
      ]
     },
     "execution_count": 4,
     "metadata": {},
     "output_type": "execute_result"
    }
   ],
   "source": [
    "# Affichage des premières lignes\n",
    "\n",
    "SuperStoreData.head()"
   ]
  },
  {
   "cell_type": "code",
   "execution_count": 5,
   "id": "c762e175",
   "metadata": {},
   "outputs": [
    {
     "data": {
      "text/html": [
       "<div>\n",
       "<style scoped>\n",
       "    .dataframe tbody tr th:only-of-type {\n",
       "        vertical-align: middle;\n",
       "    }\n",
       "\n",
       "    .dataframe tbody tr th {\n",
       "        vertical-align: top;\n",
       "    }\n",
       "\n",
       "    .dataframe thead th {\n",
       "        text-align: right;\n",
       "    }\n",
       "</style>\n",
       "<table border=\"1\" class=\"dataframe\">\n",
       "  <thead>\n",
       "    <tr style=\"text-align: right;\">\n",
       "      <th></th>\n",
       "      <th>order_id</th>\n",
       "      <th>order_date</th>\n",
       "      <th>ship_date</th>\n",
       "      <th>ship_mode</th>\n",
       "      <th>customer_id</th>\n",
       "      <th>sales_rep</th>\n",
       "      <th>location_id</th>\n",
       "      <th>product_id</th>\n",
       "      <th>sales</th>\n",
       "      <th>quantity</th>\n",
       "      <th>...</th>\n",
       "      <th>product_name</th>\n",
       "      <th>category</th>\n",
       "      <th>sub_category</th>\n",
       "      <th>sales_team</th>\n",
       "      <th>sales_team_manager</th>\n",
       "      <th>city</th>\n",
       "      <th>state</th>\n",
       "      <th>postal_code</th>\n",
       "      <th>region</th>\n",
       "      <th>Unnamed: 23</th>\n",
       "    </tr>\n",
       "  </thead>\n",
       "  <tbody>\n",
       "    <tr>\n",
       "      <th>count</th>\n",
       "      <td>9994</td>\n",
       "      <td>9994</td>\n",
       "      <td>9994</td>\n",
       "      <td>9994</td>\n",
       "      <td>9994</td>\n",
       "      <td>9994</td>\n",
       "      <td>9993</td>\n",
       "      <td>9994</td>\n",
       "      <td>9994.000000</td>\n",
       "      <td>9994.000000</td>\n",
       "      <td>...</td>\n",
       "      <td>9994</td>\n",
       "      <td>9994</td>\n",
       "      <td>9994</td>\n",
       "      <td>9994</td>\n",
       "      <td>9994</td>\n",
       "      <td>9994</td>\n",
       "      <td>9992</td>\n",
       "      <td>9994</td>\n",
       "      <td>9994</td>\n",
       "      <td>6</td>\n",
       "    </tr>\n",
       "    <tr>\n",
       "      <th>unique</th>\n",
       "      <td>5009</td>\n",
       "      <td>1237</td>\n",
       "      <td>1334</td>\n",
       "      <td>4</td>\n",
       "      <td>794</td>\n",
       "      <td>14</td>\n",
       "      <td>632</td>\n",
       "      <td>1863</td>\n",
       "      <td>NaN</td>\n",
       "      <td>NaN</td>\n",
       "      <td>...</td>\n",
       "      <td>1818</td>\n",
       "      <td>4</td>\n",
       "      <td>18</td>\n",
       "      <td>6</td>\n",
       "      <td>7</td>\n",
       "      <td>534</td>\n",
       "      <td>54</td>\n",
       "      <td>635</td>\n",
       "      <td>9</td>\n",
       "      <td>3</td>\n",
       "    </tr>\n",
       "    <tr>\n",
       "      <th>top</th>\n",
       "      <td>CA-2017-100111</td>\n",
       "      <td>05/09/2016</td>\n",
       "      <td>16/12/2015</td>\n",
       "      <td>Standard Class</td>\n",
       "      <td>WB-21850</td>\n",
       "      <td>Organic</td>\n",
       "      <td>10035,New York City</td>\n",
       "      <td>OFF-PA-10001970</td>\n",
       "      <td>NaN</td>\n",
       "      <td>NaN</td>\n",
       "      <td>...</td>\n",
       "      <td>Staple envelope</td>\n",
       "      <td>Office Supplies</td>\n",
       "      <td>Binders</td>\n",
       "      <td>Organic</td>\n",
       "      <td>Organic</td>\n",
       "      <td>New York City</td>\n",
       "      <td>California</td>\n",
       "      <td>10035</td>\n",
       "      <td>West</td>\n",
       "      <td>Central</td>\n",
       "    </tr>\n",
       "    <tr>\n",
       "      <th>freq</th>\n",
       "      <td>14</td>\n",
       "      <td>38</td>\n",
       "      <td>35</td>\n",
       "      <td>5968</td>\n",
       "      <td>37</td>\n",
       "      <td>6400</td>\n",
       "      <td>263</td>\n",
       "      <td>19</td>\n",
       "      <td>NaN</td>\n",
       "      <td>NaN</td>\n",
       "      <td>...</td>\n",
       "      <td>48</td>\n",
       "      <td>6026</td>\n",
       "      <td>1523</td>\n",
       "      <td>6397</td>\n",
       "      <td>6400</td>\n",
       "      <td>915</td>\n",
       "      <td>1999</td>\n",
       "      <td>263</td>\n",
       "      <td>3203</td>\n",
       "      <td>3</td>\n",
       "    </tr>\n",
       "    <tr>\n",
       "      <th>mean</th>\n",
       "      <td>NaN</td>\n",
       "      <td>NaN</td>\n",
       "      <td>NaN</td>\n",
       "      <td>NaN</td>\n",
       "      <td>NaN</td>\n",
       "      <td>NaN</td>\n",
       "      <td>NaN</td>\n",
       "      <td>NaN</td>\n",
       "      <td>229.838886</td>\n",
       "      <td>3.789574</td>\n",
       "      <td>...</td>\n",
       "      <td>NaN</td>\n",
       "      <td>NaN</td>\n",
       "      <td>NaN</td>\n",
       "      <td>NaN</td>\n",
       "      <td>NaN</td>\n",
       "      <td>NaN</td>\n",
       "      <td>NaN</td>\n",
       "      <td>NaN</td>\n",
       "      <td>NaN</td>\n",
       "      <td>NaN</td>\n",
       "    </tr>\n",
       "    <tr>\n",
       "      <th>std</th>\n",
       "      <td>NaN</td>\n",
       "      <td>NaN</td>\n",
       "      <td>NaN</td>\n",
       "      <td>NaN</td>\n",
       "      <td>NaN</td>\n",
       "      <td>NaN</td>\n",
       "      <td>NaN</td>\n",
       "      <td>NaN</td>\n",
       "      <td>623.252189</td>\n",
       "      <td>2.225110</td>\n",
       "      <td>...</td>\n",
       "      <td>NaN</td>\n",
       "      <td>NaN</td>\n",
       "      <td>NaN</td>\n",
       "      <td>NaN</td>\n",
       "      <td>NaN</td>\n",
       "      <td>NaN</td>\n",
       "      <td>NaN</td>\n",
       "      <td>NaN</td>\n",
       "      <td>NaN</td>\n",
       "      <td>NaN</td>\n",
       "    </tr>\n",
       "    <tr>\n",
       "      <th>min</th>\n",
       "      <td>NaN</td>\n",
       "      <td>NaN</td>\n",
       "      <td>NaN</td>\n",
       "      <td>NaN</td>\n",
       "      <td>NaN</td>\n",
       "      <td>NaN</td>\n",
       "      <td>NaN</td>\n",
       "      <td>NaN</td>\n",
       "      <td>-95.620000</td>\n",
       "      <td>1.000000</td>\n",
       "      <td>...</td>\n",
       "      <td>NaN</td>\n",
       "      <td>NaN</td>\n",
       "      <td>NaN</td>\n",
       "      <td>NaN</td>\n",
       "      <td>NaN</td>\n",
       "      <td>NaN</td>\n",
       "      <td>NaN</td>\n",
       "      <td>NaN</td>\n",
       "      <td>NaN</td>\n",
       "      <td>NaN</td>\n",
       "    </tr>\n",
       "    <tr>\n",
       "      <th>25%</th>\n",
       "      <td>NaN</td>\n",
       "      <td>NaN</td>\n",
       "      <td>NaN</td>\n",
       "      <td>NaN</td>\n",
       "      <td>NaN</td>\n",
       "      <td>NaN</td>\n",
       "      <td>NaN</td>\n",
       "      <td>NaN</td>\n",
       "      <td>17.257500</td>\n",
       "      <td>2.000000</td>\n",
       "      <td>...</td>\n",
       "      <td>NaN</td>\n",
       "      <td>NaN</td>\n",
       "      <td>NaN</td>\n",
       "      <td>NaN</td>\n",
       "      <td>NaN</td>\n",
       "      <td>NaN</td>\n",
       "      <td>NaN</td>\n",
       "      <td>NaN</td>\n",
       "      <td>NaN</td>\n",
       "      <td>NaN</td>\n",
       "    </tr>\n",
       "    <tr>\n",
       "      <th>50%</th>\n",
       "      <td>NaN</td>\n",
       "      <td>NaN</td>\n",
       "      <td>NaN</td>\n",
       "      <td>NaN</td>\n",
       "      <td>NaN</td>\n",
       "      <td>NaN</td>\n",
       "      <td>NaN</td>\n",
       "      <td>NaN</td>\n",
       "      <td>54.430000</td>\n",
       "      <td>3.000000</td>\n",
       "      <td>...</td>\n",
       "      <td>NaN</td>\n",
       "      <td>NaN</td>\n",
       "      <td>NaN</td>\n",
       "      <td>NaN</td>\n",
       "      <td>NaN</td>\n",
       "      <td>NaN</td>\n",
       "      <td>NaN</td>\n",
       "      <td>NaN</td>\n",
       "      <td>NaN</td>\n",
       "      <td>NaN</td>\n",
       "    </tr>\n",
       "    <tr>\n",
       "      <th>75%</th>\n",
       "      <td>NaN</td>\n",
       "      <td>NaN</td>\n",
       "      <td>NaN</td>\n",
       "      <td>NaN</td>\n",
       "      <td>NaN</td>\n",
       "      <td>NaN</td>\n",
       "      <td>NaN</td>\n",
       "      <td>NaN</td>\n",
       "      <td>209.940000</td>\n",
       "      <td>5.000000</td>\n",
       "      <td>...</td>\n",
       "      <td>NaN</td>\n",
       "      <td>NaN</td>\n",
       "      <td>NaN</td>\n",
       "      <td>NaN</td>\n",
       "      <td>NaN</td>\n",
       "      <td>NaN</td>\n",
       "      <td>NaN</td>\n",
       "      <td>NaN</td>\n",
       "      <td>NaN</td>\n",
       "      <td>NaN</td>\n",
       "    </tr>\n",
       "    <tr>\n",
       "      <th>max</th>\n",
       "      <td>NaN</td>\n",
       "      <td>NaN</td>\n",
       "      <td>NaN</td>\n",
       "      <td>NaN</td>\n",
       "      <td>NaN</td>\n",
       "      <td>NaN</td>\n",
       "      <td>NaN</td>\n",
       "      <td>NaN</td>\n",
       "      <td>22638.480000</td>\n",
       "      <td>14.000000</td>\n",
       "      <td>...</td>\n",
       "      <td>NaN</td>\n",
       "      <td>NaN</td>\n",
       "      <td>NaN</td>\n",
       "      <td>NaN</td>\n",
       "      <td>NaN</td>\n",
       "      <td>NaN</td>\n",
       "      <td>NaN</td>\n",
       "      <td>NaN</td>\n",
       "      <td>NaN</td>\n",
       "      <td>NaN</td>\n",
       "    </tr>\n",
       "  </tbody>\n",
       "</table>\n",
       "<p>11 rows × 24 columns</p>\n",
       "</div>"
      ],
      "text/plain": [
       "              order_id  order_date   ship_date       ship_mode customer_id  \\\n",
       "count             9994        9994        9994            9994        9994   \n",
       "unique            5009        1237        1334               4         794   \n",
       "top     CA-2017-100111  05/09/2016  16/12/2015  Standard Class    WB-21850   \n",
       "freq                14          38          35            5968          37   \n",
       "mean               NaN         NaN         NaN             NaN         NaN   \n",
       "std                NaN         NaN         NaN             NaN         NaN   \n",
       "min                NaN         NaN         NaN             NaN         NaN   \n",
       "25%                NaN         NaN         NaN             NaN         NaN   \n",
       "50%                NaN         NaN         NaN             NaN         NaN   \n",
       "75%                NaN         NaN         NaN             NaN         NaN   \n",
       "max                NaN         NaN         NaN             NaN         NaN   \n",
       "\n",
       "       sales_rep          location_id       product_id         sales  \\\n",
       "count       9994                 9993             9994   9994.000000   \n",
       "unique        14                  632             1863           NaN   \n",
       "top      Organic  10035,New York City  OFF-PA-10001970           NaN   \n",
       "freq        6400                  263               19           NaN   \n",
       "mean         NaN                  NaN              NaN    229.838886   \n",
       "std          NaN                  NaN              NaN    623.252189   \n",
       "min          NaN                  NaN              NaN    -95.620000   \n",
       "25%          NaN                  NaN              NaN     17.257500   \n",
       "50%          NaN                  NaN              NaN     54.430000   \n",
       "75%          NaN                  NaN              NaN    209.940000   \n",
       "max          NaN                  NaN              NaN  22638.480000   \n",
       "\n",
       "           quantity  ...     product_name         category sub_category  \\\n",
       "count   9994.000000  ...             9994             9994         9994   \n",
       "unique          NaN  ...             1818                4           18   \n",
       "top             NaN  ...  Staple envelope  Office Supplies      Binders   \n",
       "freq            NaN  ...               48             6026         1523   \n",
       "mean       3.789574  ...              NaN              NaN          NaN   \n",
       "std        2.225110  ...              NaN              NaN          NaN   \n",
       "min        1.000000  ...              NaN              NaN          NaN   \n",
       "25%        2.000000  ...              NaN              NaN          NaN   \n",
       "50%        3.000000  ...              NaN              NaN          NaN   \n",
       "75%        5.000000  ...              NaN              NaN          NaN   \n",
       "max       14.000000  ...              NaN              NaN          NaN   \n",
       "\n",
       "       sales_team sales_team_manager           city       state postal_code  \\\n",
       "count        9994               9994           9994        9992        9994   \n",
       "unique          6                  7            534          54         635   \n",
       "top       Organic            Organic  New York City  California       10035   \n",
       "freq         6397               6400            915        1999         263   \n",
       "mean          NaN                NaN            NaN         NaN         NaN   \n",
       "std           NaN                NaN            NaN         NaN         NaN   \n",
       "min           NaN                NaN            NaN         NaN         NaN   \n",
       "25%           NaN                NaN            NaN         NaN         NaN   \n",
       "50%           NaN                NaN            NaN         NaN         NaN   \n",
       "75%           NaN                NaN            NaN         NaN         NaN   \n",
       "max           NaN                NaN            NaN         NaN         NaN   \n",
       "\n",
       "       region Unnamed: 23  \n",
       "count    9994           6  \n",
       "unique      9           3  \n",
       "top      West     Central  \n",
       "freq     3203           3  \n",
       "mean      NaN         NaN  \n",
       "std       NaN         NaN  \n",
       "min       NaN         NaN  \n",
       "25%       NaN         NaN  \n",
       "50%       NaN         NaN  \n",
       "75%       NaN         NaN  \n",
       "max       NaN         NaN  \n",
       "\n",
       "[11 rows x 24 columns]"
      ]
     },
     "execution_count": 5,
     "metadata": {},
     "output_type": "execute_result"
    }
   ],
   "source": [
    "# Stats du dataframe\n",
    "SuperStoreData.describe(include = 'all')"
   ]
  },
  {
   "cell_type": "markdown",
   "id": "1df024eb",
   "metadata": {},
   "source": [
    "Ce fichier comprend 3 colonnes :\n",
    "\n",
    "    Client_id : référence de chaque client\n",
    "    Sex : le genre du client\n",
    "    Birth : l'année de naissance du client\n",
    "\n"
   ]
  },
  {
   "cell_type": "code",
   "execution_count": 6,
   "id": "b3b839f8",
   "metadata": {},
   "outputs": [
    {
     "name": "stdout",
     "output_type": "stream",
     "text": [
      "            order_id  order_date   ship_date       ship_mode customer_id  \\\n",
      "0     CA-2016-152156  08/11/2016  11/11/2016    Second Class    CG-12520   \n",
      "1     CA-2016-152156  08/11/2016  11/11/2016    Second Class    CG-12520   \n",
      "2     CA-2016-138688  12/06/2016  16/06/2016    Second Class    DV-13045   \n",
      "3     US-2015-108966  11/10/2015  18/10/2015  Standard Class    SO-20335   \n",
      "4     US-2015-108966  11/10/2015  18/10/2015  Standard Class    SO-20335   \n",
      "...              ...         ...         ...             ...         ...   \n",
      "9989  CA-2014-110422  21/01/2014  23/01/2014    Second Class    TB-21400   \n",
      "9990  CA-2017-121258  26/02/2017  03/03/2017  Standard Class    DB-13060   \n",
      "9991  CA-2017-121258  26/02/2017  03/03/2017  Standard Class    DB-13060   \n",
      "9992  CA-2017-121258  26/02/2017  03/03/2017  Standard Class    DB-13060   \n",
      "9993  CA-2017-119914  04/05/2017  09/05/2017    Second Class    CC-12220   \n",
      "\n",
      "         sales_rep            location_id       product_id   sales  quantity  \\\n",
      "0          Organic        42420,Henderson  FUR-BO-10001798  261.96         2   \n",
      "1          Organic        42420,Henderson  FUR-CH-10000454  731.94         3   \n",
      "2     Steve Pepple      90036,Los Angeles  OFF-LA-10000240   14.62         2   \n",
      "3          Organic  33311,Fort Lauderdale  FUR-TA-10000577  957.58         5   \n",
      "4          Organic  33311,Fort Lauderdale  OFF-ST-10000760   22.37         2   \n",
      "...            ...                    ...              ...     ...       ...   \n",
      "9989       Organic            33180,Miami  FUR-FU-10001889   25.25         3   \n",
      "9990       Organic       92627,Costa Mesa  FUR-FU-10000747   91.96         2   \n",
      "9991       Organic       92627,Costa Mesa  TEC-PH-10003645  258.58         2   \n",
      "9992       Organic       92627,Costa Mesa  OFF-PA-10004041   29.60         4   \n",
      "9993       Organic      92683,Westminster  OFF-AP-10002684  243.16         2   \n",
      "\n",
      "      ...                                       product_name         category  \\\n",
      "0     ...                  Bush Somerset Collection Bookcase        Furniture   \n",
      "1     ...  Hon Deluxe Fabric Upholstered Stacking Chairs,...        Furniture   \n",
      "2     ...  Self-Adhesive Address Labels for Typewriters b...  Office Supplies   \n",
      "3     ...      Bretford CR4500 Series Slim Rectangular Table        Furniture   \n",
      "4     ...                     Eldon Fold 'N Roll Cart System  Office Supplies   \n",
      "...   ...                                                ...              ...   \n",
      "9989  ...                             Ultra Door Pull Handle        Furniture   \n",
      "9990  ...  Tenex B1-RE Series Chair Mats for Low Pile Car...        Furniture   \n",
      "9991  ...                              Aastra 57i VoIP phone       Technology   \n",
      "9992  ...  It's Hot Message Books with Stickers, 2 3/4\" x 5\"  Office Supplies   \n",
      "9993  ...  Acco 7-Outlet Masterpiece Power Center, Wihtou...  Office Supplies   \n",
      "\n",
      "     sub_category sales_team sales_team_manager             city       state  \\\n",
      "0       Bookcases    Organic            Organic        Henderson    Kentucky   \n",
      "1          Chairs    Organic            Organic        Henderson    Kentucky   \n",
      "2          Labels      Bravo        Tracy Banks      Los Angeles  California   \n",
      "3          Tables    Organic            Organic  Fort Lauderdale     Florida   \n",
      "4         Storage    Organic            Organic  Fort Lauderdale     Florida   \n",
      "...           ...        ...                ...              ...         ...   \n",
      "9989  Furnishings    Organic            Organic            Miami     Florida   \n",
      "9990  Furnishings    Organic            Organic       Costa Mesa  California   \n",
      "9991       Phones    Organic            Organic       Costa Mesa  California   \n",
      "9992        Paper    Organic            Organic       Costa Mesa  California   \n",
      "9993   Appliances    Organic            Organic      Westminster  California   \n",
      "\n",
      "     postal_code region Unnamed: 23  \n",
      "0          42420  South         NaN  \n",
      "1          42420  South         NaN  \n",
      "2          90036   West         NaN  \n",
      "3          33311  South         NaN  \n",
      "4          33311  South         NaN  \n",
      "...          ...    ...         ...  \n",
      "9989       33180  South         NaN  \n",
      "9990       92627   West         NaN  \n",
      "9991       92627   West         NaN  \n",
      "9992       92627   West         NaN  \n",
      "9993       92683   West         NaN  \n",
      "\n",
      "[9994 rows x 24 columns]\n"
     ]
    }
   ],
   "source": [
    "print(SuperStoreData)"
   ]
  },
  {
   "cell_type": "code",
   "execution_count": 7,
   "id": "a34dc864",
   "metadata": {},
   "outputs": [
    {
     "data": {
      "text/plain": [
       "order_id              0.0000\n",
       "order_date            0.0000\n",
       "ship_date             0.0000\n",
       "ship_mode             0.0000\n",
       "customer_id           0.0000\n",
       "sales_rep             0.0000\n",
       "location_id           0.0001\n",
       "product_id            0.0000\n",
       "sales                 0.0000\n",
       "quantity              0.0000\n",
       "discount              0.0000\n",
       "profit                0.0000\n",
       "customer_name         0.0000\n",
       "segment               0.0000\n",
       "product_name          0.0000\n",
       "category              0.0000\n",
       "sub_category          0.0000\n",
       "sales_team            0.0000\n",
       "sales_team_manager    0.0000\n",
       "city                  0.0000\n",
       "state                 0.0002\n",
       "postal_code           0.0000\n",
       "region                0.0000\n",
       "Unnamed: 23           0.9994\n",
       "dtype: float64"
      ]
     },
     "execution_count": 7,
     "metadata": {},
     "output_type": "execute_result"
    }
   ],
   "source": [
    "#valeurs manquantes\n",
    "SuperStoreData.isna().mean()"
   ]
  },
  {
   "cell_type": "code",
   "execution_count": 8,
   "id": "09990d43",
   "metadata": {},
   "outputs": [
    {
     "data": {
      "text/plain": [
       "order_id                 0\n",
       "order_date               0\n",
       "ship_date                0\n",
       "ship_mode                0\n",
       "customer_id              0\n",
       "sales_rep                0\n",
       "location_id              1\n",
       "product_id               0\n",
       "sales                    0\n",
       "quantity                 0\n",
       "discount                 0\n",
       "profit                   0\n",
       "customer_name            0\n",
       "segment                  0\n",
       "product_name             0\n",
       "category                 0\n",
       "sub_category             0\n",
       "sales_team               0\n",
       "sales_team_manager       0\n",
       "city                     0\n",
       "state                    2\n",
       "postal_code              0\n",
       "region                   0\n",
       "Unnamed: 23           9988\n",
       "dtype: int64"
      ]
     },
     "execution_count": 8,
     "metadata": {},
     "output_type": "execute_result"
    }
   ],
   "source": [
    "SuperStoreData.isna().sum()"
   ]
  },
  {
   "cell_type": "code",
   "execution_count": 13,
   "id": "700b12fc",
   "metadata": {},
   "outputs": [
    {
     "name": "stdout",
     "output_type": "stream",
     "text": [
      "Unnamed: 23\n",
      "NaN        9988\n",
      "Central       3\n",
      "South         2\n",
      "East          1\n",
      "Name: count, dtype: int64\n"
     ]
    }
   ],
   "source": [
    "# Analyse de la colonne 'Unnamed: 23'\n",
    "print(SuperStoreData['Unnamed: 23'].value_counts(dropna=False))"
   ]
  },
  {
   "cell_type": "code",
   "execution_count": 14,
   "id": "3764e56b",
   "metadata": {},
   "outputs": [],
   "source": [
    "# Suppression de la colonne 'Unnamed: 23' car elle contient 99,88 % de valeurs manquantes\n",
    "SuperStoreData = SuperStoreData.drop(columns=['Unnamed: 23'])"
   ]
  },
  {
   "cell_type": "code",
   "execution_count": 15,
   "id": "06d09e51",
   "metadata": {},
   "outputs": [
    {
     "name": "stdout",
     "output_type": "stream",
     "text": [
      "          order_id  order_date   ship_date     ship_mode customer_id  \\\n",
      "18  CA-2014-143336  27/08/2014  01/09/2014  Second Class    ZD-21925   \n",
      "\n",
      "   sales_rep location_id       product_id  sales  quantity  ...   segment  \\\n",
      "18   Organic         NaN  OFF-AR-10003056   8.56         2  ...  Consumer   \n",
      "\n",
      "    product_name         category sub_category sales_team sales_team_manager  \\\n",
      "18    Newell 341  Office Supplies          Art    Organic            Organic   \n",
      "\n",
      "             city       state postal_code region  \n",
      "18  San Francisco  California       94109   West  \n",
      "\n",
      "[1 rows x 23 columns]\n"
     ]
    }
   ],
   "source": [
    "# Analyse de la colonne 'location_id'\n",
    "print(SuperStoreData[SuperStoreData['location_id'].isna()])"
   ]
  },
  {
   "cell_type": "code",
   "execution_count": null,
   "id": "4fe25a9c",
   "metadata": {},
   "outputs": [],
   "source": [
    "# Si une table de correspondance existe (ex. postal_code -> location_id => on peut l'utiliser pour remplir les valeurs manquantes)\n",
    "dict_zip_to_location = {'94109': 'LOC_SF'}  # Selon mes données\n",
    "SuperStoreData['location_id'] = SuperStoreData['location_id'].fillna(SuperStoreData['postal_code'].map(dict_zip_to_location))\n",
    "# Sinon, marquer comme 'Unknown'\n",
    "SuperStoreData['location_id'] = SuperStoreData['location_id'].fillna('Unknown')"
   ]
  },
  {
   "cell_type": "markdown",
   "id": "b8dad2cc",
   "metadata": {},
   "source": [
    "Solution pragmatique : Marquer comme \"Unknown\" est une solution rapide et sûre car aucune correspondance n’est disponible, permettant de continuer l’analyse sans introduire de biais."
   ]
  },
  {
   "cell_type": "code",
   "execution_count": 17,
   "id": "7698aea1",
   "metadata": {},
   "outputs": [
    {
     "name": "stdout",
     "output_type": "stream",
     "text": [
      "         order_id  order_date   ship_date       ship_mode customer_id  \\\n",
      "5  CA-2014-115812  09/06/2014  14/06/2014  Standard Class    BH-11710   \n",
      "6  CA-2014-115812  09/06/2014  14/06/2014  Standard Class    BH-11710   \n",
      "\n",
      "  sales_rep        location_id       product_id  sales  quantity  ...  \\\n",
      "5   Organic  90032,Los Angeles  FUR-FU-10001487  48.86         7  ...   \n",
      "6   Organic  90032,Los Angeles  OFF-AR-10002833   7.28         4  ...   \n",
      "\n",
      "    segment                                       product_name  \\\n",
      "5  Consumer  Eldon Expressions Wood and Plastic Desk Access...   \n",
      "6  Consumer                                         Newell 322   \n",
      "\n",
      "          category sub_category sales_team sales_team_manager         city  \\\n",
      "5        Furniture  Furnishings    Organic            Organic  Los Angeles   \n",
      "6  Office Supplies          Art    Organic            Organic  Los Angeles   \n",
      "\n",
      "  state postal_code region  \n",
      "5   NaN       90032   West  \n",
      "6   NaN       90032   West  \n",
      "\n",
      "[2 rows x 23 columns]\n"
     ]
    }
   ],
   "source": [
    "# Analyse de la colonne 'state'\n",
    "print(SuperStoreData[SuperStoreData['state'].isna()])"
   ]
  },
  {
   "cell_type": "markdown",
   "id": "f01a4520",
   "metadata": {},
   "source": [
    "Pourquoi ? Les deux lignes ont city=Los Angeles et postal_code=90032, qui correspondent à l’état de Californie. L’imputation basée sur ces informations est précise et préserve les données utiles (ex. sales, profit) pour l’analyse. Supprimer les lignes risquerait de perdre des informations valides, et marquer comme \"Unknown\" serait moins informatif vu que l’état peut être déduit avec certitude."
   ]
  },
  {
   "cell_type": "code",
   "execution_count": 18,
   "id": "29bc6e6f",
   "metadata": {},
   "outputs": [],
   "source": [
    "# Que faire ? Imputer la valeur manquante dans state avec \"California\" pour les deux lignes :\n",
    "SuperStoreData['state'] = SuperStoreData['state'].fillna('California')"
   ]
  },
  {
   "cell_type": "markdown",
   "id": "6a8b193d",
   "metadata": {},
   "source": [
    "Vérification de l’intégrité des données après traitement"
   ]
  },
  {
   "cell_type": "code",
   "execution_count": 19,
   "id": "d32caff5",
   "metadata": {},
   "outputs": [
    {
     "name": "stdout",
     "output_type": "stream",
     "text": [
      "order_id              0\n",
      "order_date            0\n",
      "ship_date             0\n",
      "ship_mode             0\n",
      "customer_id           0\n",
      "sales_rep             0\n",
      "location_id           0\n",
      "product_id            0\n",
      "sales                 0\n",
      "quantity              0\n",
      "discount              0\n",
      "profit                0\n",
      "customer_name         0\n",
      "segment               0\n",
      "product_name          0\n",
      "category              0\n",
      "sub_category          0\n",
      "sales_team            0\n",
      "sales_team_manager    0\n",
      "city                  0\n",
      "state                 0\n",
      "postal_code           0\n",
      "region                0\n",
      "dtype: int64\n"
     ]
    }
   ],
   "source": [
    "print(SuperStoreData.isna().sum())"
   ]
  },
  {
   "cell_type": "code",
   "execution_count": 9,
   "id": "3f7fc887",
   "metadata": {},
   "outputs": [
    {
     "data": {
      "text/plain": [
       "np.int64(1)"
      ]
     },
     "execution_count": 9,
     "metadata": {},
     "output_type": "execute_result"
    }
   ],
   "source": [
    "#Doublon\n",
    "SuperStoreData.duplicated().sum()"
   ]
  },
  {
   "cell_type": "markdown",
   "id": "e921cdb7",
   "metadata": {},
   "source": [
    "Identifier la ou les lignes dupliquées"
   ]
  },
  {
   "cell_type": "code",
   "execution_count": 20,
   "id": "f0f57a2c",
   "metadata": {},
   "outputs": [
    {
     "name": "stdout",
     "output_type": "stream",
     "text": [
      "            order_id  order_date   ship_date       ship_mode customer_id  \\\n",
      "3409  US-2014-150119  23/04/2014  27/04/2014  Standard Class    LB-16795   \n",
      "3410  US-2014-150119  23/04/2014  27/04/2014  Standard Class    LB-16795   \n",
      "\n",
      "     sales_rep     location_id       product_id   sales  quantity  ...  \\\n",
      "3409   Organic  43229,Columbus  FUR-CH-10002965  281.37         2  ...   \n",
      "3410   Organic  43229,Columbus  FUR-CH-10002965  281.37         2  ...   \n",
      "\n",
      "          segment                                       product_name  \\\n",
      "3409  Home Office  Global Leather Highback Executive Chair with P...   \n",
      "3410  Home Office  Global Leather Highback Executive Chair with P...   \n",
      "\n",
      "       category sub_category sales_team sales_team_manager      city state  \\\n",
      "3409  Furniture       Chairs    Organic            Organic  Columbus  Ohio   \n",
      "3410  Furniture       Chairs    Organic            Organic  Columbus  Ohio   \n",
      "\n",
      "     postal_code region  \n",
      "3409       43229   East  \n",
      "3410       43229   East  \n",
      "\n",
      "[2 rows x 23 columns]\n"
     ]
    }
   ],
   "source": [
    "print(SuperStoreData[SuperStoreData.duplicated(keep=False)])"
   ]
  },
  {
   "cell_type": "markdown",
   "id": "70980e37",
   "metadata": {},
   "source": [
    "Supprimer le doublon est approprié pour éviter de fausser les analyses (ex. surestimation des ventes ou du profit). Aucune information unique ne serait perdue, car les lignes sont rigoureusement identiques."
   ]
  },
  {
   "cell_type": "code",
   "execution_count": 21,
   "id": "4cba11f2",
   "metadata": {},
   "outputs": [],
   "source": [
    "SuperStoreData = SuperStoreData.drop_duplicates(keep='first')"
   ]
  },
  {
   "cell_type": "code",
   "execution_count": 10,
   "id": "2872a8ed",
   "metadata": {},
   "outputs": [
    {
     "name": "stdout",
     "output_type": "stream",
     "text": [
      "Il y a 794 clients uniques\n"
     ]
    }
   ],
   "source": [
    "print(\"Il y a\", SuperStoreData.describe(include = 'all').loc[\"unique\",\"customer_id\"], \"clients uniques\")"
   ]
  },
  {
   "cell_type": "markdown",
   "id": "5cd31f14",
   "metadata": {},
   "source": [
    "Données après ces traitements"
   ]
  },
  {
   "cell_type": "code",
   "execution_count": 22,
   "id": "cb425400",
   "metadata": {},
   "outputs": [
    {
     "name": "stdout",
     "output_type": "stream",
     "text": [
      "order_id              0\n",
      "order_date            0\n",
      "ship_date             0\n",
      "ship_mode             0\n",
      "customer_id           0\n",
      "sales_rep             0\n",
      "location_id           0\n",
      "product_id            0\n",
      "sales                 0\n",
      "quantity              0\n",
      "discount              0\n",
      "profit                0\n",
      "customer_name         0\n",
      "segment               0\n",
      "product_name          0\n",
      "category              0\n",
      "sub_category          0\n",
      "sales_team            0\n",
      "sales_team_manager    0\n",
      "city                  0\n",
      "state                 0\n",
      "postal_code           0\n",
      "region                0\n",
      "dtype: int64\n"
     ]
    }
   ],
   "source": [
    "print(SuperStoreData.isna().sum())"
   ]
  },
  {
   "cell_type": "markdown",
   "id": "847c07d1",
   "metadata": {},
   "source": [
    "Visualisations"
   ]
  },
  {
   "cell_type": "code",
   "execution_count": 23,
   "id": "0b738dd9",
   "metadata": {},
   "outputs": [
    {
     "data": {
      "image/png": "[encoded data removed]",
      "text/plain": [
       "<Figure size 1000x600 with 1 Axes>"
      ]
     },
     "metadata": {},
     "output_type": "display_data"
    }
   ],
   "source": [
    "import matplotlib.pyplot as plt\n",
    "import seaborn as sns\n",
    "\n",
    "plt.figure(figsize=(10, 6))\n",
    "sns.barplot(x='category', y='sales', data=SuperStoreData, estimator=sum)\n",
    "plt.title('Ventes totales par catégorie')\n",
    "plt.show()"
   ]
  },
  {
   "cell_type": "code",
   "execution_count": 24,
   "id": "1d7d8bcb",
   "metadata": {},
   "outputs": [
    {
     "name": "stdout",
     "output_type": "stream",
     "text": [
      "              sales       profit     quantity\n",
      "count   9993.000000  9993.000000  9993.000000\n",
      "mean     229.833730    28.661048     3.789753\n",
      "std      623.283162   234.271571     2.225149\n",
      "min      -95.620000 -6599.980000     1.000000\n",
      "25%       17.250000     1.730000     2.000000\n",
      "50%       54.380000     8.670000     3.000000\n",
      "75%      209.940000    29.360000     5.000000\n",
      "max    22638.480000  8399.980000    14.000000\n"
     ]
    }
   ],
   "source": [
    "print(SuperStoreData[['sales', 'profit', 'quantity']].describe())"
   ]
  },
  {
   "cell_type": "markdown",
   "id": "b179e2fd",
   "metadata": {},
   "source": [
    "Histogramme pour sales"
   ]
  },
  {
   "cell_type": "code",
   "execution_count": 25,
   "id": "51b7917e",
   "metadata": {},
   "outputs": [
    {
     "data": {
      "image/png": "[encoded data removed]",
      "text/plain": [
       "<Figure size 1000x600 with 1 Axes>"
      ]
     },
     "metadata": {},
     "output_type": "display_data"
    }
   ],
   "source": [
    "import matplotlib.pyplot as plt\n",
    "import seaborn as sns\n",
    "\n",
    "plt.figure(figsize=(10, 6))\n",
    "sns.histplot(SuperStoreData['sales'], bins=30, kde=True)\n",
    "plt.title('Distribution des ventes (Sales)')\n",
    "plt.xlabel('Ventes')\n",
    "plt.ylabel('Fréquence')\n",
    "plt.xlim(0, SuperStoreData['sales'].quantile(0.99))  # Limiter pour zoomer sur 99% des données\n",
    "plt.show()"
   ]
  },
  {
   "cell_type": "markdown",
   "id": "cae1ed8c",
   "metadata": {},
   "source": [
    "Pourquoi ? L’histogramme montre l’asymétrie et les valeurs extrêmes. La limite à 99 % exclut les outliers pour une meilleure lisibilité."
   ]
  },
  {
   "cell_type": "code",
   "execution_count": 12,
   "id": "1a52e201",
   "metadata": {},
   "outputs": [],
   "source": [
    "#print(\"L'age moyen des clients est :\", 2022- round(SuperStoreData.describe(include = 'all').loc[\"mean\",\"birth\"]), \"ans\")"
   ]
  },
  {
   "cell_type": "markdown",
   "id": "184706d9",
   "metadata": {},
   "source": [
    "Boxplot pour profits _ Pourquoi ? Le boxplot mettra en évidence les profits négatifs et les outliers, aidant à identifier les transactions problématiques."
   ]
  },
  {
   "cell_type": "code",
   "execution_count": 26,
   "id": "9664cdef",
   "metadata": {},
   "outputs": [
    {
     "data": {
      "image/png": "[encoded data removed]",
      "text/plain": [
       "<Figure size 1000x600 with 1 Axes>"
      ]
     },
     "metadata": {},
     "output_type": "display_data"
    }
   ],
   "source": [
    "plt.figure(figsize=(10, 6))\n",
    "sns.boxplot(y=SuperStoreData['profit'])\n",
    "plt.title('Distribution des profits (Profit)')\n",
    "plt.ylabel('Profit')\n",
    "plt.show()"
   ]
  },
  {
   "cell_type": "markdown",
   "id": "e4f3155e",
   "metadata": {},
   "source": [
    "Countplot pour quantity _ Pourquoi ? Comme quantity est discrète (entiers), un countplot est plus adapté qu’un histogramme pour voir les fréquences exactes."
   ]
  },
  {
   "cell_type": "code",
   "execution_count": 27,
   "id": "74e41b90",
   "metadata": {},
   "outputs": [
    {
     "data": {
      "image/png": "[encoded data removed]",
      "text/plain": [
       "<Figure size 1000x600 with 1 Axes>"
      ]
     },
     "metadata": {},
     "output_type": "display_data"
    }
   ],
   "source": [
    "plt.figure(figsize=(10, 6))\n",
    "sns.countplot(x=SuperStoreData['quantity'])\n",
    "plt.title('Distribution des quantités (Quantity)')\n",
    "plt.xlabel('Quantité')\n",
    "plt.ylabel('Fréquence')\n",
    "plt.show()"
   ]
  },
  {
   "cell_type": "markdown",
   "id": "4079340c",
   "metadata": {},
   "source": [
    "Ventes par régions"
   ]
  },
  {
   "cell_type": "code",
   "execution_count": 28,
   "id": "a98078e6",
   "metadata": {},
   "outputs": [
    {
     "name": "stdout",
     "output_type": "stream",
     "text": [
      "region\n",
      "19143         116.78\n",
      "28052         700.70\n",
      "60623         408.74\n",
      "62521         408.74\n",
      "74133         291.96\n",
      "Central    500130.44\n",
      "East       678383.21\n",
      "South      390829.96\n",
      "West       725457.93\n",
      "Name: sales, dtype: float64\n"
     ]
    }
   ],
   "source": [
    "print(SuperStoreData.groupby('region')['sales'].sum())"
   ]
  },
  {
   "cell_type": "code",
   "execution_count": 29,
   "id": "381af4ff",
   "metadata": {},
   "outputs": [
    {
     "name": "stdout",
     "output_type": "stream",
     "text": [
      "            order_id  order_date   ship_date       ship_mode customer_id  \\\n",
      "181   CA-2014-166191  05/12/2014  09/12/2014    Second Class    DK-13150   \n",
      "430   US-2016-123750  15/04/2016  21/04/2016  Standard Class    RB-19795   \n",
      "431   US-2016-123750  15/04/2016  21/04/2016  Standard Class    RB-19795   \n",
      "1410  US-2014-118486  06/04/2014  08/04/2014     First Class    SD-20485   \n",
      "1973  CA-2017-117485  23/09/2017  29/09/2017  Standard Class    BD-11320   \n",
      "1975  CA-2017-140242  06/05/2017  11/05/2017  Standard Class    ML-17755   \n",
      "\n",
      "             sales_rep         location_id       product_id   sales  quantity  \\\n",
      "181       Steve Pepple       62521,Decatur  TEC-AC-10004659  408.74         7   \n",
      "430            Organic      28052,Gastonia  TEC-AC-10004659  408.74         7   \n",
      "431            Organic      28052,Gastonia  TEC-AC-10004659  291.96         5   \n",
      "1410           Anne Wu  19143,Philadelphia  TEC-AC-10004659  116.78         2   \n",
      "1973           Organic         74133,Tulsa  TEC-AC-10004659  291.96         4   \n",
      "1975  Abigail Thompson       60623,Chicago  TEC-AC-10004659  408.74         7   \n",
      "\n",
      "      ...      segment                                       product_name  \\\n",
      "181   ...    Corporate  ImationSecure+ Hardware Encrypted USB 2.0Flash...   \n",
      "430   ...  Home Office  ImationSecure+ Hardware Encrypted USB 2.0Flash...   \n",
      "431   ...  Home Office  ImationSecure+ Hardware Encrypted USB 2.0Flash...   \n",
      "1410  ...  Home Office  ImationSecure+ Hardware Encrypted USB 2.0Flash...   \n",
      "1973  ...     Consumer  ImationSecure+ Hardware Encrypted USB 2.0Flash...   \n",
      "1975  ...  Home Office  ImationSecure+ Hardware Encrypted USB 2.0Flash...   \n",
      "\n",
      "     category sub_category   sales_team sales_team_manager           city  \\\n",
      "181      16GB   Technology  Accessories              Bravo    Tracy Banks   \n",
      "430      16GB   Technology  Accessories            Organic        Organic   \n",
      "431      16GB   Technology  Accessories            Organic        Organic   \n",
      "1410     16GB   Technology  Accessories              Delta  Britanny Bold   \n",
      "1973     16GB   Technology  Accessories            Organic        Organic   \n",
      "1975     16GB   Technology  Accessories              Bravo    Tracy Banks   \n",
      "\n",
      "             state     postal_code region  \n",
      "181        Decatur        Illinois  62521  \n",
      "430       Gastonia  North Carolina  28052  \n",
      "431       Gastonia  North Carolina  28052  \n",
      "1410  Philadelphia    Pennsylvania  19143  \n",
      "1973         Tulsa        Oklahoma  74133  \n",
      "1975       Chicago        Illinois  60623  \n",
      "\n",
      "[6 rows x 23 columns]\n"
     ]
    }
   ],
   "source": [
    "# ces régions \"numériques\"\n",
    "print(SuperStoreData[SuperStoreData['region'].isin(['19143', '28052', '60623', '62521', '74133'])])"
   ]
  },
  {
   "cell_type": "code",
   "execution_count": 30,
   "id": "b5556df7",
   "metadata": {},
   "outputs": [],
   "source": [
    "# Réassigner les régions en fonction des codes postaux et villes\n",
    "region_mapping = {\n",
    "    '19143': 'East',    # Philadelphia, PA\n",
    "    '28052': 'South',   # Gastonia, NC\n",
    "    '60623': 'Central', # Chicago, IL\n",
    "    '62521': 'Central', # Decatur, IL\n",
    "    '74133': 'South'    # Tulsa, OK\n",
    "}\n",
    "\n",
    "SuperStoreData['region'] = SuperStoreData['region'].replace(region_mapping)"
   ]
  },
  {
   "cell_type": "code",
   "execution_count": 31,
   "id": "220d57d6",
   "metadata": {},
   "outputs": [
    {
     "name": "stdout",
     "output_type": "stream",
     "text": [
      "region\n",
      "West       3203\n",
      "East       2847\n",
      "Central    2322\n",
      "South      1621\n",
      "Name: count, dtype: int64\n"
     ]
    }
   ],
   "source": [
    "# Vérifier que les corrections sont appliquées\n",
    "print(SuperStoreData['region'].value_counts())"
   ]
  },
  {
   "cell_type": "code",
   "execution_count": 32,
   "id": "58f896c6",
   "metadata": {},
   "outputs": [
    {
     "name": "stdout",
     "output_type": "stream",
     "text": [
      "region\n",
      "Central    500947.92\n",
      "East       678499.99\n",
      "South      391822.62\n",
      "West       725457.93\n",
      "Name: sales, dtype: float64\n"
     ]
    }
   ],
   "source": [
    "print(SuperStoreData.groupby('region')['sales'].sum())"
   ]
  },
  {
   "cell_type": "code",
   "execution_count": 33,
   "id": "3694973d",
   "metadata": {},
   "outputs": [
    {
     "name": "stderr",
     "output_type": "stream",
     "text": [
      "C:\\Users\\Administrateur\\AppData\\Local\\Temp\\ipykernel_1208\\1578590837.py:14: FutureWarning: \n",
      "\n",
      "Passing `palette` without assigning `hue` is deprecated and will be removed in v0.14.0. Assign the `x` variable to `hue` and set `legend=False` for the same effect.\n",
      "\n",
      "  sns.barplot(x='region', y='sales', data=df_sales, palette=['#1f77b4', '#ff7f0e', '#2ca02c', '#d62728'])\n"
     ]
    },
    {
     "data": {
      "image/png": "[encoded data removed]",
      "text/plain": [
       "<Figure size 1000x600 with 1 Axes>"
      ]
     },
     "metadata": {},
     "output_type": "display_data"
    }
   ],
   "source": [
    "import matplotlib.pyplot as plt\n",
    "import seaborn as sns\n",
    "import pandas as pd\n",
    "\n",
    "# Données des ventes par région (basées sur votre output)\n",
    "data = {\n",
    "    'region': ['Central', 'East', 'South', 'West'],\n",
    "    'sales': [500947.92, 678499.99, 391822.62, 725457.93]\n",
    "}\n",
    "df_sales = pd.DataFrame(data)\n",
    "\n",
    "# Création du graphique en barres\n",
    "plt.figure(figsize=(10, 6))\n",
    "sns.barplot(x='region', y='sales', data=df_sales, palette=['#1f77b4', '#ff7f0e', '#2ca02c', '#d62728'])\n",
    "plt.title('Ventes totales par région (après correction)')\n",
    "plt.xlabel('Région')\n",
    "plt.ylabel('Ventes totales')\n",
    "plt.show()"
   ]
  },
  {
   "cell_type": "code",
   "execution_count": 34,
   "id": "36307227",
   "metadata": {},
   "outputs": [
    {
     "name": "stderr",
     "output_type": "stream",
     "text": [
      "C:\\Users\\Administrateur\\AppData\\Local\\Temp\\ipykernel_1208\\2476967378.py:5: FutureWarning: \n",
      "\n",
      "Passing `palette` without assigning `hue` is deprecated and will be removed in v0.14.0. Assign the `x` variable to `hue` and set `legend=False` for the same effect.\n",
      "\n",
      "  sns.barplot(x='region', y='sales', data=SuperStoreData, estimator=sum, palette=['#1f77b4', '#ff7f0e', '#2ca02c', '#d62728'])\n"
     ]
    },
    {
     "data": {
      "image/png": "[encoded data removed]",
      "text/plain": [
       "<Figure size 1000x600 with 1 Axes>"
      ]
     },
     "metadata": {},
     "output_type": "display_data"
    }
   ],
   "source": [
    "import matplotlib.pyplot as plt\n",
    "import seaborn as sns\n",
    "\n",
    "plt.figure(figsize=(10, 6))\n",
    "sns.barplot(x='region', y='sales', data=SuperStoreData, estimator=sum, palette=['#1f77b4', '#ff7f0e', '#2ca02c', '#d62728'])\n",
    "plt.title('Ventes totales par région (après correction)')\n",
    "plt.xlabel('Région')\n",
    "plt.ylabel('Ventes totales')\n",
    "plt.show()"
   ]
  },
  {
   "cell_type": "markdown",
   "id": "c5c823e3",
   "metadata": {},
   "source": [
    "Corrélation entre sales et profit"
   ]
  },
  {
   "cell_type": "code",
   "execution_count": 35,
   "id": "62f40330",
   "metadata": {},
   "outputs": [
    {
     "data": {
      "image/png": "[encoded data removed]",
      "text/plain": [
       "<Figure size 1000x600 with 1 Axes>"
      ]
     },
     "metadata": {},
     "output_type": "display_data"
    }
   ],
   "source": [
    "plt.figure(figsize=(10, 6))\n",
    "sns.scatterplot(x='sales', y='profit', data=SuperStoreData, hue='category')\n",
    "plt.title('Relation entre Ventes et Profit par Catégorie')\n",
    "plt.xlabel('Ventes')\n",
    "plt.ylabel('Profit')\n",
    "plt.show()"
   ]
  },
  {
   "cell_type": "markdown",
   "id": "8d52f96e",
   "metadata": {},
   "source": [
    "Vérifiez les outliers : Les valeurs extrêmes dans sales (22 638.48) et profit (-6599.98, 8399.98) méritent une investigation"
   ]
  },
  {
   "cell_type": "code",
   "execution_count": 36,
   "id": "b8706e71",
   "metadata": {},
   "outputs": [
    {
     "name": "stdout",
     "output_type": "stream",
     "text": [
      "            order_id  order_date   ship_date       ship_mode customer_id  \\\n",
      "27    US-2015-150630  17/09/2015  21/09/2015  Standard Class    TB-21521   \n",
      "165   CA-2014-139892  08/09/2014  12/09/2014  Standard Class    BM-11140   \n",
      "251   CA-2016-145625  11/09/2016  17/09/2016  Standard Class    KC-16540   \n",
      "262   US-2014-106992  19/09/2014  21/09/2014    Second Class    SB-20290   \n",
      "263   US-2014-106992  19/09/2014  21/09/2014    Second Class    SB-20290   \n",
      "...              ...         ...         ...             ...         ...   \n",
      "9649  CA-2016-107104  26/11/2016  30/11/2016  Standard Class    MS-17365   \n",
      "9660  CA-2016-160717  06/06/2016  11/06/2016  Standard Class    ME-17320   \n",
      "9741  CA-2015-117086  08/11/2015  12/11/2015  Standard Class    QJ-19255   \n",
      "9857  CA-2015-164301  26/03/2015  30/03/2015  Standard Class    EB-13840   \n",
      "9929  CA-2016-129630  04/09/2016  04/09/2016        Same Day    IM-15055   \n",
      "\n",
      "              sales_rep          location_id       product_id    sales  \\\n",
      "27              Organic   19140,Philadelphia  FUR-BO-10004834  3083.43   \n",
      "165             Organic    78207,San Antonio  TEC-MA-10000822  8159.95   \n",
      "251             Organic      92037,San Diego  TEC-AC-10003832  3347.37   \n",
      "262        Steve Pepple        77036,Houston  TEC-MA-10000822  3059.98   \n",
      "263    Abigail Thompson        77036,Houston  TEC-MA-10003353  2519.96   \n",
      "...                 ...                  ...              ...      ...   \n",
      "9649            Organic    90045,Los Angeles  FUR-BO-10002213  3406.66   \n",
      "9660       Stella Given  93101,Santa Barbara  TEC-PH-10001459  3023.93   \n",
      "9741  Thompson Crawford     05408,Burlington  FUR-BO-10004834  4404.90   \n",
      "9857       Mary Gerrard        98103,Seattle  FUR-TA-10001889  3393.68   \n",
      "9929            Organic  94122,San Francisco  TEC-CO-10003763  2799.96   \n",
      "\n",
      "      quantity  ...      segment  \\\n",
      "27           7  ...     Consumer   \n",
      "165          8  ...     Consumer   \n",
      "251         13  ...     Consumer   \n",
      "262          3  ...    Corporate   \n",
      "263          7  ...    Corporate   \n",
      "...        ...  ...          ...   \n",
      "9649         8  ...     Consumer   \n",
      "9660         9  ...  Home Office   \n",
      "9741         5  ...    Corporate   \n",
      "9857         8  ...    Corporate   \n",
      "9929         5  ...     Consumer   \n",
      "\n",
      "                                           product_name    category  \\\n",
      "27    Riverside Palais Royal Lawyers Bookcase, Royal...   Furniture   \n",
      "165           Lexmark MX611dhe Monochrome Laser Printer  Technology   \n",
      "251     Imation16GB Mini TravelDrive USB 2.0Flash Drive  Technology   \n",
      "262           Lexmark MX611dhe Monochrome Laser Printer  Technology   \n",
      "263   Xerox WorkCentre 6505DN Laser Multifunction Pr...  Technology   \n",
      "...                                                 ...         ...   \n",
      "9649              DMI Eclipse Executive Suite Bookcases   Furniture   \n",
      "9660                            Samsung Galaxy Mega 6.3  Technology   \n",
      "9741  Riverside Palais Royal Lawyers Bookcase, Royal...   Furniture   \n",
      "9857  Bush Advantage Collection Racetrack Conference...   Furniture   \n",
      "9929                 Canon PC1060 Personal Laser Copier  Technology   \n",
      "\n",
      "     sub_category sales_team sales_team_manager           city         state  \\\n",
      "27      Bookcases    Organic            Organic   Philadelphia  Pennsylvania   \n",
      "165      Machines    Organic            Organic    San Antonio         Texas   \n",
      "251   Accessories    Organic            Organic      San Diego    California   \n",
      "262      Machines      Bravo        Tracy Banks        Houston         Texas   \n",
      "263      Machines      Bravo        Tracy Banks        Houston         Texas   \n",
      "...           ...        ...                ...            ...           ...   \n",
      "9649    Bookcases    Organic            Organic    Los Angeles    California   \n",
      "9660       Phones    Charlie    Alisha Cordwell  Santa Barbara    California   \n",
      "9741    Bookcases       Alfa     James Goodwill     Burlington       Vermont   \n",
      "9857       Tables      Delta      Britanny Bold        Seattle    Washington   \n",
      "9929      Copiers    Organic            Organic  San Francisco    California   \n",
      "\n",
      "     postal_code   region  \n",
      "27         19140     East  \n",
      "165        78207  Central  \n",
      "251        92037     West  \n",
      "262        77036  Central  \n",
      "263        77036  Central  \n",
      "...          ...      ...  \n",
      "9649       90045     West  \n",
      "9660       93101     West  \n",
      "9741        5408     East  \n",
      "9857       98103     West  \n",
      "9929       94122     West  \n",
      "\n",
      "[100 rows x 23 columns]\n"
     ]
    }
   ],
   "source": [
    "print(SuperStoreData[SuperStoreData['sales'] > SuperStoreData['sales'].quantile(0.99)])"
   ]
  },
  {
   "cell_type": "code",
   "execution_count": 37,
   "id": "01618030",
   "metadata": {},
   "outputs": [
    {
     "name": "stdout",
     "output_type": "stream",
     "text": [
      "            order_id  order_date   ship_date       ship_mode customer_id  \\\n",
      "27    US-2015-150630  17/09/2015  21/09/2015  Standard Class    TB-21521   \n",
      "149   CA-2016-114489  05/12/2016  09/12/2016  Standard Class    JE-16165   \n",
      "165   CA-2014-139892  08/09/2014  12/09/2014  Standard Class    BM-11140   \n",
      "215   CA-2015-146262  02/01/2015  09/01/2015  Standard Class    VW-21775   \n",
      "251   CA-2016-145625  11/09/2016  17/09/2016  Standard Class    KC-16540   \n",
      "...              ...         ...         ...             ...         ...   \n",
      "9741  CA-2015-117086  08/11/2015  12/11/2015  Standard Class    QJ-19255   \n",
      "9774  CA-2014-169019  26/07/2014  30/07/2014  Standard Class    LF-17185   \n",
      "9857  CA-2015-164301  26/03/2015  30/03/2015  Standard Class    EB-13840   \n",
      "9929  CA-2016-129630  04/09/2016  04/09/2016        Same Day    IM-15055   \n",
      "9948  CA-2017-121559  01/06/2017  03/06/2017    Second Class    HW-14935   \n",
      "\n",
      "              sales_rep          location_id       product_id    sales  \\\n",
      "27              Organic   19140,Philadelphia  FUR-BO-10004834  3083.43   \n",
      "149            Alan Ray       53132,Franklin  FUR-CH-10000454  1951.84   \n",
      "165             Organic    78207,San Antonio  TEC-MA-10000822  8159.95   \n",
      "215    Abigail Thompson         44256,Medina  TEC-MA-10000864  1188.00   \n",
      "251             Organic      92037,San Diego  TEC-AC-10003832  3347.37   \n",
      "...                 ...                  ...              ...      ...   \n",
      "9741  Thompson Crawford     05408,Burlington  FUR-BO-10004834  4404.90   \n",
      "9774            Organic    78207,San Antonio  OFF-BI-10004995  2177.58   \n",
      "9857       Mary Gerrard        98103,Seattle  FUR-TA-10001889  3393.68   \n",
      "9929            Organic  94122,San Francisco  TEC-CO-10003763  2799.96   \n",
      "9948   Abigail Thompson   46203,Indianapolis  OFF-AP-10002945  2405.20   \n",
      "\n",
      "      quantity  ...    segment  \\\n",
      "27           7  ...   Consumer   \n",
      "149          8  ...  Corporate   \n",
      "165          8  ...   Consumer   \n",
      "215          9  ...  Corporate   \n",
      "251         13  ...   Consumer   \n",
      "...        ...  ...        ...   \n",
      "9741         5  ...  Corporate   \n",
      "9774         8  ...   Consumer   \n",
      "9857         8  ...  Corporate   \n",
      "9929         5  ...   Consumer   \n",
      "9948         8  ...  Corporate   \n",
      "\n",
      "                                           product_name         category  \\\n",
      "27    Riverside Palais Royal Lawyers Bookcase, Royal...        Furniture   \n",
      "149   Hon Deluxe Fabric Upholstered Stacking Chairs,...        Furniture   \n",
      "165           Lexmark MX611dhe Monochrome Laser Printer       Technology   \n",
      "215                  Cisco 9971 IP Video Phone Charcoal       Technology   \n",
      "251     Imation16GB Mini TravelDrive USB 2.0Flash Drive       Technology   \n",
      "...                                                 ...              ...   \n",
      "9741  Riverside Palais Royal Lawyers Bookcase, Royal...        Furniture   \n",
      "9774          GBC DocuBind P400 Electric Binding System  Office Supplies   \n",
      "9857  Bush Advantage Collection Racetrack Conference...        Furniture   \n",
      "9929                 Canon PC1060 Personal Laser Copier       Technology   \n",
      "9948  Honeywell Enviracaire Portable HEPA Air Cleane...  Office Supplies   \n",
      "\n",
      "     sub_category sales_team sales_team_manager           city         state  \\\n",
      "27      Bookcases    Organic            Organic   Philadelphia  Pennsylvania   \n",
      "149        Chairs       Alfa     James Goodwill       Franklin     Wisconsin   \n",
      "165      Machines    Organic            Organic    San Antonio         Texas   \n",
      "215      Machines      Bravo        Tracy Banks         Medina          Ohio   \n",
      "251   Accessories    Organic            Organic      San Diego    California   \n",
      "...           ...        ...                ...            ...           ...   \n",
      "9741    Bookcases       Alfa     James Goodwill     Burlington       Vermont   \n",
      "9774      Binders    Organic            Organic    San Antonio         Texas   \n",
      "9857       Tables      Delta      Britanny Bold        Seattle    Washington   \n",
      "9929      Copiers    Organic            Organic  San Francisco    California   \n",
      "9948   Appliances      Bravo        Tracy Banks   Indianapolis       Indiana   \n",
      "\n",
      "     postal_code   region  \n",
      "27         19140     East  \n",
      "149        53132  Central  \n",
      "165        78207  Central  \n",
      "215        44256     East  \n",
      "251        92037     West  \n",
      "...          ...      ...  \n",
      "9741        5408     East  \n",
      "9774       78207  Central  \n",
      "9857       98103     West  \n",
      "9929       94122     West  \n",
      "9948       46203  Central  \n",
      "\n",
      "[141 rows x 23 columns]\n"
     ]
    }
   ],
   "source": [
    "print(SuperStoreData[SuperStoreData['profit'].abs() > SuperStoreData['profit'].quantile(0.99)])"
   ]
  },
  {
   "cell_type": "markdown",
   "id": "60e3a91f",
   "metadata": {},
   "source": [
    "Sales par category"
   ]
  },
  {
   "cell_type": "code",
   "execution_count": 38,
   "id": "4afef6fd",
   "metadata": {},
   "outputs": [
    {
     "name": "stdout",
     "output_type": "stream",
     "text": [
      "category\n",
      " 16GB                1926.92\n",
      "Furniture          741718.61\n",
      "Office Supplies    718855.75\n",
      "Technology         834227.18\n",
      "Name: sales, dtype: float64\n"
     ]
    }
   ],
   "source": [
    "print(SuperStoreData.groupby('category')['sales'].sum())"
   ]
  },
  {
   "cell_type": "markdown",
   "id": "8185f7f2",
   "metadata": {},
   "source": [
    "Vérifier l’anomalie 16GB"
   ]
  },
  {
   "cell_type": "code",
   "execution_count": 39,
   "id": "50f8fb41",
   "metadata": {},
   "outputs": [
    {
     "name": "stdout",
     "output_type": "stream",
     "text": [
      "Empty DataFrame\n",
      "Columns: [order_id, order_date, ship_date, ship_mode, customer_id, sales_rep, location_id, product_id, sales, quantity, discount, profit, customer_name, segment, product_name, category, sub_category, sales_team, sales_team_manager, city, state, postal_code, region]\n",
      "Index: []\n",
      "\n",
      "[0 rows x 23 columns]\n"
     ]
    }
   ],
   "source": [
    "print(SuperStoreData[SuperStoreData['category'] == '16GB'])"
   ]
  },
  {
   "cell_type": "code",
   "execution_count": 40,
   "id": "fee853e3",
   "metadata": {},
   "outputs": [
    {
     "name": "stdout",
     "output_type": "stream",
     "text": [
      "category\n",
      " 16GB                1926.92\n",
      "Furniture          741718.61\n",
      "Office Supplies    718855.75\n",
      "Technology         834227.18\n",
      "Name: sales, dtype: float64\n"
     ]
    }
   ],
   "source": [
    "print(SuperStoreData.groupby('category')['sales'].sum())"
   ]
  },
  {
   "cell_type": "code",
   "execution_count": 41,
   "id": "1b00e3bd",
   "metadata": {},
   "outputs": [
    {
     "name": "stdout",
     "output_type": "stream",
     "text": [
      "['Furniture' 'Office Supplies' 'Technology' ' 16GB']\n"
     ]
    }
   ],
   "source": [
    "print(SuperStoreData['category'].unique())"
   ]
  },
  {
   "cell_type": "code",
   "execution_count": 42,
   "id": "c707cb19",
   "metadata": {},
   "outputs": [
    {
     "name": "stdout",
     "output_type": "stream",
     "text": [
      "Empty DataFrame\n",
      "Columns: [order_id, order_date, ship_date, ship_mode, customer_id, sales_rep, location_id, product_id, sales, quantity, discount, profit, customer_name, segment, product_name, category, sub_category, sales_team, sales_team_manager, city, state, postal_code, region]\n",
      "Index: []\n",
      "\n",
      "[0 rows x 23 columns]\n"
     ]
    }
   ],
   "source": [
    "print(SuperStoreData[SuperStoreData['category'] == '16GB'])"
   ]
  },
  {
   "cell_type": "code",
   "execution_count": 43,
   "id": "15275611",
   "metadata": {},
   "outputs": [
    {
     "name": "stdout",
     "output_type": "stream",
     "text": [
      "['Furniture' 'Office Supplies' 'Technology']\n",
      "category\n",
      "Furniture          741718.61\n",
      "Office Supplies    718855.75\n",
      "Technology         836154.10\n",
      "Name: sales, dtype: float64\n"
     ]
    }
   ],
   "source": [
    "# Remplacer ' 16GB' (avec espace) par 'Technology'\n",
    "SuperStoreData['category'] = SuperStoreData['category'].replace(' 16GB', 'Technology')\n",
    "\n",
    "# Vérifier les catégories après correction\n",
    "print(SuperStoreData['category'].unique())\n",
    "print(SuperStoreData.groupby('category')['sales'].sum())"
   ]
  },
  {
   "cell_type": "code",
   "execution_count": 45,
   "id": "1bec2828",
   "metadata": {},
   "outputs": [
    {
     "name": "stderr",
     "output_type": "stream",
     "text": [
      "C:\\Users\\Administrateur\\AppData\\Local\\Temp\\ipykernel_1208\\1951936203.py:9: FutureWarning: \n",
      "\n",
      "Passing `palette` without assigning `hue` is deprecated and will be removed in v0.14.0. Assign the `x` variable to `hue` and set `legend=False` for the same effect.\n",
      "\n",
      "  sns.barplot(x='category', y='sales', data=sales_by_category, palette=['#1f77b4', '#ff7f0e', '#2ca02c'])\n"
     ]
    },
    {
     "data": {
      "image/png": "[encoded data removed]",
      "text/plain": [
       "<Figure size 1000x600 with 1 Axes>"
      ]
     },
     "metadata": {},
     "output_type": "display_data"
    }
   ],
   "source": [
    "import matplotlib.pyplot as plt\n",
    "import seaborn as sns\n",
    "\n",
    "# Calcul des ventes par catégorie après correction\n",
    "sales_by_category = SuperStoreData.groupby('category')['sales'].sum().reset_index()\n",
    "\n",
    "# Création du graphique en barres\n",
    "plt.figure(figsize=(10, 6))\n",
    "sns.barplot(x='category', y='sales', data=sales_by_category, palette=['#1f77b4', '#ff7f0e', '#2ca02c'])\n",
    "plt.title('Ventes totales par catégorie (après correction)')\n",
    "plt.xlabel('Catégorie')\n",
    "plt.ylabel('Ventes totales')\n",
    "plt.show()"
   ]
  },
  {
   "cell_type": "code",
   "execution_count": 46,
   "id": "745c9c28",
   "metadata": {},
   "outputs": [
    {
     "name": "stdout",
     "output_type": "stream",
     "text": [
      "category\n",
      "Furniture           18463.31\n",
      "Office Supplies    122490.88\n",
      "Technology         145455.66\n",
      "Name: profit, dtype: float64\n"
     ]
    }
   ],
   "source": [
    "# Profits par catégorie\n",
    "print(SuperStoreData.groupby('category')['profit'].sum())"
   ]
  },
  {
   "cell_type": "code",
   "execution_count": 47,
   "id": "6ed2958f",
   "metadata": {},
   "outputs": [
    {
     "name": "stdout",
     "output_type": "stream",
     "text": [
      "            order_id  order_date   ship_date       ship_mode customer_id  \\\n",
      "27    US-2015-150630  17/09/2015  21/09/2015  Standard Class    TB-21521   \n",
      "165   CA-2014-139892  08/09/2014  12/09/2014  Standard Class    BM-11140   \n",
      "251   CA-2016-145625  11/09/2016  17/09/2016  Standard Class    KC-16540   \n",
      "262   US-2014-106992  19/09/2014  21/09/2014    Second Class    SB-20290   \n",
      "263   US-2014-106992  19/09/2014  21/09/2014    Second Class    SB-20290   \n",
      "...              ...         ...         ...             ...         ...   \n",
      "9649  CA-2016-107104  26/11/2016  30/11/2016  Standard Class    MS-17365   \n",
      "9660  CA-2016-160717  06/06/2016  11/06/2016  Standard Class    ME-17320   \n",
      "9741  CA-2015-117086  08/11/2015  12/11/2015  Standard Class    QJ-19255   \n",
      "9857  CA-2015-164301  26/03/2015  30/03/2015  Standard Class    EB-13840   \n",
      "9929  CA-2016-129630  04/09/2016  04/09/2016        Same Day    IM-15055   \n",
      "\n",
      "              sales_rep          location_id       product_id    sales  \\\n",
      "27              Organic   19140,Philadelphia  FUR-BO-10004834  3083.43   \n",
      "165             Organic    78207,San Antonio  TEC-MA-10000822  8159.95   \n",
      "251             Organic      92037,San Diego  TEC-AC-10003832  3347.37   \n",
      "262        Steve Pepple        77036,Houston  TEC-MA-10000822  3059.98   \n",
      "263    Abigail Thompson        77036,Houston  TEC-MA-10003353  2519.96   \n",
      "...                 ...                  ...              ...      ...   \n",
      "9649            Organic    90045,Los Angeles  FUR-BO-10002213  3406.66   \n",
      "9660       Stella Given  93101,Santa Barbara  TEC-PH-10001459  3023.93   \n",
      "9741  Thompson Crawford     05408,Burlington  FUR-BO-10004834  4404.90   \n",
      "9857       Mary Gerrard        98103,Seattle  FUR-TA-10001889  3393.68   \n",
      "9929            Organic  94122,San Francisco  TEC-CO-10003763  2799.96   \n",
      "\n",
      "      quantity  ...      segment  \\\n",
      "27           7  ...     Consumer   \n",
      "165          8  ...     Consumer   \n",
      "251         13  ...     Consumer   \n",
      "262          3  ...    Corporate   \n",
      "263          7  ...    Corporate   \n",
      "...        ...  ...          ...   \n",
      "9649         8  ...     Consumer   \n",
      "9660         9  ...  Home Office   \n",
      "9741         5  ...    Corporate   \n",
      "9857         8  ...    Corporate   \n",
      "9929         5  ...     Consumer   \n",
      "\n",
      "                                           product_name    category  \\\n",
      "27    Riverside Palais Royal Lawyers Bookcase, Royal...   Furniture   \n",
      "165           Lexmark MX611dhe Monochrome Laser Printer  Technology   \n",
      "251     Imation16GB Mini TravelDrive USB 2.0Flash Drive  Technology   \n",
      "262           Lexmark MX611dhe Monochrome Laser Printer  Technology   \n",
      "263   Xerox WorkCentre 6505DN Laser Multifunction Pr...  Technology   \n",
      "...                                                 ...         ...   \n",
      "9649              DMI Eclipse Executive Suite Bookcases   Furniture   \n",
      "9660                            Samsung Galaxy Mega 6.3  Technology   \n",
      "9741  Riverside Palais Royal Lawyers Bookcase, Royal...   Furniture   \n",
      "9857  Bush Advantage Collection Racetrack Conference...   Furniture   \n",
      "9929                 Canon PC1060 Personal Laser Copier  Technology   \n",
      "\n",
      "     sub_category sales_team sales_team_manager           city         state  \\\n",
      "27      Bookcases    Organic            Organic   Philadelphia  Pennsylvania   \n",
      "165      Machines    Organic            Organic    San Antonio         Texas   \n",
      "251   Accessories    Organic            Organic      San Diego    California   \n",
      "262      Machines      Bravo        Tracy Banks        Houston         Texas   \n",
      "263      Machines      Bravo        Tracy Banks        Houston         Texas   \n",
      "...           ...        ...                ...            ...           ...   \n",
      "9649    Bookcases    Organic            Organic    Los Angeles    California   \n",
      "9660       Phones    Charlie    Alisha Cordwell  Santa Barbara    California   \n",
      "9741    Bookcases       Alfa     James Goodwill     Burlington       Vermont   \n",
      "9857       Tables      Delta      Britanny Bold        Seattle    Washington   \n",
      "9929      Copiers    Organic            Organic  San Francisco    California   \n",
      "\n",
      "     postal_code   region  \n",
      "27         19140     East  \n",
      "165        78207  Central  \n",
      "251        92037     West  \n",
      "262        77036  Central  \n",
      "263        77036  Central  \n",
      "...          ...      ...  \n",
      "9649       90045     West  \n",
      "9660       93101     West  \n",
      "9741        5408     East  \n",
      "9857       98103     West  \n",
      "9929       94122     West  \n",
      "\n",
      "[100 rows x 23 columns]\n"
     ]
    }
   ],
   "source": [
    "# Outliers\n",
    "print(SuperStoreData[SuperStoreData['sales'] > SuperStoreData['sales'].quantile(0.99)])"
   ]
  },
  {
   "cell_type": "code",
   "execution_count": 48,
   "id": "6ddb5e9f",
   "metadata": {},
   "outputs": [
    {
     "data": {
      "image/png": "[encoded data removed]",
      "text/plain": [
       "<Figure size 1000x600 with 1 Axes>"
      ]
     },
     "metadata": {},
     "output_type": "display_data"
    }
   ],
   "source": [
    "# Relation sales/profit \n",
    "plt.figure(figsize=(10, 6))\n",
    "sns.scatterplot(x='sales', y='profit', data=SuperStoreData, hue='category')\n",
    "plt.title('Relation entre Ventes et Profit par Catégorie')\n",
    "plt.xlabel('Ventes')\n",
    "plt.ylabel('Profit')\n",
    "plt.show()"
   ]
  },
  {
   "cell_type": "code",
   "execution_count": 11,
   "id": "655e1894",
   "metadata": {},
   "outputs": [
    {
     "name": "stdout",
     "output_type": "stream",
     "text": [
      "La part des femmes : 1 %\n"
     ]
    }
   ],
   "source": [
    "print(\"La part des femmes :\", round(customers.describe(include = 'all').loc[\"freq\",\"sex\"] / \n",
    "      customers.describe(include = 'all').loc[\"count\",\"sex\"]), \"%\")"
   ]
  },
  {
   "cell_type": "code",
   "execution_count": 10,
   "id": "39825cfd",
   "metadata": {},
   "outputs": [
    {
     "name": "stdout",
     "output_type": "stream",
     "text": [
      "La part des femmes : 0.52 %\n"
     ]
    }
   ],
   "source": [
    "print(\"La part des femmes :\", round(customers.describe(include = 'all').loc[\"freq\",\"sex\"] / \n",
    "      customers.describe(include = 'all').loc[\"count\",\"sex\"],2), \"%\")"
   ]
  },
  {
   "cell_type": "code",
   "execution_count": 15,
   "id": "9895c806",
   "metadata": {},
   "outputs": [
    {
     "name": "stdout",
     "output_type": "stream",
     "text": [
      "Âge moyen par sexe :\n",
      "sex\n",
      "f    47.0\n",
      "m    46.0ans\n"
     ]
    }
   ],
   "source": [
    "#calculons l'age moyen par sexe \n",
    "\n",
    "# 2022 - customers.groupby(\"sex\").mean()\n",
    "\n",
    "age_moyen_par_sexe = 2025 - customers.groupby(\"sex\")[\"birth\"].mean().round()\n",
    "print(\"Âge moyen par sexe :\\n\" + age_moyen_par_sexe.to_string() + \"ans\")"
   ]
  },
  {
   "cell_type": "markdown",
   "id": "ac2e4138",
   "metadata": {},
   "source": [
    "L'âge moyen des femmes est de 44 ans et celui des hommes est de 43 ans"
   ]
  },
  {
   "cell_type": "code",
   "execution_count": 31,
   "id": "9bd30f72",
   "metadata": {},
   "outputs": [
    {
     "data": {
      "image/png": "[encoded data removed]",
      "text/plain": [
       "<Figure size 640x480 with 1 Axes>"
      ]
     },
     "metadata": {},
     "output_type": "display_data"
    }
   ],
   "source": [
    "age_moyen_par_sexe = 2025 - customers.groupby(\"sex\")[\"birth\"].mean()\n",
    "age_moyen_par_sexe.plot(kind=\"bar\", color=[\"#FF69B4\", \"#1E90FF\"])\n",
    "plt.title(\"Âge moyen par sexe en 2025\")\n",
    "plt.xlabel(\"Sexe\")\n",
    "plt.ylabel(\"Âge moyen (ans)\")\n",
    "plt.show()"
   ]
  },
  {
   "cell_type": "markdown",
   "id": "9c0bb77f",
   "metadata": {},
   "source": [
    "Le fichier customers n'a pas de valeurs nulles ni de doublons.\n"
   ]
  },
  {
   "cell_type": "markdown",
   "id": "4df0f0dd",
   "metadata": {},
   "source": [
    "### 1.1.2 - products"
   ]
  },
  {
   "cell_type": "code",
   "execution_count": 6,
   "id": "4570005d",
   "metadata": {},
   "outputs": [],
   "source": [
    "# Ouverture du fichier\n",
    "\n",
    "products = pd.read_csv('produits.csv')"
   ]
  },
  {
   "cell_type": "code",
   "execution_count": 7,
   "id": "c4bf4674",
   "metadata": {},
   "outputs": [
    {
     "name": "stdout",
     "output_type": "stream",
     "text": [
      "<class 'pandas.core.frame.DataFrame'>\n",
      "RangeIndex: 3287 entries, 0 to 3286\n",
      "Data columns (total 3 columns):\n",
      " #   Column   Non-Null Count  Dtype  \n",
      "---  ------   --------------  -----  \n",
      " 0   id_prod  3287 non-null   object \n",
      " 1   price    3287 non-null   float64\n",
      " 2   categ    3287 non-null   int64  \n",
      "dtypes: float64(1), int64(1), object(1)\n",
      "memory usage: 77.2+ KB\n"
     ]
    }
   ],
   "source": [
    "# Affichage des informations \n",
    "\n",
    "products.info()"
   ]
  },
  {
   "cell_type": "code",
   "execution_count": 27,
   "id": "a2b7eb2f",
   "metadata": {},
   "outputs": [
    {
     "data": {
      "text/html": [
       "<div>\n",
       "<style scoped>\n",
       "    .dataframe tbody tr th:only-of-type {\n",
       "        vertical-align: middle;\n",
       "    }\n",
       "\n",
       "    .dataframe tbody tr th {\n",
       "        vertical-align: top;\n",
       "    }\n",
       "\n",
       "    .dataframe thead th {\n",
       "        text-align: right;\n",
       "    }\n",
       "</style>\n",
       "<table border=\"1\" class=\"dataframe\">\n",
       "  <thead>\n",
       "    <tr style=\"text-align: right;\">\n",
       "      <th></th>\n",
       "      <th>id_prod</th>\n",
       "      <th>price</th>\n",
       "      <th>categ</th>\n",
       "    </tr>\n",
       "  </thead>\n",
       "  <tbody>\n",
       "    <tr>\n",
       "      <th>0</th>\n",
       "      <td>0_1421</td>\n",
       "      <td>19.99</td>\n",
       "      <td>0</td>\n",
       "    </tr>\n",
       "    <tr>\n",
       "      <th>1</th>\n",
       "      <td>0_1368</td>\n",
       "      <td>5.13</td>\n",
       "      <td>0</td>\n",
       "    </tr>\n",
       "    <tr>\n",
       "      <th>2</th>\n",
       "      <td>0_731</td>\n",
       "      <td>17.99</td>\n",
       "      <td>0</td>\n",
       "    </tr>\n",
       "    <tr>\n",
       "      <th>3</th>\n",
       "      <td>1_587</td>\n",
       "      <td>4.99</td>\n",
       "      <td>1</td>\n",
       "    </tr>\n",
       "    <tr>\n",
       "      <th>4</th>\n",
       "      <td>0_1507</td>\n",
       "      <td>3.99</td>\n",
       "      <td>0</td>\n",
       "    </tr>\n",
       "  </tbody>\n",
       "</table>\n",
       "</div>"
      ],
      "text/plain": [
       "  id_prod  price  categ\n",
       "0  0_1421  19.99      0\n",
       "1  0_1368   5.13      0\n",
       "2   0_731  17.99      0\n",
       "3   1_587   4.99      1\n",
       "4  0_1507   3.99      0"
      ]
     },
     "execution_count": 27,
     "metadata": {},
     "output_type": "execute_result"
    }
   ],
   "source": [
    "# Affichage des premières lignes\n",
    "\n",
    "products.head()"
   ]
  },
  {
   "cell_type": "code",
   "execution_count": 35,
   "id": "7fe24c43",
   "metadata": {},
   "outputs": [
    {
     "data": {
      "text/html": [
       "<div>\n",
       "<style scoped>\n",
       "    .dataframe tbody tr th:only-of-type {\n",
       "        vertical-align: middle;\n",
       "    }\n",
       "\n",
       "    .dataframe tbody tr th {\n",
       "        vertical-align: top;\n",
       "    }\n",
       "\n",
       "    .dataframe thead th {\n",
       "        text-align: right;\n",
       "    }\n",
       "</style>\n",
       "<table border=\"1\" class=\"dataframe\">\n",
       "  <thead>\n",
       "    <tr style=\"text-align: right;\">\n",
       "      <th></th>\n",
       "      <th>id_prod</th>\n",
       "      <th>price</th>\n",
       "      <th>categ</th>\n",
       "    </tr>\n",
       "  </thead>\n",
       "  <tbody>\n",
       "    <tr>\n",
       "      <th>0</th>\n",
       "      <td>False</td>\n",
       "      <td>False</td>\n",
       "      <td>False</td>\n",
       "    </tr>\n",
       "    <tr>\n",
       "      <th>1</th>\n",
       "      <td>False</td>\n",
       "      <td>False</td>\n",
       "      <td>False</td>\n",
       "    </tr>\n",
       "    <tr>\n",
       "      <th>2</th>\n",
       "      <td>False</td>\n",
       "      <td>False</td>\n",
       "      <td>False</td>\n",
       "    </tr>\n",
       "    <tr>\n",
       "      <th>3</th>\n",
       "      <td>False</td>\n",
       "      <td>False</td>\n",
       "      <td>False</td>\n",
       "    </tr>\n",
       "    <tr>\n",
       "      <th>4</th>\n",
       "      <td>False</td>\n",
       "      <td>False</td>\n",
       "      <td>False</td>\n",
       "    </tr>\n",
       "    <tr>\n",
       "      <th>...</th>\n",
       "      <td>...</td>\n",
       "      <td>...</td>\n",
       "      <td>...</td>\n",
       "    </tr>\n",
       "    <tr>\n",
       "      <th>3282</th>\n",
       "      <td>False</td>\n",
       "      <td>False</td>\n",
       "      <td>False</td>\n",
       "    </tr>\n",
       "    <tr>\n",
       "      <th>3283</th>\n",
       "      <td>False</td>\n",
       "      <td>False</td>\n",
       "      <td>False</td>\n",
       "    </tr>\n",
       "    <tr>\n",
       "      <th>3284</th>\n",
       "      <td>False</td>\n",
       "      <td>False</td>\n",
       "      <td>False</td>\n",
       "    </tr>\n",
       "    <tr>\n",
       "      <th>3285</th>\n",
       "      <td>False</td>\n",
       "      <td>False</td>\n",
       "      <td>False</td>\n",
       "    </tr>\n",
       "    <tr>\n",
       "      <th>3286</th>\n",
       "      <td>False</td>\n",
       "      <td>False</td>\n",
       "      <td>False</td>\n",
       "    </tr>\n",
       "  </tbody>\n",
       "</table>\n",
       "<p>3287 rows × 3 columns</p>\n",
       "</div>"
      ],
      "text/plain": [
       "      id_prod  price  categ\n",
       "0       False  False  False\n",
       "1       False  False  False\n",
       "2       False  False  False\n",
       "3       False  False  False\n",
       "4       False  False  False\n",
       "...       ...    ...    ...\n",
       "3282    False  False  False\n",
       "3283    False  False  False\n",
       "3284    False  False  False\n",
       "3285    False  False  False\n",
       "3286    False  False  False\n",
       "\n",
       "[3287 rows x 3 columns]"
      ]
     },
     "execution_count": 35,
     "metadata": {},
     "output_type": "execute_result"
    }
   ],
   "source": [
    "# valeurs manquantes en boolean\n",
    "products.isna()"
   ]
  },
  {
   "cell_type": "code",
   "execution_count": 32,
   "id": "d2cacfe2",
   "metadata": {},
   "outputs": [
    {
     "data": {
      "text/plain": [
       "id_prod    0.0\n",
       "price      0.0\n",
       "categ      0.0\n",
       "dtype: float64"
      ]
     },
     "execution_count": 32,
     "metadata": {},
     "output_type": "execute_result"
    }
   ],
   "source": [
    "# valeurs manquantes en moyenne\n",
    "products.isna().mean()\n"
   ]
  },
  {
   "cell_type": "code",
   "execution_count": 33,
   "id": "961fb5da",
   "metadata": {},
   "outputs": [
    {
     "data": {
      "text/plain": [
       "id_prod    0\n",
       "price      0\n",
       "categ      0\n",
       "dtype: int64"
      ]
     },
     "execution_count": 33,
     "metadata": {},
     "output_type": "execute_result"
    }
   ],
   "source": [
    "# valeurs manquantes en somme\n",
    "products.isna().sum()"
   ]
  },
  {
   "cell_type": "code",
   "execution_count": 36,
   "id": "ae9ab541",
   "metadata": {},
   "outputs": [
    {
     "data": {
      "text/plain": [
       "0       False\n",
       "1       False\n",
       "2       False\n",
       "3       False\n",
       "4       False\n",
       "        ...  \n",
       "3282    False\n",
       "3283    False\n",
       "3284    False\n",
       "3285    False\n",
       "3286    False\n",
       "Length: 3287, dtype: bool"
      ]
     },
     "execution_count": 36,
     "metadata": {},
     "output_type": "execute_result"
    }
   ],
   "source": [
    "# Doublons en boolean\n",
    "products.duplicated()"
   ]
  },
  {
   "cell_type": "code",
   "execution_count": 37,
   "id": "effe60a8",
   "metadata": {},
   "outputs": [
    {
     "data": {
      "text/plain": [
       "np.int64(0)"
      ]
     },
     "execution_count": 37,
     "metadata": {},
     "output_type": "execute_result"
    }
   ],
   "source": [
    "#Doublon\n",
    "products.duplicated().sum()\n"
   ]
  },
  {
   "cell_type": "code",
   "execution_count": 38,
   "id": "6bbcf49b",
   "metadata": {},
   "outputs": [
    {
     "data": {
      "text/html": [
       "<div>\n",
       "<style scoped>\n",
       "    .dataframe tbody tr th:only-of-type {\n",
       "        vertical-align: middle;\n",
       "    }\n",
       "\n",
       "    .dataframe tbody tr th {\n",
       "        vertical-align: top;\n",
       "    }\n",
       "\n",
       "    .dataframe thead th {\n",
       "        text-align: right;\n",
       "    }\n",
       "</style>\n",
       "<table border=\"1\" class=\"dataframe\">\n",
       "  <thead>\n",
       "    <tr style=\"text-align: right;\">\n",
       "      <th></th>\n",
       "      <th>id_prod</th>\n",
       "      <th>price</th>\n",
       "      <th>categ</th>\n",
       "    </tr>\n",
       "  </thead>\n",
       "  <tbody>\n",
       "    <tr>\n",
       "      <th>count</th>\n",
       "      <td>3287</td>\n",
       "      <td>3287.000000</td>\n",
       "      <td>3287.000000</td>\n",
       "    </tr>\n",
       "    <tr>\n",
       "      <th>unique</th>\n",
       "      <td>3287</td>\n",
       "      <td>NaN</td>\n",
       "      <td>NaN</td>\n",
       "    </tr>\n",
       "    <tr>\n",
       "      <th>top</th>\n",
       "      <td>0_1920</td>\n",
       "      <td>NaN</td>\n",
       "      <td>NaN</td>\n",
       "    </tr>\n",
       "    <tr>\n",
       "      <th>freq</th>\n",
       "      <td>1</td>\n",
       "      <td>NaN</td>\n",
       "      <td>NaN</td>\n",
       "    </tr>\n",
       "    <tr>\n",
       "      <th>mean</th>\n",
       "      <td>NaN</td>\n",
       "      <td>21.856641</td>\n",
       "      <td>0.370246</td>\n",
       "    </tr>\n",
       "    <tr>\n",
       "      <th>std</th>\n",
       "      <td>NaN</td>\n",
       "      <td>29.847908</td>\n",
       "      <td>0.615387</td>\n",
       "    </tr>\n",
       "    <tr>\n",
       "      <th>min</th>\n",
       "      <td>NaN</td>\n",
       "      <td>-1.000000</td>\n",
       "      <td>0.000000</td>\n",
       "    </tr>\n",
       "    <tr>\n",
       "      <th>25%</th>\n",
       "      <td>NaN</td>\n",
       "      <td>6.990000</td>\n",
       "      <td>0.000000</td>\n",
       "    </tr>\n",
       "    <tr>\n",
       "      <th>50%</th>\n",
       "      <td>NaN</td>\n",
       "      <td>13.060000</td>\n",
       "      <td>0.000000</td>\n",
       "    </tr>\n",
       "    <tr>\n",
       "      <th>75%</th>\n",
       "      <td>NaN</td>\n",
       "      <td>22.990000</td>\n",
       "      <td>1.000000</td>\n",
       "    </tr>\n",
       "    <tr>\n",
       "      <th>max</th>\n",
       "      <td>NaN</td>\n",
       "      <td>300.000000</td>\n",
       "      <td>2.000000</td>\n",
       "    </tr>\n",
       "  </tbody>\n",
       "</table>\n",
       "</div>"
      ],
      "text/plain": [
       "       id_prod        price        categ\n",
       "count     3287  3287.000000  3287.000000\n",
       "unique    3287          NaN          NaN\n",
       "top     0_1920          NaN          NaN\n",
       "freq         1          NaN          NaN\n",
       "mean       NaN    21.856641     0.370246\n",
       "std        NaN    29.847908     0.615387\n",
       "min        NaN    -1.000000     0.000000\n",
       "25%        NaN     6.990000     0.000000\n",
       "50%        NaN    13.060000     0.000000\n",
       "75%        NaN    22.990000     1.000000\n",
       "max        NaN   300.000000     2.000000"
      ]
     },
     "execution_count": 38,
     "metadata": {},
     "output_type": "execute_result"
    }
   ],
   "source": [
    "# Stats du dataframe\n",
    "products.describe(include = 'all')\n",
    "\n"
   ]
  },
  {
   "cell_type": "code",
   "execution_count": 18,
   "id": "73358b56",
   "metadata": {},
   "outputs": [
    {
     "data": {
      "text/html": [
       "<div>\n",
       "<style scoped>\n",
       "    .dataframe tbody tr th:only-of-type {\n",
       "        vertical-align: middle;\n",
       "    }\n",
       "\n",
       "    .dataframe tbody tr th {\n",
       "        vertical-align: top;\n",
       "    }\n",
       "\n",
       "    .dataframe thead th {\n",
       "        text-align: right;\n",
       "    }\n",
       "</style>\n",
       "<table border=\"1\" class=\"dataframe\">\n",
       "  <thead>\n",
       "    <tr style=\"text-align: right;\">\n",
       "      <th></th>\n",
       "      <th>id_prod</th>\n",
       "      <th>price</th>\n",
       "      <th>categ</th>\n",
       "    </tr>\n",
       "  </thead>\n",
       "  <tbody>\n",
       "    <tr>\n",
       "      <th>0</th>\n",
       "      <td>0_1421</td>\n",
       "      <td>19.99</td>\n",
       "      <td>0</td>\n",
       "    </tr>\n",
       "    <tr>\n",
       "      <th>1</th>\n",
       "      <td>0_1368</td>\n",
       "      <td>5.13</td>\n",
       "      <td>0</td>\n",
       "    </tr>\n",
       "    <tr>\n",
       "      <th>2</th>\n",
       "      <td>0_731</td>\n",
       "      <td>17.99</td>\n",
       "      <td>0</td>\n",
       "    </tr>\n",
       "    <tr>\n",
       "      <th>3</th>\n",
       "      <td>1_587</td>\n",
       "      <td>4.99</td>\n",
       "      <td>1</td>\n",
       "    </tr>\n",
       "    <tr>\n",
       "      <th>4</th>\n",
       "      <td>0_1507</td>\n",
       "      <td>3.99</td>\n",
       "      <td>0</td>\n",
       "    </tr>\n",
       "    <tr>\n",
       "      <th>...</th>\n",
       "      <td>...</td>\n",
       "      <td>...</td>\n",
       "      <td>...</td>\n",
       "    </tr>\n",
       "    <tr>\n",
       "      <th>3282</th>\n",
       "      <td>2_23</td>\n",
       "      <td>115.99</td>\n",
       "      <td>2</td>\n",
       "    </tr>\n",
       "    <tr>\n",
       "      <th>3283</th>\n",
       "      <td>0_146</td>\n",
       "      <td>17.14</td>\n",
       "      <td>0</td>\n",
       "    </tr>\n",
       "    <tr>\n",
       "      <th>3284</th>\n",
       "      <td>0_802</td>\n",
       "      <td>11.22</td>\n",
       "      <td>0</td>\n",
       "    </tr>\n",
       "    <tr>\n",
       "      <th>3285</th>\n",
       "      <td>1_140</td>\n",
       "      <td>38.56</td>\n",
       "      <td>1</td>\n",
       "    </tr>\n",
       "    <tr>\n",
       "      <th>3286</th>\n",
       "      <td>0_1920</td>\n",
       "      <td>25.16</td>\n",
       "      <td>0</td>\n",
       "    </tr>\n",
       "  </tbody>\n",
       "</table>\n",
       "<p>3287 rows × 3 columns</p>\n",
       "</div>"
      ],
      "text/plain": [
       "     id_prod   price  categ\n",
       "0     0_1421   19.99      0\n",
       "1     0_1368    5.13      0\n",
       "2      0_731   17.99      0\n",
       "3      1_587    4.99      1\n",
       "4     0_1507    3.99      0\n",
       "...      ...     ...    ...\n",
       "3282    2_23  115.99      2\n",
       "3283   0_146   17.14      0\n",
       "3284   0_802   11.22      0\n",
       "3285   1_140   38.56      1\n",
       "3286  0_1920   25.16      0\n",
       "\n",
       "[3287 rows x 3 columns]"
      ]
     },
     "execution_count": 18,
     "metadata": {},
     "output_type": "execute_result"
    }
   ],
   "source": [
    "products"
   ]
  },
  {
   "cell_type": "markdown",
   "id": "d67e5368",
   "metadata": {},
   "source": [
    "Votre conclusion ?\n",
    "\n"
   ]
  },
  {
   "cell_type": "markdown",
   "id": "10a0ee02",
   "metadata": {},
   "source": [
    "Je constate qu'il y a un produit avec un prix négatif (-1) _ cela pourrait être une erreur de saisie ou une donnée anormale à vérifier, car un prix négatif n’a pas de sens dans la plupart des contextes commerciaux.\n",
    "La ligne count est 3287 pour toutes les colonnes (id_prod, price, categ). Cela signifie qu’il y a 3287 produits au total, et aucune donnée ne manque dans ces colonnes (pas de NaN dans count).\n",
    "Le jeu de données est complet pour ces trois colonnes, ce qui est une bonne chose pour l’analyse.\n",
    "Chaque id_prod est unique (pas de doublons), car le nombre d’éléments uniques égale le nombre total de produits. Cela signifie que chaque produit a un identifiant distinct, ce qui est normal pour une colonne d’identification.\n",
    "Les prix varient énormément, de -1 à 300, avec une moyenne d’environ 21.86 €.\n",
    "L’écart-type élevé (29.85) montre que les prix sont très dispersés.\n",
    "La moitié des produits (entre 25% et 75%) ont des prix entre 6.99 € et 22.99 €, ce qui suggère que les prix extrêmes (négatifs ou très élevés) sont des cas rares.\n",
    "\n",
    "Je constate qu'il y a un produit avec un prix négatif (-1), ce qui pourrait être une erreur de saisie ou une donnée anormale à vérifier, car un prix négatif n’a pas de sens dans la plupart des cas.\n",
    "\n",
    "De plus :\n",
    "\n",
    "Il y a 3287 produits au total, et aucune donnée ne manque dans les colonnes id_prod, price, et categ.\n",
    "Chaque id_prod est unique, ce qui est normal pour une colonne d’identification.\n",
    "Les prix varient de -1 à 300 €, avec une moyenne d’environ 21.86 €. La moitié des produits ont des prix entre 6.99 € et 22.99 €, et l’écart-type élevé (29.85) montre une grande dispersion.\n",
    "La colonne categ semble contenir des catégories codées en nombres [0 1 2] ou (0, 1, 2), avec la majorité des produits dans la catégorie 0 (médiane = 0).\n",
    "Le premier chiffre de l'id produit correspond à la catégorie"
   ]
  },
  {
   "cell_type": "code",
   "execution_count": 41,
   "id": "c618d924",
   "metadata": {},
   "outputs": [
    {
     "name": "stdout",
     "output_type": "stream",
     "text": [
      "     id_prod   price  categ\n",
      "0     0_1421   19.99      0\n",
      "1     0_1368    5.13      0\n",
      "2      0_731   17.99      0\n",
      "3      1_587    4.99      1\n",
      "4     0_1507    3.99      0\n",
      "...      ...     ...    ...\n",
      "3282    2_23  115.99      2\n",
      "3283   0_146   17.14      0\n",
      "3284   0_802   11.22      0\n",
      "3285   1_140   38.56      1\n",
      "3286  0_1920   25.16      0\n",
      "\n",
      "[3287 rows x 3 columns]\n"
     ]
    }
   ],
   "source": [
    "print(products)"
   ]
  },
  {
   "cell_type": "code",
   "execution_count": 43,
   "id": "b6765cc6",
   "metadata": {},
   "outputs": [
    {
     "name": "stdout",
     "output_type": "stream",
     "text": [
      "categ\n",
      "0    2309\n",
      "1     739\n",
      "2     239\n",
      "Name: count, dtype: int64\n"
     ]
    }
   ],
   "source": [
    "print(products.categ.value_counts())"
   ]
  },
  {
   "cell_type": "code",
   "execution_count": 44,
   "id": "426bf30e",
   "metadata": {},
   "outputs": [
    {
     "name": "stdout",
     "output_type": "stream",
     "text": [
      "0       0\n",
      "1       0\n",
      "2       0\n",
      "3       1\n",
      "4       0\n",
      "       ..\n",
      "3282    2\n",
      "3283    0\n",
      "3284    0\n",
      "3285    1\n",
      "3286    0\n",
      "Name: categ, Length: 3287, dtype: int64\n"
     ]
    }
   ],
   "source": [
    "print(products.categ)"
   ]
  },
  {
   "cell_type": "code",
   "execution_count": 45,
   "id": "6a8bc938",
   "metadata": {},
   "outputs": [
    {
     "name": "stdout",
     "output_type": "stream",
     "text": [
      "Index(['id_prod', 'price', 'categ'], dtype='object')\n"
     ]
    }
   ],
   "source": [
    "print(products.columns)"
   ]
  },
  {
   "cell_type": "code",
   "execution_count": 46,
   "id": "38c61fbb",
   "metadata": {},
   "outputs": [
    {
     "name": "stdout",
     "output_type": "stream",
     "text": [
      "[0 1 2]\n"
     ]
    }
   ],
   "source": [
    "print(products[\"categ\"].unique())"
   ]
  },
  {
   "cell_type": "code",
   "execution_count": 8,
   "id": "afafac1a",
   "metadata": {},
   "outputs": [
    {
     "name": "stdout",
     "output_type": "stream",
     "text": [
      "Prix moyen par catégorie :\n",
      " categ\n",
      "0     11.727280\n",
      "1     25.531421\n",
      "2    108.354686\n",
      "Name: price, dtype: float64\n"
     ]
    }
   ],
   "source": [
    "# calculer le prix moyen des produits par catégorie\n",
    "prix_moyen_par_categ = products.groupby(\"categ\")[\"price\"].mean()\n",
    "print(\"Prix moyen par catégorie :\\n\", prix_moyen_par_categ)"
   ]
  },
  {
   "cell_type": "markdown",
   "id": "099cce8d",
   "metadata": {},
   "source": [
    "Le prix moyen par catégorie est :\n",
    "\n",
    "* Catégorie 0  =>  11.727280 €,\n",
    "* Catégorie 1  =>  25.531421 €,\n",
    "* Catégorie 2  =>  108.354686 €.\n",
    "\n",
    "Cela montre que les prix augmentent avec le numéro de la catégorie, et la catégorie 0, qui contient 2309 produits (la majorité), a le prix moyen le plus bas.\n",
    "\n",
    "Observation :\n",
    "\n",
    "Le prix moyen augmente avec le numéro de la catégorie (0 < 1 < 2), ce qui pourrait indiquer que les catégories représentent des niveaux de gamme (bas, moyen, haut).\n",
    "La catégorie 2 a un prix moyen beaucoup plus élevé, ce qui suggère qu’elle contient des produits plus chers (peut-être des produits de luxe ou premium)."
   ]
  },
  {
   "cell_type": "markdown",
   "id": "9fa3f9f8",
   "metadata": {},
   "source": [
    "### Graphiques"
   ]
  },
  {
   "cell_type": "code",
   "execution_count": 48,
   "id": "5f690b81",
   "metadata": {},
   "outputs": [
    {
     "data": {
      "image/png": "[encoded data removed]",
      "text/plain": [
       "<Figure size 640x480 with 1 Axes>"
      ]
     },
     "metadata": {},
     "output_type": "display_data"
    }
   ],
   "source": [
    "# Données\n",
    "categories = [0, 1, 2]\n",
    "prix_moyen = [11.73, 25.53, 108.35]\n",
    "\n",
    "# Créer le graphique\n",
    "plt.bar(categories, prix_moyen, color=['#FF9999', '#66B2FF', '#99FF99'])\n",
    "plt.title(\"Prix moyen par catégorie\")\n",
    "plt.xlabel(\"Catégorie\")\n",
    "plt.ylabel(\"Prix moyen (€)\")\n",
    "plt.xticks(categories)\n",
    "plt.show()"
   ]
  },
  {
   "cell_type": "code",
   "execution_count": null,
   "id": "eb284803",
   "metadata": {},
   "outputs": [
    {
     "name": "stderr",
     "output_type": "stream",
     "text": [
      "C:\\Users\\Administrateur\\AppData\\Local\\Temp\\ipykernel_3264\\289581067.py:7: FutureWarning: \n",
      "\n",
      "Passing `palette` without assigning `hue` is deprecated and will be removed in v0.14.0. Assign the `x` variable to `hue` and set `legend=False` for the same effect.\n",
      "\n",
      "  sns.barplot(x='categ', y='prix_moyen', data=data, palette=['#FF9999', '#66B2FF', '#99FF99'])\n"
     ]
    },
    {
     "data": {
      "image/png": "[encoded data removed]",
      "text/plain": [
       "<Figure size 800x500 with 1 Axes>"
      ]
     },
     "metadata": {},
     "output_type": "display_data"
    }
   ],
   "source": [
    "# Données dans un DataFrame pour seaborn\n",
    "data = pd.DataFrame({'categ': [0, 1, 2], 'prix_moyen': [11.73, 25.53, 108.35]})\n",
    "\n",
    "# Créer le graphique\n",
    "plt.figure(figsize=(8, 5))\n",
    "sns.barplot(x='categ', y='prix_moyen', data=data, palette=['#FF9999', '#66B2FF', '#99FF99'])\n",
    "plt.title(\"Prix moyen par catégorie\")\n",
    "plt.xlabel(\"Catégorie\")\n",
    "plt.ylabel(\"Prix moyen (€)\")\n",
    "plt.show()"
   ]
  },
  {
   "cell_type": "markdown",
   "id": "b86e4f9c",
   "metadata": {},
   "source": [
    "Le prix moyen par catégorie est :\n",
    "\n",
    "* Catégorie 0  =>  11.73 €,\n",
    "* Catégorie 1 => 25.53 €,\n",
    "* Catégorie 2 => 108.35 €.\n",
    "\n",
    "J’ai créé un graphique à barres (voir ci-dessus) pour comparer ces prix. On remarque que le prix moyen augmente avec le numéro de la catégorie, et la catégorie 2, avec un prix moyen de 108.35 €, contient probablement des produits premium, malgré son faible nombre (239 produits)."
   ]
  },
  {
   "cell_type": "code",
   "execution_count": 50,
   "id": "1c3de97a",
   "metadata": {},
   "outputs": [
    {
     "name": "stdout",
     "output_type": "stream",
     "text": [
      "Prix moyen par catégorie (sans prix négatifs) :\n",
      " categ\n",
      "0     11.73\n",
      "1     25.53\n",
      "2    108.35\n",
      "Name: price, dtype: float64 €\n"
     ]
    }
   ],
   "source": [
    "prix_moyen_par_categ = products[products[\"price\"] >= 0].groupby(\"categ\")[\"price\"].mean().round(2)\n",
    "print(\"Prix moyen par catégorie (sans prix négatifs) :\\n\", prix_moyen_par_categ, \"€\")"
   ]
  },
  {
   "cell_type": "markdown",
   "id": "cc3811de",
   "metadata": {},
   "source": [
    "Distribution des prix"
   ]
  },
  {
   "cell_type": "code",
   "execution_count": 51,
   "id": "6739f305",
   "metadata": {},
   "outputs": [
    {
     "data": {
      "image/png": "[encoded data removed]",
      "text/plain": [
       "<Figure size 640x480 with 1 Axes>"
      ]
     },
     "metadata": {},
     "output_type": "display_data"
    }
   ],
   "source": [
    "sns.histplot(data=products, x=\"price\", hue=\"categ\", multiple=\"stack\")\n",
    "plt.title(\"Distribution des prix par catégorie\")\n",
    "plt.show()"
   ]
  },
  {
   "cell_type": "markdown",
   "id": "a2460427",
   "metadata": {},
   "source": [
    "### 1.1.3 - transactions\n"
   ]
  },
  {
   "cell_type": "code",
   "execution_count": 9,
   "id": "f4b99c1a",
   "metadata": {},
   "outputs": [],
   "source": [
    "# Ouverture du fichier\n",
    "# sales = pd.read_csv('ventes.csv')\n",
    "transactions = pd.read_csv('ventes.csv')"
   ]
  },
  {
   "cell_type": "code",
   "execution_count": 10,
   "id": "d7cebe83",
   "metadata": {},
   "outputs": [
    {
     "name": "stdout",
     "output_type": "stream",
     "text": [
      "<class 'pandas.core.frame.DataFrame'>\n",
      "RangeIndex: 679532 entries, 0 to 679531\n",
      "Data columns (total 4 columns):\n",
      " #   Column      Non-Null Count   Dtype \n",
      "---  ------      --------------   ----- \n",
      " 0   id_prod     679532 non-null  object\n",
      " 1   date        679532 non-null  object\n",
      " 2   session_id  679532 non-null  object\n",
      " 3   client_id   679532 non-null  object\n",
      "dtypes: object(4)\n",
      "memory usage: 20.7+ MB\n"
     ]
    }
   ],
   "source": [
    "# Affichage des informations \n",
    "transactions.info()"
   ]
  },
  {
   "cell_type": "code",
   "execution_count": 54,
   "id": "57807a7f",
   "metadata": {},
   "outputs": [
    {
     "data": {
      "text/html": [
       "<div>\n",
       "<style scoped>\n",
       "    .dataframe tbody tr th:only-of-type {\n",
       "        vertical-align: middle;\n",
       "    }\n",
       "\n",
       "    .dataframe tbody tr th {\n",
       "        vertical-align: top;\n",
       "    }\n",
       "\n",
       "    .dataframe thead th {\n",
       "        text-align: right;\n",
       "    }\n",
       "</style>\n",
       "<table border=\"1\" class=\"dataframe\">\n",
       "  <thead>\n",
       "    <tr style=\"text-align: right;\">\n",
       "      <th></th>\n",
       "      <th>id_prod</th>\n",
       "      <th>date</th>\n",
       "      <th>session_id</th>\n",
       "      <th>client_id</th>\n",
       "    </tr>\n",
       "  </thead>\n",
       "  <tbody>\n",
       "    <tr>\n",
       "      <th>0</th>\n",
       "      <td>0_1518</td>\n",
       "      <td>2022-05-20 13:21:29.043970</td>\n",
       "      <td>s_211425</td>\n",
       "      <td>c_103</td>\n",
       "    </tr>\n",
       "    <tr>\n",
       "      <th>1</th>\n",
       "      <td>1_251</td>\n",
       "      <td>2022-02-02 07:55:19.149409</td>\n",
       "      <td>s_158752</td>\n",
       "      <td>c_8534</td>\n",
       "    </tr>\n",
       "    <tr>\n",
       "      <th>2</th>\n",
       "      <td>0_1277</td>\n",
       "      <td>2022-06-18 15:44:33.155329</td>\n",
       "      <td>s_225667</td>\n",
       "      <td>c_6714</td>\n",
       "    </tr>\n",
       "    <tr>\n",
       "      <th>3</th>\n",
       "      <td>2_209</td>\n",
       "      <td>2021-06-24 04:19:29.835891</td>\n",
       "      <td>s_52962</td>\n",
       "      <td>c_6941</td>\n",
       "    </tr>\n",
       "    <tr>\n",
       "      <th>4</th>\n",
       "      <td>0_1509</td>\n",
       "      <td>2023-01-11 08:22:08.194479</td>\n",
       "      <td>s_325227</td>\n",
       "      <td>c_4232</td>\n",
       "    </tr>\n",
       "  </tbody>\n",
       "</table>\n",
       "</div>"
      ],
      "text/plain": [
       "  id_prod                        date session_id client_id\n",
       "0  0_1518  2022-05-20 13:21:29.043970   s_211425     c_103\n",
       "1   1_251  2022-02-02 07:55:19.149409   s_158752    c_8534\n",
       "2  0_1277  2022-06-18 15:44:33.155329   s_225667    c_6714\n",
       "3   2_209  2021-06-24 04:19:29.835891    s_52962    c_6941\n",
       "4  0_1509  2023-01-11 08:22:08.194479   s_325227    c_4232"
      ]
     },
     "execution_count": 54,
     "metadata": {},
     "output_type": "execute_result"
    }
   ],
   "source": [
    "# Affichage des premières lignes\n",
    "transactions.head()"
   ]
  },
  {
   "cell_type": "code",
   "execution_count": 55,
   "id": "bc5185c2",
   "metadata": {},
   "outputs": [
    {
     "data": {
      "text/html": [
       "<div>\n",
       "<style scoped>\n",
       "    .dataframe tbody tr th:only-of-type {\n",
       "        vertical-align: middle;\n",
       "    }\n",
       "\n",
       "    .dataframe tbody tr th {\n",
       "        vertical-align: top;\n",
       "    }\n",
       "\n",
       "    .dataframe thead th {\n",
       "        text-align: right;\n",
       "    }\n",
       "</style>\n",
       "<table border=\"1\" class=\"dataframe\">\n",
       "  <thead>\n",
       "    <tr style=\"text-align: right;\">\n",
       "      <th></th>\n",
       "      <th>id_prod</th>\n",
       "      <th>date</th>\n",
       "      <th>session_id</th>\n",
       "      <th>client_id</th>\n",
       "    </tr>\n",
       "  </thead>\n",
       "  <tbody>\n",
       "    <tr>\n",
       "      <th>count</th>\n",
       "      <td>679532</td>\n",
       "      <td>679532</td>\n",
       "      <td>679532</td>\n",
       "      <td>679532</td>\n",
       "    </tr>\n",
       "    <tr>\n",
       "      <th>unique</th>\n",
       "      <td>3267</td>\n",
       "      <td>679371</td>\n",
       "      <td>342316</td>\n",
       "      <td>8602</td>\n",
       "    </tr>\n",
       "    <tr>\n",
       "      <th>top</th>\n",
       "      <td>1_369</td>\n",
       "      <td>test_2021-03-01 02:30:02.237413</td>\n",
       "      <td>s_0</td>\n",
       "      <td>c_1609</td>\n",
       "    </tr>\n",
       "    <tr>\n",
       "      <th>freq</th>\n",
       "      <td>2252</td>\n",
       "      <td>13</td>\n",
       "      <td>200</td>\n",
       "      <td>25488</td>\n",
       "    </tr>\n",
       "  </tbody>\n",
       "</table>\n",
       "</div>"
      ],
      "text/plain": [
       "       id_prod                             date session_id client_id\n",
       "count   679532                           679532     679532    679532\n",
       "unique    3267                           679371     342316      8602\n",
       "top      1_369  test_2021-03-01 02:30:02.237413        s_0    c_1609\n",
       "freq      2252                               13        200     25488"
      ]
     },
     "execution_count": 55,
     "metadata": {},
     "output_type": "execute_result"
    }
   ],
   "source": [
    "# Stats du dataframe\n",
    "transactions.describe(include = 'all')"
   ]
  },
  {
   "cell_type": "markdown",
   "id": "65c98eb3",
   "metadata": {},
   "source": [
    "* Je remarque une fréquence très élevé de 25488 pour le client_id c_1609 \n",
    "* ensuite la session_id s_0 apparait 200 fois dans le dataframe\n",
    "* je note aussi le id_prod 1_369 apparait 2252 fois\n",
    "* Pour client_id c_1609 => \"Le client_id c_1609 a effectué 25488 transactions, soit environ 3.75 % des 679532 transactions totales, ce qui en fait un client très actif.\"\n",
    "* Pour id_prod 1_369 => \"Le produit 1_369 apparaît 2252 fois, soit environ 0.33 % des transactions totales, mais c’est beaucoup pour un seul produit parmi 3267 uniques.\"\n",
    "* Pour session_id s_0 => \"La session_id s_0 apparaît 200 fois, ce qui représente environ 0.06 % des 342316 sessions uniques, mais cela reste notable pour une seule session.\"\n",
    "-------------\n",
    "* \"Le client_id c_1609 pourrait être un compte professionnel ou une erreur de duplication.\"\n",
    "* \"La session_id s_0 pourrait indiquer une session mal enregistrée ou une activité intense sur une période.\"\n",
    "* \"Le id_prod 1_369 pourrait être un produit phare ou un article promotionnel très acheté.\""
   ]
  },
  {
   "cell_type": "code",
   "execution_count": 56,
   "id": "d53d01bc",
   "metadata": {},
   "outputs": [
    {
     "data": {
      "text/plain": [
       "id_prod       0.0\n",
       "date          0.0\n",
       "session_id    0.0\n",
       "client_id     0.0\n",
       "dtype: float64"
      ]
     },
     "execution_count": 56,
     "metadata": {},
     "output_type": "execute_result"
    }
   ],
   "source": [
    "#valeurs manquantes\n",
    "transactions.isna().mean()"
   ]
  },
  {
   "cell_type": "code",
   "execution_count": 14,
   "id": "27f1894b",
   "metadata": {},
   "outputs": [
    {
     "data": {
      "text/plain": [
       "np.int64(126)"
      ]
     },
     "execution_count": 14,
     "metadata": {},
     "output_type": "execute_result"
    }
   ],
   "source": [
    "#Doublon\n",
    "transactions.duplicated().sum()"
   ]
  },
  {
   "cell_type": "markdown",
   "id": "8511bbb9",
   "metadata": {},
   "source": [
    "Votre conclusion ?\n",
    "\n",
    "Qu'est-ce qu'on remarque ? \n",
    "\n",
    "En analysant les statistiques de transactions.describe(include='all'), je constate :\n",
    "\n",
    "* Une fréquence très élevée de 25488 pour le client_id c_1609, soit environ 3.75 % des 679532 transactions totales. Cela pourrait indiquer un gros acheteur ou une possible erreur de duplication à vérifier.\n",
    "* La session_id s_0 apparaît 200 fois, ce qui représente environ 0.06 % des 342316 sessions uniques. Cela pourrait suggérer une session prolongée ou une anomalie dans les données.\n",
    "* Le id_prod 1_369 apparaît 2252 fois, soit 0.33 % des transactions, ce qui en fait un produit très populaire, peut-être un best-seller.\n",
    "* La date \"test_2021-03-01 02:30:02.237413\" apparaît 13 fois, ce qui pourrait être une donnée de test à investiguer.\n",
    "* Il y a 8602 clients uniques et 3267 produits uniques, avec un total de 679532 transactions, et aucune valeur manquante."
   ]
  },
  {
   "cell_type": "code",
   "execution_count": 15,
   "id": "d2cef189",
   "metadata": {},
   "outputs": [
    {
     "data": {
      "image/png": "[encoded data removed]",
      "text/plain": [
       "<Figure size 900x600 with 1 Axes>"
      ]
     },
     "metadata": {},
     "output_type": "display_data"
    }
   ],
   "source": [
    "# Données\n",
    "data = pd.DataFrame({\n",
    "    'Identifiant': ['client_id c_1609', 'session_id s_0', 'id_prod 1_369'],\n",
    "    'Frequence': [25488, 200, 2252]\n",
    "})\n",
    "\n",
    "# Appliquer un style avec grille en fond\n",
    "sns.set_style(\"whitegrid\")\n",
    "\n",
    "# Créer le graphique\n",
    "plt.figure(figsize=(9, 6))  # Taille légèrement plus grande pour lisibilité\n",
    "\n",
    "# Utiliser hue avec la variable x et désactiver la légende\n",
    "sns.barplot(x='Identifiant', y='Frequence', hue='Identifiant', data=data, \n",
    "            palette=['#FF9999', '#66B2FF', '#99FF99'], legend=False)\n",
    "\n",
    "# Personnalisation\n",
    "plt.title(\"Fréquences élevées dans les transactions\", fontsize=14, pad=15)\n",
    "plt.xlabel(\"Identifiants\", fontsize=12)\n",
    "plt.ylabel(\"Nombre d'occurrences\", fontsize=12)\n",
    "plt.xticks(rotation=45, ha='right', fontsize=10)  # Rotation et alignement à droite\n",
    "plt.yticks(fontsize=10)\n",
    "\n",
    "# Ajouter les chiffres au-dessus des barres\n",
    "for i, v in enumerate(data['Frequence']):\n",
    "    plt.text(i, v + 200, str(v), ha='center', va='bottom', fontsize=10, \n",
    "             bbox=dict(facecolor='white', alpha=0.8, edgecolor='gray'))\n",
    "\n",
    "# Ajuster l'espacement et afficher\n",
    "plt.tight_layout()\n",
    "plt.show()"
   ]
  },
  {
   "cell_type": "markdown",
   "id": "0c622850",
   "metadata": {},
   "source": [
    "* Ce graphique à barres, créé avec Seaborn, montre les fréquences élevées dans les transactions. \n",
    "* Le client_id c_1609 domine avec 25488 occurrences, suivi par le id_prod 1_369 (2252) et la session_id s_0 (200). \n",
    "* La grille et les annotations facilitent la lecture des différences."
   ]
  },
  {
   "cell_type": "code",
   "execution_count": 16,
   "id": "f5205e31",
   "metadata": {},
   "outputs": [
    {
     "name": "stdout",
     "output_type": "stream",
     "text": [
      "Nombre de lignes avant : 679532\n",
      "Nombre de lignes après : 651651\n",
      "Nombre de lignes retirées : 27881\n",
      "\n",
      "Fréquences de client_id après filtrage :\n",
      "client_id\n",
      "c_6714    9167\n",
      "c_3454    6728\n",
      "c_4958    5186\n",
      "c_2140     402\n",
      "c_3263     398\n",
      "Name: count, dtype: int64\n",
      "\n",
      "Fréquences de session_id après filtrage :\n",
      "session_id\n",
      "s_118668    14\n",
      "s_96857     13\n",
      "s_21005     13\n",
      "s_215292    13\n",
      "s_342045    13\n",
      "Name: count, dtype: int64\n",
      "\n",
      "Fréquences de id_prod après filtrage :\n",
      "id_prod\n",
      "1_414    2141\n",
      "1_417    2140\n",
      "1_498    2077\n",
      "1_425    2053\n",
      "1_403    1922\n",
      "Name: count, dtype: int64\n"
     ]
    }
   ],
   "source": [
    "# retirer les lignes identifiées\n",
    "# Objectif __ Retirer les lignes où :\n",
    "# client_id est égal à \"c_1609\", session_id est égal à \"s_0\", \n",
    "# id_prod est égal à \"1_369\".\n",
    "\n",
    "# Créer un nouveau DataFrame sans les lignes identifiées\n",
    "transactions_cleaned = transactions[\n",
    "    (transactions[\"client_id\"] != \"c_1609\") & \n",
    "    (transactions[\"session_id\"] != \"s_0\") & \n",
    "    (transactions[\"id_prod\"] != \"1_369\")\n",
    "]\n",
    "\n",
    "# Vérifications\n",
    "print(\"Nombre de lignes avant :\", len(transactions))\n",
    "print(\"Nombre de lignes après :\", len(transactions_cleaned))\n",
    "\n",
    "# Compter les lignes retirées (pour info)\n",
    "lignes_a_retirer = len(transactions) - len(transactions_cleaned)\n",
    "print(\"Nombre de lignes retirées :\", lignes_a_retirer)\n",
    "\n",
    "# Vérifier les fréquences dans le nouveau DataFrame\n",
    "print(\"\\nFréquences de client_id après filtrage :\")\n",
    "print(transactions_cleaned[\"client_id\"].value_counts().head())\n",
    "print(\"\\nFréquences de session_id après filtrage :\")\n",
    "print(transactions_cleaned[\"session_id\"].value_counts().head())\n",
    "print(\"\\nFréquences de id_prod après filtrage :\")\n",
    "print(transactions_cleaned[\"id_prod\"].value_counts().head())"
   ]
  },
  {
   "cell_type": "code",
   "execution_count": 17,
   "id": "1e27bd4e",
   "metadata": {},
   "outputs": [
    {
     "name": "stdout",
     "output_type": "stream",
     "text": [
      "\n",
      "Vérification des identifiants retirés :\n",
      "client_id c_1609 : 0\n",
      "session_id s_0 : 0\n",
      "id_prod 1_369 : 0\n"
     ]
    }
   ],
   "source": [
    "print(\"\\nVérification des identifiants retirés :\")\n",
    "print(\"client_id c_1609 :\", transactions_cleaned[transactions_cleaned[\"client_id\"] == \"c_1609\"].shape[0])\n",
    "print(\"session_id s_0 :\", transactions_cleaned[transactions_cleaned[\"session_id\"] == \"s_0\"].shape[0])\n",
    "print(\"id_prod 1_369 :\", transactions_cleaned[transactions_cleaned[\"id_prod\"] == \"1_369\"].shape[0])"
   ]
  },
  {
   "cell_type": "markdown",
   "id": "71065dee",
   "metadata": {},
   "source": [
    "* J'ai corrigé une erreur dans mon code et remplacé .value par .value_counts(). \n",
    "* Après avoir retiré les lignes avec client_id c_1609, session_id s_0, et id_prod 1_369, le nouveau DataFrame transactions_cleaned contient [651651] lignes. \n",
    "* Les vérifications confirment que ces identifiants ne sont plus présents."
   ]
  },
  {
   "cell_type": "code",
   "execution_count": 18,
   "id": "0af11ba7",
   "metadata": {},
   "outputs": [
    {
     "name": "stdout",
     "output_type": "stream",
     "text": [
      "Nombre d'achats par client (5 premiers) :\n",
      " client_id\n",
      "c_1        39\n",
      "c_10       58\n",
      "c_100       8\n",
      "c_1000    119\n",
      "c_1001    102\n",
      "dtype: int64\n",
      "\n",
      "Nombre moyen d'achats par client : 75.78\n"
     ]
    }
   ],
   "source": [
    "# Calculer le nombre d'achats par client avec groupby et calculer ensuite le nombre d'achats moyen\n",
    "# Calculer le nombre d'achats par client\n",
    "achats_par_client = transactions_cleaned.groupby(\"client_id\").size()\n",
    "\n",
    "# Afficher les 5 premiers pour vérification\n",
    "print(\"Nombre d'achats par client (5 premiers) :\\n\", achats_par_client.head())\n",
    "\n",
    "# Calculer le nombre moyen d'achats par client\n",
    "nombre_moyen_achats = achats_par_client.mean()\n",
    "\n",
    "# Afficher le résultat arrondi\n",
    "print(\"\\nNombre moyen d'achats par client :\", round(nombre_moyen_achats, 2))\n"
   ]
  },
  {
   "cell_type": "code",
   "execution_count": 19,
   "id": "3f4b6dfa",
   "metadata": {},
   "outputs": [
    {
     "name": "stdout",
     "output_type": "stream",
     "text": [
      "Somme totale des achats : 651651\n",
      "Nombre total de lignes : 651651\n"
     ]
    }
   ],
   "source": [
    "print(\"Somme totale des achats :\", achats_par_client.sum())\n",
    "print(\"Nombre total de lignes :\", len(transactions_cleaned))"
   ]
  },
  {
   "cell_type": "code",
   "execution_count": 20,
   "id": "77786983",
   "metadata": {},
   "outputs": [
    {
     "name": "stdout",
     "output_type": "stream",
     "text": [
      "Nombre moyen d'achats par client (original) : 79.0\n"
     ]
    }
   ],
   "source": [
    "achats_par_client_original = transactions.groupby(\"client_id\").size()\n",
    "print(\"Nombre moyen d'achats par client (original) :\", round(achats_par_client_original.mean(), 2))"
   ]
  },
  {
   "cell_type": "markdown",
   "id": "9bafd872",
   "metadata": {},
   "source": [
    "J'ai calculé le nombre d'achats par client en utilisant groupby sur client_id avec .size(). Voici les 5 premiers résultats : \n",
    "* [Nombre d'achats par client (5 premiers) :\n",
    " client_id\n",
    "c_1        39\n",
    "c_10       58\n",
    "c_100       8\n",
    "c_1000    119\n",
    "c_1001    102\n",
    "dtype: int64]. \n",
    "* Le nombre moyen d'achats par client est de [Nombre moyen d'achats par client (original) : 79.0]. \n",
    "* Après avoir retiré les lignes avec client_id c_1609, session_id s_0, et id_prod 1_369, cette moyenne reflète mieux la distribution typique des achats."
   ]
  },
  {
   "cell_type": "code",
   "execution_count": 21,
   "id": "9a6263cd",
   "metadata": {},
   "outputs": [
    {
     "name": "stderr",
     "output_type": "stream",
     "text": [
      "C:\\Users\\Administrateur\\AppData\\Local\\Temp\\ipykernel_9720\\3006085448.py:5: FutureWarning: \n",
      "\n",
      "Passing `palette` without assigning `hue` is deprecated and will be removed in v0.14.0. Assign the `x` variable to `hue` and set `legend=False` for the same effect.\n",
      "\n",
      "  sns.barplot(x=top_10.index, y=top_10.values, palette='viridis')\n"
     ]
    },
    {
     "data": {
      "image/png": "[encoded data removed]",
      "text/plain": [
       "<Figure size 1000x600 with 1 Axes>"
      ]
     },
     "metadata": {},
     "output_type": "display_data"
    }
   ],
   "source": [
    "# Top 10 des clients par achats\n",
    "top_10 = achats_par_client.sort_values(ascending=False).head(10)\n",
    "\n",
    "plt.figure(figsize=(10, 6))\n",
    "sns.barplot(x=top_10.index, y=top_10.values, palette='viridis')\n",
    "plt.title(\"Top 10 des clients par nombre d'achats\")\n",
    "plt.xlabel(\"Client ID\")\n",
    "plt.ylabel(\"Nombre d'achats\")\n",
    "plt.xticks(rotation=45, ha='right')\n",
    "plt.tight_layout()\n",
    "plt.show()"
   ]
  },
  {
   "cell_type": "code",
   "execution_count": 22,
   "id": "2e2212dd",
   "metadata": {},
   "outputs": [
    {
     "data": {
      "image/png": "[encoded data removed]",
      "text/plain": [
       "<Figure size 800x600 with 1 Axes>"
      ]
     },
     "metadata": {},
     "output_type": "display_data"
    },
    {
     "name": "stdout",
     "output_type": "stream",
     "text": [
      "Médiane des achats : 51.0\n",
      "Moyenne des achats : 75.78\n",
      "Écart-type des achats : 149.63\n"
     ]
    }
   ],
   "source": [
    "# tracer un boxplot pour voir la distribution, voux pouvez utiliser plt.boxplot()\n",
    "import matplotlib.pyplot as plt\n",
    "\n",
    "# Calculer le nombre d'achats par client\n",
    "achats_par_client = transactions_cleaned.groupby(\"client_id\").size()\n",
    "\n",
    "# Convertir en liste\n",
    "achats_liste = achats_par_client.values\n",
    "\n",
    "# Créer le boxplot\n",
    "plt.figure(figsize=(8, 6))\n",
    "plt.boxplot(achats_liste, vert=True, patch_artist=True, \n",
    "            boxprops=dict(facecolor='#99CCFF', color='black'),\n",
    "            medianprops=dict(color='red', linewidth=2))\n",
    "\n",
    "# Personnalisation\n",
    "plt.title(\"Distribution des nombres d'achats par client\", fontsize=14, pad=10)\n",
    "plt.ylabel(\"Nombre d'achats\", fontsize=12)\n",
    "plt.xlabel(\"Clients\", fontsize=12)\n",
    "plt.grid(True, linestyle='--', alpha=0.7)\n",
    "plt.yticks(fontsize=10)\n",
    "\n",
    "# Afficher\n",
    "plt.show()\n",
    "\n",
    "# Stats pour vérification\n",
    "print(\"Médiane des achats :\", achats_par_client.median())\n",
    "print(\"Moyenne des achats :\", round(achats_par_client.mean(), 2))\n",
    "print(\"Écart-type des achats :\", round(achats_par_client.std(), 2))"
   ]
  },
  {
   "cell_type": "code",
   "execution_count": 23,
   "id": "a25b31f7",
   "metadata": {},
   "outputs": [
    {
     "name": "stdout",
     "output_type": "stream",
     "text": [
      "Médiane des achats : 51.0\n",
      "Moyenne des achats : 75.78\n"
     ]
    }
   ],
   "source": [
    "print(\"Médiane des achats :\", achats_par_client.median())\n",
    "print(\"Moyenne des achats :\", round(achats_par_client.mean(), 2))"
   ]
  },
  {
   "cell_type": "markdown",
   "id": "f5f29f6e",
   "metadata": {},
   "source": [
    "Qu'est-ce qu'on remarque ? \n"
   ]
  },
  {
   "cell_type": "markdown",
   "id": "61ff5d5b",
   "metadata": {},
   "source": [
    "J'ai tracé un boxplot avec plt.boxplot() pour visualiser la distribution des nombres d'achats par client après avoir retiré les lignes avec client_id c_1609, session_id s_0, et id_prod 1_369. On remarque que la médiane est de [51.0], la moyenne de [75.78], et il y a des outliers au-delà de [149.63], suggérant une distribution asymétrique avec quelques clients très actifs. La boîte et les moustaches montrent une variabilité importante dans les achats."
   ]
  },
  {
   "cell_type": "markdown",
   "id": "b7d4f71b",
   "metadata": {},
   "source": [
    "## 1.2 - Jointure des dataframes"
   ]
  },
  {
   "cell_type": "markdown",
   "id": "a612c914",
   "metadata": {},
   "source": [
    "1.2.1 - products & transactions"
   ]
  },
  {
   "cell_type": "code",
   "execution_count": 34,
   "id": "bb3f74b6",
   "metadata": {},
   "outputs": [],
   "source": [
    "# Jointure entre transactions et products en prenant comme clé la colonne 'id_prod'\n",
    "# jointure externe \n",
    "# afin de conserver toutes les lignes de mon fichier transactions.\n",
    "\n",
    "df_final = pd.merge(transactions,products, on = 'id_prod', how= 'outer',indicator=True)"
   ]
  },
  {
   "cell_type": "code",
   "execution_count": 38,
   "id": "23020fe3",
   "metadata": {},
   "outputs": [
    {
     "name": "stdout",
     "output_type": "stream",
     "text": [
      "<class 'pandas.core.frame.DataFrame'>\n",
      "RangeIndex: 679553 entries, 0 to 679552\n",
      "Data columns (total 7 columns):\n",
      " #   Column      Non-Null Count   Dtype   \n",
      "---  ------      --------------   -----   \n",
      " 0   id_prod     679553 non-null  object  \n",
      " 1   date        679532 non-null  object  \n",
      " 2   session_id  679532 non-null  object  \n",
      " 3   client_id   679532 non-null  object  \n",
      " 4   price       679332 non-null  float64 \n",
      " 5   categ       679332 non-null  float64 \n",
      " 6   _merge      679553 non-null  category\n",
      "dtypes: category(1), float64(2), object(4)\n",
      "memory usage: 31.8+ MB\n"
     ]
    }
   ],
   "source": [
    "df_final.info()"
   ]
  },
  {
   "cell_type": "code",
   "execution_count": 39,
   "id": "0f58bd56",
   "metadata": {},
   "outputs": [
    {
     "data": {
      "text/html": [
       "<div>\n",
       "<style scoped>\n",
       "    .dataframe tbody tr th:only-of-type {\n",
       "        vertical-align: middle;\n",
       "    }\n",
       "\n",
       "    .dataframe tbody tr th {\n",
       "        vertical-align: top;\n",
       "    }\n",
       "\n",
       "    .dataframe thead th {\n",
       "        text-align: right;\n",
       "    }\n",
       "</style>\n",
       "<table border=\"1\" class=\"dataframe\">\n",
       "  <thead>\n",
       "    <tr style=\"text-align: right;\">\n",
       "      <th></th>\n",
       "      <th>id_prod</th>\n",
       "      <th>date</th>\n",
       "      <th>session_id</th>\n",
       "      <th>client_id</th>\n",
       "      <th>price</th>\n",
       "      <th>categ</th>\n",
       "      <th>_merge</th>\n",
       "    </tr>\n",
       "  </thead>\n",
       "  <tbody>\n",
       "    <tr>\n",
       "      <th>6073</th>\n",
       "      <td>0_1014</td>\n",
       "      <td>NaN</td>\n",
       "      <td>NaN</td>\n",
       "      <td>NaN</td>\n",
       "      <td>1.15</td>\n",
       "      <td>0.0</td>\n",
       "      <td>right_only</td>\n",
       "    </tr>\n",
       "    <tr>\n",
       "      <th>6511</th>\n",
       "      <td>0_1016</td>\n",
       "      <td>NaN</td>\n",
       "      <td>NaN</td>\n",
       "      <td>NaN</td>\n",
       "      <td>35.06</td>\n",
       "      <td>0.0</td>\n",
       "      <td>right_only</td>\n",
       "    </tr>\n",
       "    <tr>\n",
       "      <th>8723</th>\n",
       "      <td>0_1025</td>\n",
       "      <td>NaN</td>\n",
       "      <td>NaN</td>\n",
       "      <td>NaN</td>\n",
       "      <td>24.99</td>\n",
       "      <td>0.0</td>\n",
       "      <td>right_only</td>\n",
       "    </tr>\n",
       "    <tr>\n",
       "      <th>21687</th>\n",
       "      <td>0_1062</td>\n",
       "      <td>NaN</td>\n",
       "      <td>NaN</td>\n",
       "      <td>NaN</td>\n",
       "      <td>20.08</td>\n",
       "      <td>0.0</td>\n",
       "      <td>right_only</td>\n",
       "    </tr>\n",
       "    <tr>\n",
       "      <th>40971</th>\n",
       "      <td>0_1119</td>\n",
       "      <td>NaN</td>\n",
       "      <td>NaN</td>\n",
       "      <td>NaN</td>\n",
       "      <td>2.99</td>\n",
       "      <td>0.0</td>\n",
       "      <td>right_only</td>\n",
       "    </tr>\n",
       "    <tr>\n",
       "      <th>94245</th>\n",
       "      <td>0_1318</td>\n",
       "      <td>NaN</td>\n",
       "      <td>NaN</td>\n",
       "      <td>NaN</td>\n",
       "      <td>20.92</td>\n",
       "      <td>0.0</td>\n",
       "      <td>right_only</td>\n",
       "    </tr>\n",
       "    <tr>\n",
       "      <th>297077</th>\n",
       "      <td>0_1620</td>\n",
       "      <td>NaN</td>\n",
       "      <td>NaN</td>\n",
       "      <td>NaN</td>\n",
       "      <td>0.80</td>\n",
       "      <td>0.0</td>\n",
       "      <td>right_only</td>\n",
       "    </tr>\n",
       "    <tr>\n",
       "      <th>299185</th>\n",
       "      <td>0_1624</td>\n",
       "      <td>NaN</td>\n",
       "      <td>NaN</td>\n",
       "      <td>NaN</td>\n",
       "      <td>24.50</td>\n",
       "      <td>0.0</td>\n",
       "      <td>right_only</td>\n",
       "    </tr>\n",
       "    <tr>\n",
       "      <th>311123</th>\n",
       "      <td>0_1645</td>\n",
       "      <td>NaN</td>\n",
       "      <td>NaN</td>\n",
       "      <td>NaN</td>\n",
       "      <td>2.99</td>\n",
       "      <td>0.0</td>\n",
       "      <td>right_only</td>\n",
       "    </tr>\n",
       "    <tr>\n",
       "      <th>323013</th>\n",
       "      <td>0_1780</td>\n",
       "      <td>NaN</td>\n",
       "      <td>NaN</td>\n",
       "      <td>NaN</td>\n",
       "      <td>1.67</td>\n",
       "      <td>0.0</td>\n",
       "      <td>right_only</td>\n",
       "    </tr>\n",
       "    <tr>\n",
       "      <th>325137</th>\n",
       "      <td>0_1800</td>\n",
       "      <td>NaN</td>\n",
       "      <td>NaN</td>\n",
       "      <td>NaN</td>\n",
       "      <td>22.05</td>\n",
       "      <td>0.0</td>\n",
       "      <td>right_only</td>\n",
       "    </tr>\n",
       "    <tr>\n",
       "      <th>387872</th>\n",
       "      <td>0_2308</td>\n",
       "      <td>NaN</td>\n",
       "      <td>NaN</td>\n",
       "      <td>NaN</td>\n",
       "      <td>20.28</td>\n",
       "      <td>0.0</td>\n",
       "      <td>right_only</td>\n",
       "    </tr>\n",
       "    <tr>\n",
       "      <th>389947</th>\n",
       "      <td>0_299</td>\n",
       "      <td>NaN</td>\n",
       "      <td>NaN</td>\n",
       "      <td>NaN</td>\n",
       "      <td>22.99</td>\n",
       "      <td>0.0</td>\n",
       "      <td>right_only</td>\n",
       "    </tr>\n",
       "    <tr>\n",
       "      <th>390442</th>\n",
       "      <td>0_310</td>\n",
       "      <td>NaN</td>\n",
       "      <td>NaN</td>\n",
       "      <td>NaN</td>\n",
       "      <td>1.94</td>\n",
       "      <td>0.0</td>\n",
       "      <td>right_only</td>\n",
       "    </tr>\n",
       "    <tr>\n",
       "      <th>390910</th>\n",
       "      <td>0_322</td>\n",
       "      <td>NaN</td>\n",
       "      <td>NaN</td>\n",
       "      <td>NaN</td>\n",
       "      <td>2.99</td>\n",
       "      <td>0.0</td>\n",
       "      <td>right_only</td>\n",
       "    </tr>\n",
       "    <tr>\n",
       "      <th>397291</th>\n",
       "      <td>0_510</td>\n",
       "      <td>NaN</td>\n",
       "      <td>NaN</td>\n",
       "      <td>NaN</td>\n",
       "      <td>23.66</td>\n",
       "      <td>0.0</td>\n",
       "      <td>right_only</td>\n",
       "    </tr>\n",
       "    <tr>\n",
       "      <th>415696</th>\n",
       "      <td>1_0</td>\n",
       "      <td>NaN</td>\n",
       "      <td>NaN</td>\n",
       "      <td>NaN</td>\n",
       "      <td>31.82</td>\n",
       "      <td>1.0</td>\n",
       "      <td>right_only</td>\n",
       "    </tr>\n",
       "    <tr>\n",
       "      <th>511418</th>\n",
       "      <td>1_394</td>\n",
       "      <td>NaN</td>\n",
       "      <td>NaN</td>\n",
       "      <td>NaN</td>\n",
       "      <td>39.73</td>\n",
       "      <td>1.0</td>\n",
       "      <td>right_only</td>\n",
       "    </tr>\n",
       "    <tr>\n",
       "      <th>677796</th>\n",
       "      <td>2_72</td>\n",
       "      <td>NaN</td>\n",
       "      <td>NaN</td>\n",
       "      <td>NaN</td>\n",
       "      <td>141.32</td>\n",
       "      <td>2.0</td>\n",
       "      <td>right_only</td>\n",
       "    </tr>\n",
       "    <tr>\n",
       "      <th>678299</th>\n",
       "      <td>2_86</td>\n",
       "      <td>NaN</td>\n",
       "      <td>NaN</td>\n",
       "      <td>NaN</td>\n",
       "      <td>132.36</td>\n",
       "      <td>2.0</td>\n",
       "      <td>right_only</td>\n",
       "    </tr>\n",
       "    <tr>\n",
       "      <th>678300</th>\n",
       "      <td>2_87</td>\n",
       "      <td>NaN</td>\n",
       "      <td>NaN</td>\n",
       "      <td>NaN</td>\n",
       "      <td>220.99</td>\n",
       "      <td>2.0</td>\n",
       "      <td>right_only</td>\n",
       "    </tr>\n",
       "  </tbody>\n",
       "</table>\n",
       "</div>"
      ],
      "text/plain": [
       "       id_prod date session_id client_id   price  categ      _merge\n",
       "6073    0_1014  NaN        NaN       NaN    1.15    0.0  right_only\n",
       "6511    0_1016  NaN        NaN       NaN   35.06    0.0  right_only\n",
       "8723    0_1025  NaN        NaN       NaN   24.99    0.0  right_only\n",
       "21687   0_1062  NaN        NaN       NaN   20.08    0.0  right_only\n",
       "40971   0_1119  NaN        NaN       NaN    2.99    0.0  right_only\n",
       "94245   0_1318  NaN        NaN       NaN   20.92    0.0  right_only\n",
       "297077  0_1620  NaN        NaN       NaN    0.80    0.0  right_only\n",
       "299185  0_1624  NaN        NaN       NaN   24.50    0.0  right_only\n",
       "311123  0_1645  NaN        NaN       NaN    2.99    0.0  right_only\n",
       "323013  0_1780  NaN        NaN       NaN    1.67    0.0  right_only\n",
       "325137  0_1800  NaN        NaN       NaN   22.05    0.0  right_only\n",
       "387872  0_2308  NaN        NaN       NaN   20.28    0.0  right_only\n",
       "389947   0_299  NaN        NaN       NaN   22.99    0.0  right_only\n",
       "390442   0_310  NaN        NaN       NaN    1.94    0.0  right_only\n",
       "390910   0_322  NaN        NaN       NaN    2.99    0.0  right_only\n",
       "397291   0_510  NaN        NaN       NaN   23.66    0.0  right_only\n",
       "415696     1_0  NaN        NaN       NaN   31.82    1.0  right_only\n",
       "511418   1_394  NaN        NaN       NaN   39.73    1.0  right_only\n",
       "677796    2_72  NaN        NaN       NaN  141.32    2.0  right_only\n",
       "678299    2_86  NaN        NaN       NaN  132.36    2.0  right_only\n",
       "678300    2_87  NaN        NaN       NaN  220.99    2.0  right_only"
      ]
     },
     "execution_count": 39,
     "metadata": {},
     "output_type": "execute_result"
    }
   ],
   "source": [
    "#regardons les cas où le produit n'est pas vendu\n",
    "\n",
    "df_final[df_final._merge==\"right_only\"]"
   ]
  },
  {
   "cell_type": "code",
   "execution_count": 42,
   "id": "98098e6f",
   "metadata": {},
   "outputs": [
    {
     "name": "stdout",
     "output_type": "stream",
     "text": [
      "les produits qui ne sont pas vendus ['0_1014' '0_1016' '0_1025' '0_1062' '0_1119' '0_1318' '0_1620' '0_1624'\n",
      " '0_1645' '0_1780' '0_1800' '0_2308' '0_299' '0_310' '0_322' '0_510' '1_0'\n",
      " '1_394' '2_72' '2_86' '2_87']\n"
     ]
    }
   ],
   "source": [
    "print(\"les produits qui ne sont pas vendus\",df_final[df_final._merge==\"right_only\"].id_prod.unique())"
   ]
  },
  {
   "cell_type": "code",
   "execution_count": 44,
   "id": "64f1d312",
   "metadata": {},
   "outputs": [
    {
     "data": {
      "text/html": [
       "<div>\n",
       "<style scoped>\n",
       "    .dataframe tbody tr th:only-of-type {\n",
       "        vertical-align: middle;\n",
       "    }\n",
       "\n",
       "    .dataframe tbody tr th {\n",
       "        vertical-align: top;\n",
       "    }\n",
       "\n",
       "    .dataframe thead th {\n",
       "        text-align: right;\n",
       "    }\n",
       "</style>\n",
       "<table border=\"1\" class=\"dataframe\">\n",
       "  <thead>\n",
       "    <tr style=\"text-align: right;\">\n",
       "      <th></th>\n",
       "      <th>id_prod</th>\n",
       "      <th>date</th>\n",
       "      <th>session_id</th>\n",
       "      <th>client_id</th>\n",
       "      <th>price</th>\n",
       "      <th>categ</th>\n",
       "      <th>_merge</th>\n",
       "    </tr>\n",
       "  </thead>\n",
       "  <tbody>\n",
       "  </tbody>\n",
       "</table>\n",
       "</div>"
      ],
      "text/plain": [
       "Empty DataFrame\n",
       "Columns: [id_prod, date, session_id, client_id, price, categ, _merge]\n",
       "Index: []"
      ]
     },
     "execution_count": 44,
     "metadata": {},
     "output_type": "execute_result"
    }
   ],
   "source": [
    "#on supprime les produits invendus\n",
    "\n",
    "index = df_final[df_final._merge==\"right_only\"].index\n",
    "\n",
    "df_final.drop(index, inplace = True)\n",
    "\n",
    "df_final[df_final._merge==\"right_only\"]"
   ]
  },
  {
   "cell_type": "code",
   "execution_count": 45,
   "id": "5b6e7497",
   "metadata": {},
   "outputs": [
    {
     "data": {
      "text/html": [
       "<div>\n",
       "<style scoped>\n",
       "    .dataframe tbody tr th:only-of-type {\n",
       "        vertical-align: middle;\n",
       "    }\n",
       "\n",
       "    .dataframe tbody tr th {\n",
       "        vertical-align: top;\n",
       "    }\n",
       "\n",
       "    .dataframe thead th {\n",
       "        text-align: right;\n",
       "    }\n",
       "</style>\n",
       "<table border=\"1\" class=\"dataframe\">\n",
       "  <thead>\n",
       "    <tr style=\"text-align: right;\">\n",
       "      <th></th>\n",
       "      <th>id_prod</th>\n",
       "      <th>date</th>\n",
       "      <th>session_id</th>\n",
       "      <th>client_id</th>\n",
       "      <th>price</th>\n",
       "      <th>categ</th>\n",
       "      <th>_merge</th>\n",
       "    </tr>\n",
       "  </thead>\n",
       "  <tbody>\n",
       "    <tr>\n",
       "      <th>380106</th>\n",
       "      <td>0_2245</td>\n",
       "      <td>2022-09-23 07:22:38.636773</td>\n",
       "      <td>s_272266</td>\n",
       "      <td>c_4746</td>\n",
       "      <td>NaN</td>\n",
       "      <td>NaN</td>\n",
       "      <td>left_only</td>\n",
       "    </tr>\n",
       "    <tr>\n",
       "      <th>380107</th>\n",
       "      <td>0_2245</td>\n",
       "      <td>2022-07-23 09:24:14.133889</td>\n",
       "      <td>s_242482</td>\n",
       "      <td>c_6713</td>\n",
       "      <td>NaN</td>\n",
       "      <td>NaN</td>\n",
       "      <td>left_only</td>\n",
       "    </tr>\n",
       "    <tr>\n",
       "      <th>380108</th>\n",
       "      <td>0_2245</td>\n",
       "      <td>2022-12-03 03:26:35.696673</td>\n",
       "      <td>s_306338</td>\n",
       "      <td>c_5108</td>\n",
       "      <td>NaN</td>\n",
       "      <td>NaN</td>\n",
       "      <td>left_only</td>\n",
       "    </tr>\n",
       "    <tr>\n",
       "      <th>380109</th>\n",
       "      <td>0_2245</td>\n",
       "      <td>2021-08-16 11:33:25.481411</td>\n",
       "      <td>s_76493</td>\n",
       "      <td>c_1391</td>\n",
       "      <td>NaN</td>\n",
       "      <td>NaN</td>\n",
       "      <td>left_only</td>\n",
       "    </tr>\n",
       "    <tr>\n",
       "      <th>380110</th>\n",
       "      <td>0_2245</td>\n",
       "      <td>2022-07-16 05:53:01.627491</td>\n",
       "      <td>s_239078</td>\n",
       "      <td>c_7954</td>\n",
       "      <td>NaN</td>\n",
       "      <td>NaN</td>\n",
       "      <td>left_only</td>\n",
       "    </tr>\n",
       "    <tr>\n",
       "      <th>...</th>\n",
       "      <td>...</td>\n",
       "      <td>...</td>\n",
       "      <td>...</td>\n",
       "      <td>...</td>\n",
       "      <td>...</td>\n",
       "      <td>...</td>\n",
       "      <td>...</td>\n",
       "    </tr>\n",
       "    <tr>\n",
       "      <th>380322</th>\n",
       "      <td>0_2245</td>\n",
       "      <td>2021-08-25 09:06:03.504061</td>\n",
       "      <td>s_80395</td>\n",
       "      <td>c_131</td>\n",
       "      <td>NaN</td>\n",
       "      <td>NaN</td>\n",
       "      <td>left_only</td>\n",
       "    </tr>\n",
       "    <tr>\n",
       "      <th>380323</th>\n",
       "      <td>0_2245</td>\n",
       "      <td>2022-03-06 19:59:19.462288</td>\n",
       "      <td>s_175311</td>\n",
       "      <td>c_4167</td>\n",
       "      <td>NaN</td>\n",
       "      <td>NaN</td>\n",
       "      <td>left_only</td>\n",
       "    </tr>\n",
       "    <tr>\n",
       "      <th>380324</th>\n",
       "      <td>0_2245</td>\n",
       "      <td>2022-05-16 11:35:20.319501</td>\n",
       "      <td>s_209381</td>\n",
       "      <td>c_4453</td>\n",
       "      <td>NaN</td>\n",
       "      <td>NaN</td>\n",
       "      <td>left_only</td>\n",
       "    </tr>\n",
       "    <tr>\n",
       "      <th>380325</th>\n",
       "      <td>0_2245</td>\n",
       "      <td>2022-02-11 09:05:43.952857</td>\n",
       "      <td>s_163405</td>\n",
       "      <td>c_1098</td>\n",
       "      <td>NaN</td>\n",
       "      <td>NaN</td>\n",
       "      <td>left_only</td>\n",
       "    </tr>\n",
       "    <tr>\n",
       "      <th>380326</th>\n",
       "      <td>0_2245</td>\n",
       "      <td>2021-12-14 22:34:54.589921</td>\n",
       "      <td>s_134446</td>\n",
       "      <td>c_4854</td>\n",
       "      <td>NaN</td>\n",
       "      <td>NaN</td>\n",
       "      <td>left_only</td>\n",
       "    </tr>\n",
       "  </tbody>\n",
       "</table>\n",
       "<p>221 rows × 7 columns</p>\n",
       "</div>"
      ],
      "text/plain": [
       "       id_prod                        date session_id client_id  price  categ  \\\n",
       "380106  0_2245  2022-09-23 07:22:38.636773   s_272266    c_4746    NaN    NaN   \n",
       "380107  0_2245  2022-07-23 09:24:14.133889   s_242482    c_6713    NaN    NaN   \n",
       "380108  0_2245  2022-12-03 03:26:35.696673   s_306338    c_5108    NaN    NaN   \n",
       "380109  0_2245  2021-08-16 11:33:25.481411    s_76493    c_1391    NaN    NaN   \n",
       "380110  0_2245  2022-07-16 05:53:01.627491   s_239078    c_7954    NaN    NaN   \n",
       "...        ...                         ...        ...       ...    ...    ...   \n",
       "380322  0_2245  2021-08-25 09:06:03.504061    s_80395     c_131    NaN    NaN   \n",
       "380323  0_2245  2022-03-06 19:59:19.462288   s_175311    c_4167    NaN    NaN   \n",
       "380324  0_2245  2022-05-16 11:35:20.319501   s_209381    c_4453    NaN    NaN   \n",
       "380325  0_2245  2022-02-11 09:05:43.952857   s_163405    c_1098    NaN    NaN   \n",
       "380326  0_2245  2021-12-14 22:34:54.589921   s_134446    c_4854    NaN    NaN   \n",
       "\n",
       "           _merge  \n",
       "380106  left_only  \n",
       "380107  left_only  \n",
       "380108  left_only  \n",
       "380109  left_only  \n",
       "380110  left_only  \n",
       "...           ...  \n",
       "380322  left_only  \n",
       "380323  left_only  \n",
       "380324  left_only  \n",
       "380325  left_only  \n",
       "380326  left_only  \n",
       "\n",
       "[221 rows x 7 columns]"
      ]
     },
     "execution_count": 45,
     "metadata": {},
     "output_type": "execute_result"
    }
   ],
   "source": [
    "#regardons les cas où le produit dans transaction n'est pas trouvé dans products\n",
    "df_final[df_final._merge==\"left_only\"]"
   ]
  },
  {
   "cell_type": "code",
   "execution_count": 46,
   "id": "d65dfdc9",
   "metadata": {},
   "outputs": [
    {
     "data": {
      "text/html": [
       "<div>\n",
       "<style scoped>\n",
       "    .dataframe tbody tr th:only-of-type {\n",
       "        vertical-align: middle;\n",
       "    }\n",
       "\n",
       "    .dataframe tbody tr th {\n",
       "        vertical-align: top;\n",
       "    }\n",
       "\n",
       "    .dataframe thead th {\n",
       "        text-align: right;\n",
       "    }\n",
       "</style>\n",
       "<table border=\"1\" class=\"dataframe\">\n",
       "  <thead>\n",
       "    <tr style=\"text-align: right;\">\n",
       "      <th></th>\n",
       "      <th>id_prod</th>\n",
       "      <th>date</th>\n",
       "      <th>session_id</th>\n",
       "      <th>client_id</th>\n",
       "      <th>price</th>\n",
       "      <th>categ</th>\n",
       "      <th>_merge</th>\n",
       "    </tr>\n",
       "  </thead>\n",
       "  <tbody>\n",
       "    <tr>\n",
       "      <th>count</th>\n",
       "      <td>221</td>\n",
       "      <td>221</td>\n",
       "      <td>221</td>\n",
       "      <td>221</td>\n",
       "      <td>0.0</td>\n",
       "      <td>0.0</td>\n",
       "      <td>221</td>\n",
       "    </tr>\n",
       "    <tr>\n",
       "      <th>unique</th>\n",
       "      <td>1</td>\n",
       "      <td>221</td>\n",
       "      <td>221</td>\n",
       "      <td>100</td>\n",
       "      <td>NaN</td>\n",
       "      <td>NaN</td>\n",
       "      <td>1</td>\n",
       "    </tr>\n",
       "    <tr>\n",
       "      <th>top</th>\n",
       "      <td>0_2245</td>\n",
       "      <td>2022-09-23 07:22:38.636773</td>\n",
       "      <td>s_272266</td>\n",
       "      <td>c_1533</td>\n",
       "      <td>NaN</td>\n",
       "      <td>NaN</td>\n",
       "      <td>left_only</td>\n",
       "    </tr>\n",
       "    <tr>\n",
       "      <th>freq</th>\n",
       "      <td>221</td>\n",
       "      <td>1</td>\n",
       "      <td>1</td>\n",
       "      <td>6</td>\n",
       "      <td>NaN</td>\n",
       "      <td>NaN</td>\n",
       "      <td>221</td>\n",
       "    </tr>\n",
       "    <tr>\n",
       "      <th>mean</th>\n",
       "      <td>NaN</td>\n",
       "      <td>NaN</td>\n",
       "      <td>NaN</td>\n",
       "      <td>NaN</td>\n",
       "      <td>NaN</td>\n",
       "      <td>NaN</td>\n",
       "      <td>NaN</td>\n",
       "    </tr>\n",
       "    <tr>\n",
       "      <th>std</th>\n",
       "      <td>NaN</td>\n",
       "      <td>NaN</td>\n",
       "      <td>NaN</td>\n",
       "      <td>NaN</td>\n",
       "      <td>NaN</td>\n",
       "      <td>NaN</td>\n",
       "      <td>NaN</td>\n",
       "    </tr>\n",
       "    <tr>\n",
       "      <th>min</th>\n",
       "      <td>NaN</td>\n",
       "      <td>NaN</td>\n",
       "      <td>NaN</td>\n",
       "      <td>NaN</td>\n",
       "      <td>NaN</td>\n",
       "      <td>NaN</td>\n",
       "      <td>NaN</td>\n",
       "    </tr>\n",
       "    <tr>\n",
       "      <th>25%</th>\n",
       "      <td>NaN</td>\n",
       "      <td>NaN</td>\n",
       "      <td>NaN</td>\n",
       "      <td>NaN</td>\n",
       "      <td>NaN</td>\n",
       "      <td>NaN</td>\n",
       "      <td>NaN</td>\n",
       "    </tr>\n",
       "    <tr>\n",
       "      <th>50%</th>\n",
       "      <td>NaN</td>\n",
       "      <td>NaN</td>\n",
       "      <td>NaN</td>\n",
       "      <td>NaN</td>\n",
       "      <td>NaN</td>\n",
       "      <td>NaN</td>\n",
       "      <td>NaN</td>\n",
       "    </tr>\n",
       "    <tr>\n",
       "      <th>75%</th>\n",
       "      <td>NaN</td>\n",
       "      <td>NaN</td>\n",
       "      <td>NaN</td>\n",
       "      <td>NaN</td>\n",
       "      <td>NaN</td>\n",
       "      <td>NaN</td>\n",
       "      <td>NaN</td>\n",
       "    </tr>\n",
       "    <tr>\n",
       "      <th>max</th>\n",
       "      <td>NaN</td>\n",
       "      <td>NaN</td>\n",
       "      <td>NaN</td>\n",
       "      <td>NaN</td>\n",
       "      <td>NaN</td>\n",
       "      <td>NaN</td>\n",
       "      <td>NaN</td>\n",
       "    </tr>\n",
       "  </tbody>\n",
       "</table>\n",
       "</div>"
      ],
      "text/plain": [
       "       id_prod                        date session_id client_id  price  categ  \\\n",
       "count      221                         221        221       221    0.0    0.0   \n",
       "unique       1                         221        221       100    NaN    NaN   \n",
       "top     0_2245  2022-09-23 07:22:38.636773   s_272266    c_1533    NaN    NaN   \n",
       "freq       221                           1          1         6    NaN    NaN   \n",
       "mean       NaN                         NaN        NaN       NaN    NaN    NaN   \n",
       "std        NaN                         NaN        NaN       NaN    NaN    NaN   \n",
       "min        NaN                         NaN        NaN       NaN    NaN    NaN   \n",
       "25%        NaN                         NaN        NaN       NaN    NaN    NaN   \n",
       "50%        NaN                         NaN        NaN       NaN    NaN    NaN   \n",
       "75%        NaN                         NaN        NaN       NaN    NaN    NaN   \n",
       "max        NaN                         NaN        NaN       NaN    NaN    NaN   \n",
       "\n",
       "           _merge  \n",
       "count         221  \n",
       "unique          1  \n",
       "top     left_only  \n",
       "freq          221  \n",
       "mean          NaN  \n",
       "std           NaN  \n",
       "min           NaN  \n",
       "25%           NaN  \n",
       "50%           NaN  \n",
       "75%           NaN  \n",
       "max           NaN  "
      ]
     },
     "execution_count": 46,
     "metadata": {},
     "output_type": "execute_result"
    }
   ],
   "source": [
    "df_final[df_final._merge==\"left_only\"].describe(include = \"all\")"
   ]
  },
  {
   "cell_type": "markdown",
   "id": "dc0dc4a0",
   "metadata": {},
   "source": [
    "Un produit a été vendu 221 fois, mais on ne connait pas son prix.\n",
    "Plusieurs possibilités : \n",
    "\n",
    "    - on supprime les lignes -> on sous-estimera le CA\n",
    "    \n",
    "    - on fait une imputation "
   ]
  },
  {
   "cell_type": "code",
   "execution_count": 47,
   "id": "e144e193",
   "metadata": {},
   "outputs": [],
   "source": [
    "# faisons une imputation \n",
    "\n",
    "index = df_final[df_final._merge==\"left_only\"].index #on récupère l'index des lignes qu'il faut modifier \n",
    "\n",
    "df_final.loc[index,\"price\"] = 11.7\n",
    "\n",
    "df_final.loc[index,\"categ\"] = 0\n"
   ]
  },
  {
   "cell_type": "markdown",
   "id": "8fabc726",
   "metadata": {},
   "source": [
    "### 1.2.1 - ajout de customers"
   ]
  },
  {
   "cell_type": "code",
   "execution_count": 66,
   "id": "db90ca67",
   "metadata": {},
   "outputs": [
    {
     "data": {
      "text/html": [
       "<div>\n",
       "<style scoped>\n",
       "    .dataframe tbody tr th:only-of-type {\n",
       "        vertical-align: middle;\n",
       "    }\n",
       "\n",
       "    .dataframe tbody tr th {\n",
       "        vertical-align: top;\n",
       "    }\n",
       "\n",
       "    .dataframe thead th {\n",
       "        text-align: right;\n",
       "    }\n",
       "</style>\n",
       "<table border=\"1\" class=\"dataframe\">\n",
       "  <thead>\n",
       "    <tr style=\"text-align: right;\">\n",
       "      <th></th>\n",
       "      <th>id_prod</th>\n",
       "      <th>date</th>\n",
       "      <th>session_id</th>\n",
       "      <th>client_id</th>\n",
       "      <th>price</th>\n",
       "      <th>categ</th>\n",
       "      <th>sex</th>\n",
       "      <th>birth</th>\n",
       "      <th>_merge</th>\n",
       "    </tr>\n",
       "  </thead>\n",
       "  <tbody>\n",
       "    <tr>\n",
       "      <th>0</th>\n",
       "      <td>0_1090</td>\n",
       "      <td>2021-12-19 02:44:12.827475</td>\n",
       "      <td>s_136532</td>\n",
       "      <td>c_1</td>\n",
       "      <td>13.78</td>\n",
       "      <td>0.0</td>\n",
       "      <td>m</td>\n",
       "      <td>1955</td>\n",
       "      <td>both</td>\n",
       "    </tr>\n",
       "    <tr>\n",
       "      <th>1</th>\n",
       "      <td>0_1186</td>\n",
       "      <td>2021-07-25 12:17:34.446678</td>\n",
       "      <td>s_66947</td>\n",
       "      <td>c_1</td>\n",
       "      <td>12.30</td>\n",
       "      <td>0.0</td>\n",
       "      <td>m</td>\n",
       "      <td>1955</td>\n",
       "      <td>both</td>\n",
       "    </tr>\n",
       "    <tr>\n",
       "      <th>2</th>\n",
       "      <td>0_1186</td>\n",
       "      <td>2022-08-25 12:17:34.446678</td>\n",
       "      <td>s_258252</td>\n",
       "      <td>c_1</td>\n",
       "      <td>12.30</td>\n",
       "      <td>0.0</td>\n",
       "      <td>m</td>\n",
       "      <td>1955</td>\n",
       "      <td>both</td>\n",
       "    </tr>\n",
       "    <tr>\n",
       "      <th>3</th>\n",
       "      <td>0_1378</td>\n",
       "      <td>2021-08-23 16:56:15.401655</td>\n",
       "      <td>s_79696</td>\n",
       "      <td>c_1</td>\n",
       "      <td>13.96</td>\n",
       "      <td>0.0</td>\n",
       "      <td>m</td>\n",
       "      <td>1955</td>\n",
       "      <td>both</td>\n",
       "    </tr>\n",
       "    <tr>\n",
       "      <th>4</th>\n",
       "      <td>0_1378</td>\n",
       "      <td>2022-07-23 16:56:15.401655</td>\n",
       "      <td>s_242617</td>\n",
       "      <td>c_1</td>\n",
       "      <td>13.96</td>\n",
       "      <td>0.0</td>\n",
       "      <td>m</td>\n",
       "      <td>1955</td>\n",
       "      <td>both</td>\n",
       "    </tr>\n",
       "    <tr>\n",
       "      <th>...</th>\n",
       "      <td>...</td>\n",
       "      <td>...</td>\n",
       "      <td>...</td>\n",
       "      <td>...</td>\n",
       "      <td>...</td>\n",
       "      <td>...</td>\n",
       "      <td>...</td>\n",
       "      <td>...</td>\n",
       "      <td>...</td>\n",
       "    </tr>\n",
       "    <tr>\n",
       "      <th>679528</th>\n",
       "      <td>T_0</td>\n",
       "      <td>test_2021-03-01 02:30:02.237421</td>\n",
       "      <td>s_0</td>\n",
       "      <td>ct_1</td>\n",
       "      <td>-1.00</td>\n",
       "      <td>0.0</td>\n",
       "      <td>m</td>\n",
       "      <td>2001</td>\n",
       "      <td>both</td>\n",
       "    </tr>\n",
       "    <tr>\n",
       "      <th>679529</th>\n",
       "      <td>T_0</td>\n",
       "      <td>test_2021-03-01 02:30:02.237440</td>\n",
       "      <td>s_0</td>\n",
       "      <td>ct_1</td>\n",
       "      <td>-1.00</td>\n",
       "      <td>0.0</td>\n",
       "      <td>m</td>\n",
       "      <td>2001</td>\n",
       "      <td>both</td>\n",
       "    </tr>\n",
       "    <tr>\n",
       "      <th>679530</th>\n",
       "      <td>T_0</td>\n",
       "      <td>test_2021-03-01 02:30:02.237418</td>\n",
       "      <td>s_0</td>\n",
       "      <td>ct_1</td>\n",
       "      <td>-1.00</td>\n",
       "      <td>0.0</td>\n",
       "      <td>m</td>\n",
       "      <td>2001</td>\n",
       "      <td>both</td>\n",
       "    </tr>\n",
       "    <tr>\n",
       "      <th>679531</th>\n",
       "      <td>T_0</td>\n",
       "      <td>test_2021-03-01 02:30:02.237439</td>\n",
       "      <td>s_0</td>\n",
       "      <td>ct_1</td>\n",
       "      <td>-1.00</td>\n",
       "      <td>0.0</td>\n",
       "      <td>m</td>\n",
       "      <td>2001</td>\n",
       "      <td>both</td>\n",
       "    </tr>\n",
       "    <tr>\n",
       "      <th>679532</th>\n",
       "      <td>T_0</td>\n",
       "      <td>test_2021-03-01 02:30:02.237412</td>\n",
       "      <td>s_0</td>\n",
       "      <td>ct_1</td>\n",
       "      <td>-1.00</td>\n",
       "      <td>0.0</td>\n",
       "      <td>m</td>\n",
       "      <td>2001</td>\n",
       "      <td>both</td>\n",
       "    </tr>\n",
       "  </tbody>\n",
       "</table>\n",
       "<p>679533 rows × 9 columns</p>\n",
       "</div>"
      ],
      "text/plain": [
       "       id_prod                             date session_id client_id  price  \\\n",
       "0       0_1090       2021-12-19 02:44:12.827475   s_136532       c_1  13.78   \n",
       "1       0_1186       2021-07-25 12:17:34.446678    s_66947       c_1  12.30   \n",
       "2       0_1186       2022-08-25 12:17:34.446678   s_258252       c_1  12.30   \n",
       "3       0_1378       2021-08-23 16:56:15.401655    s_79696       c_1  13.96   \n",
       "4       0_1378       2022-07-23 16:56:15.401655   s_242617       c_1  13.96   \n",
       "...        ...                              ...        ...       ...    ...   \n",
       "679528     T_0  test_2021-03-01 02:30:02.237421        s_0      ct_1  -1.00   \n",
       "679529     T_0  test_2021-03-01 02:30:02.237440        s_0      ct_1  -1.00   \n",
       "679530     T_0  test_2021-03-01 02:30:02.237418        s_0      ct_1  -1.00   \n",
       "679531     T_0  test_2021-03-01 02:30:02.237439        s_0      ct_1  -1.00   \n",
       "679532     T_0  test_2021-03-01 02:30:02.237412        s_0      ct_1  -1.00   \n",
       "\n",
       "        categ sex  birth _merge  \n",
       "0         0.0   m   1955   both  \n",
       "1         0.0   m   1955   both  \n",
       "2         0.0   m   1955   both  \n",
       "3         0.0   m   1955   both  \n",
       "4         0.0   m   1955   both  \n",
       "...       ...  ..    ...    ...  \n",
       "679528    0.0   m   2001   both  \n",
       "679529    0.0   m   2001   both  \n",
       "679530    0.0   m   2001   both  \n",
       "679531    0.0   m   2001   both  \n",
       "679532    0.0   m   2001   both  \n",
       "\n",
       "[679533 rows x 9 columns]"
      ]
     },
     "execution_count": 66,
     "metadata": {},
     "output_type": "execute_result"
    }
   ],
   "source": [
    "Real = pd.merge(df_final, customers, on=\"client_id\", how=\"outer\", indicator=True)   #indicator=True crée la colonne merge pour s'y référer\n",
    "Real.head(-20)"
   ]
  },
  {
   "cell_type": "code",
   "execution_count": 67,
   "id": "f7adfbc0",
   "metadata": {},
   "outputs": [
    {
     "name": "stdout",
     "output_type": "stream",
     "text": [
      "<class 'pandas.core.frame.DataFrame'>\n",
      "RangeIndex: 679553 entries, 0 to 679552\n",
      "Data columns (total 9 columns):\n",
      " #   Column      Non-Null Count   Dtype   \n",
      "---  ------      --------------   -----   \n",
      " 0   id_prod     679532 non-null  object  \n",
      " 1   date        679532 non-null  object  \n",
      " 2   session_id  679532 non-null  object  \n",
      " 3   client_id   679553 non-null  object  \n",
      " 4   price       679532 non-null  float64 \n",
      " 5   categ       679532 non-null  float64 \n",
      " 6   sex         679553 non-null  object  \n",
      " 7   birth       679553 non-null  int64   \n",
      " 8   _merge      679553 non-null  category\n",
      "dtypes: category(1), float64(2), int64(1), object(5)\n",
      "memory usage: 42.1+ MB\n"
     ]
    }
   ],
   "source": [
    "Real.info()"
   ]
  },
  {
   "cell_type": "code",
   "execution_count": 68,
   "id": "6a660208",
   "metadata": {},
   "outputs": [
    {
     "data": {
      "text/plain": [
       "id_prod       21\n",
       "date          21\n",
       "session_id    21\n",
       "client_id      0\n",
       "price         21\n",
       "categ         21\n",
       "sex            0\n",
       "birth          0\n",
       "_merge         0\n",
       "dtype: int64"
      ]
     },
     "execution_count": 68,
     "metadata": {},
     "output_type": "execute_result"
    }
   ],
   "source": [
    "Real.isnull().sum()"
   ]
  },
  {
   "cell_type": "markdown",
   "id": "e78b8760",
   "metadata": {},
   "source": [
    "Il y a donc 21 valeurs nulles dans le df Real"
   ]
  },
  {
   "cell_type": "code",
   "execution_count": null,
   "id": "71cedca9",
   "metadata": {},
   "outputs": [
    {
     "data": {
      "text/html": [
       "<div>\n",
       "<style scoped>\n",
       "    .dataframe tbody tr th:only-of-type {\n",
       "        vertical-align: middle;\n",
       "    }\n",
       "\n",
       "    .dataframe tbody tr th {\n",
       "        vertical-align: top;\n",
       "    }\n",
       "\n",
       "    .dataframe thead th {\n",
       "        text-align: right;\n",
       "    }\n",
       "</style>\n",
       "<table border=\"1\" class=\"dataframe\">\n",
       "  <thead>\n",
       "    <tr style=\"text-align: right;\">\n",
       "      <th></th>\n",
       "      <th>id_prod</th>\n",
       "      <th>date</th>\n",
       "      <th>session_id</th>\n",
       "      <th>client_id</th>\n",
       "      <th>price</th>\n",
       "      <th>categ</th>\n",
       "      <th>sex</th>\n",
       "      <th>birth</th>\n",
       "      <th>_merge</th>\n",
       "    </tr>\n",
       "  </thead>\n",
       "  <tbody>\n",
       "  </tbody>\n",
       "</table>\n",
       "</div>"
      ],
      "text/plain": [
       "Empty DataFrame\n",
       "Columns: [id_prod, date, session_id, client_id, price, categ, sex, birth, _merge]\n",
       "Index: []"
      ]
     },
     "execution_count": 69,
     "metadata": {},
     "output_type": "execute_result"
    }
   ],
   "source": [
    "# Vérifier si des ventes concernent des clients absents de customers \n",
    "Real[Real._merge==\"left_only\"]"
   ]
  },
  {
   "cell_type": "code",
   "execution_count": 70,
   "id": "144e64fb",
   "metadata": {},
   "outputs": [
    {
     "data": {
      "text/html": [
       "<div>\n",
       "<style scoped>\n",
       "    .dataframe tbody tr th:only-of-type {\n",
       "        vertical-align: middle;\n",
       "    }\n",
       "\n",
       "    .dataframe tbody tr th {\n",
       "        vertical-align: top;\n",
       "    }\n",
       "\n",
       "    .dataframe thead th {\n",
       "        text-align: right;\n",
       "    }\n",
       "</style>\n",
       "<table border=\"1\" class=\"dataframe\">\n",
       "  <thead>\n",
       "    <tr style=\"text-align: right;\">\n",
       "      <th></th>\n",
       "      <th>id_prod</th>\n",
       "      <th>date</th>\n",
       "      <th>session_id</th>\n",
       "      <th>client_id</th>\n",
       "      <th>price</th>\n",
       "      <th>categ</th>\n",
       "      <th>sex</th>\n",
       "      <th>birth</th>\n",
       "      <th>_merge</th>\n",
       "    </tr>\n",
       "  </thead>\n",
       "  <tbody>\n",
       "    <tr>\n",
       "      <th>18130</th>\n",
       "      <td>NaN</td>\n",
       "      <td>NaN</td>\n",
       "      <td>NaN</td>\n",
       "      <td>c_1223</td>\n",
       "      <td>NaN</td>\n",
       "      <td>NaN</td>\n",
       "      <td>m</td>\n",
       "      <td>1963</td>\n",
       "      <td>right_only</td>\n",
       "    </tr>\n",
       "    <tr>\n",
       "      <th>165377</th>\n",
       "      <td>NaN</td>\n",
       "      <td>NaN</td>\n",
       "      <td>NaN</td>\n",
       "      <td>c_2706</td>\n",
       "      <td>NaN</td>\n",
       "      <td>NaN</td>\n",
       "      <td>f</td>\n",
       "      <td>1967</td>\n",
       "      <td>right_only</td>\n",
       "    </tr>\n",
       "    <tr>\n",
       "      <th>189365</th>\n",
       "      <td>NaN</td>\n",
       "      <td>NaN</td>\n",
       "      <td>NaN</td>\n",
       "      <td>c_3017</td>\n",
       "      <td>NaN</td>\n",
       "      <td>NaN</td>\n",
       "      <td>f</td>\n",
       "      <td>1992</td>\n",
       "      <td>right_only</td>\n",
       "    </tr>\n",
       "    <tr>\n",
       "      <th>223199</th>\n",
       "      <td>NaN</td>\n",
       "      <td>NaN</td>\n",
       "      <td>NaN</td>\n",
       "      <td>c_3443</td>\n",
       "      <td>NaN</td>\n",
       "      <td>NaN</td>\n",
       "      <td>m</td>\n",
       "      <td>1959</td>\n",
       "      <td>right_only</td>\n",
       "    </tr>\n",
       "    <tr>\n",
       "      <th>237394</th>\n",
       "      <td>NaN</td>\n",
       "      <td>NaN</td>\n",
       "      <td>NaN</td>\n",
       "      <td>c_3526</td>\n",
       "      <td>NaN</td>\n",
       "      <td>NaN</td>\n",
       "      <td>m</td>\n",
       "      <td>1956</td>\n",
       "      <td>right_only</td>\n",
       "    </tr>\n",
       "    <tr>\n",
       "      <th>257888</th>\n",
       "      <td>NaN</td>\n",
       "      <td>NaN</td>\n",
       "      <td>NaN</td>\n",
       "      <td>c_3789</td>\n",
       "      <td>NaN</td>\n",
       "      <td>NaN</td>\n",
       "      <td>f</td>\n",
       "      <td>1997</td>\n",
       "      <td>right_only</td>\n",
       "    </tr>\n",
       "    <tr>\n",
       "      <th>278852</th>\n",
       "      <td>NaN</td>\n",
       "      <td>NaN</td>\n",
       "      <td>NaN</td>\n",
       "      <td>c_4086</td>\n",
       "      <td>NaN</td>\n",
       "      <td>NaN</td>\n",
       "      <td>f</td>\n",
       "      <td>1992</td>\n",
       "      <td>right_only</td>\n",
       "    </tr>\n",
       "    <tr>\n",
       "      <th>302230</th>\n",
       "      <td>NaN</td>\n",
       "      <td>NaN</td>\n",
       "      <td>NaN</td>\n",
       "      <td>c_4358</td>\n",
       "      <td>NaN</td>\n",
       "      <td>NaN</td>\n",
       "      <td>m</td>\n",
       "      <td>1999</td>\n",
       "      <td>right_only</td>\n",
       "    </tr>\n",
       "    <tr>\n",
       "      <th>305396</th>\n",
       "      <td>NaN</td>\n",
       "      <td>NaN</td>\n",
       "      <td>NaN</td>\n",
       "      <td>c_4406</td>\n",
       "      <td>NaN</td>\n",
       "      <td>NaN</td>\n",
       "      <td>f</td>\n",
       "      <td>1998</td>\n",
       "      <td>right_only</td>\n",
       "    </tr>\n",
       "    <tr>\n",
       "      <th>308972</th>\n",
       "      <td>NaN</td>\n",
       "      <td>NaN</td>\n",
       "      <td>NaN</td>\n",
       "      <td>c_4447</td>\n",
       "      <td>NaN</td>\n",
       "      <td>NaN</td>\n",
       "      <td>m</td>\n",
       "      <td>1956</td>\n",
       "      <td>right_only</td>\n",
       "    </tr>\n",
       "    <tr>\n",
       "      <th>375882</th>\n",
       "      <td>NaN</td>\n",
       "      <td>NaN</td>\n",
       "      <td>NaN</td>\n",
       "      <td>c_5223</td>\n",
       "      <td>NaN</td>\n",
       "      <td>NaN</td>\n",
       "      <td>m</td>\n",
       "      <td>2003</td>\n",
       "      <td>right_only</td>\n",
       "    </tr>\n",
       "    <tr>\n",
       "      <th>377051</th>\n",
       "      <td>NaN</td>\n",
       "      <td>NaN</td>\n",
       "      <td>NaN</td>\n",
       "      <td>c_5245</td>\n",
       "      <td>NaN</td>\n",
       "      <td>NaN</td>\n",
       "      <td>f</td>\n",
       "      <td>2004</td>\n",
       "      <td>right_only</td>\n",
       "    </tr>\n",
       "    <tr>\n",
       "      <th>429697</th>\n",
       "      <td>NaN</td>\n",
       "      <td>NaN</td>\n",
       "      <td>NaN</td>\n",
       "      <td>c_587</td>\n",
       "      <td>NaN</td>\n",
       "      <td>NaN</td>\n",
       "      <td>m</td>\n",
       "      <td>1993</td>\n",
       "      <td>right_only</td>\n",
       "    </tr>\n",
       "    <tr>\n",
       "      <th>512942</th>\n",
       "      <td>NaN</td>\n",
       "      <td>NaN</td>\n",
       "      <td>NaN</td>\n",
       "      <td>c_6735</td>\n",
       "      <td>NaN</td>\n",
       "      <td>NaN</td>\n",
       "      <td>m</td>\n",
       "      <td>2004</td>\n",
       "      <td>right_only</td>\n",
       "    </tr>\n",
       "    <tr>\n",
       "      <th>522639</th>\n",
       "      <td>NaN</td>\n",
       "      <td>NaN</td>\n",
       "      <td>NaN</td>\n",
       "      <td>c_6862</td>\n",
       "      <td>NaN</td>\n",
       "      <td>NaN</td>\n",
       "      <td>f</td>\n",
       "      <td>2002</td>\n",
       "      <td>right_only</td>\n",
       "    </tr>\n",
       "    <tr>\n",
       "      <th>528378</th>\n",
       "      <td>NaN</td>\n",
       "      <td>NaN</td>\n",
       "      <td>NaN</td>\n",
       "      <td>c_6930</td>\n",
       "      <td>NaN</td>\n",
       "      <td>NaN</td>\n",
       "      <td>m</td>\n",
       "      <td>2004</td>\n",
       "      <td>right_only</td>\n",
       "    </tr>\n",
       "    <tr>\n",
       "      <th>583266</th>\n",
       "      <td>NaN</td>\n",
       "      <td>NaN</td>\n",
       "      <td>NaN</td>\n",
       "      <td>c_7584</td>\n",
       "      <td>NaN</td>\n",
       "      <td>NaN</td>\n",
       "      <td>f</td>\n",
       "      <td>1960</td>\n",
       "      <td>right_only</td>\n",
       "    </tr>\n",
       "    <tr>\n",
       "      <th>639136</th>\n",
       "      <td>NaN</td>\n",
       "      <td>NaN</td>\n",
       "      <td>NaN</td>\n",
       "      <td>c_8253</td>\n",
       "      <td>NaN</td>\n",
       "      <td>NaN</td>\n",
       "      <td>f</td>\n",
       "      <td>2001</td>\n",
       "      <td>right_only</td>\n",
       "    </tr>\n",
       "    <tr>\n",
       "      <th>649832</th>\n",
       "      <td>NaN</td>\n",
       "      <td>NaN</td>\n",
       "      <td>NaN</td>\n",
       "      <td>c_8381</td>\n",
       "      <td>NaN</td>\n",
       "      <td>NaN</td>\n",
       "      <td>f</td>\n",
       "      <td>1965</td>\n",
       "      <td>right_only</td>\n",
       "    </tr>\n",
       "    <tr>\n",
       "      <th>669440</th>\n",
       "      <td>NaN</td>\n",
       "      <td>NaN</td>\n",
       "      <td>NaN</td>\n",
       "      <td>c_862</td>\n",
       "      <td>NaN</td>\n",
       "      <td>NaN</td>\n",
       "      <td>f</td>\n",
       "      <td>1956</td>\n",
       "      <td>right_only</td>\n",
       "    </tr>\n",
       "    <tr>\n",
       "      <th>673012</th>\n",
       "      <td>NaN</td>\n",
       "      <td>NaN</td>\n",
       "      <td>NaN</td>\n",
       "      <td>c_90</td>\n",
       "      <td>NaN</td>\n",
       "      <td>NaN</td>\n",
       "      <td>m</td>\n",
       "      <td>2001</td>\n",
       "      <td>right_only</td>\n",
       "    </tr>\n",
       "  </tbody>\n",
       "</table>\n",
       "</div>"
      ],
      "text/plain": [
       "       id_prod date session_id client_id  price  categ sex  birth      _merge\n",
       "18130      NaN  NaN        NaN    c_1223    NaN    NaN   m   1963  right_only\n",
       "165377     NaN  NaN        NaN    c_2706    NaN    NaN   f   1967  right_only\n",
       "189365     NaN  NaN        NaN    c_3017    NaN    NaN   f   1992  right_only\n",
       "223199     NaN  NaN        NaN    c_3443    NaN    NaN   m   1959  right_only\n",
       "237394     NaN  NaN        NaN    c_3526    NaN    NaN   m   1956  right_only\n",
       "257888     NaN  NaN        NaN    c_3789    NaN    NaN   f   1997  right_only\n",
       "278852     NaN  NaN        NaN    c_4086    NaN    NaN   f   1992  right_only\n",
       "302230     NaN  NaN        NaN    c_4358    NaN    NaN   m   1999  right_only\n",
       "305396     NaN  NaN        NaN    c_4406    NaN    NaN   f   1998  right_only\n",
       "308972     NaN  NaN        NaN    c_4447    NaN    NaN   m   1956  right_only\n",
       "375882     NaN  NaN        NaN    c_5223    NaN    NaN   m   2003  right_only\n",
       "377051     NaN  NaN        NaN    c_5245    NaN    NaN   f   2004  right_only\n",
       "429697     NaN  NaN        NaN     c_587    NaN    NaN   m   1993  right_only\n",
       "512942     NaN  NaN        NaN    c_6735    NaN    NaN   m   2004  right_only\n",
       "522639     NaN  NaN        NaN    c_6862    NaN    NaN   f   2002  right_only\n",
       "528378     NaN  NaN        NaN    c_6930    NaN    NaN   m   2004  right_only\n",
       "583266     NaN  NaN        NaN    c_7584    NaN    NaN   f   1960  right_only\n",
       "639136     NaN  NaN        NaN    c_8253    NaN    NaN   f   2001  right_only\n",
       "649832     NaN  NaN        NaN    c_8381    NaN    NaN   f   1965  right_only\n",
       "669440     NaN  NaN        NaN     c_862    NaN    NaN   f   1956  right_only\n",
       "673012     NaN  NaN        NaN      c_90    NaN    NaN   m   2001  right_only"
      ]
     },
     "execution_count": 70,
     "metadata": {},
     "output_type": "execute_result"
    }
   ],
   "source": [
    "# Vérifier si des clients n'ont fait aucun achat\n",
    "Real[Real._merge==\"right_only\"]"
   ]
  },
  {
   "cell_type": "code",
   "execution_count": 71,
   "id": "ff6aadfe",
   "metadata": {},
   "outputs": [],
   "source": [
    "# on stocke ces clients sur un df à part.\n",
    "dormantCustomers = Real[Real._merge==\"right_only\"]"
   ]
  },
  {
   "cell_type": "code",
   "execution_count": 72,
   "id": "a8f2b225",
   "metadata": {},
   "outputs": [
    {
     "data": {
      "text/html": [
       "<div>\n",
       "<style scoped>\n",
       "    .dataframe tbody tr th:only-of-type {\n",
       "        vertical-align: middle;\n",
       "    }\n",
       "\n",
       "    .dataframe tbody tr th {\n",
       "        vertical-align: top;\n",
       "    }\n",
       "\n",
       "    .dataframe thead th {\n",
       "        text-align: right;\n",
       "    }\n",
       "</style>\n",
       "<table border=\"1\" class=\"dataframe\">\n",
       "  <thead>\n",
       "    <tr style=\"text-align: right;\">\n",
       "      <th></th>\n",
       "      <th>id_prod</th>\n",
       "      <th>date</th>\n",
       "      <th>session_id</th>\n",
       "      <th>client_id</th>\n",
       "      <th>price</th>\n",
       "      <th>categ</th>\n",
       "      <th>sex</th>\n",
       "      <th>birth</th>\n",
       "      <th>_merge</th>\n",
       "    </tr>\n",
       "  </thead>\n",
       "  <tbody>\n",
       "  </tbody>\n",
       "</table>\n",
       "</div>"
      ],
      "text/plain": [
       "Empty DataFrame\n",
       "Columns: [id_prod, date, session_id, client_id, price, categ, sex, birth, _merge]\n",
       "Index: []"
      ]
     },
     "execution_count": 72,
     "metadata": {},
     "output_type": "execute_result"
    }
   ],
   "source": [
    "#on supprime les clients radins/décédés/infidèles ...\n",
    "\n",
    "index = Real[Real._merge==\"right_only\"].index\n",
    "\n",
    "Real.drop(index, inplace=True)\n",
    "\n",
    "Real[Real._merge==\"right_only\"]"
   ]
  },
  {
   "cell_type": "code",
   "execution_count": 73,
   "id": "c2ea3726",
   "metadata": {},
   "outputs": [
    {
     "name": "stdout",
     "output_type": "stream",
     "text": [
      "<class 'pandas.core.frame.DataFrame'>\n",
      "Index: 679532 entries, 0 to 679552\n",
      "Data columns (total 9 columns):\n",
      " #   Column      Non-Null Count   Dtype   \n",
      "---  ------      --------------   -----   \n",
      " 0   id_prod     679532 non-null  object  \n",
      " 1   date        679532 non-null  object  \n",
      " 2   session_id  679532 non-null  object  \n",
      " 3   client_id   679532 non-null  object  \n",
      " 4   price       679532 non-null  float64 \n",
      " 5   categ       679532 non-null  float64 \n",
      " 6   sex         679532 non-null  object  \n",
      " 7   birth       679532 non-null  int64   \n",
      " 8   _merge      679532 non-null  category\n",
      "dtypes: category(1), float64(2), int64(1), object(5)\n",
      "memory usage: 47.3+ MB\n"
     ]
    },
    {
     "data": {
      "text/plain": [
       "(679532, 9)"
      ]
     },
     "execution_count": 73,
     "metadata": {},
     "output_type": "execute_result"
    }
   ],
   "source": [
    "Real.info()\n",
    "Real.shape"
   ]
  },
  {
   "cell_type": "markdown",
   "id": "2d8e4810",
   "metadata": {},
   "source": [
    "# 2 Analyse globale du CA"
   ]
  },
  {
   "cell_type": "code",
   "execution_count": null,
   "id": "c2a70655",
   "metadata": {},
   "outputs": [],
   "source": [
    "df_final.head()"
   ]
  },
  {
   "cell_type": "code",
   "execution_count": 66,
   "id": "27ca3f33",
   "metadata": {},
   "outputs": [],
   "source": [
    "# calculer le CA total\n",
    "\n"
   ]
  },
  {
   "cell_type": "markdown",
   "id": "1692706d",
   "metadata": {},
   "source": [
    "## 2.1 Traitement de la date"
   ]
  },
  {
   "cell_type": "markdown",
   "id": "5436fe1a",
   "metadata": {},
   "source": [
    "On aimerait pouvoir faire des analyses du CA par an, par mois, par jour de la semaine, par catégorie de produit.\n",
    "On s'occupera des analyses des usages de clients dans le chapitre 3 "
   ]
  },
  {
   "cell_type": "markdown",
   "id": "ffae5f8f",
   "metadata": {},
   "source": [
    "On a besoin de traiter la date pour pouvoir faire ces analyses. \n",
    "On va créer des nouvelles colonnes à parti de ce champ"
   ]
  },
  {
   "cell_type": "code",
   "execution_count": null,
   "id": "9e20202d",
   "metadata": {},
   "outputs": [],
   "source": [
    "# Modification du type de ma colonne date\n",
    "df_final['date'] = pd.to_datetime(df_final['date'])"
   ]
  },
  {
   "cell_type": "code",
   "execution_count": null,
   "id": "c8551c18",
   "metadata": {},
   "outputs": [],
   "source": [
    "df_final['année'] = df_final['date'].dt.year"
   ]
  },
  {
   "cell_type": "code",
   "execution_count": null,
   "id": "7e3d761c",
   "metadata": {},
   "outputs": [],
   "source": [
    "df_final.head()"
   ]
  },
  {
   "cell_type": "markdown",
   "id": "b0323c85",
   "metadata": {},
   "source": [
    "En vous inspirant de ce qu'on vient de faire, créer :\n",
    "\n",
    "    un champ mois\n",
    "\n",
    "    un champ jour du mois\n",
    "\n",
    "    un champ jour de la semaine\n"
   ]
  },
  {
   "cell_type": "code",
   "execution_count": null,
   "id": "c482d5f3",
   "metadata": {},
   "outputs": [],
   "source": [
    "# A vous de jouer\n",
    "\n",
    "\n"
   ]
  },
  {
   "cell_type": "markdown",
   "id": "ed6f85eb",
   "metadata": {},
   "source": [
    "## 2.2 Analyse calendaire"
   ]
  },
  {
   "cell_type": "code",
   "execution_count": null,
   "id": "8e4c8467",
   "metadata": {},
   "outputs": [],
   "source": [
    "#Calcule du CA par année\n",
    "df_final.groupby(\"année\").price.sum()"
   ]
  },
  {
   "cell_type": "code",
   "execution_count": null,
   "id": "45fb58bc",
   "metadata": {},
   "outputs": [],
   "source": [
    "df_final.groupby(\"année\").price.sum().plot(kind = \"bar\", title=\"CA par année\",ylabel=\"CA\")"
   ]
  },
  {
   "cell_type": "markdown",
   "id": "8568bd6d",
   "metadata": {},
   "source": [
    "En vous inspirant de ce qu'on vient de faire :\n",
    "\n",
    "- Etudier le CA par mois. Qu'observons nous ? \n",
    "\n",
    "- Est-ce qu'il y a un effet fin de mois ? ou début de mois ?\n",
    "\n",
    "- Est-ce qu'il y a un effet WE? \n",
    "\n",
    "\n",
    "\n"
   ]
  },
  {
   "cell_type": "code",
   "execution_count": 57,
   "id": "1995688e",
   "metadata": {},
   "outputs": [],
   "source": [
    "# A vous de jouer\n",
    "\n",
    "\n",
    "\n"
   ]
  },
  {
   "cell_type": "markdown",
   "id": "802f9062",
   "metadata": {},
   "source": [
    "## 2.3 Analyse par catégorie\n",
    "\n"
   ]
  },
  {
   "cell_type": "code",
   "execution_count": 60,
   "id": "be25f068",
   "metadata": {},
   "outputs": [],
   "source": [
    "# reprendre le travail ci-dessous et le détailler par categorie\n",
    "\n",
    "\n"
   ]
  },
  {
   "cell_type": "code",
   "execution_count": null,
   "id": "e4306f96",
   "metadata": {},
   "outputs": [],
   "source": []
  },
  {
   "cell_type": "markdown",
   "id": "44bfa6b8",
   "metadata": {},
   "source": [
    "# 3 Analyse des usages des clients"
   ]
  },
  {
   "cell_type": "markdown",
   "id": "3f4b4b8b",
   "metadata": {},
   "source": [
    "## 3.1 Traitement de l'âge "
   ]
  },
  {
   "cell_type": "code",
   "execution_count": null,
   "id": "4d447621",
   "metadata": {},
   "outputs": [],
   "source": [
    "#créons  une colonne âge\n",
    "df_final['Age'] = 2022 - df_final['birth']"
   ]
  },
  {
   "cell_type": "code",
   "execution_count": null,
   "id": "115249de",
   "metadata": {},
   "outputs": [],
   "source": [
    "df_final.groupby(\"client_id\").mean().Age.hist(bins=40)\n",
    "\n",
    "plt.title(\"Répartition des clients par âge\")\n",
    "\n",
    "plt.xlabel(\"Age\")\n",
    "\n",
    "plt.ylabel(\"Nombre de clients\")"
   ]
  },
  {
   "cell_type": "markdown",
   "id": "77992732",
   "metadata": {},
   "source": [
    "Pour analyser les usages liés à l'âge, il est souvent plus pertinent de faire des tranches d'âge\n",
    "\n"
   ]
  },
  {
   "cell_type": "code",
   "execution_count": null,
   "id": "2085d6ad",
   "metadata": {},
   "outputs": [],
   "source": [
    "# On va créer 14 intervalles d'âges :\n",
    "\n",
    "labels = ['19-24','25-29','30-35','36-40','41-45','46-51','52-56','57-61','62-67','68-72','73-77','78-83','84-88','89-94']\n",
    "\n",
    "\n",
    "df_final['Age_tranche']= pd.cut(df_final['Age'], 14,labels=labels)"
   ]
  },
  {
   "cell_type": "markdown",
   "id": "8de28973",
   "metadata": {},
   "source": [
    "## 3.2 Analyse du chiffre d'affaires par client"
   ]
  },
  {
   "cell_type": "code",
   "execution_count": null,
   "id": "644b1b49",
   "metadata": {},
   "outputs": [],
   "source": [
    "# le nombre de clients uniques\n",
    "df_final.client_id.value_counts().shape"
   ]
  },
  {
   "cell_type": "code",
   "execution_count": null,
   "id": "7f9b0d4b",
   "metadata": {},
   "outputs": [],
   "source": [
    "# on regroupe mes données par client_id et on calcul le montant de leurs achats.\n",
    "df_client = df_final.groupby('client_id')[['price']].sum();\n",
    "df_client.head()"
   ]
  },
  {
   "cell_type": "markdown",
   "id": "258db4eb",
   "metadata": {},
   "source": [
    "Analyser le chiffre d'affaires par client : \n",
    "\n",
    "- est ce qu'il y a des outliers ? \n",
    "- si oui, quelle part du CA ils représentent ?\n",
    "- que peut-on supposer à leur sujet ? Comment les traiter dans notre analyse \n",
    "- étudier la distribution du CA par client en dehors de ces clients"
   ]
  },
  {
   "cell_type": "code",
   "execution_count": 68,
   "id": "8d0118b0",
   "metadata": {},
   "outputs": [],
   "source": [
    "# A vous de jouer\n",
    "\n"
   ]
  },
  {
   "cell_type": "markdown",
   "id": "34e4c559",
   "metadata": {},
   "source": [
    "## 3.3 Analyse des usages d'achat liés au sexe"
   ]
  },
  {
   "cell_type": "markdown",
   "id": "db3b9bf0",
   "metadata": {},
   "source": [
    "### 3.3.1 Calculer le CA par sexe"
   ]
  },
  {
   "cell_type": "code",
   "execution_count": 69,
   "id": "d0395d00",
   "metadata": {},
   "outputs": [],
   "source": [
    "# A vous de jouer"
   ]
  },
  {
   "cell_type": "markdown",
   "id": "1ee545de",
   "metadata": {},
   "source": [
    "### 3.3.2 Corrélation : Sexe et Catégorie"
   ]
  },
  {
   "cell_type": "markdown",
   "id": "b1cdc6ce",
   "metadata": {},
   "source": [
    "Les deux variables sont qualitatives.\n",
    "On va réaliser le test du Khi² pour vérifier si ces deux variables sont liées."
   ]
  },
  {
   "cell_type": "code",
   "execution_count": null,
   "id": "ce99bf7a",
   "metadata": {},
   "outputs": [],
   "source": [
    "# Création de ma table de contingence\n",
    "X = \"sex\"\n",
    "Y = \"categ\"\n",
    "\n",
    "cont_1 = df_final[[X,Y]].pivot_table(index=X,columns=Y,aggfunc=len,margins=True,margins_name=\"Total\")\n",
    "cont_1"
   ]
  },
  {
   "cell_type": "code",
   "execution_count": null,
   "id": "9b8110e2",
   "metadata": {},
   "outputs": [],
   "source": [
    "# Regardons la distibution si les variables étaient complétement independantes\n",
    "\n",
    "tx = cont_1.loc[:,[\"Total\"]]\n",
    "ty = cont_1.loc[[\"Total\"],:]\n",
    "n = len(df_final)\n",
    "indep = round(tx.dot(ty) / n)"
   ]
  },
  {
   "cell_type": "code",
   "execution_count": null,
   "id": "dae27389",
   "metadata": {},
   "outputs": [],
   "source": [
    "# regardons où l'écart est le plus important\n",
    "(cont_1 - indep)/indep"
   ]
  },
  {
   "cell_type": "code",
   "execution_count": null,
   "id": "94f132e3",
   "metadata": {},
   "outputs": [],
   "source": [
    "# importons le module chi2_contingency de la librairie scipy pour faire un chi2\n",
    "from scipy.stats import chi2_contingency as chi2_contingency"
   ]
  },
  {
   "cell_type": "code",
   "execution_count": null,
   "id": "7168b5fd",
   "metadata": {},
   "outputs": [],
   "source": [
    "chi2, p = chi2_contingency(cont_1)"
   ]
  },
  {
   "cell_type": "code",
   "execution_count": null,
   "id": "a3a575c6",
   "metadata": {},
   "outputs": [],
   "source": [
    "chi2"
   ]
  },
  {
   "cell_type": "markdown",
   "id": "30bc5b10",
   "metadata": {},
   "source": [
    "Avec une p-value inférieure à 0.05% on peut rejeter l'hypothèse 0 d'indépendance."
   ]
  },
  {
   "cell_type": "code",
   "execution_count": null,
   "id": "6ea37319",
   "metadata": {},
   "outputs": [],
   "source": [
    "import seaborn as sns\n",
    "\n",
    "\n",
    "c = cont_1.fillna(0) # On remplace les valeurs nulles par 0\n",
    "measure = (c-indep)**2/indep\n",
    "xi_n = measure.sum().sum()\n",
    "table = measure/xi_n\n",
    "sns.heatmap(table.iloc[:-1,:-1],annot=c.iloc[:-1,:-1])\n",
    "plt.title('Matrice de corrélation entre le sexe et la catégorie de produit')\n",
    "plt.show()"
   ]
  },
  {
   "cell_type": "markdown",
   "id": "1e8d09b4",
   "metadata": {},
   "source": [
    "On remarque une forte corrélation entre les hommes et la catégorie 1."
   ]
  },
  {
   "cell_type": "markdown",
   "id": "12ac1cc8",
   "metadata": {},
   "source": [
    "### 3.3.3 Test de corrélation : sexe et nombre d'achats"
   ]
  },
  {
   "cell_type": "code",
   "execution_count": null,
   "id": "81c6e003",
   "metadata": {},
   "outputs": [],
   "source": [
    "nb_achats = df_final.groupby([\"client_id\",\"sex\"],as_index=False)[[\"session_id\"]].count()"
   ]
  },
  {
   "cell_type": "code",
   "execution_count": null,
   "id": "f1fa8cb8",
   "metadata": {},
   "outputs": [],
   "source": [
    "nb_achats[['sex','session_id']].hist(by='sex',alpha = 0.5, bins = 50, sharex=True)"
   ]
  },
  {
   "cell_type": "code",
   "execution_count": null,
   "id": "bd3face1",
   "metadata": {},
   "outputs": [],
   "source": [
    "import statsmodels.api as sm\n",
    "from statsmodels.formula.api import ols"
   ]
  },
  {
   "cell_type": "code",
   "execution_count": null,
   "id": "25473d14",
   "metadata": {},
   "outputs": [],
   "source": [
    "lm = ols('session_id ~ sex', data = nb_achats).fit()\n",
    "import statsmodels.api; \n",
    "table = sm.stats.anova_lm(lm)"
   ]
  },
  {
   "cell_type": "code",
   "execution_count": null,
   "id": "932957b6",
   "metadata": {},
   "outputs": [],
   "source": [
    "table"
   ]
  },
  {
   "cell_type": "code",
   "execution_count": null,
   "id": "8cc10d03",
   "metadata": {},
   "outputs": [],
   "source": [
    "lm.summary()"
   ]
  },
  {
   "cell_type": "markdown",
   "id": "ba002617",
   "metadata": {},
   "source": [
    "## 3.4 Analyse des usages d'achat liés à l'âge¶"
   ]
  },
  {
   "cell_type": "markdown",
   "id": "19a450b0",
   "metadata": {},
   "source": [
    "### 3.4.1 Corrélation âge et CA"
   ]
  },
  {
   "cell_type": "markdown",
   "id": "ac28bb40",
   "metadata": {},
   "source": [
    "On peut considérer l'âge comme une variable quantitative. Le CA l'est aussi. "
   ]
  },
  {
   "cell_type": "code",
   "execution_count": null,
   "id": "b17611ad",
   "metadata": {},
   "outputs": [],
   "source": [
    "df_age_ca = df_final[['Age','price']]"
   ]
  },
  {
   "cell_type": "code",
   "execution_count": null,
   "id": "18dc8bb9",
   "metadata": {},
   "outputs": [],
   "source": [
    "df_age_ca = df_age_ca.groupby('Age').agg({'price':'sum'}).reset_index()"
   ]
  },
  {
   "cell_type": "code",
   "execution_count": null,
   "id": "4ba96179",
   "metadata": {},
   "outputs": [],
   "source": [
    "df_age_ca"
   ]
  },
  {
   "cell_type": "code",
   "execution_count": null,
   "id": "6acc2336",
   "metadata": {},
   "outputs": [],
   "source": [
    "import matplotlib.pyplot as plt\n",
    "\n",
    "plt.plot(df_age_ca[\"Age\"],df_age_ca[\"price\"],'o')\n",
    "plt.xlabel(\"Age\")\n",
    "plt.ylabel(\"ca\")\n",
    "plt.grid()\n",
    "plt.title('Répartition du CA par âge')\n",
    "plt.show()"
   ]
  },
  {
   "cell_type": "code",
   "execution_count": null,
   "id": "515f02b7",
   "metadata": {},
   "outputs": [],
   "source": [
    "#corrélation de pearson \n",
    "df_age_ca.corr()"
   ]
  },
  {
   "cell_type": "code",
   "execution_count": null,
   "id": "f4ff217d",
   "metadata": {},
   "outputs": [],
   "source": [
    "#test sperman\n",
    "from scipy import stats\n",
    "from scipy.stats import spearmanr"
   ]
  },
  {
   "cell_type": "code",
   "execution_count": null,
   "id": "369b0cf2",
   "metadata": {},
   "outputs": [],
   "source": [
    "stats.spearmanr(df_age_ca['Age'],df_age_ca['price'])"
   ]
  },
  {
   "cell_type": "code",
   "execution_count": null,
   "id": "7daa2ff8",
   "metadata": {},
   "outputs": [],
   "source": [
    "df_age_ca.corr( method = \"spearman\")"
   ]
  },
  {
   "cell_type": "markdown",
   "id": "141a5cad",
   "metadata": {},
   "source": [
    "### 3.4.2 corrélation tranche d'âge et catégorie de produit"
   ]
  },
  {
   "cell_type": "code",
   "execution_count": 80,
   "id": "f537606d",
   "metadata": {},
   "outputs": [],
   "source": [
    "#A vous de jouer "
   ]
  },
  {
   "cell_type": "markdown",
   "id": "2df931b4",
   "metadata": {},
   "source": [
    "### 3.4.3 corrélation tranche d'âge et fréquence d'achat"
   ]
  },
  {
   "cell_type": "code",
   "execution_count": null,
   "id": "1e182772",
   "metadata": {},
   "outputs": [],
   "source": []
  },
  {
   "cell_type": "markdown",
   "id": "bb9d5049",
   "metadata": {},
   "source": [
    "### 3.4.4 corrélation tranche d'âge et Panier moyen"
   ]
  },
  {
   "cell_type": "markdown",
   "id": "8512d262",
   "metadata": {},
   "source": [
    "# 4 synthèse"
   ]
  },
  {
   "cell_type": "code",
   "execution_count": null,
   "id": "1bb29524",
   "metadata": {},
   "outputs": [],
   "source": []
  }
 ],
 "metadata": {
  "kernelspec": {
   "display_name": "base",
   "language": "python",
   "name": "python3"
  },
  "language_info": {
   "codemirror_mode": {
    "name": "ipython",
    "version": 3
   },
   "file_extension": ".py",
   "mimetype": "text/x-python",
   "name": "python",
   "nbconvert_exporter": "python",
   "pygments_lexer": "ipython3",
   "version": "3.13.5"
  },
  "toc": {
   "base_numbering": 1,
   "nav_menu": {},
   "number_sections": true,
   "sideBar": true,
   "skip_h1_title": true,
   "title_cell": "Table of Contents",
   "title_sidebar": "Contents",
   "toc_cell": false,
   "toc_position": {},
   "toc_section_display": true,
   "toc_window_display": false
  }
 },
 "nbformat": 4,
 "nbformat_minor": 5
}
