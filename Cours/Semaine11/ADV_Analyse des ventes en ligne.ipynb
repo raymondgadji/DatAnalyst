{
 "cells": [
  {
   "cell_type": "markdown",
   "id": "d05e8e87",
   "metadata": {},
   "source": [
    "# Révision - Analyse de données sur les ventes de meubles et fournitures de bureau"
   ]
  },
  {
   "cell_type": "markdown",
   "id": "1d79aebc",
   "metadata": {},
   "source": [
    "# 0 - contexte et objectifs"
   ]
  },
  {
   "cell_type": "markdown",
   "id": "883fcb72",
   "metadata": {},
   "source": [
    "Vous commencez votre mission en tant que Data Analyst chez une enseigne de Retail. On vous a donné accès à leur base de données pour analyse exploratoire : Produits, clients et ventes.\n",
    "Vous travaillez au service marketing , vous intervenez car l’entreprise souhaite faire le point : analyser ses points forts, ses points faibles, les comportements clients, etc. \n",
    "\n",
    "Par exemple, elle cherche à savoir si elle doit créer certaines offres, adapter certains prix, etc.\n",
    "\n",
    "On vous demande de faire une analyse en deux parties :\n",
    "\n",
    "Partie I - analyse des différents indicateurs généraux\n",
    "\n",
    "    Construire des indicateurs et graphiques autour du chiffre d'affaires. Regarder l’évolution dans le temps\n",
    "    \n",
    "    faire un zoom sur les références, pour voir les tops et les flops, la répartition par catégorie, etc.\n",
    "    \n",
    "    etudier les profils des clients, et également la répartition du chiffre d'affaires entre eux\n",
    "\n",
    "Partie II - comportement des clients l’objectif est cette fois-ci de comprendre le comportement des clients en ligne.\n",
    "\n",
    "    étudier le lien entre le genre d’un client et les catégories des livres achetés\n",
    "    \n",
    "    étudier ensuite le lien entre l’âge des clients et le montant total des achats, la fréquence d’achat, la taille du panier moyen et les catégories des livres achetés.\n",
    "\n"
   ]
  },
  {
   "cell_type": "markdown",
   "id": "9146b256",
   "metadata": {},
   "source": [
    "# 1 - Exploration et  nettoyage des données "
   ]
  },
  {
   "cell_type": "code",
   "execution_count": 92,
   "id": "175279ef",
   "metadata": {},
   "outputs": [],
   "source": [
    "# Import de la librairie Pandas\n",
    "import pandas as pd\n",
    "\n",
    "# Import de la librairie matplotlib\n",
    "import matplotlib.pyplot as plt\n",
    "\n",
    "# Import de la librairie matplotlib pour les graphiques à lire dans la ligne\n",
    "%matplotlib inline\n",
    "\n",
    "# Import de seaborn pour des graphiques plus esthétiques\n",
    "import seaborn as sns\n"
   ]
  },
  {
   "cell_type": "markdown",
   "id": "ad56f18f",
   "metadata": {},
   "source": [
    "## 1.1 - Chargement des données"
   ]
  },
  {
   "cell_type": "markdown",
   "id": "8f14079e",
   "metadata": {},
   "source": [
    "Si vous utilisez anaconda -> je vous conseille de mettre les fichiers csv dans le même répertoire que le notebook\n",
    "\n",
    "Si vous utilisez google colab ->  il faut exécuter le code ci-dessous. \n",
    "\n",
    "from google.colab import files\n",
    "data_to_load = files.upload()"
   ]
  },
  {
   "cell_type": "markdown",
   "id": "1637f458",
   "metadata": {},
   "source": [
    "### 1.1.1 - customers"
   ]
  },
  {
   "cell_type": "code",
   "execution_count": 93,
   "id": "0675c090",
   "metadata": {},
   "outputs": [],
   "source": [
    "# Ouverture du fichier\n",
    "SuperStoreData = pd.read_csv('superstoredata.csv', encoding='utf-8', encoding_errors='ignore', sep=';')"
   ]
  },
  {
   "cell_type": "code",
   "execution_count": 94,
   "id": "b70295b7",
   "metadata": {},
   "outputs": [
    {
     "name": "stdout",
     "output_type": "stream",
     "text": [
      "<class 'pandas.core.frame.DataFrame'>\n",
      "RangeIndex: 9994 entries, 0 to 9993\n",
      "Data columns (total 24 columns):\n",
      " #   Column              Non-Null Count  Dtype  \n",
      "---  ------              --------------  -----  \n",
      " 0   order_id            9994 non-null   object \n",
      " 1   order_date          9994 non-null   object \n",
      " 2   ship_date           9994 non-null   object \n",
      " 3   ship_mode           9994 non-null   object \n",
      " 4   customer_id         9994 non-null   object \n",
      " 5   sales_rep           9994 non-null   object \n",
      " 6   location_id         9993 non-null   object \n",
      " 7   product_id          9994 non-null   object \n",
      " 8   sales               9994 non-null   float64\n",
      " 9   quantity            9994 non-null   int64  \n",
      " 10  discount            9994 non-null   float64\n",
      " 11  profit              9994 non-null   float64\n",
      " 12  customer_name       9994 non-null   object \n",
      " 13  segment             9994 non-null   object \n",
      " 14  product_name        9994 non-null   object \n",
      " 15  category            9994 non-null   object \n",
      " 16  sub_category        9994 non-null   object \n",
      " 17  sales_team          9994 non-null   object \n",
      " 18  sales_team_manager  9994 non-null   object \n",
      " 19  city                9994 non-null   object \n",
      " 20  state               9992 non-null   object \n",
      " 21  postal_code         9994 non-null   object \n",
      " 22  region              9994 non-null   object \n",
      " 23  Unnamed: 23         6 non-null      object \n",
      "dtypes: float64(3), int64(1), object(20)\n",
      "memory usage: 1.8+ MB\n"
     ]
    }
   ],
   "source": [
    "# Affichage des informations \n",
    "SuperStoreData.info()"
   ]
  },
  {
   "cell_type": "code",
   "execution_count": 95,
   "id": "32c566cc",
   "metadata": {},
   "outputs": [
    {
     "data": {
      "text/html": [
       "<div>\n",
       "<style scoped>\n",
       "    .dataframe tbody tr th:only-of-type {\n",
       "        vertical-align: middle;\n",
       "    }\n",
       "\n",
       "    .dataframe tbody tr th {\n",
       "        vertical-align: top;\n",
       "    }\n",
       "\n",
       "    .dataframe thead th {\n",
       "        text-align: right;\n",
       "    }\n",
       "</style>\n",
       "<table border=\"1\" class=\"dataframe\">\n",
       "  <thead>\n",
       "    <tr style=\"text-align: right;\">\n",
       "      <th></th>\n",
       "      <th>order_id</th>\n",
       "      <th>order_date</th>\n",
       "      <th>ship_date</th>\n",
       "      <th>ship_mode</th>\n",
       "      <th>customer_id</th>\n",
       "      <th>sales_rep</th>\n",
       "      <th>location_id</th>\n",
       "      <th>product_id</th>\n",
       "      <th>sales</th>\n",
       "      <th>quantity</th>\n",
       "      <th>...</th>\n",
       "      <th>product_name</th>\n",
       "      <th>category</th>\n",
       "      <th>sub_category</th>\n",
       "      <th>sales_team</th>\n",
       "      <th>sales_team_manager</th>\n",
       "      <th>city</th>\n",
       "      <th>state</th>\n",
       "      <th>postal_code</th>\n",
       "      <th>region</th>\n",
       "      <th>Unnamed: 23</th>\n",
       "    </tr>\n",
       "  </thead>\n",
       "  <tbody>\n",
       "    <tr>\n",
       "      <th>0</th>\n",
       "      <td>CA-2016-152156</td>\n",
       "      <td>08/11/2016</td>\n",
       "      <td>11/11/2016</td>\n",
       "      <td>Second Class</td>\n",
       "      <td>CG-12520</td>\n",
       "      <td>Organic</td>\n",
       "      <td>42420,Henderson</td>\n",
       "      <td>FUR-BO-10001798</td>\n",
       "      <td>261.96</td>\n",
       "      <td>2</td>\n",
       "      <td>...</td>\n",
       "      <td>Bush Somerset Collection Bookcase</td>\n",
       "      <td>Furniture</td>\n",
       "      <td>Bookcases</td>\n",
       "      <td>Organic</td>\n",
       "      <td>Organic</td>\n",
       "      <td>Henderson</td>\n",
       "      <td>Kentucky</td>\n",
       "      <td>42420</td>\n",
       "      <td>South</td>\n",
       "      <td>NaN</td>\n",
       "    </tr>\n",
       "    <tr>\n",
       "      <th>1</th>\n",
       "      <td>CA-2016-152156</td>\n",
       "      <td>08/11/2016</td>\n",
       "      <td>11/11/2016</td>\n",
       "      <td>Second Class</td>\n",
       "      <td>CG-12520</td>\n",
       "      <td>Organic</td>\n",
       "      <td>42420,Henderson</td>\n",
       "      <td>FUR-CH-10000454</td>\n",
       "      <td>731.94</td>\n",
       "      <td>3</td>\n",
       "      <td>...</td>\n",
       "      <td>Hon Deluxe Fabric Upholstered Stacking Chairs,...</td>\n",
       "      <td>Furniture</td>\n",
       "      <td>Chairs</td>\n",
       "      <td>Organic</td>\n",
       "      <td>Organic</td>\n",
       "      <td>Henderson</td>\n",
       "      <td>Kentucky</td>\n",
       "      <td>42420</td>\n",
       "      <td>South</td>\n",
       "      <td>NaN</td>\n",
       "    </tr>\n",
       "    <tr>\n",
       "      <th>2</th>\n",
       "      <td>CA-2016-138688</td>\n",
       "      <td>12/06/2016</td>\n",
       "      <td>16/06/2016</td>\n",
       "      <td>Second Class</td>\n",
       "      <td>DV-13045</td>\n",
       "      <td>Steve Pepple</td>\n",
       "      <td>90036,Los Angeles</td>\n",
       "      <td>OFF-LA-10000240</td>\n",
       "      <td>14.62</td>\n",
       "      <td>2</td>\n",
       "      <td>...</td>\n",
       "      <td>Self-Adhesive Address Labels for Typewriters b...</td>\n",
       "      <td>Office Supplies</td>\n",
       "      <td>Labels</td>\n",
       "      <td>Bravo</td>\n",
       "      <td>Tracy Banks</td>\n",
       "      <td>Los Angeles</td>\n",
       "      <td>California</td>\n",
       "      <td>90036</td>\n",
       "      <td>West</td>\n",
       "      <td>NaN</td>\n",
       "    </tr>\n",
       "    <tr>\n",
       "      <th>3</th>\n",
       "      <td>US-2015-108966</td>\n",
       "      <td>11/10/2015</td>\n",
       "      <td>18/10/2015</td>\n",
       "      <td>Standard Class</td>\n",
       "      <td>SO-20335</td>\n",
       "      <td>Organic</td>\n",
       "      <td>33311,Fort Lauderdale</td>\n",
       "      <td>FUR-TA-10000577</td>\n",
       "      <td>957.58</td>\n",
       "      <td>5</td>\n",
       "      <td>...</td>\n",
       "      <td>Bretford CR4500 Series Slim Rectangular Table</td>\n",
       "      <td>Furniture</td>\n",
       "      <td>Tables</td>\n",
       "      <td>Organic</td>\n",
       "      <td>Organic</td>\n",
       "      <td>Fort Lauderdale</td>\n",
       "      <td>Florida</td>\n",
       "      <td>33311</td>\n",
       "      <td>South</td>\n",
       "      <td>NaN</td>\n",
       "    </tr>\n",
       "    <tr>\n",
       "      <th>4</th>\n",
       "      <td>US-2015-108966</td>\n",
       "      <td>11/10/2015</td>\n",
       "      <td>18/10/2015</td>\n",
       "      <td>Standard Class</td>\n",
       "      <td>SO-20335</td>\n",
       "      <td>Organic</td>\n",
       "      <td>33311,Fort Lauderdale</td>\n",
       "      <td>OFF-ST-10000760</td>\n",
       "      <td>22.37</td>\n",
       "      <td>2</td>\n",
       "      <td>...</td>\n",
       "      <td>Eldon Fold 'N Roll Cart System</td>\n",
       "      <td>Office Supplies</td>\n",
       "      <td>Storage</td>\n",
       "      <td>Organic</td>\n",
       "      <td>Organic</td>\n",
       "      <td>Fort Lauderdale</td>\n",
       "      <td>Florida</td>\n",
       "      <td>33311</td>\n",
       "      <td>South</td>\n",
       "      <td>NaN</td>\n",
       "    </tr>\n",
       "  </tbody>\n",
       "</table>\n",
       "<p>5 rows × 24 columns</p>\n",
       "</div>"
      ],
      "text/plain": [
       "         order_id  order_date   ship_date       ship_mode customer_id  \\\n",
       "0  CA-2016-152156  08/11/2016  11/11/2016    Second Class    CG-12520   \n",
       "1  CA-2016-152156  08/11/2016  11/11/2016    Second Class    CG-12520   \n",
       "2  CA-2016-138688  12/06/2016  16/06/2016    Second Class    DV-13045   \n",
       "3  US-2015-108966  11/10/2015  18/10/2015  Standard Class    SO-20335   \n",
       "4  US-2015-108966  11/10/2015  18/10/2015  Standard Class    SO-20335   \n",
       "\n",
       "      sales_rep            location_id       product_id   sales  quantity  \\\n",
       "0       Organic        42420,Henderson  FUR-BO-10001798  261.96         2   \n",
       "1       Organic        42420,Henderson  FUR-CH-10000454  731.94         3   \n",
       "2  Steve Pepple      90036,Los Angeles  OFF-LA-10000240   14.62         2   \n",
       "3       Organic  33311,Fort Lauderdale  FUR-TA-10000577  957.58         5   \n",
       "4       Organic  33311,Fort Lauderdale  OFF-ST-10000760   22.37         2   \n",
       "\n",
       "   ...                                       product_name         category  \\\n",
       "0  ...                  Bush Somerset Collection Bookcase        Furniture   \n",
       "1  ...  Hon Deluxe Fabric Upholstered Stacking Chairs,...        Furniture   \n",
       "2  ...  Self-Adhesive Address Labels for Typewriters b...  Office Supplies   \n",
       "3  ...      Bretford CR4500 Series Slim Rectangular Table        Furniture   \n",
       "4  ...                     Eldon Fold 'N Roll Cart System  Office Supplies   \n",
       "\n",
       "  sub_category sales_team sales_team_manager             city       state  \\\n",
       "0    Bookcases    Organic            Organic        Henderson    Kentucky   \n",
       "1       Chairs    Organic            Organic        Henderson    Kentucky   \n",
       "2       Labels      Bravo        Tracy Banks      Los Angeles  California   \n",
       "3       Tables    Organic            Organic  Fort Lauderdale     Florida   \n",
       "4      Storage    Organic            Organic  Fort Lauderdale     Florida   \n",
       "\n",
       "  postal_code region Unnamed: 23  \n",
       "0       42420  South         NaN  \n",
       "1       42420  South         NaN  \n",
       "2       90036   West         NaN  \n",
       "3       33311  South         NaN  \n",
       "4       33311  South         NaN  \n",
       "\n",
       "[5 rows x 24 columns]"
      ]
     },
     "execution_count": 95,
     "metadata": {},
     "output_type": "execute_result"
    }
   ],
   "source": [
    "# Affichage des premières lignes\n",
    "\n",
    "SuperStoreData.head()"
   ]
  },
  {
   "cell_type": "code",
   "execution_count": 96,
   "id": "c762e175",
   "metadata": {},
   "outputs": [
    {
     "data": {
      "text/html": [
       "<div>\n",
       "<style scoped>\n",
       "    .dataframe tbody tr th:only-of-type {\n",
       "        vertical-align: middle;\n",
       "    }\n",
       "\n",
       "    .dataframe tbody tr th {\n",
       "        vertical-align: top;\n",
       "    }\n",
       "\n",
       "    .dataframe thead th {\n",
       "        text-align: right;\n",
       "    }\n",
       "</style>\n",
       "<table border=\"1\" class=\"dataframe\">\n",
       "  <thead>\n",
       "    <tr style=\"text-align: right;\">\n",
       "      <th></th>\n",
       "      <th>order_id</th>\n",
       "      <th>order_date</th>\n",
       "      <th>ship_date</th>\n",
       "      <th>ship_mode</th>\n",
       "      <th>customer_id</th>\n",
       "      <th>sales_rep</th>\n",
       "      <th>location_id</th>\n",
       "      <th>product_id</th>\n",
       "      <th>sales</th>\n",
       "      <th>quantity</th>\n",
       "      <th>...</th>\n",
       "      <th>product_name</th>\n",
       "      <th>category</th>\n",
       "      <th>sub_category</th>\n",
       "      <th>sales_team</th>\n",
       "      <th>sales_team_manager</th>\n",
       "      <th>city</th>\n",
       "      <th>state</th>\n",
       "      <th>postal_code</th>\n",
       "      <th>region</th>\n",
       "      <th>Unnamed: 23</th>\n",
       "    </tr>\n",
       "  </thead>\n",
       "  <tbody>\n",
       "    <tr>\n",
       "      <th>count</th>\n",
       "      <td>9994</td>\n",
       "      <td>9994</td>\n",
       "      <td>9994</td>\n",
       "      <td>9994</td>\n",
       "      <td>9994</td>\n",
       "      <td>9994</td>\n",
       "      <td>9993</td>\n",
       "      <td>9994</td>\n",
       "      <td>9994.000000</td>\n",
       "      <td>9994.000000</td>\n",
       "      <td>...</td>\n",
       "      <td>9994</td>\n",
       "      <td>9994</td>\n",
       "      <td>9994</td>\n",
       "      <td>9994</td>\n",
       "      <td>9994</td>\n",
       "      <td>9994</td>\n",
       "      <td>9992</td>\n",
       "      <td>9994</td>\n",
       "      <td>9994</td>\n",
       "      <td>6</td>\n",
       "    </tr>\n",
       "    <tr>\n",
       "      <th>unique</th>\n",
       "      <td>5009</td>\n",
       "      <td>1237</td>\n",
       "      <td>1334</td>\n",
       "      <td>4</td>\n",
       "      <td>794</td>\n",
       "      <td>14</td>\n",
       "      <td>632</td>\n",
       "      <td>1863</td>\n",
       "      <td>NaN</td>\n",
       "      <td>NaN</td>\n",
       "      <td>...</td>\n",
       "      <td>1818</td>\n",
       "      <td>4</td>\n",
       "      <td>18</td>\n",
       "      <td>6</td>\n",
       "      <td>7</td>\n",
       "      <td>534</td>\n",
       "      <td>54</td>\n",
       "      <td>635</td>\n",
       "      <td>9</td>\n",
       "      <td>3</td>\n",
       "    </tr>\n",
       "    <tr>\n",
       "      <th>top</th>\n",
       "      <td>CA-2017-100111</td>\n",
       "      <td>05/09/2016</td>\n",
       "      <td>16/12/2015</td>\n",
       "      <td>Standard Class</td>\n",
       "      <td>WB-21850</td>\n",
       "      <td>Organic</td>\n",
       "      <td>10035,New York City</td>\n",
       "      <td>OFF-PA-10001970</td>\n",
       "      <td>NaN</td>\n",
       "      <td>NaN</td>\n",
       "      <td>...</td>\n",
       "      <td>Staple envelope</td>\n",
       "      <td>Office Supplies</td>\n",
       "      <td>Binders</td>\n",
       "      <td>Organic</td>\n",
       "      <td>Organic</td>\n",
       "      <td>New York City</td>\n",
       "      <td>California</td>\n",
       "      <td>10035</td>\n",
       "      <td>West</td>\n",
       "      <td>Central</td>\n",
       "    </tr>\n",
       "    <tr>\n",
       "      <th>freq</th>\n",
       "      <td>14</td>\n",
       "      <td>38</td>\n",
       "      <td>35</td>\n",
       "      <td>5968</td>\n",
       "      <td>37</td>\n",
       "      <td>6400</td>\n",
       "      <td>263</td>\n",
       "      <td>19</td>\n",
       "      <td>NaN</td>\n",
       "      <td>NaN</td>\n",
       "      <td>...</td>\n",
       "      <td>48</td>\n",
       "      <td>6026</td>\n",
       "      <td>1523</td>\n",
       "      <td>6397</td>\n",
       "      <td>6400</td>\n",
       "      <td>915</td>\n",
       "      <td>1999</td>\n",
       "      <td>263</td>\n",
       "      <td>3203</td>\n",
       "      <td>3</td>\n",
       "    </tr>\n",
       "    <tr>\n",
       "      <th>mean</th>\n",
       "      <td>NaN</td>\n",
       "      <td>NaN</td>\n",
       "      <td>NaN</td>\n",
       "      <td>NaN</td>\n",
       "      <td>NaN</td>\n",
       "      <td>NaN</td>\n",
       "      <td>NaN</td>\n",
       "      <td>NaN</td>\n",
       "      <td>229.838886</td>\n",
       "      <td>3.789574</td>\n",
       "      <td>...</td>\n",
       "      <td>NaN</td>\n",
       "      <td>NaN</td>\n",
       "      <td>NaN</td>\n",
       "      <td>NaN</td>\n",
       "      <td>NaN</td>\n",
       "      <td>NaN</td>\n",
       "      <td>NaN</td>\n",
       "      <td>NaN</td>\n",
       "      <td>NaN</td>\n",
       "      <td>NaN</td>\n",
       "    </tr>\n",
       "    <tr>\n",
       "      <th>std</th>\n",
       "      <td>NaN</td>\n",
       "      <td>NaN</td>\n",
       "      <td>NaN</td>\n",
       "      <td>NaN</td>\n",
       "      <td>NaN</td>\n",
       "      <td>NaN</td>\n",
       "      <td>NaN</td>\n",
       "      <td>NaN</td>\n",
       "      <td>623.252189</td>\n",
       "      <td>2.225110</td>\n",
       "      <td>...</td>\n",
       "      <td>NaN</td>\n",
       "      <td>NaN</td>\n",
       "      <td>NaN</td>\n",
       "      <td>NaN</td>\n",
       "      <td>NaN</td>\n",
       "      <td>NaN</td>\n",
       "      <td>NaN</td>\n",
       "      <td>NaN</td>\n",
       "      <td>NaN</td>\n",
       "      <td>NaN</td>\n",
       "    </tr>\n",
       "    <tr>\n",
       "      <th>min</th>\n",
       "      <td>NaN</td>\n",
       "      <td>NaN</td>\n",
       "      <td>NaN</td>\n",
       "      <td>NaN</td>\n",
       "      <td>NaN</td>\n",
       "      <td>NaN</td>\n",
       "      <td>NaN</td>\n",
       "      <td>NaN</td>\n",
       "      <td>-95.620000</td>\n",
       "      <td>1.000000</td>\n",
       "      <td>...</td>\n",
       "      <td>NaN</td>\n",
       "      <td>NaN</td>\n",
       "      <td>NaN</td>\n",
       "      <td>NaN</td>\n",
       "      <td>NaN</td>\n",
       "      <td>NaN</td>\n",
       "      <td>NaN</td>\n",
       "      <td>NaN</td>\n",
       "      <td>NaN</td>\n",
       "      <td>NaN</td>\n",
       "    </tr>\n",
       "    <tr>\n",
       "      <th>25%</th>\n",
       "      <td>NaN</td>\n",
       "      <td>NaN</td>\n",
       "      <td>NaN</td>\n",
       "      <td>NaN</td>\n",
       "      <td>NaN</td>\n",
       "      <td>NaN</td>\n",
       "      <td>NaN</td>\n",
       "      <td>NaN</td>\n",
       "      <td>17.257500</td>\n",
       "      <td>2.000000</td>\n",
       "      <td>...</td>\n",
       "      <td>NaN</td>\n",
       "      <td>NaN</td>\n",
       "      <td>NaN</td>\n",
       "      <td>NaN</td>\n",
       "      <td>NaN</td>\n",
       "      <td>NaN</td>\n",
       "      <td>NaN</td>\n",
       "      <td>NaN</td>\n",
       "      <td>NaN</td>\n",
       "      <td>NaN</td>\n",
       "    </tr>\n",
       "    <tr>\n",
       "      <th>50%</th>\n",
       "      <td>NaN</td>\n",
       "      <td>NaN</td>\n",
       "      <td>NaN</td>\n",
       "      <td>NaN</td>\n",
       "      <td>NaN</td>\n",
       "      <td>NaN</td>\n",
       "      <td>NaN</td>\n",
       "      <td>NaN</td>\n",
       "      <td>54.430000</td>\n",
       "      <td>3.000000</td>\n",
       "      <td>...</td>\n",
       "      <td>NaN</td>\n",
       "      <td>NaN</td>\n",
       "      <td>NaN</td>\n",
       "      <td>NaN</td>\n",
       "      <td>NaN</td>\n",
       "      <td>NaN</td>\n",
       "      <td>NaN</td>\n",
       "      <td>NaN</td>\n",
       "      <td>NaN</td>\n",
       "      <td>NaN</td>\n",
       "    </tr>\n",
       "    <tr>\n",
       "      <th>75%</th>\n",
       "      <td>NaN</td>\n",
       "      <td>NaN</td>\n",
       "      <td>NaN</td>\n",
       "      <td>NaN</td>\n",
       "      <td>NaN</td>\n",
       "      <td>NaN</td>\n",
       "      <td>NaN</td>\n",
       "      <td>NaN</td>\n",
       "      <td>209.940000</td>\n",
       "      <td>5.000000</td>\n",
       "      <td>...</td>\n",
       "      <td>NaN</td>\n",
       "      <td>NaN</td>\n",
       "      <td>NaN</td>\n",
       "      <td>NaN</td>\n",
       "      <td>NaN</td>\n",
       "      <td>NaN</td>\n",
       "      <td>NaN</td>\n",
       "      <td>NaN</td>\n",
       "      <td>NaN</td>\n",
       "      <td>NaN</td>\n",
       "    </tr>\n",
       "    <tr>\n",
       "      <th>max</th>\n",
       "      <td>NaN</td>\n",
       "      <td>NaN</td>\n",
       "      <td>NaN</td>\n",
       "      <td>NaN</td>\n",
       "      <td>NaN</td>\n",
       "      <td>NaN</td>\n",
       "      <td>NaN</td>\n",
       "      <td>NaN</td>\n",
       "      <td>22638.480000</td>\n",
       "      <td>14.000000</td>\n",
       "      <td>...</td>\n",
       "      <td>NaN</td>\n",
       "      <td>NaN</td>\n",
       "      <td>NaN</td>\n",
       "      <td>NaN</td>\n",
       "      <td>NaN</td>\n",
       "      <td>NaN</td>\n",
       "      <td>NaN</td>\n",
       "      <td>NaN</td>\n",
       "      <td>NaN</td>\n",
       "      <td>NaN</td>\n",
       "    </tr>\n",
       "  </tbody>\n",
       "</table>\n",
       "<p>11 rows × 24 columns</p>\n",
       "</div>"
      ],
      "text/plain": [
       "              order_id  order_date   ship_date       ship_mode customer_id  \\\n",
       "count             9994        9994        9994            9994        9994   \n",
       "unique            5009        1237        1334               4         794   \n",
       "top     CA-2017-100111  05/09/2016  16/12/2015  Standard Class    WB-21850   \n",
       "freq                14          38          35            5968          37   \n",
       "mean               NaN         NaN         NaN             NaN         NaN   \n",
       "std                NaN         NaN         NaN             NaN         NaN   \n",
       "min                NaN         NaN         NaN             NaN         NaN   \n",
       "25%                NaN         NaN         NaN             NaN         NaN   \n",
       "50%                NaN         NaN         NaN             NaN         NaN   \n",
       "75%                NaN         NaN         NaN             NaN         NaN   \n",
       "max                NaN         NaN         NaN             NaN         NaN   \n",
       "\n",
       "       sales_rep          location_id       product_id         sales  \\\n",
       "count       9994                 9993             9994   9994.000000   \n",
       "unique        14                  632             1863           NaN   \n",
       "top      Organic  10035,New York City  OFF-PA-10001970           NaN   \n",
       "freq        6400                  263               19           NaN   \n",
       "mean         NaN                  NaN              NaN    229.838886   \n",
       "std          NaN                  NaN              NaN    623.252189   \n",
       "min          NaN                  NaN              NaN    -95.620000   \n",
       "25%          NaN                  NaN              NaN     17.257500   \n",
       "50%          NaN                  NaN              NaN     54.430000   \n",
       "75%          NaN                  NaN              NaN    209.940000   \n",
       "max          NaN                  NaN              NaN  22638.480000   \n",
       "\n",
       "           quantity  ...     product_name         category sub_category  \\\n",
       "count   9994.000000  ...             9994             9994         9994   \n",
       "unique          NaN  ...             1818                4           18   \n",
       "top             NaN  ...  Staple envelope  Office Supplies      Binders   \n",
       "freq            NaN  ...               48             6026         1523   \n",
       "mean       3.789574  ...              NaN              NaN          NaN   \n",
       "std        2.225110  ...              NaN              NaN          NaN   \n",
       "min        1.000000  ...              NaN              NaN          NaN   \n",
       "25%        2.000000  ...              NaN              NaN          NaN   \n",
       "50%        3.000000  ...              NaN              NaN          NaN   \n",
       "75%        5.000000  ...              NaN              NaN          NaN   \n",
       "max       14.000000  ...              NaN              NaN          NaN   \n",
       "\n",
       "       sales_team sales_team_manager           city       state postal_code  \\\n",
       "count        9994               9994           9994        9992        9994   \n",
       "unique          6                  7            534          54         635   \n",
       "top       Organic            Organic  New York City  California       10035   \n",
       "freq         6397               6400            915        1999         263   \n",
       "mean          NaN                NaN            NaN         NaN         NaN   \n",
       "std           NaN                NaN            NaN         NaN         NaN   \n",
       "min           NaN                NaN            NaN         NaN         NaN   \n",
       "25%           NaN                NaN            NaN         NaN         NaN   \n",
       "50%           NaN                NaN            NaN         NaN         NaN   \n",
       "75%           NaN                NaN            NaN         NaN         NaN   \n",
       "max           NaN                NaN            NaN         NaN         NaN   \n",
       "\n",
       "       region Unnamed: 23  \n",
       "count    9994           6  \n",
       "unique      9           3  \n",
       "top      West     Central  \n",
       "freq     3203           3  \n",
       "mean      NaN         NaN  \n",
       "std       NaN         NaN  \n",
       "min       NaN         NaN  \n",
       "25%       NaN         NaN  \n",
       "50%       NaN         NaN  \n",
       "75%       NaN         NaN  \n",
       "max       NaN         NaN  \n",
       "\n",
       "[11 rows x 24 columns]"
      ]
     },
     "execution_count": 96,
     "metadata": {},
     "output_type": "execute_result"
    }
   ],
   "source": [
    "# Stats du dataframe\n",
    "SuperStoreData.describe(include = 'all')"
   ]
  },
  {
   "cell_type": "markdown",
   "id": "1df024eb",
   "metadata": {},
   "source": [
    "Ce fichier comprend 3 colonnes :\n",
    "\n",
    "    Client_id : référence de chaque client\n",
    "    Sex : le genre du client\n",
    "    Birth : l'année de naissance du client\n",
    "\n"
   ]
  },
  {
   "cell_type": "code",
   "execution_count": 97,
   "id": "b3b839f8",
   "metadata": {},
   "outputs": [
    {
     "name": "stdout",
     "output_type": "stream",
     "text": [
      "            order_id  order_date   ship_date       ship_mode customer_id  \\\n",
      "0     CA-2016-152156  08/11/2016  11/11/2016    Second Class    CG-12520   \n",
      "1     CA-2016-152156  08/11/2016  11/11/2016    Second Class    CG-12520   \n",
      "2     CA-2016-138688  12/06/2016  16/06/2016    Second Class    DV-13045   \n",
      "3     US-2015-108966  11/10/2015  18/10/2015  Standard Class    SO-20335   \n",
      "4     US-2015-108966  11/10/2015  18/10/2015  Standard Class    SO-20335   \n",
      "...              ...         ...         ...             ...         ...   \n",
      "9989  CA-2014-110422  21/01/2014  23/01/2014    Second Class    TB-21400   \n",
      "9990  CA-2017-121258  26/02/2017  03/03/2017  Standard Class    DB-13060   \n",
      "9991  CA-2017-121258  26/02/2017  03/03/2017  Standard Class    DB-13060   \n",
      "9992  CA-2017-121258  26/02/2017  03/03/2017  Standard Class    DB-13060   \n",
      "9993  CA-2017-119914  04/05/2017  09/05/2017    Second Class    CC-12220   \n",
      "\n",
      "         sales_rep            location_id       product_id   sales  quantity  \\\n",
      "0          Organic        42420,Henderson  FUR-BO-10001798  261.96         2   \n",
      "1          Organic        42420,Henderson  FUR-CH-10000454  731.94         3   \n",
      "2     Steve Pepple      90036,Los Angeles  OFF-LA-10000240   14.62         2   \n",
      "3          Organic  33311,Fort Lauderdale  FUR-TA-10000577  957.58         5   \n",
      "4          Organic  33311,Fort Lauderdale  OFF-ST-10000760   22.37         2   \n",
      "...            ...                    ...              ...     ...       ...   \n",
      "9989       Organic            33180,Miami  FUR-FU-10001889   25.25         3   \n",
      "9990       Organic       92627,Costa Mesa  FUR-FU-10000747   91.96         2   \n",
      "9991       Organic       92627,Costa Mesa  TEC-PH-10003645  258.58         2   \n",
      "9992       Organic       92627,Costa Mesa  OFF-PA-10004041   29.60         4   \n",
      "9993       Organic      92683,Westminster  OFF-AP-10002684  243.16         2   \n",
      "\n",
      "      ...                                       product_name         category  \\\n",
      "0     ...                  Bush Somerset Collection Bookcase        Furniture   \n",
      "1     ...  Hon Deluxe Fabric Upholstered Stacking Chairs,...        Furniture   \n",
      "2     ...  Self-Adhesive Address Labels for Typewriters b...  Office Supplies   \n",
      "3     ...      Bretford CR4500 Series Slim Rectangular Table        Furniture   \n",
      "4     ...                     Eldon Fold 'N Roll Cart System  Office Supplies   \n",
      "...   ...                                                ...              ...   \n",
      "9989  ...                             Ultra Door Pull Handle        Furniture   \n",
      "9990  ...  Tenex B1-RE Series Chair Mats for Low Pile Car...        Furniture   \n",
      "9991  ...                              Aastra 57i VoIP phone       Technology   \n",
      "9992  ...  It's Hot Message Books with Stickers, 2 3/4\" x 5\"  Office Supplies   \n",
      "9993  ...  Acco 7-Outlet Masterpiece Power Center, Wihtou...  Office Supplies   \n",
      "\n",
      "     sub_category sales_team sales_team_manager             city       state  \\\n",
      "0       Bookcases    Organic            Organic        Henderson    Kentucky   \n",
      "1          Chairs    Organic            Organic        Henderson    Kentucky   \n",
      "2          Labels      Bravo        Tracy Banks      Los Angeles  California   \n",
      "3          Tables    Organic            Organic  Fort Lauderdale     Florida   \n",
      "4         Storage    Organic            Organic  Fort Lauderdale     Florida   \n",
      "...           ...        ...                ...              ...         ...   \n",
      "9989  Furnishings    Organic            Organic            Miami     Florida   \n",
      "9990  Furnishings    Organic            Organic       Costa Mesa  California   \n",
      "9991       Phones    Organic            Organic       Costa Mesa  California   \n",
      "9992        Paper    Organic            Organic       Costa Mesa  California   \n",
      "9993   Appliances    Organic            Organic      Westminster  California   \n",
      "\n",
      "     postal_code region Unnamed: 23  \n",
      "0          42420  South         NaN  \n",
      "1          42420  South         NaN  \n",
      "2          90036   West         NaN  \n",
      "3          33311  South         NaN  \n",
      "4          33311  South         NaN  \n",
      "...          ...    ...         ...  \n",
      "9989       33180  South         NaN  \n",
      "9990       92627   West         NaN  \n",
      "9991       92627   West         NaN  \n",
      "9992       92627   West         NaN  \n",
      "9993       92683   West         NaN  \n",
      "\n",
      "[9994 rows x 24 columns]\n"
     ]
    }
   ],
   "source": [
    "print(SuperStoreData)"
   ]
  },
  {
   "cell_type": "code",
   "execution_count": 98,
   "id": "a34dc864",
   "metadata": {},
   "outputs": [
    {
     "data": {
      "text/plain": [
       "order_id              0.0000\n",
       "order_date            0.0000\n",
       "ship_date             0.0000\n",
       "ship_mode             0.0000\n",
       "customer_id           0.0000\n",
       "sales_rep             0.0000\n",
       "location_id           0.0001\n",
       "product_id            0.0000\n",
       "sales                 0.0000\n",
       "quantity              0.0000\n",
       "discount              0.0000\n",
       "profit                0.0000\n",
       "customer_name         0.0000\n",
       "segment               0.0000\n",
       "product_name          0.0000\n",
       "category              0.0000\n",
       "sub_category          0.0000\n",
       "sales_team            0.0000\n",
       "sales_team_manager    0.0000\n",
       "city                  0.0000\n",
       "state                 0.0002\n",
       "postal_code           0.0000\n",
       "region                0.0000\n",
       "Unnamed: 23           0.9994\n",
       "dtype: float64"
      ]
     },
     "execution_count": 98,
     "metadata": {},
     "output_type": "execute_result"
    }
   ],
   "source": [
    "#valeurs manquantes\n",
    "SuperStoreData.isna().mean()"
   ]
  },
  {
   "cell_type": "code",
   "execution_count": 99,
   "id": "09990d43",
   "metadata": {},
   "outputs": [
    {
     "data": {
      "text/plain": [
       "order_id                 0\n",
       "order_date               0\n",
       "ship_date                0\n",
       "ship_mode                0\n",
       "customer_id              0\n",
       "sales_rep                0\n",
       "location_id              1\n",
       "product_id               0\n",
       "sales                    0\n",
       "quantity                 0\n",
       "discount                 0\n",
       "profit                   0\n",
       "customer_name            0\n",
       "segment                  0\n",
       "product_name             0\n",
       "category                 0\n",
       "sub_category             0\n",
       "sales_team               0\n",
       "sales_team_manager       0\n",
       "city                     0\n",
       "state                    2\n",
       "postal_code              0\n",
       "region                   0\n",
       "Unnamed: 23           9988\n",
       "dtype: int64"
      ]
     },
     "execution_count": 99,
     "metadata": {},
     "output_type": "execute_result"
    }
   ],
   "source": [
    "SuperStoreData.isna().sum()"
   ]
  },
  {
   "cell_type": "code",
   "execution_count": 100,
   "id": "700b12fc",
   "metadata": {},
   "outputs": [
    {
     "name": "stdout",
     "output_type": "stream",
     "text": [
      "Unnamed: 23\n",
      "NaN        9988\n",
      "Central       3\n",
      "South         2\n",
      "East          1\n",
      "Name: count, dtype: int64\n"
     ]
    }
   ],
   "source": [
    "# Analyse de la colonne 'Unnamed: 23'\n",
    "print(SuperStoreData['Unnamed: 23'].value_counts(dropna=False))"
   ]
  },
  {
   "cell_type": "code",
   "execution_count": 101,
   "id": "3764e56b",
   "metadata": {},
   "outputs": [],
   "source": [
    "# Suppression de la colonne 'Unnamed: 23' car elle contient 99,88 % de valeurs manquantes\n",
    "SuperStoreData = SuperStoreData.drop(columns=['Unnamed: 23'])"
   ]
  },
  {
   "cell_type": "code",
   "execution_count": 102,
   "id": "06d09e51",
   "metadata": {},
   "outputs": [
    {
     "name": "stdout",
     "output_type": "stream",
     "text": [
      "          order_id  order_date   ship_date     ship_mode customer_id  \\\n",
      "18  CA-2014-143336  27/08/2014  01/09/2014  Second Class    ZD-21925   \n",
      "\n",
      "   sales_rep location_id       product_id  sales  quantity  ...   segment  \\\n",
      "18   Organic         NaN  OFF-AR-10003056   8.56         2  ...  Consumer   \n",
      "\n",
      "    product_name         category sub_category sales_team sales_team_manager  \\\n",
      "18    Newell 341  Office Supplies          Art    Organic            Organic   \n",
      "\n",
      "             city       state postal_code region  \n",
      "18  San Francisco  California       94109   West  \n",
      "\n",
      "[1 rows x 23 columns]\n"
     ]
    }
   ],
   "source": [
    "# Analyse de la colonne 'location_id'\n",
    "print(SuperStoreData[SuperStoreData['location_id'].isna()])"
   ]
  },
  {
   "cell_type": "code",
   "execution_count": 103,
   "id": "4fe25a9c",
   "metadata": {},
   "outputs": [],
   "source": [
    "# Si une table de correspondance existe (ex. postal_code -> location_id => on peut l'utiliser pour remplir les valeurs manquantes)\n",
    "dict_zip_to_location = {'94109': 'LOC_SF'}  # Selon mes données\n",
    "SuperStoreData['location_id'] = SuperStoreData['location_id'].fillna(SuperStoreData['postal_code'].map(dict_zip_to_location))\n",
    "# Sinon, marquer comme 'Unknown'\n",
    "SuperStoreData['location_id'] = SuperStoreData['location_id'].fillna('Unknown')"
   ]
  },
  {
   "cell_type": "markdown",
   "id": "b8dad2cc",
   "metadata": {},
   "source": [
    "Solution pragmatique : Marquer comme \"Unknown\" est une solution rapide et sûre car aucune correspondance n’est disponible, permettant de continuer l’analyse sans introduire de biais."
   ]
  },
  {
   "cell_type": "code",
   "execution_count": 104,
   "id": "7698aea1",
   "metadata": {},
   "outputs": [
    {
     "name": "stdout",
     "output_type": "stream",
     "text": [
      "         order_id  order_date   ship_date       ship_mode customer_id  \\\n",
      "5  CA-2014-115812  09/06/2014  14/06/2014  Standard Class    BH-11710   \n",
      "6  CA-2014-115812  09/06/2014  14/06/2014  Standard Class    BH-11710   \n",
      "\n",
      "  sales_rep        location_id       product_id  sales  quantity  ...  \\\n",
      "5   Organic  90032,Los Angeles  FUR-FU-10001487  48.86         7  ...   \n",
      "6   Organic  90032,Los Angeles  OFF-AR-10002833   7.28         4  ...   \n",
      "\n",
      "    segment                                       product_name  \\\n",
      "5  Consumer  Eldon Expressions Wood and Plastic Desk Access...   \n",
      "6  Consumer                                         Newell 322   \n",
      "\n",
      "          category sub_category sales_team sales_team_manager         city  \\\n",
      "5        Furniture  Furnishings    Organic            Organic  Los Angeles   \n",
      "6  Office Supplies          Art    Organic            Organic  Los Angeles   \n",
      "\n",
      "  state postal_code region  \n",
      "5   NaN       90032   West  \n",
      "6   NaN       90032   West  \n",
      "\n",
      "[2 rows x 23 columns]\n"
     ]
    }
   ],
   "source": [
    "# Analyse de la colonne 'state'\n",
    "print(SuperStoreData[SuperStoreData['state'].isna()])"
   ]
  },
  {
   "cell_type": "markdown",
   "id": "f01a4520",
   "metadata": {},
   "source": [
    "Pourquoi ? Les deux lignes ont city=Los Angeles et postal_code=90032, qui correspondent à l’état de Californie. L’imputation basée sur ces informations est précise et préserve les données utiles (ex. sales, profit) pour l’analyse. Supprimer les lignes risquerait de perdre des informations valides, et marquer comme \"Unknown\" serait moins informatif vu que l’état peut être déduit avec certitude."
   ]
  },
  {
   "cell_type": "code",
   "execution_count": 105,
   "id": "29bc6e6f",
   "metadata": {},
   "outputs": [],
   "source": [
    "# Que faire ? Imputer la valeur manquante dans state avec \"California\" pour les deux lignes :\n",
    "SuperStoreData['state'] = SuperStoreData['state'].fillna('California')"
   ]
  },
  {
   "cell_type": "markdown",
   "id": "6a8b193d",
   "metadata": {},
   "source": [
    "Vérification de l’intégrité des données après traitement"
   ]
  },
  {
   "cell_type": "code",
   "execution_count": 106,
   "id": "d32caff5",
   "metadata": {},
   "outputs": [
    {
     "name": "stdout",
     "output_type": "stream",
     "text": [
      "order_id              0\n",
      "order_date            0\n",
      "ship_date             0\n",
      "ship_mode             0\n",
      "customer_id           0\n",
      "sales_rep             0\n",
      "location_id           0\n",
      "product_id            0\n",
      "sales                 0\n",
      "quantity              0\n",
      "discount              0\n",
      "profit                0\n",
      "customer_name         0\n",
      "segment               0\n",
      "product_name          0\n",
      "category              0\n",
      "sub_category          0\n",
      "sales_team            0\n",
      "sales_team_manager    0\n",
      "city                  0\n",
      "state                 0\n",
      "postal_code           0\n",
      "region                0\n",
      "dtype: int64\n"
     ]
    }
   ],
   "source": [
    "print(SuperStoreData.isna().sum())"
   ]
  },
  {
   "cell_type": "code",
   "execution_count": 107,
   "id": "3f7fc887",
   "metadata": {},
   "outputs": [
    {
     "data": {
      "text/plain": [
       "np.int64(1)"
      ]
     },
     "execution_count": 107,
     "metadata": {},
     "output_type": "execute_result"
    }
   ],
   "source": [
    "#Doublon\n",
    "SuperStoreData.duplicated().sum()"
   ]
  },
  {
   "cell_type": "markdown",
   "id": "e921cdb7",
   "metadata": {},
   "source": [
    "Identifier la ou les lignes dupliquées"
   ]
  },
  {
   "cell_type": "code",
   "execution_count": 108,
   "id": "f0f57a2c",
   "metadata": {},
   "outputs": [
    {
     "name": "stdout",
     "output_type": "stream",
     "text": [
      "            order_id  order_date   ship_date       ship_mode customer_id  \\\n",
      "3409  US-2014-150119  23/04/2014  27/04/2014  Standard Class    LB-16795   \n",
      "3410  US-2014-150119  23/04/2014  27/04/2014  Standard Class    LB-16795   \n",
      "\n",
      "     sales_rep     location_id       product_id   sales  quantity  ...  \\\n",
      "3409   Organic  43229,Columbus  FUR-CH-10002965  281.37         2  ...   \n",
      "3410   Organic  43229,Columbus  FUR-CH-10002965  281.37         2  ...   \n",
      "\n",
      "          segment                                       product_name  \\\n",
      "3409  Home Office  Global Leather Highback Executive Chair with P...   \n",
      "3410  Home Office  Global Leather Highback Executive Chair with P...   \n",
      "\n",
      "       category sub_category sales_team sales_team_manager      city state  \\\n",
      "3409  Furniture       Chairs    Organic            Organic  Columbus  Ohio   \n",
      "3410  Furniture       Chairs    Organic            Organic  Columbus  Ohio   \n",
      "\n",
      "     postal_code region  \n",
      "3409       43229   East  \n",
      "3410       43229   East  \n",
      "\n",
      "[2 rows x 23 columns]\n"
     ]
    }
   ],
   "source": [
    "print(SuperStoreData[SuperStoreData.duplicated(keep=False)])"
   ]
  },
  {
   "cell_type": "markdown",
   "id": "70980e37",
   "metadata": {},
   "source": [
    "Supprimer le doublon est approprié pour éviter de fausser les analyses (ex. surestimation des ventes ou du profit). Aucune information unique ne serait perdue, car les lignes sont rigoureusement identiques."
   ]
  },
  {
   "cell_type": "code",
   "execution_count": 109,
   "id": "4cba11f2",
   "metadata": {},
   "outputs": [],
   "source": [
    "SuperStoreData = SuperStoreData.drop_duplicates(keep='first')"
   ]
  },
  {
   "cell_type": "code",
   "execution_count": 110,
   "id": "2872a8ed",
   "metadata": {},
   "outputs": [
    {
     "name": "stdout",
     "output_type": "stream",
     "text": [
      "Il y a 794 clients uniques\n"
     ]
    }
   ],
   "source": [
    "print(\"Il y a\", SuperStoreData.describe(include = 'all').loc[\"unique\",\"customer_id\"], \"clients uniques\")"
   ]
  },
  {
   "cell_type": "markdown",
   "id": "5cd31f14",
   "metadata": {},
   "source": [
    "Données après ces traitements"
   ]
  },
  {
   "cell_type": "code",
   "execution_count": 111,
   "id": "cb425400",
   "metadata": {},
   "outputs": [
    {
     "name": "stdout",
     "output_type": "stream",
     "text": [
      "order_id              0\n",
      "order_date            0\n",
      "ship_date             0\n",
      "ship_mode             0\n",
      "customer_id           0\n",
      "sales_rep             0\n",
      "location_id           0\n",
      "product_id            0\n",
      "sales                 0\n",
      "quantity              0\n",
      "discount              0\n",
      "profit                0\n",
      "customer_name         0\n",
      "segment               0\n",
      "product_name          0\n",
      "category              0\n",
      "sub_category          0\n",
      "sales_team            0\n",
      "sales_team_manager    0\n",
      "city                  0\n",
      "state                 0\n",
      "postal_code           0\n",
      "region                0\n",
      "dtype: int64\n"
     ]
    }
   ],
   "source": [
    "print(SuperStoreData.isna().sum())"
   ]
  },
  {
   "cell_type": "markdown",
   "id": "847c07d1",
   "metadata": {},
   "source": [
    "Visualisations"
   ]
  },
  {
   "cell_type": "code",
   "execution_count": 112,
   "id": "0b738dd9",
   "metadata": {},
   "outputs": [
    {
     "data": {
      "image/png": "[encoded data removed]",
      "text/plain": [
       "<Figure size 1000x600 with 1 Axes>"
      ]
     },
     "metadata": {},
     "output_type": "display_data"
    }
   ],
   "source": [
    "import matplotlib.pyplot as plt\n",
    "import seaborn as sns\n",
    "\n",
    "plt.figure(figsize=(10, 6))\n",
    "sns.barplot(x='category', y='sales', data=SuperStoreData, estimator=sum)\n",
    "plt.title('Ventes totales par catégorie')\n",
    "plt.show()"
   ]
  },
  {
   "cell_type": "code",
   "execution_count": 113,
   "id": "1d7d8bcb",
   "metadata": {},
   "outputs": [
    {
     "name": "stdout",
     "output_type": "stream",
     "text": [
      "              sales       profit     quantity\n",
      "count   9993.000000  9993.000000  9993.000000\n",
      "mean     229.833730    28.661048     3.789753\n",
      "std      623.283162   234.271571     2.225149\n",
      "min      -95.620000 -6599.980000     1.000000\n",
      "25%       17.250000     1.730000     2.000000\n",
      "50%       54.380000     8.670000     3.000000\n",
      "75%      209.940000    29.360000     5.000000\n",
      "max    22638.480000  8399.980000    14.000000\n"
     ]
    }
   ],
   "source": [
    "print(SuperStoreData[['sales', 'profit', 'quantity']].describe())"
   ]
  },
  {
   "cell_type": "markdown",
   "id": "b179e2fd",
   "metadata": {},
   "source": [
    "Histogramme pour sales"
   ]
  },
  {
   "cell_type": "code",
   "execution_count": 114,
   "id": "51b7917e",
   "metadata": {},
   "outputs": [
    {
     "data": {
      "image/png": "[encoded data removed]",
      "text/plain": [
       "<Figure size 1000x600 with 1 Axes>"
      ]
     },
     "metadata": {},
     "output_type": "display_data"
    }
   ],
   "source": [
    "import matplotlib.pyplot as plt\n",
    "import seaborn as sns\n",
    "\n",
    "plt.figure(figsize=(10, 6))\n",
    "sns.histplot(SuperStoreData['sales'], bins=30, kde=True)\n",
    "plt.title('Distribution des ventes (Sales)')\n",
    "plt.xlabel('Ventes')\n",
    "plt.ylabel('Fréquence')\n",
    "plt.xlim(0, SuperStoreData['sales'].quantile(0.99))  # Limiter pour zoomer sur 99% des données\n",
    "plt.show()"
   ]
  },
  {
   "cell_type": "markdown",
   "id": "cae1ed8c",
   "metadata": {},
   "source": [
    "Pourquoi ? L’histogramme montre l’asymétrie et les valeurs extrêmes. La limite à 99 % exclut les outliers pour une meilleure lisibilité."
   ]
  },
  {
   "cell_type": "code",
   "execution_count": 115,
   "id": "1a52e201",
   "metadata": {},
   "outputs": [],
   "source": [
    "#print(\"L'age moyen des clients est :\", 2022- round(SuperStoreData.describe(include = 'all').loc[\"mean\",\"birth\"]), \"ans\")"
   ]
  },
  {
   "cell_type": "markdown",
   "id": "184706d9",
   "metadata": {},
   "source": [
    "Boxplot pour profits _ Pourquoi ? Le boxplot mettra en évidence les profits négatifs et les outliers, aidant à identifier les transactions problématiques."
   ]
  },
  {
   "cell_type": "code",
   "execution_count": 116,
   "id": "9664cdef",
   "metadata": {},
   "outputs": [
    {
     "data": {
      "image/png": "[encoded data removed]",
      "text/plain": [
       "<Figure size 1000x600 with 1 Axes>"
      ]
     },
     "metadata": {},
     "output_type": "display_data"
    }
   ],
   "source": [
    "plt.figure(figsize=(10, 6))\n",
    "sns.boxplot(y=SuperStoreData['profit'])\n",
    "plt.title('Distribution des profits (Profit)')\n",
    "plt.ylabel('Profit')\n",
    "plt.show()"
   ]
  },
  {
   "cell_type": "markdown",
   "id": "e4f3155e",
   "metadata": {},
   "source": [
    "Countplot pour quantity _ Pourquoi ? Comme quantity est discrète (entiers), un countplot est plus adapté qu’un histogramme pour voir les fréquences exactes."
   ]
  },
  {
   "cell_type": "code",
   "execution_count": 117,
   "id": "74e41b90",
   "metadata": {},
   "outputs": [
    {
     "data": {
      "image/png": "[encoded data removed]",
      "text/plain": [
       "<Figure size 1000x600 with 1 Axes>"
      ]
     },
     "metadata": {},
     "output_type": "display_data"
    }
   ],
   "source": [
    "plt.figure(figsize=(10, 6))\n",
    "sns.countplot(x=SuperStoreData['quantity'])\n",
    "plt.title('Distribution des quantités (Quantity)')\n",
    "plt.xlabel('Quantité')\n",
    "plt.ylabel('Fréquence')\n",
    "plt.show()"
   ]
  },
  {
   "cell_type": "markdown",
   "id": "4079340c",
   "metadata": {},
   "source": [
    "Ventes par régions"
   ]
  },
  {
   "cell_type": "code",
   "execution_count": 118,
   "id": "a98078e6",
   "metadata": {},
   "outputs": [
    {
     "name": "stdout",
     "output_type": "stream",
     "text": [
      "region\n",
      "19143         116.78\n",
      "28052         700.70\n",
      "60623         408.74\n",
      "62521         408.74\n",
      "74133         291.96\n",
      "Central    500130.44\n",
      "East       678383.21\n",
      "South      390829.96\n",
      "West       725457.93\n",
      "Name: sales, dtype: float64\n"
     ]
    }
   ],
   "source": [
    "print(SuperStoreData.groupby('region')['sales'].sum())"
   ]
  },
  {
   "cell_type": "code",
   "execution_count": 119,
   "id": "381af4ff",
   "metadata": {},
   "outputs": [
    {
     "name": "stdout",
     "output_type": "stream",
     "text": [
      "            order_id  order_date   ship_date       ship_mode customer_id  \\\n",
      "181   CA-2014-166191  05/12/2014  09/12/2014    Second Class    DK-13150   \n",
      "430   US-2016-123750  15/04/2016  21/04/2016  Standard Class    RB-19795   \n",
      "431   US-2016-123750  15/04/2016  21/04/2016  Standard Class    RB-19795   \n",
      "1410  US-2014-118486  06/04/2014  08/04/2014     First Class    SD-20485   \n",
      "1973  CA-2017-117485  23/09/2017  29/09/2017  Standard Class    BD-11320   \n",
      "1975  CA-2017-140242  06/05/2017  11/05/2017  Standard Class    ML-17755   \n",
      "\n",
      "             sales_rep         location_id       product_id   sales  quantity  \\\n",
      "181       Steve Pepple       62521,Decatur  TEC-AC-10004659  408.74         7   \n",
      "430            Organic      28052,Gastonia  TEC-AC-10004659  408.74         7   \n",
      "431            Organic      28052,Gastonia  TEC-AC-10004659  291.96         5   \n",
      "1410           Anne Wu  19143,Philadelphia  TEC-AC-10004659  116.78         2   \n",
      "1973           Organic         74133,Tulsa  TEC-AC-10004659  291.96         4   \n",
      "1975  Abigail Thompson       60623,Chicago  TEC-AC-10004659  408.74         7   \n",
      "\n",
      "      ...      segment                                       product_name  \\\n",
      "181   ...    Corporate  ImationSecure+ Hardware Encrypted USB 2.0Flash...   \n",
      "430   ...  Home Office  ImationSecure+ Hardware Encrypted USB 2.0Flash...   \n",
      "431   ...  Home Office  ImationSecure+ Hardware Encrypted USB 2.0Flash...   \n",
      "1410  ...  Home Office  ImationSecure+ Hardware Encrypted USB 2.0Flash...   \n",
      "1973  ...     Consumer  ImationSecure+ Hardware Encrypted USB 2.0Flash...   \n",
      "1975  ...  Home Office  ImationSecure+ Hardware Encrypted USB 2.0Flash...   \n",
      "\n",
      "     category sub_category   sales_team sales_team_manager           city  \\\n",
      "181      16GB   Technology  Accessories              Bravo    Tracy Banks   \n",
      "430      16GB   Technology  Accessories            Organic        Organic   \n",
      "431      16GB   Technology  Accessories            Organic        Organic   \n",
      "1410     16GB   Technology  Accessories              Delta  Britanny Bold   \n",
      "1973     16GB   Technology  Accessories            Organic        Organic   \n",
      "1975     16GB   Technology  Accessories              Bravo    Tracy Banks   \n",
      "\n",
      "             state     postal_code region  \n",
      "181        Decatur        Illinois  62521  \n",
      "430       Gastonia  North Carolina  28052  \n",
      "431       Gastonia  North Carolina  28052  \n",
      "1410  Philadelphia    Pennsylvania  19143  \n",
      "1973         Tulsa        Oklahoma  74133  \n",
      "1975       Chicago        Illinois  60623  \n",
      "\n",
      "[6 rows x 23 columns]\n"
     ]
    }
   ],
   "source": [
    "# ces régions \"numériques\"\n",
    "print(SuperStoreData[SuperStoreData['region'].isin(['19143', '28052', '60623', '62521', '74133'])])"
   ]
  },
  {
   "cell_type": "code",
   "execution_count": 120,
   "id": "b5556df7",
   "metadata": {},
   "outputs": [],
   "source": [
    "# Réassigner les régions en fonction des codes postaux et villes\n",
    "region_mapping = {\n",
    "    '19143': 'East',    # Philadelphia, PA\n",
    "    '28052': 'South',   # Gastonia, NC\n",
    "    '60623': 'Central', # Chicago, IL\n",
    "    '62521': 'Central', # Decatur, IL\n",
    "    '74133': 'South'    # Tulsa, OK\n",
    "}\n",
    "\n",
    "SuperStoreData['region'] = SuperStoreData['region'].replace(region_mapping)"
   ]
  },
  {
   "cell_type": "code",
   "execution_count": 121,
   "id": "220d57d6",
   "metadata": {},
   "outputs": [
    {
     "name": "stdout",
     "output_type": "stream",
     "text": [
      "region\n",
      "West       3203\n",
      "East       2847\n",
      "Central    2322\n",
      "South      1621\n",
      "Name: count, dtype: int64\n"
     ]
    }
   ],
   "source": [
    "# Vérifier que les corrections sont appliquées\n",
    "print(SuperStoreData['region'].value_counts())"
   ]
  },
  {
   "cell_type": "code",
   "execution_count": 122,
   "id": "58f896c6",
   "metadata": {},
   "outputs": [
    {
     "name": "stdout",
     "output_type": "stream",
     "text": [
      "region\n",
      "Central    500947.92\n",
      "East       678499.99\n",
      "South      391822.62\n",
      "West       725457.93\n",
      "Name: sales, dtype: float64\n"
     ]
    }
   ],
   "source": [
    "print(SuperStoreData.groupby('region')['sales'].sum())"
   ]
  },
  {
   "cell_type": "code",
   "execution_count": 123,
   "id": "3694973d",
   "metadata": {},
   "outputs": [
    {
     "name": "stderr",
     "output_type": "stream",
     "text": [
      "C:\\Users\\Administrateur\\AppData\\Local\\Temp\\ipykernel_3712\\1578590837.py:14: FutureWarning: \n",
      "\n",
      "Passing `palette` without assigning `hue` is deprecated and will be removed in v0.14.0. Assign the `x` variable to `hue` and set `legend=False` for the same effect.\n",
      "\n",
      "  sns.barplot(x='region', y='sales', data=df_sales, palette=['#1f77b4', '#ff7f0e', '#2ca02c', '#d62728'])\n"
     ]
    },
    {
     "data": {
      "image/png": "[encoded data removed]",
      "text/plain": [
       "<Figure size 1000x600 with 1 Axes>"
      ]
     },
     "metadata": {},
     "output_type": "display_data"
    }
   ],
   "source": [
    "import matplotlib.pyplot as plt\n",
    "import seaborn as sns\n",
    "import pandas as pd\n",
    "\n",
    "# Données des ventes par région (basées sur votre output)\n",
    "data = {\n",
    "    'region': ['Central', 'East', 'South', 'West'],\n",
    "    'sales': [500947.92, 678499.99, 391822.62, 725457.93]\n",
    "}\n",
    "df_sales = pd.DataFrame(data)\n",
    "\n",
    "# Création du graphique en barres\n",
    "plt.figure(figsize=(10, 6))\n",
    "sns.barplot(x='region', y='sales', data=df_sales, palette=['#1f77b4', '#ff7f0e', '#2ca02c', '#d62728'])\n",
    "plt.title('Ventes totales par région (après correction)')\n",
    "plt.xlabel('Région')\n",
    "plt.ylabel('Ventes totales')\n",
    "plt.show()"
   ]
  },
  {
   "cell_type": "code",
   "execution_count": 124,
   "id": "36307227",
   "metadata": {},
   "outputs": [
    {
     "name": "stderr",
     "output_type": "stream",
     "text": [
      "C:\\Users\\Administrateur\\AppData\\Local\\Temp\\ipykernel_3712\\2476967378.py:5: FutureWarning: \n",
      "\n",
      "Passing `palette` without assigning `hue` is deprecated and will be removed in v0.14.0. Assign the `x` variable to `hue` and set `legend=False` for the same effect.\n",
      "\n",
      "  sns.barplot(x='region', y='sales', data=SuperStoreData, estimator=sum, palette=['#1f77b4', '#ff7f0e', '#2ca02c', '#d62728'])\n"
     ]
    },
    {
     "data": {
      "image/png": "[encoded data removed]",
      "text/plain": [
       "<Figure size 1000x600 with 1 Axes>"
      ]
     },
     "metadata": {},
     "output_type": "display_data"
    }
   ],
   "source": [
    "import matplotlib.pyplot as plt\n",
    "import seaborn as sns\n",
    "\n",
    "plt.figure(figsize=(10, 6))\n",
    "sns.barplot(x='region', y='sales', data=SuperStoreData, estimator=sum, palette=['#1f77b4', '#ff7f0e', '#2ca02c', '#d62728'])\n",
    "plt.title('Ventes totales par région (après correction)')\n",
    "plt.xlabel('Région')\n",
    "plt.ylabel('Ventes totales')\n",
    "plt.show()"
   ]
  },
  {
   "cell_type": "markdown",
   "id": "c5c823e3",
   "metadata": {},
   "source": [
    "Corrélation entre sales et profit"
   ]
  },
  {
   "cell_type": "code",
   "execution_count": 125,
   "id": "62f40330",
   "metadata": {},
   "outputs": [
    {
     "data": {
      "image/png": "[encoded data removed]",
      "text/plain": [
       "<Figure size 1000x600 with 1 Axes>"
      ]
     },
     "metadata": {},
     "output_type": "display_data"
    }
   ],
   "source": [
    "plt.figure(figsize=(10, 6))\n",
    "sns.scatterplot(x='sales', y='profit', data=SuperStoreData, hue='category')\n",
    "plt.title('Relation entre Ventes et Profit par Catégorie')\n",
    "plt.xlabel('Ventes')\n",
    "plt.ylabel('Profit')\n",
    "plt.show()"
   ]
  },
  {
   "cell_type": "markdown",
   "id": "8d52f96e",
   "metadata": {},
   "source": [
    "Vérifiez les outliers : Les valeurs extrêmes dans sales (22 638.48) et profit (-6599.98, 8399.98) méritent une investigation"
   ]
  },
  {
   "cell_type": "code",
   "execution_count": 126,
   "id": "b8706e71",
   "metadata": {},
   "outputs": [
    {
     "name": "stdout",
     "output_type": "stream",
     "text": [
      "            order_id  order_date   ship_date       ship_mode customer_id  \\\n",
      "27    US-2015-150630  17/09/2015  21/09/2015  Standard Class    TB-21521   \n",
      "165   CA-2014-139892  08/09/2014  12/09/2014  Standard Class    BM-11140   \n",
      "251   CA-2016-145625  11/09/2016  17/09/2016  Standard Class    KC-16540   \n",
      "262   US-2014-106992  19/09/2014  21/09/2014    Second Class    SB-20290   \n",
      "263   US-2014-106992  19/09/2014  21/09/2014    Second Class    SB-20290   \n",
      "...              ...         ...         ...             ...         ...   \n",
      "9649  CA-2016-107104  26/11/2016  30/11/2016  Standard Class    MS-17365   \n",
      "9660  CA-2016-160717  06/06/2016  11/06/2016  Standard Class    ME-17320   \n",
      "9741  CA-2015-117086  08/11/2015  12/11/2015  Standard Class    QJ-19255   \n",
      "9857  CA-2015-164301  26/03/2015  30/03/2015  Standard Class    EB-13840   \n",
      "9929  CA-2016-129630  04/09/2016  04/09/2016        Same Day    IM-15055   \n",
      "\n",
      "              sales_rep          location_id       product_id    sales  \\\n",
      "27              Organic   19140,Philadelphia  FUR-BO-10004834  3083.43   \n",
      "165             Organic    78207,San Antonio  TEC-MA-10000822  8159.95   \n",
      "251             Organic      92037,San Diego  TEC-AC-10003832  3347.37   \n",
      "262        Steve Pepple        77036,Houston  TEC-MA-10000822  3059.98   \n",
      "263    Abigail Thompson        77036,Houston  TEC-MA-10003353  2519.96   \n",
      "...                 ...                  ...              ...      ...   \n",
      "9649            Organic    90045,Los Angeles  FUR-BO-10002213  3406.66   \n",
      "9660       Stella Given  93101,Santa Barbara  TEC-PH-10001459  3023.93   \n",
      "9741  Thompson Crawford     05408,Burlington  FUR-BO-10004834  4404.90   \n",
      "9857       Mary Gerrard        98103,Seattle  FUR-TA-10001889  3393.68   \n",
      "9929            Organic  94122,San Francisco  TEC-CO-10003763  2799.96   \n",
      "\n",
      "      quantity  ...      segment  \\\n",
      "27           7  ...     Consumer   \n",
      "165          8  ...     Consumer   \n",
      "251         13  ...     Consumer   \n",
      "262          3  ...    Corporate   \n",
      "263          7  ...    Corporate   \n",
      "...        ...  ...          ...   \n",
      "9649         8  ...     Consumer   \n",
      "9660         9  ...  Home Office   \n",
      "9741         5  ...    Corporate   \n",
      "9857         8  ...    Corporate   \n",
      "9929         5  ...     Consumer   \n",
      "\n",
      "                                           product_name    category  \\\n",
      "27    Riverside Palais Royal Lawyers Bookcase, Royal...   Furniture   \n",
      "165           Lexmark MX611dhe Monochrome Laser Printer  Technology   \n",
      "251     Imation16GB Mini TravelDrive USB 2.0Flash Drive  Technology   \n",
      "262           Lexmark MX611dhe Monochrome Laser Printer  Technology   \n",
      "263   Xerox WorkCentre 6505DN Laser Multifunction Pr...  Technology   \n",
      "...                                                 ...         ...   \n",
      "9649              DMI Eclipse Executive Suite Bookcases   Furniture   \n",
      "9660                            Samsung Galaxy Mega 6.3  Technology   \n",
      "9741  Riverside Palais Royal Lawyers Bookcase, Royal...   Furniture   \n",
      "9857  Bush Advantage Collection Racetrack Conference...   Furniture   \n",
      "9929                 Canon PC1060 Personal Laser Copier  Technology   \n",
      "\n",
      "     sub_category sales_team sales_team_manager           city         state  \\\n",
      "27      Bookcases    Organic            Organic   Philadelphia  Pennsylvania   \n",
      "165      Machines    Organic            Organic    San Antonio         Texas   \n",
      "251   Accessories    Organic            Organic      San Diego    California   \n",
      "262      Machines      Bravo        Tracy Banks        Houston         Texas   \n",
      "263      Machines      Bravo        Tracy Banks        Houston         Texas   \n",
      "...           ...        ...                ...            ...           ...   \n",
      "9649    Bookcases    Organic            Organic    Los Angeles    California   \n",
      "9660       Phones    Charlie    Alisha Cordwell  Santa Barbara    California   \n",
      "9741    Bookcases       Alfa     James Goodwill     Burlington       Vermont   \n",
      "9857       Tables      Delta      Britanny Bold        Seattle    Washington   \n",
      "9929      Copiers    Organic            Organic  San Francisco    California   \n",
      "\n",
      "     postal_code   region  \n",
      "27         19140     East  \n",
      "165        78207  Central  \n",
      "251        92037     West  \n",
      "262        77036  Central  \n",
      "263        77036  Central  \n",
      "...          ...      ...  \n",
      "9649       90045     West  \n",
      "9660       93101     West  \n",
      "9741        5408     East  \n",
      "9857       98103     West  \n",
      "9929       94122     West  \n",
      "\n",
      "[100 rows x 23 columns]\n"
     ]
    }
   ],
   "source": [
    "print(SuperStoreData[SuperStoreData['sales'] > SuperStoreData['sales'].quantile(0.99)])"
   ]
  },
  {
   "cell_type": "code",
   "execution_count": 127,
   "id": "01618030",
   "metadata": {},
   "outputs": [
    {
     "name": "stdout",
     "output_type": "stream",
     "text": [
      "            order_id  order_date   ship_date       ship_mode customer_id  \\\n",
      "27    US-2015-150630  17/09/2015  21/09/2015  Standard Class    TB-21521   \n",
      "149   CA-2016-114489  05/12/2016  09/12/2016  Standard Class    JE-16165   \n",
      "165   CA-2014-139892  08/09/2014  12/09/2014  Standard Class    BM-11140   \n",
      "215   CA-2015-146262  02/01/2015  09/01/2015  Standard Class    VW-21775   \n",
      "251   CA-2016-145625  11/09/2016  17/09/2016  Standard Class    KC-16540   \n",
      "...              ...         ...         ...             ...         ...   \n",
      "9741  CA-2015-117086  08/11/2015  12/11/2015  Standard Class    QJ-19255   \n",
      "9774  CA-2014-169019  26/07/2014  30/07/2014  Standard Class    LF-17185   \n",
      "9857  CA-2015-164301  26/03/2015  30/03/2015  Standard Class    EB-13840   \n",
      "9929  CA-2016-129630  04/09/2016  04/09/2016        Same Day    IM-15055   \n",
      "9948  CA-2017-121559  01/06/2017  03/06/2017    Second Class    HW-14935   \n",
      "\n",
      "              sales_rep          location_id       product_id    sales  \\\n",
      "27              Organic   19140,Philadelphia  FUR-BO-10004834  3083.43   \n",
      "149            Alan Ray       53132,Franklin  FUR-CH-10000454  1951.84   \n",
      "165             Organic    78207,San Antonio  TEC-MA-10000822  8159.95   \n",
      "215    Abigail Thompson         44256,Medina  TEC-MA-10000864  1188.00   \n",
      "251             Organic      92037,San Diego  TEC-AC-10003832  3347.37   \n",
      "...                 ...                  ...              ...      ...   \n",
      "9741  Thompson Crawford     05408,Burlington  FUR-BO-10004834  4404.90   \n",
      "9774            Organic    78207,San Antonio  OFF-BI-10004995  2177.58   \n",
      "9857       Mary Gerrard        98103,Seattle  FUR-TA-10001889  3393.68   \n",
      "9929            Organic  94122,San Francisco  TEC-CO-10003763  2799.96   \n",
      "9948   Abigail Thompson   46203,Indianapolis  OFF-AP-10002945  2405.20   \n",
      "\n",
      "      quantity  ...    segment  \\\n",
      "27           7  ...   Consumer   \n",
      "149          8  ...  Corporate   \n",
      "165          8  ...   Consumer   \n",
      "215          9  ...  Corporate   \n",
      "251         13  ...   Consumer   \n",
      "...        ...  ...        ...   \n",
      "9741         5  ...  Corporate   \n",
      "9774         8  ...   Consumer   \n",
      "9857         8  ...  Corporate   \n",
      "9929         5  ...   Consumer   \n",
      "9948         8  ...  Corporate   \n",
      "\n",
      "                                           product_name         category  \\\n",
      "27    Riverside Palais Royal Lawyers Bookcase, Royal...        Furniture   \n",
      "149   Hon Deluxe Fabric Upholstered Stacking Chairs,...        Furniture   \n",
      "165           Lexmark MX611dhe Monochrome Laser Printer       Technology   \n",
      "215                  Cisco 9971 IP Video Phone Charcoal       Technology   \n",
      "251     Imation16GB Mini TravelDrive USB 2.0Flash Drive       Technology   \n",
      "...                                                 ...              ...   \n",
      "9741  Riverside Palais Royal Lawyers Bookcase, Royal...        Furniture   \n",
      "9774          GBC DocuBind P400 Electric Binding System  Office Supplies   \n",
      "9857  Bush Advantage Collection Racetrack Conference...        Furniture   \n",
      "9929                 Canon PC1060 Personal Laser Copier       Technology   \n",
      "9948  Honeywell Enviracaire Portable HEPA Air Cleane...  Office Supplies   \n",
      "\n",
      "     sub_category sales_team sales_team_manager           city         state  \\\n",
      "27      Bookcases    Organic            Organic   Philadelphia  Pennsylvania   \n",
      "149        Chairs       Alfa     James Goodwill       Franklin     Wisconsin   \n",
      "165      Machines    Organic            Organic    San Antonio         Texas   \n",
      "215      Machines      Bravo        Tracy Banks         Medina          Ohio   \n",
      "251   Accessories    Organic            Organic      San Diego    California   \n",
      "...           ...        ...                ...            ...           ...   \n",
      "9741    Bookcases       Alfa     James Goodwill     Burlington       Vermont   \n",
      "9774      Binders    Organic            Organic    San Antonio         Texas   \n",
      "9857       Tables      Delta      Britanny Bold        Seattle    Washington   \n",
      "9929      Copiers    Organic            Organic  San Francisco    California   \n",
      "9948   Appliances      Bravo        Tracy Banks   Indianapolis       Indiana   \n",
      "\n",
      "     postal_code   region  \n",
      "27         19140     East  \n",
      "149        53132  Central  \n",
      "165        78207  Central  \n",
      "215        44256     East  \n",
      "251        92037     West  \n",
      "...          ...      ...  \n",
      "9741        5408     East  \n",
      "9774       78207  Central  \n",
      "9857       98103     West  \n",
      "9929       94122     West  \n",
      "9948       46203  Central  \n",
      "\n",
      "[141 rows x 23 columns]\n"
     ]
    }
   ],
   "source": [
    "print(SuperStoreData[SuperStoreData['profit'].abs() > SuperStoreData['profit'].quantile(0.99)])"
   ]
  },
  {
   "cell_type": "markdown",
   "id": "60e3a91f",
   "metadata": {},
   "source": [
    "Sales par category"
   ]
  },
  {
   "cell_type": "code",
   "execution_count": 128,
   "id": "4afef6fd",
   "metadata": {},
   "outputs": [
    {
     "name": "stdout",
     "output_type": "stream",
     "text": [
      "category\n",
      " 16GB                1926.92\n",
      "Furniture          741718.61\n",
      "Office Supplies    718855.75\n",
      "Technology         834227.18\n",
      "Name: sales, dtype: float64\n"
     ]
    }
   ],
   "source": [
    "print(SuperStoreData.groupby('category')['sales'].sum())"
   ]
  },
  {
   "cell_type": "markdown",
   "id": "8185f7f2",
   "metadata": {},
   "source": [
    "Vérifier l’anomalie 16GB"
   ]
  },
  {
   "cell_type": "code",
   "execution_count": 129,
   "id": "50f8fb41",
   "metadata": {},
   "outputs": [
    {
     "name": "stdout",
     "output_type": "stream",
     "text": [
      "Empty DataFrame\n",
      "Columns: [order_id, order_date, ship_date, ship_mode, customer_id, sales_rep, location_id, product_id, sales, quantity, discount, profit, customer_name, segment, product_name, category, sub_category, sales_team, sales_team_manager, city, state, postal_code, region]\n",
      "Index: []\n",
      "\n",
      "[0 rows x 23 columns]\n"
     ]
    }
   ],
   "source": [
    "print(SuperStoreData[SuperStoreData['category'] == '16GB'])"
   ]
  },
  {
   "cell_type": "code",
   "execution_count": 130,
   "id": "fee853e3",
   "metadata": {},
   "outputs": [
    {
     "name": "stdout",
     "output_type": "stream",
     "text": [
      "category\n",
      " 16GB                1926.92\n",
      "Furniture          741718.61\n",
      "Office Supplies    718855.75\n",
      "Technology         834227.18\n",
      "Name: sales, dtype: float64\n"
     ]
    }
   ],
   "source": [
    "print(SuperStoreData.groupby('category')['sales'].sum())"
   ]
  },
  {
   "cell_type": "code",
   "execution_count": 131,
   "id": "1b00e3bd",
   "metadata": {},
   "outputs": [
    {
     "name": "stdout",
     "output_type": "stream",
     "text": [
      "['Furniture' 'Office Supplies' 'Technology' ' 16GB']\n"
     ]
    }
   ],
   "source": [
    "print(SuperStoreData['category'].unique())"
   ]
  },
  {
   "cell_type": "code",
   "execution_count": 132,
   "id": "c707cb19",
   "metadata": {},
   "outputs": [
    {
     "name": "stdout",
     "output_type": "stream",
     "text": [
      "Empty DataFrame\n",
      "Columns: [order_id, order_date, ship_date, ship_mode, customer_id, sales_rep, location_id, product_id, sales, quantity, discount, profit, customer_name, segment, product_name, category, sub_category, sales_team, sales_team_manager, city, state, postal_code, region]\n",
      "Index: []\n",
      "\n",
      "[0 rows x 23 columns]\n"
     ]
    }
   ],
   "source": [
    "print(SuperStoreData[SuperStoreData['category'] == '16GB'])"
   ]
  },
  {
   "cell_type": "code",
   "execution_count": 133,
   "id": "15275611",
   "metadata": {},
   "outputs": [
    {
     "name": "stdout",
     "output_type": "stream",
     "text": [
      "['Furniture' 'Office Supplies' 'Technology']\n",
      "category\n",
      "Furniture          741718.61\n",
      "Office Supplies    718855.75\n",
      "Technology         836154.10\n",
      "Name: sales, dtype: float64\n"
     ]
    }
   ],
   "source": [
    "# Remplacer ' 16GB' (avec espace) par 'Technology'\n",
    "SuperStoreData['category'] = SuperStoreData['category'].replace(' 16GB', 'Technology')\n",
    "\n",
    "# Vérifier les catégories après correction\n",
    "print(SuperStoreData['category'].unique())\n",
    "print(SuperStoreData.groupby('category')['sales'].sum())"
   ]
  },
  {
   "cell_type": "code",
   "execution_count": 134,
   "id": "1bec2828",
   "metadata": {},
   "outputs": [
    {
     "name": "stderr",
     "output_type": "stream",
     "text": [
      "C:\\Users\\Administrateur\\AppData\\Local\\Temp\\ipykernel_3712\\1951936203.py:9: FutureWarning: \n",
      "\n",
      "Passing `palette` without assigning `hue` is deprecated and will be removed in v0.14.0. Assign the `x` variable to `hue` and set `legend=False` for the same effect.\n",
      "\n",
      "  sns.barplot(x='category', y='sales', data=sales_by_category, palette=['#1f77b4', '#ff7f0e', '#2ca02c'])\n"
     ]
    },
    {
     "data": {
      "image/png": "[encoded data removed]",
      "text/plain": [
       "<Figure size 1000x600 with 1 Axes>"
      ]
     },
     "metadata": {},
     "output_type": "display_data"
    }
   ],
   "source": [
    "import matplotlib.pyplot as plt\n",
    "import seaborn as sns\n",
    "\n",
    "# Calcul des ventes par catégorie après correction\n",
    "sales_by_category = SuperStoreData.groupby('category')['sales'].sum().reset_index()\n",
    "\n",
    "# Création du graphique en barres\n",
    "plt.figure(figsize=(10, 6))\n",
    "sns.barplot(x='category', y='sales', data=sales_by_category, palette=['#1f77b4', '#ff7f0e', '#2ca02c'])\n",
    "plt.title('Ventes totales par catégorie (après correction)')\n",
    "plt.xlabel('Catégorie')\n",
    "plt.ylabel('Ventes totales')\n",
    "plt.show()"
   ]
  },
  {
   "cell_type": "code",
   "execution_count": 135,
   "id": "745c9c28",
   "metadata": {},
   "outputs": [
    {
     "name": "stdout",
     "output_type": "stream",
     "text": [
      "category\n",
      "Furniture           18463.31\n",
      "Office Supplies    122490.88\n",
      "Technology         145455.66\n",
      "Name: profit, dtype: float64\n"
     ]
    }
   ],
   "source": [
    "# Profits par catégorie\n",
    "print(SuperStoreData.groupby('category')['profit'].sum())"
   ]
  },
  {
   "cell_type": "code",
   "execution_count": 136,
   "id": "6ed2958f",
   "metadata": {},
   "outputs": [
    {
     "name": "stdout",
     "output_type": "stream",
     "text": [
      "            order_id  order_date   ship_date       ship_mode customer_id  \\\n",
      "27    US-2015-150630  17/09/2015  21/09/2015  Standard Class    TB-21521   \n",
      "165   CA-2014-139892  08/09/2014  12/09/2014  Standard Class    BM-11140   \n",
      "251   CA-2016-145625  11/09/2016  17/09/2016  Standard Class    KC-16540   \n",
      "262   US-2014-106992  19/09/2014  21/09/2014    Second Class    SB-20290   \n",
      "263   US-2014-106992  19/09/2014  21/09/2014    Second Class    SB-20290   \n",
      "...              ...         ...         ...             ...         ...   \n",
      "9649  CA-2016-107104  26/11/2016  30/11/2016  Standard Class    MS-17365   \n",
      "9660  CA-2016-160717  06/06/2016  11/06/2016  Standard Class    ME-17320   \n",
      "9741  CA-2015-117086  08/11/2015  12/11/2015  Standard Class    QJ-19255   \n",
      "9857  CA-2015-164301  26/03/2015  30/03/2015  Standard Class    EB-13840   \n",
      "9929  CA-2016-129630  04/09/2016  04/09/2016        Same Day    IM-15055   \n",
      "\n",
      "              sales_rep          location_id       product_id    sales  \\\n",
      "27              Organic   19140,Philadelphia  FUR-BO-10004834  3083.43   \n",
      "165             Organic    78207,San Antonio  TEC-MA-10000822  8159.95   \n",
      "251             Organic      92037,San Diego  TEC-AC-10003832  3347.37   \n",
      "262        Steve Pepple        77036,Houston  TEC-MA-10000822  3059.98   \n",
      "263    Abigail Thompson        77036,Houston  TEC-MA-10003353  2519.96   \n",
      "...                 ...                  ...              ...      ...   \n",
      "9649            Organic    90045,Los Angeles  FUR-BO-10002213  3406.66   \n",
      "9660       Stella Given  93101,Santa Barbara  TEC-PH-10001459  3023.93   \n",
      "9741  Thompson Crawford     05408,Burlington  FUR-BO-10004834  4404.90   \n",
      "9857       Mary Gerrard        98103,Seattle  FUR-TA-10001889  3393.68   \n",
      "9929            Organic  94122,San Francisco  TEC-CO-10003763  2799.96   \n",
      "\n",
      "      quantity  ...      segment  \\\n",
      "27           7  ...     Consumer   \n",
      "165          8  ...     Consumer   \n",
      "251         13  ...     Consumer   \n",
      "262          3  ...    Corporate   \n",
      "263          7  ...    Corporate   \n",
      "...        ...  ...          ...   \n",
      "9649         8  ...     Consumer   \n",
      "9660         9  ...  Home Office   \n",
      "9741         5  ...    Corporate   \n",
      "9857         8  ...    Corporate   \n",
      "9929         5  ...     Consumer   \n",
      "\n",
      "                                           product_name    category  \\\n",
      "27    Riverside Palais Royal Lawyers Bookcase, Royal...   Furniture   \n",
      "165           Lexmark MX611dhe Monochrome Laser Printer  Technology   \n",
      "251     Imation16GB Mini TravelDrive USB 2.0Flash Drive  Technology   \n",
      "262           Lexmark MX611dhe Monochrome Laser Printer  Technology   \n",
      "263   Xerox WorkCentre 6505DN Laser Multifunction Pr...  Technology   \n",
      "...                                                 ...         ...   \n",
      "9649              DMI Eclipse Executive Suite Bookcases   Furniture   \n",
      "9660                            Samsung Galaxy Mega 6.3  Technology   \n",
      "9741  Riverside Palais Royal Lawyers Bookcase, Royal...   Furniture   \n",
      "9857  Bush Advantage Collection Racetrack Conference...   Furniture   \n",
      "9929                 Canon PC1060 Personal Laser Copier  Technology   \n",
      "\n",
      "     sub_category sales_team sales_team_manager           city         state  \\\n",
      "27      Bookcases    Organic            Organic   Philadelphia  Pennsylvania   \n",
      "165      Machines    Organic            Organic    San Antonio         Texas   \n",
      "251   Accessories    Organic            Organic      San Diego    California   \n",
      "262      Machines      Bravo        Tracy Banks        Houston         Texas   \n",
      "263      Machines      Bravo        Tracy Banks        Houston         Texas   \n",
      "...           ...        ...                ...            ...           ...   \n",
      "9649    Bookcases    Organic            Organic    Los Angeles    California   \n",
      "9660       Phones    Charlie    Alisha Cordwell  Santa Barbara    California   \n",
      "9741    Bookcases       Alfa     James Goodwill     Burlington       Vermont   \n",
      "9857       Tables      Delta      Britanny Bold        Seattle    Washington   \n",
      "9929      Copiers    Organic            Organic  San Francisco    California   \n",
      "\n",
      "     postal_code   region  \n",
      "27         19140     East  \n",
      "165        78207  Central  \n",
      "251        92037     West  \n",
      "262        77036  Central  \n",
      "263        77036  Central  \n",
      "...          ...      ...  \n",
      "9649       90045     West  \n",
      "9660       93101     West  \n",
      "9741        5408     East  \n",
      "9857       98103     West  \n",
      "9929       94122     West  \n",
      "\n",
      "[100 rows x 23 columns]\n"
     ]
    }
   ],
   "source": [
    "# Outliers\n",
    "print(SuperStoreData[SuperStoreData['sales'] > SuperStoreData['sales'].quantile(0.99)])"
   ]
  },
  {
   "cell_type": "code",
   "execution_count": 137,
   "id": "6ddb5e9f",
   "metadata": {},
   "outputs": [
    {
     "data": {
      "image/png": "[encoded data removed]",
      "text/plain": [
       "<Figure size 1000x600 with 1 Axes>"
      ]
     },
     "metadata": {},
     "output_type": "display_data"
    }
   ],
   "source": [
    "# Relation sales/profit \n",
    "plt.figure(figsize=(10, 6))\n",
    "sns.scatterplot(x='sales', y='profit', data=SuperStoreData, hue='category')\n",
    "plt.title('Relation entre Ventes et Profit par Catégorie')\n",
    "plt.xlabel('Ventes')\n",
    "plt.ylabel('Profit')\n",
    "plt.show()"
   ]
  },
  {
   "cell_type": "code",
   "execution_count": 138,
   "id": "06764a30",
   "metadata": {},
   "outputs": [
    {
     "name": "stdout",
     "output_type": "stream",
     "text": [
      "category\n",
      "Furniture           18463.31\n",
      "Office Supplies    122490.88\n",
      "Technology         145455.66\n",
      "Name: profit, dtype: float64\n"
     ]
    }
   ],
   "source": [
    "print(SuperStoreData.groupby('category')['profit'].sum())"
   ]
  },
  {
   "cell_type": "code",
   "execution_count": 139,
   "id": "073e4429",
   "metadata": {},
   "outputs": [
    {
     "data": {
      "image/png": "[encoded data removed]",
      "text/plain": [
       "<Figure size 1000x600 with 1 Axes>"
      ]
     },
     "metadata": {},
     "output_type": "display_data"
    }
   ],
   "source": [
    "plt.figure(figsize=(10, 6))\n",
    "sns.scatterplot(x='sales', y='profit', data=SuperStoreData, hue='category')\n",
    "plt.title('Relation entre Ventes et Profit par Catégorie')\n",
    "plt.xlabel('Ventes')\n",
    "plt.ylabel('Profit')\n",
    "plt.show()"
   ]
  },
  {
   "cell_type": "code",
   "execution_count": 140,
   "id": "d78ebb9a",
   "metadata": {},
   "outputs": [],
   "source": [
    "SuperStoreData.to_csv('superstoredata_cleaned.csv', index=False, sep=';')"
   ]
  },
  {
   "cell_type": "code",
   "execution_count": 141,
   "id": "0af79fd7",
   "metadata": {},
   "outputs": [],
   "source": [
    "# Sauvegarde du dataframe nettoyé dans un nouveau fichier CSV   \n",
    "cleaned_file = 'superstoredata_cleaned.csv'"
   ]
  },
  {
   "cell_type": "code",
   "execution_count": 142,
   "id": "35d8098f",
   "metadata": {},
   "outputs": [
    {
     "data": {
      "text/plain": [
       "'superstoredata_cleaned.csv'"
      ]
     },
     "execution_count": 142,
     "metadata": {},
     "output_type": "execute_result"
    }
   ],
   "source": [
    "cleaned_file"
   ]
  },
  {
   "cell_type": "code",
   "execution_count": 143,
   "id": "cf14b55c",
   "metadata": {},
   "outputs": [],
   "source": [
    "df_cleaned_file = pd.read_csv(cleaned_file, sep=';')"
   ]
  },
  {
   "cell_type": "code",
   "execution_count": 144,
   "id": "ed39249b",
   "metadata": {},
   "outputs": [
    {
     "data": {
      "text/html": [
       "<div>\n",
       "<style scoped>\n",
       "    .dataframe tbody tr th:only-of-type {\n",
       "        vertical-align: middle;\n",
       "    }\n",
       "\n",
       "    .dataframe tbody tr th {\n",
       "        vertical-align: top;\n",
       "    }\n",
       "\n",
       "    .dataframe thead th {\n",
       "        text-align: right;\n",
       "    }\n",
       "</style>\n",
       "<table border=\"1\" class=\"dataframe\">\n",
       "  <thead>\n",
       "    <tr style=\"text-align: right;\">\n",
       "      <th></th>\n",
       "      <th>order_id</th>\n",
       "      <th>order_date</th>\n",
       "      <th>ship_date</th>\n",
       "      <th>ship_mode</th>\n",
       "      <th>customer_id</th>\n",
       "      <th>sales_rep</th>\n",
       "      <th>location_id</th>\n",
       "      <th>product_id</th>\n",
       "      <th>sales</th>\n",
       "      <th>quantity</th>\n",
       "      <th>...</th>\n",
       "      <th>segment</th>\n",
       "      <th>product_name</th>\n",
       "      <th>category</th>\n",
       "      <th>sub_category</th>\n",
       "      <th>sales_team</th>\n",
       "      <th>sales_team_manager</th>\n",
       "      <th>city</th>\n",
       "      <th>state</th>\n",
       "      <th>postal_code</th>\n",
       "      <th>region</th>\n",
       "    </tr>\n",
       "  </thead>\n",
       "  <tbody>\n",
       "    <tr>\n",
       "      <th>0</th>\n",
       "      <td>CA-2016-152156</td>\n",
       "      <td>08/11/2016</td>\n",
       "      <td>11/11/2016</td>\n",
       "      <td>Second Class</td>\n",
       "      <td>CG-12520</td>\n",
       "      <td>Organic</td>\n",
       "      <td>42420,Henderson</td>\n",
       "      <td>FUR-BO-10001798</td>\n",
       "      <td>261.96</td>\n",
       "      <td>2</td>\n",
       "      <td>...</td>\n",
       "      <td>Consumer</td>\n",
       "      <td>Bush Somerset Collection Bookcase</td>\n",
       "      <td>Furniture</td>\n",
       "      <td>Bookcases</td>\n",
       "      <td>Organic</td>\n",
       "      <td>Organic</td>\n",
       "      <td>Henderson</td>\n",
       "      <td>Kentucky</td>\n",
       "      <td>42420</td>\n",
       "      <td>South</td>\n",
       "    </tr>\n",
       "    <tr>\n",
       "      <th>1</th>\n",
       "      <td>CA-2016-152156</td>\n",
       "      <td>08/11/2016</td>\n",
       "      <td>11/11/2016</td>\n",
       "      <td>Second Class</td>\n",
       "      <td>CG-12520</td>\n",
       "      <td>Organic</td>\n",
       "      <td>42420,Henderson</td>\n",
       "      <td>FUR-CH-10000454</td>\n",
       "      <td>731.94</td>\n",
       "      <td>3</td>\n",
       "      <td>...</td>\n",
       "      <td>Consumer</td>\n",
       "      <td>Hon Deluxe Fabric Upholstered Stacking Chairs,...</td>\n",
       "      <td>Furniture</td>\n",
       "      <td>Chairs</td>\n",
       "      <td>Organic</td>\n",
       "      <td>Organic</td>\n",
       "      <td>Henderson</td>\n",
       "      <td>Kentucky</td>\n",
       "      <td>42420</td>\n",
       "      <td>South</td>\n",
       "    </tr>\n",
       "    <tr>\n",
       "      <th>2</th>\n",
       "      <td>CA-2016-138688</td>\n",
       "      <td>12/06/2016</td>\n",
       "      <td>16/06/2016</td>\n",
       "      <td>Second Class</td>\n",
       "      <td>DV-13045</td>\n",
       "      <td>Steve Pepple</td>\n",
       "      <td>90036,Los Angeles</td>\n",
       "      <td>OFF-LA-10000240</td>\n",
       "      <td>14.62</td>\n",
       "      <td>2</td>\n",
       "      <td>...</td>\n",
       "      <td>Corporate</td>\n",
       "      <td>Self-Adhesive Address Labels for Typewriters b...</td>\n",
       "      <td>Office Supplies</td>\n",
       "      <td>Labels</td>\n",
       "      <td>Bravo</td>\n",
       "      <td>Tracy Banks</td>\n",
       "      <td>Los Angeles</td>\n",
       "      <td>California</td>\n",
       "      <td>90036</td>\n",
       "      <td>West</td>\n",
       "    </tr>\n",
       "    <tr>\n",
       "      <th>3</th>\n",
       "      <td>US-2015-108966</td>\n",
       "      <td>11/10/2015</td>\n",
       "      <td>18/10/2015</td>\n",
       "      <td>Standard Class</td>\n",
       "      <td>SO-20335</td>\n",
       "      <td>Organic</td>\n",
       "      <td>33311,Fort Lauderdale</td>\n",
       "      <td>FUR-TA-10000577</td>\n",
       "      <td>957.58</td>\n",
       "      <td>5</td>\n",
       "      <td>...</td>\n",
       "      <td>Consumer</td>\n",
       "      <td>Bretford CR4500 Series Slim Rectangular Table</td>\n",
       "      <td>Furniture</td>\n",
       "      <td>Tables</td>\n",
       "      <td>Organic</td>\n",
       "      <td>Organic</td>\n",
       "      <td>Fort Lauderdale</td>\n",
       "      <td>Florida</td>\n",
       "      <td>33311</td>\n",
       "      <td>South</td>\n",
       "    </tr>\n",
       "    <tr>\n",
       "      <th>4</th>\n",
       "      <td>US-2015-108966</td>\n",
       "      <td>11/10/2015</td>\n",
       "      <td>18/10/2015</td>\n",
       "      <td>Standard Class</td>\n",
       "      <td>SO-20335</td>\n",
       "      <td>Organic</td>\n",
       "      <td>33311,Fort Lauderdale</td>\n",
       "      <td>OFF-ST-10000760</td>\n",
       "      <td>22.37</td>\n",
       "      <td>2</td>\n",
       "      <td>...</td>\n",
       "      <td>Consumer</td>\n",
       "      <td>Eldon Fold 'N Roll Cart System</td>\n",
       "      <td>Office Supplies</td>\n",
       "      <td>Storage</td>\n",
       "      <td>Organic</td>\n",
       "      <td>Organic</td>\n",
       "      <td>Fort Lauderdale</td>\n",
       "      <td>Florida</td>\n",
       "      <td>33311</td>\n",
       "      <td>South</td>\n",
       "    </tr>\n",
       "  </tbody>\n",
       "</table>\n",
       "<p>5 rows × 23 columns</p>\n",
       "</div>"
      ],
      "text/plain": [
       "         order_id  order_date   ship_date       ship_mode customer_id  \\\n",
       "0  CA-2016-152156  08/11/2016  11/11/2016    Second Class    CG-12520   \n",
       "1  CA-2016-152156  08/11/2016  11/11/2016    Second Class    CG-12520   \n",
       "2  CA-2016-138688  12/06/2016  16/06/2016    Second Class    DV-13045   \n",
       "3  US-2015-108966  11/10/2015  18/10/2015  Standard Class    SO-20335   \n",
       "4  US-2015-108966  11/10/2015  18/10/2015  Standard Class    SO-20335   \n",
       "\n",
       "      sales_rep            location_id       product_id   sales  quantity  \\\n",
       "0       Organic        42420,Henderson  FUR-BO-10001798  261.96         2   \n",
       "1       Organic        42420,Henderson  FUR-CH-10000454  731.94         3   \n",
       "2  Steve Pepple      90036,Los Angeles  OFF-LA-10000240   14.62         2   \n",
       "3       Organic  33311,Fort Lauderdale  FUR-TA-10000577  957.58         5   \n",
       "4       Organic  33311,Fort Lauderdale  OFF-ST-10000760   22.37         2   \n",
       "\n",
       "   ...    segment                                       product_name  \\\n",
       "0  ...   Consumer                  Bush Somerset Collection Bookcase   \n",
       "1  ...   Consumer  Hon Deluxe Fabric Upholstered Stacking Chairs,...   \n",
       "2  ...  Corporate  Self-Adhesive Address Labels for Typewriters b...   \n",
       "3  ...   Consumer      Bretford CR4500 Series Slim Rectangular Table   \n",
       "4  ...   Consumer                     Eldon Fold 'N Roll Cart System   \n",
       "\n",
       "          category sub_category sales_team sales_team_manager  \\\n",
       "0        Furniture    Bookcases    Organic            Organic   \n",
       "1        Furniture       Chairs    Organic            Organic   \n",
       "2  Office Supplies       Labels      Bravo        Tracy Banks   \n",
       "3        Furniture       Tables    Organic            Organic   \n",
       "4  Office Supplies      Storage    Organic            Organic   \n",
       "\n",
       "              city       state postal_code region  \n",
       "0        Henderson    Kentucky       42420  South  \n",
       "1        Henderson    Kentucky       42420  South  \n",
       "2      Los Angeles  California       90036   West  \n",
       "3  Fort Lauderdale     Florida       33311  South  \n",
       "4  Fort Lauderdale     Florida       33311  South  \n",
       "\n",
       "[5 rows x 23 columns]"
      ]
     },
     "execution_count": 144,
     "metadata": {},
     "output_type": "execute_result"
    }
   ],
   "source": [
    "df_cleaned_file.head()"
   ]
  },
  {
   "cell_type": "code",
   "execution_count": 145,
   "id": "b0b58d28",
   "metadata": {},
   "outputs": [
    {
     "data": {
      "text/html": [
       "<div>\n",
       "<style scoped>\n",
       "    .dataframe tbody tr th:only-of-type {\n",
       "        vertical-align: middle;\n",
       "    }\n",
       "\n",
       "    .dataframe tbody tr th {\n",
       "        vertical-align: top;\n",
       "    }\n",
       "\n",
       "    .dataframe thead th {\n",
       "        text-align: right;\n",
       "    }\n",
       "</style>\n",
       "<table border=\"1\" class=\"dataframe\">\n",
       "  <thead>\n",
       "    <tr style=\"text-align: right;\">\n",
       "      <th></th>\n",
       "      <th>order_id</th>\n",
       "      <th>order_date</th>\n",
       "      <th>ship_date</th>\n",
       "      <th>ship_mode</th>\n",
       "      <th>customer_id</th>\n",
       "      <th>sales_rep</th>\n",
       "      <th>location_id</th>\n",
       "      <th>product_id</th>\n",
       "      <th>sales</th>\n",
       "      <th>quantity</th>\n",
       "      <th>...</th>\n",
       "      <th>segment</th>\n",
       "      <th>product_name</th>\n",
       "      <th>category</th>\n",
       "      <th>sub_category</th>\n",
       "      <th>sales_team</th>\n",
       "      <th>sales_team_manager</th>\n",
       "      <th>city</th>\n",
       "      <th>state</th>\n",
       "      <th>postal_code</th>\n",
       "      <th>region</th>\n",
       "    </tr>\n",
       "  </thead>\n",
       "  <tbody>\n",
       "    <tr>\n",
       "      <th>0</th>\n",
       "      <td>CA-2016-152156</td>\n",
       "      <td>08/11/2016</td>\n",
       "      <td>11/11/2016</td>\n",
       "      <td>Second Class</td>\n",
       "      <td>CG-12520</td>\n",
       "      <td>Organic</td>\n",
       "      <td>42420,Henderson</td>\n",
       "      <td>FUR-BO-10001798</td>\n",
       "      <td>261.96</td>\n",
       "      <td>2</td>\n",
       "      <td>...</td>\n",
       "      <td>Consumer</td>\n",
       "      <td>Bush Somerset Collection Bookcase</td>\n",
       "      <td>Furniture</td>\n",
       "      <td>Bookcases</td>\n",
       "      <td>Organic</td>\n",
       "      <td>Organic</td>\n",
       "      <td>Henderson</td>\n",
       "      <td>Kentucky</td>\n",
       "      <td>42420</td>\n",
       "      <td>South</td>\n",
       "    </tr>\n",
       "    <tr>\n",
       "      <th>1</th>\n",
       "      <td>CA-2016-152156</td>\n",
       "      <td>08/11/2016</td>\n",
       "      <td>11/11/2016</td>\n",
       "      <td>Second Class</td>\n",
       "      <td>CG-12520</td>\n",
       "      <td>Organic</td>\n",
       "      <td>42420,Henderson</td>\n",
       "      <td>FUR-CH-10000454</td>\n",
       "      <td>731.94</td>\n",
       "      <td>3</td>\n",
       "      <td>...</td>\n",
       "      <td>Consumer</td>\n",
       "      <td>Hon Deluxe Fabric Upholstered Stacking Chairs,...</td>\n",
       "      <td>Furniture</td>\n",
       "      <td>Chairs</td>\n",
       "      <td>Organic</td>\n",
       "      <td>Organic</td>\n",
       "      <td>Henderson</td>\n",
       "      <td>Kentucky</td>\n",
       "      <td>42420</td>\n",
       "      <td>South</td>\n",
       "    </tr>\n",
       "    <tr>\n",
       "      <th>2</th>\n",
       "      <td>CA-2016-138688</td>\n",
       "      <td>12/06/2016</td>\n",
       "      <td>16/06/2016</td>\n",
       "      <td>Second Class</td>\n",
       "      <td>DV-13045</td>\n",
       "      <td>Steve Pepple</td>\n",
       "      <td>90036,Los Angeles</td>\n",
       "      <td>OFF-LA-10000240</td>\n",
       "      <td>14.62</td>\n",
       "      <td>2</td>\n",
       "      <td>...</td>\n",
       "      <td>Corporate</td>\n",
       "      <td>Self-Adhesive Address Labels for Typewriters b...</td>\n",
       "      <td>Office Supplies</td>\n",
       "      <td>Labels</td>\n",
       "      <td>Bravo</td>\n",
       "      <td>Tracy Banks</td>\n",
       "      <td>Los Angeles</td>\n",
       "      <td>California</td>\n",
       "      <td>90036</td>\n",
       "      <td>West</td>\n",
       "    </tr>\n",
       "    <tr>\n",
       "      <th>3</th>\n",
       "      <td>US-2015-108966</td>\n",
       "      <td>11/10/2015</td>\n",
       "      <td>18/10/2015</td>\n",
       "      <td>Standard Class</td>\n",
       "      <td>SO-20335</td>\n",
       "      <td>Organic</td>\n",
       "      <td>33311,Fort Lauderdale</td>\n",
       "      <td>FUR-TA-10000577</td>\n",
       "      <td>957.58</td>\n",
       "      <td>5</td>\n",
       "      <td>...</td>\n",
       "      <td>Consumer</td>\n",
       "      <td>Bretford CR4500 Series Slim Rectangular Table</td>\n",
       "      <td>Furniture</td>\n",
       "      <td>Tables</td>\n",
       "      <td>Organic</td>\n",
       "      <td>Organic</td>\n",
       "      <td>Fort Lauderdale</td>\n",
       "      <td>Florida</td>\n",
       "      <td>33311</td>\n",
       "      <td>South</td>\n",
       "    </tr>\n",
       "    <tr>\n",
       "      <th>4</th>\n",
       "      <td>US-2015-108966</td>\n",
       "      <td>11/10/2015</td>\n",
       "      <td>18/10/2015</td>\n",
       "      <td>Standard Class</td>\n",
       "      <td>SO-20335</td>\n",
       "      <td>Organic</td>\n",
       "      <td>33311,Fort Lauderdale</td>\n",
       "      <td>OFF-ST-10000760</td>\n",
       "      <td>22.37</td>\n",
       "      <td>2</td>\n",
       "      <td>...</td>\n",
       "      <td>Consumer</td>\n",
       "      <td>Eldon Fold 'N Roll Cart System</td>\n",
       "      <td>Office Supplies</td>\n",
       "      <td>Storage</td>\n",
       "      <td>Organic</td>\n",
       "      <td>Organic</td>\n",
       "      <td>Fort Lauderdale</td>\n",
       "      <td>Florida</td>\n",
       "      <td>33311</td>\n",
       "      <td>South</td>\n",
       "    </tr>\n",
       "    <tr>\n",
       "      <th>...</th>\n",
       "      <td>...</td>\n",
       "      <td>...</td>\n",
       "      <td>...</td>\n",
       "      <td>...</td>\n",
       "      <td>...</td>\n",
       "      <td>...</td>\n",
       "      <td>...</td>\n",
       "      <td>...</td>\n",
       "      <td>...</td>\n",
       "      <td>...</td>\n",
       "      <td>...</td>\n",
       "      <td>...</td>\n",
       "      <td>...</td>\n",
       "      <td>...</td>\n",
       "      <td>...</td>\n",
       "      <td>...</td>\n",
       "      <td>...</td>\n",
       "      <td>...</td>\n",
       "      <td>...</td>\n",
       "      <td>...</td>\n",
       "      <td>...</td>\n",
       "    </tr>\n",
       "    <tr>\n",
       "      <th>9988</th>\n",
       "      <td>CA-2014-110422</td>\n",
       "      <td>21/01/2014</td>\n",
       "      <td>23/01/2014</td>\n",
       "      <td>Second Class</td>\n",
       "      <td>TB-21400</td>\n",
       "      <td>Organic</td>\n",
       "      <td>33180,Miami</td>\n",
       "      <td>FUR-FU-10001889</td>\n",
       "      <td>25.25</td>\n",
       "      <td>3</td>\n",
       "      <td>...</td>\n",
       "      <td>Consumer</td>\n",
       "      <td>Ultra Door Pull Handle</td>\n",
       "      <td>Furniture</td>\n",
       "      <td>Furnishings</td>\n",
       "      <td>Organic</td>\n",
       "      <td>Organic</td>\n",
       "      <td>Miami</td>\n",
       "      <td>Florida</td>\n",
       "      <td>33180</td>\n",
       "      <td>South</td>\n",
       "    </tr>\n",
       "    <tr>\n",
       "      <th>9989</th>\n",
       "      <td>CA-2017-121258</td>\n",
       "      <td>26/02/2017</td>\n",
       "      <td>03/03/2017</td>\n",
       "      <td>Standard Class</td>\n",
       "      <td>DB-13060</td>\n",
       "      <td>Organic</td>\n",
       "      <td>92627,Costa Mesa</td>\n",
       "      <td>FUR-FU-10000747</td>\n",
       "      <td>91.96</td>\n",
       "      <td>2</td>\n",
       "      <td>...</td>\n",
       "      <td>Consumer</td>\n",
       "      <td>Tenex B1-RE Series Chair Mats for Low Pile Car...</td>\n",
       "      <td>Furniture</td>\n",
       "      <td>Furnishings</td>\n",
       "      <td>Organic</td>\n",
       "      <td>Organic</td>\n",
       "      <td>Costa Mesa</td>\n",
       "      <td>California</td>\n",
       "      <td>92627</td>\n",
       "      <td>West</td>\n",
       "    </tr>\n",
       "    <tr>\n",
       "      <th>9990</th>\n",
       "      <td>CA-2017-121258</td>\n",
       "      <td>26/02/2017</td>\n",
       "      <td>03/03/2017</td>\n",
       "      <td>Standard Class</td>\n",
       "      <td>DB-13060</td>\n",
       "      <td>Organic</td>\n",
       "      <td>92627,Costa Mesa</td>\n",
       "      <td>TEC-PH-10003645</td>\n",
       "      <td>258.58</td>\n",
       "      <td>2</td>\n",
       "      <td>...</td>\n",
       "      <td>Consumer</td>\n",
       "      <td>Aastra 57i VoIP phone</td>\n",
       "      <td>Technology</td>\n",
       "      <td>Phones</td>\n",
       "      <td>Organic</td>\n",
       "      <td>Organic</td>\n",
       "      <td>Costa Mesa</td>\n",
       "      <td>California</td>\n",
       "      <td>92627</td>\n",
       "      <td>West</td>\n",
       "    </tr>\n",
       "    <tr>\n",
       "      <th>9991</th>\n",
       "      <td>CA-2017-121258</td>\n",
       "      <td>26/02/2017</td>\n",
       "      <td>03/03/2017</td>\n",
       "      <td>Standard Class</td>\n",
       "      <td>DB-13060</td>\n",
       "      <td>Organic</td>\n",
       "      <td>92627,Costa Mesa</td>\n",
       "      <td>OFF-PA-10004041</td>\n",
       "      <td>29.60</td>\n",
       "      <td>4</td>\n",
       "      <td>...</td>\n",
       "      <td>Consumer</td>\n",
       "      <td>It's Hot Message Books with Stickers, 2 3/4\" x 5\"</td>\n",
       "      <td>Office Supplies</td>\n",
       "      <td>Paper</td>\n",
       "      <td>Organic</td>\n",
       "      <td>Organic</td>\n",
       "      <td>Costa Mesa</td>\n",
       "      <td>California</td>\n",
       "      <td>92627</td>\n",
       "      <td>West</td>\n",
       "    </tr>\n",
       "    <tr>\n",
       "      <th>9992</th>\n",
       "      <td>CA-2017-119914</td>\n",
       "      <td>04/05/2017</td>\n",
       "      <td>09/05/2017</td>\n",
       "      <td>Second Class</td>\n",
       "      <td>CC-12220</td>\n",
       "      <td>Organic</td>\n",
       "      <td>92683,Westminster</td>\n",
       "      <td>OFF-AP-10002684</td>\n",
       "      <td>243.16</td>\n",
       "      <td>2</td>\n",
       "      <td>...</td>\n",
       "      <td>Consumer</td>\n",
       "      <td>Acco 7-Outlet Masterpiece Power Center, Wihtou...</td>\n",
       "      <td>Office Supplies</td>\n",
       "      <td>Appliances</td>\n",
       "      <td>Organic</td>\n",
       "      <td>Organic</td>\n",
       "      <td>Westminster</td>\n",
       "      <td>California</td>\n",
       "      <td>92683</td>\n",
       "      <td>West</td>\n",
       "    </tr>\n",
       "  </tbody>\n",
       "</table>\n",
       "<p>9993 rows × 23 columns</p>\n",
       "</div>"
      ],
      "text/plain": [
       "            order_id  order_date   ship_date       ship_mode customer_id  \\\n",
       "0     CA-2016-152156  08/11/2016  11/11/2016    Second Class    CG-12520   \n",
       "1     CA-2016-152156  08/11/2016  11/11/2016    Second Class    CG-12520   \n",
       "2     CA-2016-138688  12/06/2016  16/06/2016    Second Class    DV-13045   \n",
       "3     US-2015-108966  11/10/2015  18/10/2015  Standard Class    SO-20335   \n",
       "4     US-2015-108966  11/10/2015  18/10/2015  Standard Class    SO-20335   \n",
       "...              ...         ...         ...             ...         ...   \n",
       "9988  CA-2014-110422  21/01/2014  23/01/2014    Second Class    TB-21400   \n",
       "9989  CA-2017-121258  26/02/2017  03/03/2017  Standard Class    DB-13060   \n",
       "9990  CA-2017-121258  26/02/2017  03/03/2017  Standard Class    DB-13060   \n",
       "9991  CA-2017-121258  26/02/2017  03/03/2017  Standard Class    DB-13060   \n",
       "9992  CA-2017-119914  04/05/2017  09/05/2017    Second Class    CC-12220   \n",
       "\n",
       "         sales_rep            location_id       product_id   sales  quantity  \\\n",
       "0          Organic        42420,Henderson  FUR-BO-10001798  261.96         2   \n",
       "1          Organic        42420,Henderson  FUR-CH-10000454  731.94         3   \n",
       "2     Steve Pepple      90036,Los Angeles  OFF-LA-10000240   14.62         2   \n",
       "3          Organic  33311,Fort Lauderdale  FUR-TA-10000577  957.58         5   \n",
       "4          Organic  33311,Fort Lauderdale  OFF-ST-10000760   22.37         2   \n",
       "...            ...                    ...              ...     ...       ...   \n",
       "9988       Organic            33180,Miami  FUR-FU-10001889   25.25         3   \n",
       "9989       Organic       92627,Costa Mesa  FUR-FU-10000747   91.96         2   \n",
       "9990       Organic       92627,Costa Mesa  TEC-PH-10003645  258.58         2   \n",
       "9991       Organic       92627,Costa Mesa  OFF-PA-10004041   29.60         4   \n",
       "9992       Organic      92683,Westminster  OFF-AP-10002684  243.16         2   \n",
       "\n",
       "      ...    segment                                       product_name  \\\n",
       "0     ...   Consumer                  Bush Somerset Collection Bookcase   \n",
       "1     ...   Consumer  Hon Deluxe Fabric Upholstered Stacking Chairs,...   \n",
       "2     ...  Corporate  Self-Adhesive Address Labels for Typewriters b...   \n",
       "3     ...   Consumer      Bretford CR4500 Series Slim Rectangular Table   \n",
       "4     ...   Consumer                     Eldon Fold 'N Roll Cart System   \n",
       "...   ...        ...                                                ...   \n",
       "9988  ...   Consumer                             Ultra Door Pull Handle   \n",
       "9989  ...   Consumer  Tenex B1-RE Series Chair Mats for Low Pile Car...   \n",
       "9990  ...   Consumer                              Aastra 57i VoIP phone   \n",
       "9991  ...   Consumer  It's Hot Message Books with Stickers, 2 3/4\" x 5\"   \n",
       "9992  ...   Consumer  Acco 7-Outlet Masterpiece Power Center, Wihtou...   \n",
       "\n",
       "             category sub_category sales_team sales_team_manager  \\\n",
       "0           Furniture    Bookcases    Organic            Organic   \n",
       "1           Furniture       Chairs    Organic            Organic   \n",
       "2     Office Supplies       Labels      Bravo        Tracy Banks   \n",
       "3           Furniture       Tables    Organic            Organic   \n",
       "4     Office Supplies      Storage    Organic            Organic   \n",
       "...               ...          ...        ...                ...   \n",
       "9988        Furniture  Furnishings    Organic            Organic   \n",
       "9989        Furniture  Furnishings    Organic            Organic   \n",
       "9990       Technology       Phones    Organic            Organic   \n",
       "9991  Office Supplies        Paper    Organic            Organic   \n",
       "9992  Office Supplies   Appliances    Organic            Organic   \n",
       "\n",
       "                 city       state postal_code region  \n",
       "0           Henderson    Kentucky       42420  South  \n",
       "1           Henderson    Kentucky       42420  South  \n",
       "2         Los Angeles  California       90036   West  \n",
       "3     Fort Lauderdale     Florida       33311  South  \n",
       "4     Fort Lauderdale     Florida       33311  South  \n",
       "...               ...         ...         ...    ...  \n",
       "9988            Miami     Florida       33180  South  \n",
       "9989       Costa Mesa  California       92627   West  \n",
       "9990       Costa Mesa  California       92627   West  \n",
       "9991       Costa Mesa  California       92627   West  \n",
       "9992      Westminster  California       92683   West  \n",
       "\n",
       "[9993 rows x 23 columns]"
      ]
     },
     "execution_count": 145,
     "metadata": {},
     "output_type": "execute_result"
    }
   ],
   "source": [
    "df_cleaned_file"
   ]
  },
  {
   "cell_type": "code",
   "execution_count": 146,
   "id": "b0bf9b94",
   "metadata": {},
   "outputs": [
    {
     "name": "stdout",
     "output_type": "stream",
     "text": [
      "<class 'pandas.core.frame.DataFrame'>\n",
      "RangeIndex: 9993 entries, 0 to 9992\n",
      "Data columns (total 23 columns):\n",
      " #   Column              Non-Null Count  Dtype  \n",
      "---  ------              --------------  -----  \n",
      " 0   order_id            9993 non-null   object \n",
      " 1   order_date          9993 non-null   object \n",
      " 2   ship_date           9993 non-null   object \n",
      " 3   ship_mode           9993 non-null   object \n",
      " 4   customer_id         9993 non-null   object \n",
      " 5   sales_rep           9993 non-null   object \n",
      " 6   location_id         9993 non-null   object \n",
      " 7   product_id          9993 non-null   object \n",
      " 8   sales               9993 non-null   float64\n",
      " 9   quantity            9993 non-null   int64  \n",
      " 10  discount            9993 non-null   float64\n",
      " 11  profit              9993 non-null   float64\n",
      " 12  customer_name       9993 non-null   object \n",
      " 13  segment             9993 non-null   object \n",
      " 14  product_name        9993 non-null   object \n",
      " 15  category            9993 non-null   object \n",
      " 16  sub_category        9993 non-null   object \n",
      " 17  sales_team          9993 non-null   object \n",
      " 18  sales_team_manager  9993 non-null   object \n",
      " 19  city                9993 non-null   object \n",
      " 20  state               9993 non-null   object \n",
      " 21  postal_code         9993 non-null   object \n",
      " 22  region              9993 non-null   object \n",
      "dtypes: float64(3), int64(1), object(19)\n",
      "memory usage: 1.8+ MB\n"
     ]
    }
   ],
   "source": [
    "df_cleaned_file.info()"
   ]
  },
  {
   "cell_type": "code",
   "execution_count": 147,
   "id": "50a25764",
   "metadata": {},
   "outputs": [
    {
     "data": {
      "text/html": [
       "<div>\n",
       "<style scoped>\n",
       "    .dataframe tbody tr th:only-of-type {\n",
       "        vertical-align: middle;\n",
       "    }\n",
       "\n",
       "    .dataframe tbody tr th {\n",
       "        vertical-align: top;\n",
       "    }\n",
       "\n",
       "    .dataframe thead th {\n",
       "        text-align: right;\n",
       "    }\n",
       "</style>\n",
       "<table border=\"1\" class=\"dataframe\">\n",
       "  <thead>\n",
       "    <tr style=\"text-align: right;\">\n",
       "      <th></th>\n",
       "      <th>order_date</th>\n",
       "      <th>ship_date</th>\n",
       "    </tr>\n",
       "  </thead>\n",
       "  <tbody>\n",
       "    <tr>\n",
       "      <th>0</th>\n",
       "      <td>08/11/2016</td>\n",
       "      <td>11/11/2016</td>\n",
       "    </tr>\n",
       "    <tr>\n",
       "      <th>1</th>\n",
       "      <td>08/11/2016</td>\n",
       "      <td>11/11/2016</td>\n",
       "    </tr>\n",
       "    <tr>\n",
       "      <th>2</th>\n",
       "      <td>12/06/2016</td>\n",
       "      <td>16/06/2016</td>\n",
       "    </tr>\n",
       "    <tr>\n",
       "      <th>3</th>\n",
       "      <td>11/10/2015</td>\n",
       "      <td>18/10/2015</td>\n",
       "    </tr>\n",
       "    <tr>\n",
       "      <th>4</th>\n",
       "      <td>11/10/2015</td>\n",
       "      <td>18/10/2015</td>\n",
       "    </tr>\n",
       "  </tbody>\n",
       "</table>\n",
       "</div>"
      ],
      "text/plain": [
       "   order_date   ship_date\n",
       "0  08/11/2016  11/11/2016\n",
       "1  08/11/2016  11/11/2016\n",
       "2  12/06/2016  16/06/2016\n",
       "3  11/10/2015  18/10/2015\n",
       "4  11/10/2015  18/10/2015"
      ]
     },
     "execution_count": 147,
     "metadata": {},
     "output_type": "execute_result"
    }
   ],
   "source": [
    "# J'analyse les lignes order_date et ship_date pour confirmer le format\n",
    "df_cleaned_file[['order_date', 'ship_date']].head()"
   ]
  },
  {
   "cell_type": "code",
   "execution_count": 148,
   "id": "70e0ef78",
   "metadata": {},
   "outputs": [],
   "source": [
    "# Changement du type de données des colonnes 'order_date' et 'ship_date' en datetime en précisant le format à pandas pour ne pas qu'il affiche des erreurs (format jour/mois/année)\n",
    "df_cleaned_file['order_date'] = pd.to_datetime(df_cleaned_file['order_date'], format='%d/%m/%Y')\n",
    "df_cleaned_file['ship_date'] = pd.to_datetime(df_cleaned_file['ship_date'], format='%d/%m/%Y')"
   ]
  },
  {
   "cell_type": "code",
   "execution_count": 149,
   "id": "d0aef3d3",
   "metadata": {},
   "outputs": [
    {
     "name": "stdout",
     "output_type": "stream",
     "text": [
      "<class 'pandas.core.frame.DataFrame'>\n",
      "RangeIndex: 9993 entries, 0 to 9992\n",
      "Data columns (total 23 columns):\n",
      " #   Column              Non-Null Count  Dtype         \n",
      "---  ------              --------------  -----         \n",
      " 0   order_id            9993 non-null   object        \n",
      " 1   order_date          9993 non-null   datetime64[ns]\n",
      " 2   ship_date           9993 non-null   datetime64[ns]\n",
      " 3   ship_mode           9993 non-null   object        \n",
      " 4   customer_id         9993 non-null   object        \n",
      " 5   sales_rep           9993 non-null   object        \n",
      " 6   location_id         9993 non-null   object        \n",
      " 7   product_id          9993 non-null   object        \n",
      " 8   sales               9993 non-null   float64       \n",
      " 9   quantity            9993 non-null   int64         \n",
      " 10  discount            9993 non-null   float64       \n",
      " 11  profit              9993 non-null   float64       \n",
      " 12  customer_name       9993 non-null   object        \n",
      " 13  segment             9993 non-null   object        \n",
      " 14  product_name        9993 non-null   object        \n",
      " 15  category            9993 non-null   object        \n",
      " 16  sub_category        9993 non-null   object        \n",
      " 17  sales_team          9993 non-null   object        \n",
      " 18  sales_team_manager  9993 non-null   object        \n",
      " 19  city                9993 non-null   object        \n",
      " 20  state               9993 non-null   object        \n",
      " 21  postal_code         9993 non-null   object        \n",
      " 22  region              9993 non-null   object        \n",
      "dtypes: datetime64[ns](2), float64(3), int64(1), object(17)\n",
      "memory usage: 1.8+ MB\n"
     ]
    }
   ],
   "source": [
    "# Vérification des types de données de order date et ship date après conversion\n",
    "# On voit bien que order_date et ship_date sont devenus datetime64[ns] datetime64[ns] (format)\n",
    "df_cleaned_file.info()"
   ]
  },
  {
   "cell_type": "code",
   "execution_count": 150,
   "id": "f12d7171",
   "metadata": {},
   "outputs": [
    {
     "data": {
      "text/html": [
       "<div>\n",
       "<style scoped>\n",
       "    .dataframe tbody tr th:only-of-type {\n",
       "        vertical-align: middle;\n",
       "    }\n",
       "\n",
       "    .dataframe tbody tr th {\n",
       "        vertical-align: top;\n",
       "    }\n",
       "\n",
       "    .dataframe thead th {\n",
       "        text-align: right;\n",
       "    }\n",
       "</style>\n",
       "<table border=\"1\" class=\"dataframe\">\n",
       "  <thead>\n",
       "    <tr style=\"text-align: right;\">\n",
       "      <th></th>\n",
       "      <th>order_date</th>\n",
       "      <th>ship_date</th>\n",
       "    </tr>\n",
       "  </thead>\n",
       "  <tbody>\n",
       "    <tr>\n",
       "      <th>0</th>\n",
       "      <td>2016-11-08</td>\n",
       "      <td>2016-11-11</td>\n",
       "    </tr>\n",
       "    <tr>\n",
       "      <th>1</th>\n",
       "      <td>2016-11-08</td>\n",
       "      <td>2016-11-11</td>\n",
       "    </tr>\n",
       "    <tr>\n",
       "      <th>2</th>\n",
       "      <td>2016-06-12</td>\n",
       "      <td>2016-06-16</td>\n",
       "    </tr>\n",
       "    <tr>\n",
       "      <th>3</th>\n",
       "      <td>2015-10-11</td>\n",
       "      <td>2015-10-18</td>\n",
       "    </tr>\n",
       "    <tr>\n",
       "      <th>4</th>\n",
       "      <td>2015-10-11</td>\n",
       "      <td>2015-10-18</td>\n",
       "    </tr>\n",
       "  </tbody>\n",
       "</table>\n",
       "</div>"
      ],
      "text/plain": [
       "  order_date  ship_date\n",
       "0 2016-11-08 2016-11-11\n",
       "1 2016-11-08 2016-11-11\n",
       "2 2016-06-12 2016-06-16\n",
       "3 2015-10-11 2015-10-18\n",
       "4 2015-10-11 2015-10-18"
      ]
     },
     "execution_count": 150,
     "metadata": {},
     "output_type": "execute_result"
    }
   ],
   "source": [
    "# Je regarde les premières lignes pour confirmer le changement de format\n",
    "df_cleaned_file[['order_date', 'ship_date']].head()"
   ]
  },
  {
   "cell_type": "code",
   "execution_count": 151,
   "id": "672c7add",
   "metadata": {},
   "outputs": [
    {
     "name": "stdout",
     "output_type": "stream",
     "text": [
      "0    42420\n",
      "1    42420\n",
      "2    90036\n",
      "3    33311\n",
      "4    33311\n",
      "Name: postal_code, dtype: object\n"
     ]
    }
   ],
   "source": [
    "# Vérifier les premières lignes de la colonne postal_code\n",
    "print(df_cleaned_file['postal_code'].head())"
   ]
  },
  {
   "cell_type": "code",
   "execution_count": 152,
   "id": "a37b08c6",
   "metadata": {},
   "outputs": [
    {
     "name": "stdout",
     "output_type": "stream",
     "text": [
      "postal_code\n",
      "10035    263\n",
      "10024    230\n",
      "10009    229\n",
      "94122    203\n",
      "10011    193\n",
      "        ... \n",
      "6810       1\n",
      "72762      1\n",
      "32935      1\n",
      "80022      1\n",
      "93454      1\n",
      "Name: count, Length: 635, dtype: int64\n"
     ]
    }
   ],
   "source": [
    "# Vérifier les valeurs uniques et leur fréquence de la colonne postal_code\n",
    "print(df_cleaned_file['postal_code'].value_counts())"
   ]
  },
  {
   "cell_type": "code",
   "execution_count": 153,
   "id": "3ddde70a",
   "metadata": {},
   "outputs": [
    {
     "name": "stdout",
     "output_type": "stream",
     "text": [
      "postal_code\n",
      "5     9538\n",
      "4      449\n",
      "8        3\n",
      "14       2\n",
      "12       1\n",
      "Name: count, dtype: int64\n"
     ]
    }
   ],
   "source": [
    "# Vérifier la longueur des codes postaux\n",
    "print(df_cleaned_file['postal_code'].str.len().value_counts())"
   ]
  },
  {
   "cell_type": "code",
   "execution_count": 154,
   "id": "dfa6d8ea",
   "metadata": {},
   "outputs": [],
   "source": [
    "# Optionnel : Convertir en category si pertinent\n",
    "df_cleaned_file['postal_code'] = df_cleaned_file['postal_code'].astype('category')"
   ]
  },
  {
   "cell_type": "code",
   "execution_count": 155,
   "id": "b3f90e85",
   "metadata": {},
   "outputs": [
    {
     "data": {
      "text/plain": [
       "0    42420\n",
       "1    42420\n",
       "2    90036\n",
       "3    33311\n",
       "4    33311\n",
       "Name: postal_code, dtype: category\n",
       "Categories (635, object): ['10009', '10011', '10024', '10035', ..., 'Illinois', 'North Carolina', 'Oklahoma', 'Pennsylvania']"
      ]
     },
     "execution_count": 155,
     "metadata": {},
     "output_type": "execute_result"
    }
   ],
   "source": [
    "# Vérifier les premières lignes de la colonne postal_code\n",
    "df_cleaned_file['postal_code'].head()"
   ]
  },
  {
   "cell_type": "code",
   "execution_count": 156,
   "id": "81f99e96",
   "metadata": {},
   "outputs": [
    {
     "data": {
      "text/plain": [
       "0       42420\n",
       "1       42420\n",
       "2       90036\n",
       "3       33311\n",
       "4       33311\n",
       "        ...  \n",
       "9988    33180\n",
       "9989    92627\n",
       "9990    92627\n",
       "9991    92627\n",
       "9992    92683\n",
       "Name: postal_code, Length: 9993, dtype: category\n",
       "Categories (635, object): ['10009', '10011', '10024', '10035', ..., 'Illinois', 'North Carolina', 'Oklahoma', 'Pennsylvania']"
      ]
     },
     "execution_count": 156,
     "metadata": {},
     "output_type": "execute_result"
    }
   ],
   "source": [
    "df_cleaned_file['postal_code']"
   ]
  },
  {
   "cell_type": "code",
   "execution_count": 157,
   "id": "5cfaebee",
   "metadata": {},
   "outputs": [
    {
     "name": "stdout",
     "output_type": "stream",
     "text": [
      "<class 'pandas.core.series.Series'>\n",
      "RangeIndex: 9993 entries, 0 to 9992\n",
      "Series name: postal_code\n",
      "Non-Null Count  Dtype   \n",
      "--------------  -----   \n",
      "9993 non-null   category\n",
      "dtypes: category(1)\n",
      "memory usage: 40.8 KB\n"
     ]
    }
   ],
   "source": [
    "df_cleaned_file['postal_code'].info()"
   ]
  },
  {
   "cell_type": "markdown",
   "id": "5dae022c",
   "metadata": {},
   "source": [
    "#### Region\n",
    "category.\n",
    "Clarté dans l'analyse : Indique explicitement que la colonne est catégorique, ce qui est utile pour des visualisations ou des modèles d'apprentissage automatique.\n",
    "Quand ne pas convertir ? Si vous prévoyez de modifier fréquemment les valeurs de la colonne (par exemple, en ajoutant du texte ou en modifiant les chaînes), rester en object peut être plus flexible."
   ]
  },
  {
   "cell_type": "code",
   "execution_count": 158,
   "id": "c4fb8ed5",
   "metadata": {},
   "outputs": [
    {
     "name": "stdout",
     "output_type": "stream",
     "text": [
      "region\n",
      "West       3203\n",
      "East       2847\n",
      "Central    2322\n",
      "South      1621\n",
      "Name: count, dtype: int64\n"
     ]
    }
   ],
   "source": [
    "# Verifier les valeurs de la colonne region\n",
    "print(df_cleaned_file['region'].value_counts())"
   ]
  },
  {
   "cell_type": "markdown",
   "id": "a947d7c4",
   "metadata": {},
   "source": [
    "Observations :\n",
    "\n",
    "La colonne region contient 4 valeurs uniques : \"West\", \"East\", \"Central\", et \"South\".\n",
    "Il n'y a pas de variations incohérentes (par exemple, pas de \"west\" ou \"West \" avec des espaces ou des casses différentes).\n",
    "Les valeurs semblent standardisées et cohérentes (toutes en majuscule pour la première lettre, pas d'espaces ou de caractères parasites).\n",
    "La distribution est raisonnable, avec \"West\" ayant le plus d'occurrences (3203) et \"South\" le moins (1621).\n",
    "Aucune valeur aberrante ou vide (comme \"\" ou \"N/A\") n'apparaît dans le résultat."
   ]
  },
  {
   "cell_type": "code",
   "execution_count": 159,
   "id": "526a0bc9",
   "metadata": {},
   "outputs": [],
   "source": [
    "# Standardiser les valeurs (par précaution, pour uniformiser la casse)\n",
    "df_cleaned_file['region'] = df_cleaned_file['region'].str.strip().str.title()"
   ]
  },
  {
   "cell_type": "code",
   "execution_count": 160,
   "id": "59ee81f2",
   "metadata": {},
   "outputs": [],
   "source": [
    "# Convertir en type category\n",
    "df_cleaned_file['region'] = df_cleaned_file['region'].astype('category')"
   ]
  },
  {
   "cell_type": "code",
   "execution_count": 161,
   "id": "4c49856a",
   "metadata": {},
   "outputs": [
    {
     "name": "stdout",
     "output_type": "stream",
     "text": [
      "category\n"
     ]
    }
   ],
   "source": [
    "# Vérifier le nouveau type\n",
    "print(df_cleaned_file['region'].dtype)"
   ]
  },
  {
   "cell_type": "markdown",
   "id": "d9f5a517",
   "metadata": {},
   "source": [
    "#### city"
   ]
  },
  {
   "cell_type": "code",
   "execution_count": 162,
   "id": "5b27a930",
   "metadata": {},
   "outputs": [
    {
     "name": "stdout",
     "output_type": "stream",
     "text": [
      "0          Henderson\n",
      "1          Henderson\n",
      "2        Los Angeles\n",
      "3    Fort Lauderdale\n",
      "4    Fort Lauderdale\n",
      "Name: city, dtype: object\n"
     ]
    }
   ],
   "source": [
    "# Vérifier les premières lignes\n",
    "print(df_cleaned_file['city'].head())"
   ]
  },
  {
   "cell_type": "code",
   "execution_count": 163,
   "id": "bb1ba065",
   "metadata": {},
   "outputs": [
    {
     "name": "stdout",
     "output_type": "stream",
     "text": [
      "city\n",
      "New York City        915\n",
      "Los Angeles          747\n",
      "Philadelphia         536\n",
      "San Francisco        510\n",
      "Seattle              428\n",
      "                    ... \n",
      "Norfolk                1\n",
      "Cheyenne               1\n",
      "Arlington Heights      1\n",
      "Springdale             1\n",
      "San Luis Obispo        1\n",
      "Name: count, Length: 534, dtype: int64\n"
     ]
    }
   ],
   "source": [
    "# value_counts() montre la distribution des villes.\n",
    "print(df_cleaned_file['city'].value_counts())"
   ]
  },
  {
   "cell_type": "code",
   "execution_count": 164,
   "id": "ee3d6cf3",
   "metadata": {},
   "outputs": [
    {
     "name": "stdout",
     "output_type": "stream",
     "text": [
      "534\n",
      "Nombre de villes uniques : 534\n"
     ]
    }
   ],
   "source": [
    "# nunique() donne le nombre total de villes uniques.\n",
    "print(df_cleaned_file['city'].nunique())\n",
    "print(f\"Nombre de villes uniques : {df_cleaned_file['city'].nunique()}\")"
   ]
  },
  {
   "cell_type": "code",
   "execution_count": 165,
   "id": "7cbb88b0",
   "metadata": {},
   "outputs": [],
   "source": [
    "# Optionnel : Convertir en category si le nombre de villes uniques est raisonnable\n",
    "if df_cleaned_file['city'].nunique() < 1000:  # Seuil arbitraire, ajustez selon vos besoins\n",
    "    df_cleaned_file['city'] = df_cleaned_file['city'].astype('category')"
   ]
  },
  {
   "cell_type": "code",
   "execution_count": 166,
   "id": "849ca153",
   "metadata": {},
   "outputs": [],
   "source": [
    "# str.strip() : Supprime les espaces avant/après.\n",
    "# str.title() : Uniformise la casse (par exemple, \"new york\" → \"New York\").\n",
    "df_cleaned_file['city'] = df_cleaned_file['city'].str.strip().str.title()"
   ]
  },
  {
   "cell_type": "code",
   "execution_count": 167,
   "id": "96636f36",
   "metadata": {},
   "outputs": [
    {
     "name": "stdout",
     "output_type": "stream",
     "text": [
      "category\n"
     ]
    }
   ],
   "source": [
    "# Convertir en type category\n",
    "df_cleaned_file['city'] = df_cleaned_file['city'].astype('category')\n",
    "# Vérifier le nouveau type\n",
    "print(df_cleaned_file['city'].dtype)"
   ]
  },
  {
   "cell_type": "code",
   "execution_count": 168,
   "id": "988a2f15",
   "metadata": {},
   "outputs": [
    {
     "name": "stdout",
     "output_type": "stream",
     "text": [
      "city\n",
      "New York City    915\n",
      "Los Angeles      747\n",
      "Philadelphia     536\n",
      "San Francisco    510\n",
      "Seattle          428\n",
      "Name: count, dtype: int64\n",
      "0\n"
     ]
    }
   ],
   "source": [
    "# Vérifier les valeurs pour confirmer leur cohérence :\n",
    "print(df_cleaned_file['city'].value_counts().head())\n",
    "print(df_cleaned_file['city'].str.strip().eq('').sum())"
   ]
  },
  {
   "cell_type": "markdown",
   "id": "97a76b1d",
   "metadata": {},
   "source": [
    "#### Sales team manager"
   ]
  },
  {
   "cell_type": "code",
   "execution_count": 169,
   "id": "f71998b4",
   "metadata": {},
   "outputs": [
    {
     "name": "stdout",
     "output_type": "stream",
     "text": [
      "0        Organic\n",
      "1        Organic\n",
      "2    Tracy Banks\n",
      "3        Organic\n",
      "4        Organic\n",
      "Name: sales_team_manager, dtype: object\n"
     ]
    }
   ],
   "source": [
    "# Vérifier les premières lignes\n",
    "print(df_cleaned_file['sales_team_manager'].head())"
   ]
  },
  {
   "cell_type": "code",
   "execution_count": 170,
   "id": "b4bbc453",
   "metadata": {},
   "outputs": [
    {
     "name": "stdout",
     "output_type": "stream",
     "text": [
      "sales_team_manager\n",
      "Organic            6399\n",
      "Britanny Bold      1110\n",
      "Tracy Banks         843\n",
      "Alisha Cordwell     830\n",
      "James Goodwill      808\n",
      "Bravo                 2\n",
      "Delta                 1\n",
      "Name: count, dtype: int64\n",
      "Nombre de managers uniques : 7\n"
     ]
    }
   ],
   "source": [
    "# Vérifier le nombre de valeurs uniques et leur distribution\n",
    "print(df_cleaned_file['sales_team_manager'].value_counts())\n",
    "print(f\"Nombre de managers uniques : {df_cleaned_file['sales_team_manager'].nunique()}\")"
   ]
  },
  {
   "cell_type": "code",
   "execution_count": 173,
   "id": "8646324c",
   "metadata": {},
   "outputs": [
    {
     "name": "stdout",
     "output_type": "stream",
     "text": [
      "0\n"
     ]
    }
   ],
   "source": [
    "# Vérifier s'il y a des valeurs vides ou aberrantes\n",
    "print(df_cleaned_file['sales_team_manager'].str.strip().eq('').sum())\n"
   ]
  },
  {
   "cell_type": "code",
   "execution_count": 174,
   "id": "93926db3",
   "metadata": {},
   "outputs": [
    {
     "name": "stdout",
     "output_type": "stream",
     "text": [
      "sales_team_manager  sales_team \n",
      "Alisha Cordwell     Charlie         830\n",
      "Bravo               Accessories       2\n",
      "Britanny Bold       Delta          1110\n",
      "Delta               Accessories       1\n",
      "James Goodwill      Alfa            808\n",
      "Organic             Organic        6396\n",
      "                    Accessories       3\n",
      "Tracy Banks         Bravo           843\n",
      "Name: count, dtype: int64\n"
     ]
    }
   ],
   "source": [
    "# Vérifier la relation avec sales_team pour comprendre \"Organic\", \"Bravo\", \"Delta\"\n",
    "print(df_cleaned_file.groupby('sales_team_manager')['sales_team'].value_counts())"
   ]
  },
  {
   "cell_type": "code",
   "execution_count": 175,
   "id": "07d39662",
   "metadata": {},
   "outputs": [],
   "source": [
    "# Standardiser les valeurs (supprimer espaces, uniformiser la casse)\n",
    "df_cleaned_file['sales_team_manager'] = df_cleaned_file['sales_team_manager'].str.strip().str.title()"
   ]
  },
  {
   "cell_type": "code",
   "execution_count": 176,
   "id": "a8b9c4d0",
   "metadata": {},
   "outputs": [],
   "source": [
    "# Optionnel : Remplacer les valeurs suspectes par NaN (à confirmer selon votre contexte)\n",
    "df_cleaned_file['sales_team_manager'] = df_cleaned_file['sales_team_manager'].replace(['Organic', 'Bravo', 'Delta'], pd.NA)"
   ]
  },
  {
   "cell_type": "code",
   "execution_count": 177,
   "id": "bd995650",
   "metadata": {},
   "outputs": [
    {
     "name": "stdout",
     "output_type": "stream",
     "text": [
      "sales_team_manager\n",
      "<NA>               6402\n",
      "Britanny Bold      1110\n",
      "Tracy Banks         843\n",
      "Alisha Cordwell     830\n",
      "James Goodwill      808\n",
      "Name: count, dtype: int64\n"
     ]
    }
   ],
   "source": [
    "# Vérifier les valeurs après remplacement\n",
    "print(df_cleaned_file['sales_team_manager'].value_counts(dropna=False))"
   ]
  },
  {
   "cell_type": "code",
   "execution_count": 178,
   "id": "c88f56b0",
   "metadata": {},
   "outputs": [],
   "source": [
    "# Convertir en category\n",
    "df_cleaned_file['sales_team_manager'] = df_cleaned_file['sales_team_manager'].astype('category')"
   ]
  },
  {
   "cell_type": "code",
   "execution_count": 179,
   "id": "cbc9c7f0",
   "metadata": {},
   "outputs": [
    {
     "name": "stdout",
     "output_type": "stream",
     "text": [
      "category\n"
     ]
    }
   ],
   "source": [
    "# Vérifier le nouveau type\n",
    "print(df_cleaned_file['sales_team_manager'].dtype)"
   ]
  },
  {
   "cell_type": "code",
   "execution_count": 180,
   "id": "249c0fec",
   "metadata": {},
   "outputs": [
    {
     "name": "stdout",
     "output_type": "stream",
     "text": [
      "Empty DataFrame\n",
      "Columns: [sales_team, sales_team_manager, sales_rep]\n",
      "Index: []\n"
     ]
    }
   ],
   "source": [
    "# Vérifier les lignes où sales_team_manager est \"Organic\"\n",
    "print(df_cleaned_file[df_cleaned_file['sales_team_manager'] == 'Organic'][['sales_team', 'sales_team_manager', 'sales_rep']].head())"
   ]
  },
  {
   "cell_type": "code",
   "execution_count": 181,
   "id": "5bad6e54",
   "metadata": {},
   "outputs": [
    {
     "name": "stdout",
     "output_type": "stream",
     "text": [
      "sales_team   sales_rep       \n",
      "Organic      Organic             6396\n",
      "Accessories  Organic                3\n",
      "             Abigail Thompson       1\n",
      "             Anne Wu                1\n",
      "             Steve Pepple           1\n",
      "Name: count, dtype: int64\n",
      "sales_team_manager\n",
      "NaN                6402\n",
      "Britanny Bold      1110\n",
      "Tracy Banks         843\n",
      "Alisha Cordwell     830\n",
      "James Goodwill      808\n",
      "Name: count, dtype: int64\n"
     ]
    }
   ],
   "source": [
    "# Vérifier les équipes et représentants pour les lignes sans manager\n",
    "print(df_cleaned_file[df_cleaned_file['sales_team_manager'].isna()][['sales_team', 'sales_rep']].value_counts())\n",
    "# Vérifier les valeurs actuelles\n",
    "print(df_cleaned_file['sales_team_manager'].value_counts(dropna=False))"
   ]
  },
  {
   "cell_type": "code",
   "execution_count": 182,
   "id": "37ffcc3d",
   "metadata": {},
   "outputs": [],
   "source": [
    "# Restaurer \"Organic\" (si vous êtes d'accord)\n",
    "df_cleaned_file['sales_team_manager'] = df_cleaned_file['sales_team_manager'].cat.add_categories(['Organic']).fillna('Organic')"
   ]
  },
  {
   "cell_type": "code",
   "execution_count": 183,
   "id": "e48fb04e",
   "metadata": {},
   "outputs": [],
   "source": [
    "# Corriger \"Bravo\" et \"Delta\" (alternative au remplacement par NaN)\n",
    "df_cleaned_file.loc[df_cleaned_file['sales_team'] == 'Bravo', 'sales_team_manager'] = 'Tracy Banks'\n",
    "df_cleaned_file.loc[df_cleaned_file['sales_team'] == 'Delta', 'sales_team_manager'] = 'Britanny Bold'"
   ]
  },
  {
   "cell_type": "code",
   "execution_count": 184,
   "id": "0673ba28",
   "metadata": {},
   "outputs": [],
   "source": [
    "# Standardiser les noms\n",
    "df_cleaned_file['sales_team_manager'] = df_cleaned_file['sales_team_manager'].str.strip().str.title()"
   ]
  },
  {
   "cell_type": "code",
   "execution_count": 185,
   "id": "70e591cc",
   "metadata": {},
   "outputs": [],
   "source": [
    "# Reconvertir en category\n",
    "df_cleaned_file['sales_team_manager'] = df_cleaned_file['sales_team_manager'].astype('category')"
   ]
  },
  {
   "cell_type": "code",
   "execution_count": 186,
   "id": "9374e1c7",
   "metadata": {},
   "outputs": [
    {
     "name": "stdout",
     "output_type": "stream",
     "text": [
      "sales_team_manager\n",
      "Organic            6402\n",
      "Britanny Bold      1110\n",
      "Tracy Banks         843\n",
      "Alisha Cordwell     830\n",
      "James Goodwill      808\n",
      "Name: count, dtype: int64\n",
      "category\n"
     ]
    }
   ],
   "source": [
    "# Vérifier les valeurs finales\n",
    "print(df_cleaned_file['sales_team_manager'].value_counts(dropna=False))\n",
    "print(df_cleaned_file['sales_team_manager'].dtype)"
   ]
  },
  {
   "cell_type": "code",
   "execution_count": 187,
   "id": "50b0fd26",
   "metadata": {},
   "outputs": [
    {
     "name": "stdout",
     "output_type": "stream",
     "text": [
      "<class 'pandas.core.frame.DataFrame'>\n",
      "RangeIndex: 9993 entries, 0 to 9992\n",
      "Data columns (total 23 columns):\n",
      " #   Column              Non-Null Count  Dtype         \n",
      "---  ------              --------------  -----         \n",
      " 0   order_id            9993 non-null   object        \n",
      " 1   order_date          9993 non-null   datetime64[ns]\n",
      " 2   ship_date           9993 non-null   datetime64[ns]\n",
      " 3   ship_mode           9993 non-null   object        \n",
      " 4   customer_id         9993 non-null   object        \n",
      " 5   sales_rep           9993 non-null   object        \n",
      " 6   location_id         9993 non-null   object        \n",
      " 7   product_id          9993 non-null   object        \n",
      " 8   sales               9993 non-null   float64       \n",
      " 9   quantity            9993 non-null   int64         \n",
      " 10  discount            9993 non-null   float64       \n",
      " 11  profit              9993 non-null   float64       \n",
      " 12  customer_name       9993 non-null   object        \n",
      " 13  segment             9993 non-null   object        \n",
      " 14  product_name        9993 non-null   object        \n",
      " 15  category            9993 non-null   object        \n",
      " 16  sub_category        9993 non-null   object        \n",
      " 17  sales_team          9993 non-null   object        \n",
      " 18  sales_team_manager  9993 non-null   category      \n",
      " 19  city                9993 non-null   category      \n",
      " 20  state               9993 non-null   object        \n",
      " 21  postal_code         9993 non-null   category      \n",
      " 22  region              9993 non-null   category      \n",
      "dtypes: category(4), datetime64[ns](2), float64(3), int64(1), object(13)\n",
      "memory usage: 1.5+ MB\n"
     ]
    }
   ],
   "source": [
    "df_cleaned_file.info()"
   ]
  },
  {
   "cell_type": "code",
   "execution_count": 191,
   "id": "96781f2f",
   "metadata": {},
   "outputs": [
    {
     "data": {
      "text/plain": [
       "794"
      ]
     },
     "execution_count": 191,
     "metadata": {},
     "output_type": "execute_result"
    }
   ],
   "source": [
    "len(df_cleaned_file['customer_id'].unique())"
   ]
  },
  {
   "cell_type": "code",
   "execution_count": 192,
   "id": "5516c1de",
   "metadata": {},
   "outputs": [
    {
     "data": {
      "text/plain": [
       "1863"
      ]
     },
     "execution_count": 192,
     "metadata": {},
     "output_type": "execute_result"
    }
   ],
   "source": [
    "len(df_cleaned_file['product_id'].unique())"
   ]
  },
  {
   "cell_type": "code",
   "execution_count": 196,
   "id": "5cf0c124",
   "metadata": {},
   "outputs": [
    {
     "data": {
      "text/plain": [
       "9993"
      ]
     },
     "execution_count": 196,
     "metadata": {},
     "output_type": "execute_result"
    }
   ],
   "source": [
    "len(df_cleaned_file['order_id'])"
   ]
  },
  {
   "cell_type": "code",
   "execution_count": 201,
   "id": "548c8de0",
   "metadata": {},
   "outputs": [
    {
     "data": {
      "text/plain": [
       "5457"
      ]
     },
     "execution_count": 201,
     "metadata": {},
     "output_type": "execute_result"
    }
   ],
   "source": [
    "len(df_cleaned_file['sales'].unique())"
   ]
  },
  {
   "cell_type": "code",
   "execution_count": 198,
   "id": "6342ca2a",
   "metadata": {},
   "outputs": [
    {
     "data": {
      "text/plain": [
       "633"
      ]
     },
     "execution_count": 198,
     "metadata": {},
     "output_type": "execute_result"
    }
   ],
   "source": [
    "len(df_cleaned_file['location_id'].unique())"
   ]
  },
  {
   "cell_type": "code",
   "execution_count": 199,
   "id": "c2ec57e4",
   "metadata": {},
   "outputs": [
    {
     "data": {
      "text/plain": [
       "14"
      ]
     },
     "execution_count": 199,
     "metadata": {},
     "output_type": "execute_result"
    }
   ],
   "source": [
    "len(df_cleaned_file['sales_rep'].unique())"
   ]
  },
  {
   "cell_type": "markdown",
   "id": "51e26ade",
   "metadata": {},
   "source": [
    "# API"
   ]
  },
  {
   "cell_type": "code",
   "execution_count": 57,
   "id": "9e3749d6",
   "metadata": {},
   "outputs": [],
   "source": [
    "from fastapi import FastAPI, Depends, HTTPException\n",
    "import sqlite3\n",
    "from fastapi import FastAPI, HTTPException\n",
    "from fastapi.responses import JSONResponse\n",
    "import nest_asyncio\n",
    "import uvicorn"
   ]
  },
  {
   "cell_type": "code",
   "execution_count": 58,
   "id": "6c7d8d52",
   "metadata": {},
   "outputs": [
    {
     "name": "stderr",
     "output_type": "stream",
     "text": [
      "INFO:     Started server process [3712]\n",
      "INFO:     Waiting for application startup.\n",
      "INFO:     Application startup complete.\n",
      "INFO:     Uvicorn running on http://127.0.0.1:4000 (Press CTRL+C to quit)\n",
      "INFO:     Shutting down\n",
      "INFO:     Waiting for application shutdown.\n",
      "INFO:     Application shutdown complete.\n",
      "INFO:     Finished server process [3712]\n"
     ]
    }
   ],
   "source": [
    "# Pour exécuter FastAPI dans un notebook\n",
    "nest_asyncio.apply()\n",
    "\n",
    "app = FastAPI()\n",
    "\n",
    "\n",
    "# Route simple sans paramètre\n",
    "@app.get(\"/\")\n",
    "async def root():\n",
    "    return {\"message\": \"Bienvenue sur l'API de ADV Analyse des Ventes créée par Abdallah, Rayann et Raymond !\"}\n",
    "\n",
    "# Route avec un paramètre de chemin (path parameter)\n",
    "@app.get(\"/utilisateur_numéro/{user_id}\")\n",
    "async def get_user(user_id: int):\n",
    "    return {\"message\": f\"Infos de l'utilisateur avec l'ID numéro {user_id}\"}\n",
    "\n",
    "# Route avec un paramètre de chemin \"UserName\" (username path parameter)\n",
    "@app.get(\"/{user_name}\")\n",
    "async def get_userName(user_name: str):\n",
    "    return {\"What's my name ?\": f\"My name is {user_name}\"}\n",
    "\n",
    "# Lancer l'application (dans un notebook)\n",
    "uvicorn.run(app, host=\"127.0.0.1\", port=4000)\n",
    "\n",
    "# --- Pour voir toutes les routes API ---\n",
    "# http://127.0.0.1:4000/docs"
   ]
  }
 ],
 "metadata": {
  "kernelspec": {
   "display_name": "base",
   "language": "python",
   "name": "python3"
  },
  "language_info": {
   "codemirror_mode": {
    "name": "ipython",
    "version": 3
   },
   "file_extension": ".py",
   "mimetype": "text/x-python",
   "name": "python",
   "nbconvert_exporter": "python",
   "pygments_lexer": "ipython3",
   "version": "3.13.5"
  },
  "toc": {
   "base_numbering": 1,
   "nav_menu": {},
   "number_sections": true,
   "sideBar": true,
   "skip_h1_title": true,
   "title_cell": "Table of Contents",
   "title_sidebar": "Contents",
   "toc_cell": false,
   "toc_position": {},
   "toc_section_display": true,
   "toc_window_display": false
  }
 },
 "nbformat": 4,
 "nbformat_minor": 5
}
