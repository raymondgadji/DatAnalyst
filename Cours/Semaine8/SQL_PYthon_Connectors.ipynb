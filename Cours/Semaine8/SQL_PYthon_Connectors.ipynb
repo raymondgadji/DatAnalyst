{
 "cells": [
  {
   "attachments": {
    "image.png": {
     "image/png": "[encoded data removed]"
    }
   },
   "cell_type": "markdown",
   "id": "7d19982c",
   "metadata": {},
   "source": [
    "## Se connecter à une base de données SQL avec Python\n",
    "\n",
    "### Qu’est-ce qu’un connecteur SQL ?\n",
    "\n",
    "Un connecteur SQL permet à Python de communiquer avec une base de données SQL (MySQL, PostgreSQL, SQLite…).\n",
    "\n",
    "Il existe plusieurs méthodes pour interagir avec les bases :\n",
    "\n",
    "![image.png](attachment:image.png)"
   ]
  },
  {
   "cell_type": "markdown",
   "id": "9a4fd018",
   "metadata": {
    "code_folding": []
   },
   "source": [
    "\n",
    "### Avec mysql.connector (MySQL)\n",
    "\n",
    "✔️ Avantages :\n",
    "Contrôle total sur les requêtes SQL\n",
    "\n",
    "Intuitif pour les débutants SQL\n",
    "\n",
    "🔽 Inconvénients :\n",
    "Beaucoup de code \"manuel\"\n",
    "\n",
    "Nécessite de gérer soi-même les transactions"
   ]
  },
  {
   "cell_type": "code",
   "execution_count": 1,
   "id": "327568d9",
   "metadata": {},
   "outputs": [
    {
     "name": "stdout",
     "output_type": "stream",
     "text": [
      "Base créée et sélectionnée.\n"
     ]
    }
   ],
   "source": [
    "import mysql.connector\n",
    "from mysql.connector import Error\n",
    "\n",
    "try:\n",
    "    connection = mysql.connector.connect(\n",
    "        host='localhost',\n",
    "        user='root',\n",
    "        password=''\n",
    "    )\n",
    "\n",
    "    if connection.is_connected():\n",
    "        cursor = connection.cursor()\n",
    "        cursor.execute(\"CREATE DATABASE IF NOT EXISTS Books;\")\n",
    "        cursor.execute(\"USE Books;\")\n",
    "        print(\"Base créée et sélectionnée.\")\n",
    "\n",
    "except Error as e:\n",
    "    print(\"Erreur MySQL :\", e)\n",
    "#finally:\n",
    "    #if connection.is_connected():\n",
    "        #cursor.close()\n",
    "        #connection.close()\n"
   ]
  },
  {
   "cell_type": "markdown",
   "id": "c4649b56",
   "metadata": {},
   "source": [
    "### 2. Création de tables via requêtes SQL"
   ]
  },
  {
   "cell_type": "code",
   "execution_count": 2,
   "id": "b5d803fa",
   "metadata": {},
   "outputs": [],
   "source": [
    "create_Ratings_table = \"\"\"\n",
    "CREATE TABLE IF NOT EXISTS Ratings (\n",
    "    rating_Id INT PRIMARY KEY AUTO_INCREMENT,\n",
    "    score TINYINT NOT NULL CHECK (score >= 1 AND score <= 5)\n",
    ");\n",
    "\"\"\"\n",
    "cursor.execute(create_Ratings_table)"
   ]
  },
  {
   "cell_type": "code",
   "execution_count": 3,
   "id": "389abde2",
   "metadata": {},
   "outputs": [],
   "source": [
    "create_Categories_table = \"\"\"\n",
    "CREATE TABLE IF NOT EXISTS Categories (\n",
    "    category_Id INT PRIMARY KEY AUTO_INCREMENT,\n",
    "    name VARCHAR(255)\n",
    ");\n",
    "\"\"\"\n",
    "cursor.execute(create_Categories_table)"
   ]
  },
  {
   "cell_type": "code",
   "execution_count": 4,
   "id": "369d8ab7",
   "metadata": {},
   "outputs": [],
   "source": [
    "create_Books_table = \"\"\"\n",
    "CREATE TABLE IF NOT EXISTS Books (\n",
    "    book_Id INT PRIMARY KEY AUTO_INCREMENT,\n",
    "    title VARCHAR(255),\n",
    "    price DECIMAL(10, 2),\n",
    "    availability BOOLEAN,\n",
    "    category_Id INT,\n",
    "    rating_Id INT,\n",
    "    FOREIGN KEY (category_Id) REFERENCES Categories(category_Id),\n",
    "    FOREIGN KEY (rating_Id) REFERENCES Ratings(rating_Id)\n",
    ");\n",
    "\"\"\"\n",
    "cursor.execute(create_Books_table)\n"
   ]
  },
  {
   "cell_type": "code",
   "execution_count": 16,
   "id": "56b83726",
   "metadata": {},
   "outputs": [],
   "source": [
    "if connection.is_connected():\n",
    "        cursor.close()\n",
    "        connection.close()"
   ]
  },
  {
   "cell_type": "markdown",
   "id": "8b15aee8",
   "metadata": {},
   "source": [
    "### Partie 2 : Insérer des données depuis un DataFrame (pandas)"
   ]
  },
  {
   "cell_type": "code",
   "execution_count": 5,
   "id": "41f85bec",
   "metadata": {},
   "outputs": [
    {
     "name": "stdout",
     "output_type": "stream",
     "text": [
      "Base créée et sélectionnée.\n"
     ]
    }
   ],
   "source": [
    "import mysql.connector\n",
    "from mysql.connector import Error\n",
    "\n",
    "try:\n",
    "    connection = mysql.connector.connect(\n",
    "        host='localhost',\n",
    "        user='root',\n",
    "        password=''\n",
    "    )\n",
    "\n",
    "    if connection.is_connected():\n",
    "        cursor = connection.cursor()\n",
    "        cursor.execute(\"CREATE DATABASE IF NOT EXISTS Books;\")\n",
    "        cursor.execute(\"USE Books;\")\n",
    "        print(\"Base créée et sélectionnée.\")\n",
    "\n",
    "except Error as e:\n",
    "    print(\"Erreur MySQL :\", e)"
   ]
  },
  {
   "cell_type": "code",
   "execution_count": 20,
   "id": "dbf3c85e",
   "metadata": {},
   "outputs": [],
   "source": [
    "import pandas as pd\n",
    "\n",
    "# Création du dataframe # all_books.csv # books_by_category_with_titles.csv\n",
    "df_Books = pd.read_csv('all_books.csv')\n",
    "\n",
    "connection = mysql.connector.connect(\n",
    "    host='localhost',\n",
    "    user='root',\n",
    "    password='',\n",
    "    database='books'\n",
    ")\n",
    "\n",
    "cursor = connection.cursor()\n",
    "\n",
    "# Convertir la colonne 'availability' en booléen 1 ou 0 à la place de \"In stock\"\n",
    "df_Books['availability'] = df_Books['availability'].str.contains(\"In stock\")\n",
    "\n",
    "for _, row in df_Books.iterrows():\n",
    "    cursor.execute(\n",
    "        \"INSERT INTO Books (title, price, availability) VALUES (%s, %s, %s)\",\n",
    "        (row['title'], row['price'], row['availability'])\n",
    "    )\n",
    "\n",
    "connection.commit()\n"
   ]
  },
  {
   "cell_type": "code",
   "execution_count": 21,
   "id": "9866f933",
   "metadata": {},
   "outputs": [
    {
     "name": "stdout",
     "output_type": "stream",
     "text": [
      " Contenu de la table Books :\n",
      "(1, 'A Light in the Attic', Decimal('51.77'), 1, None, None)\n",
      "(2, 'Tipping the Velvet', Decimal('53.74'), 1, None, None)\n",
      "(3, 'Soumission', Decimal('50.10'), 1, None, None)\n",
      "(4, 'Sharp Objects', Decimal('47.82'), 1, None, None)\n",
      "(5, 'Sapiens: A Brief History of Humankind', Decimal('54.23'), 1, None, None)\n",
      "(6, 'The Requiem Red', Decimal('22.65'), 1, None, None)\n",
      "(7, 'The Dirty Little Secrets of Getting Your Dream Job', Decimal('33.34'), 1, None, None)\n",
      "(8, 'The Coming Woman: A Novel Based on the Life of the Infamous Feminist, Victoria Woodhull', Decimal('17.93'), 1, None, None)\n",
      "(9, 'The Boys in the Boat: Nine Americans and Their Epic Quest for Gold at the 1936 Berlin Olympics', Decimal('22.60'), 1, None, None)\n",
      "(10, 'The Black Maria', Decimal('52.15'), 1, None, None)\n"
     ]
    }
   ],
   "source": [
    "try:\n",
    "    cursor = connection.cursor()\n",
    "    \n",
    "    # Requête pour lire tout le contenu de la table Books\n",
    "    cursor.execute(\"SELECT * FROM Books limit 10;\")\n",
    "    \n",
    "    # Récupérer les résultats\n",
    "    rows = cursor.fetchall()\n",
    "    \n",
    "    print(\" Contenu de la table Books :\")\n",
    "    for row in rows:\n",
    "        print(row)\n",
    "\n",
    "except Error as e:\n",
    "    print(f\"Erreur lors de la lecture : {e}\")\n"
   ]
  },
  {
   "cell_type": "code",
   "execution_count": 9,
   "id": "9e0b060e",
   "metadata": {},
   "outputs": [
    {
     "name": "stderr",
     "output_type": "stream",
     "text": [
      "C:\\Users\\Administrateur\\AppData\\Local\\Temp\\ipykernel_2504\\2425033783.py:2: UserWarning: pandas only supports SQLAlchemy connectable (engine/connection) or database string URI or sqlite3 DBAPI2 connection. Other DBAPI2 objects are not tested. Please consider using SQLAlchemy.\n",
      "  df_BooksRead = pd.read_sql(\"SELECT * FROM Books;\", con=connection)\n"
     ]
    },
    {
     "data": {
      "text/html": [
       "<div>\n",
       "<style scoped>\n",
       "    .dataframe tbody tr th:only-of-type {\n",
       "        vertical-align: middle;\n",
       "    }\n",
       "\n",
       "    .dataframe tbody tr th {\n",
       "        vertical-align: top;\n",
       "    }\n",
       "\n",
       "    .dataframe thead th {\n",
       "        text-align: right;\n",
       "    }\n",
       "</style>\n",
       "<table border=\"1\" class=\"dataframe\">\n",
       "  <thead>\n",
       "    <tr style=\"text-align: right;\">\n",
       "      <th></th>\n",
       "      <th>book_Id</th>\n",
       "      <th>title</th>\n",
       "      <th>price</th>\n",
       "      <th>availability</th>\n",
       "      <th>category_Id</th>\n",
       "      <th>rating_Id</th>\n",
       "    </tr>\n",
       "  </thead>\n",
       "  <tbody>\n",
       "    <tr>\n",
       "      <th>0</th>\n",
       "      <td>1</td>\n",
       "      <td>A Light in the Attic</td>\n",
       "      <td>51.77</td>\n",
       "      <td>1</td>\n",
       "      <td>None</td>\n",
       "      <td>None</td>\n",
       "    </tr>\n",
       "    <tr>\n",
       "      <th>1</th>\n",
       "      <td>2</td>\n",
       "      <td>Tipping the Velvet</td>\n",
       "      <td>53.74</td>\n",
       "      <td>1</td>\n",
       "      <td>None</td>\n",
       "      <td>None</td>\n",
       "    </tr>\n",
       "    <tr>\n",
       "      <th>2</th>\n",
       "      <td>3</td>\n",
       "      <td>Soumission</td>\n",
       "      <td>50.10</td>\n",
       "      <td>1</td>\n",
       "      <td>None</td>\n",
       "      <td>None</td>\n",
       "    </tr>\n",
       "    <tr>\n",
       "      <th>3</th>\n",
       "      <td>4</td>\n",
       "      <td>Sharp Objects</td>\n",
       "      <td>47.82</td>\n",
       "      <td>1</td>\n",
       "      <td>None</td>\n",
       "      <td>None</td>\n",
       "    </tr>\n",
       "    <tr>\n",
       "      <th>4</th>\n",
       "      <td>5</td>\n",
       "      <td>Sapiens: A Brief History of Humankind</td>\n",
       "      <td>54.23</td>\n",
       "      <td>1</td>\n",
       "      <td>None</td>\n",
       "      <td>None</td>\n",
       "    </tr>\n",
       "  </tbody>\n",
       "</table>\n",
       "</div>"
      ],
      "text/plain": [
       "   book_Id                                  title  price  availability  \\\n",
       "0        1                   A Light in the Attic  51.77             1   \n",
       "1        2                     Tipping the Velvet  53.74             1   \n",
       "2        3                             Soumission  50.10             1   \n",
       "3        4                          Sharp Objects  47.82             1   \n",
       "4        5  Sapiens: A Brief History of Humankind  54.23             1   \n",
       "\n",
       "  category_Id rating_Id  \n",
       "0        None      None  \n",
       "1        None      None  \n",
       "2        None      None  \n",
       "3        None      None  \n",
       "4        None      None  "
      ]
     },
     "execution_count": 9,
     "metadata": {},
     "output_type": "execute_result"
    }
   ],
   "source": [
    "# Lecture de la table Books dans un DataFrame\n",
    "df_BooksRead = pd.read_sql(\"SELECT * FROM Books;\", con=connection)\n",
    "\n",
    "# Affichage\n",
    "df_BooksRead.head()"
   ]
  },
  {
   "cell_type": "markdown",
   "id": "071d8518-6d6d-4095-8e9c-0ded5b2f6d71",
   "metadata": {},
   "source": [
    "###  Partie 3 : Avec SQLAlchemy (plus modulaire et puissant)"
   ]
  },
  {
   "cell_type": "code",
   "execution_count": 22,
   "id": "63daa155",
   "metadata": {},
   "outputs": [
    {
     "data": {
      "text/plain": [
       "-1"
      ]
     },
     "execution_count": 22,
     "metadata": {},
     "output_type": "execute_result"
    }
   ],
   "source": [
    "from sqlalchemy import create_engine\n",
    "import pandas as pd\n",
    "import sqlalchemy\n",
    "\n",
    "\n",
    "# Connexion à la base MySQL\n",
    "engine = create_engine(\"mysql+mysqlconnector://root:@localhost/books\")\n",
    "\n",
    "# DataFrame\n",
    "df_Books = pd.read_csv('books_by_category_with_titles.csv')\n",
    "\n",
    "# Insert data into the table, appending new rows\n",
    "df_Books.to_sql('categories', con=engine, if_exists='append', index=False, \n",
    "                dtype={\n",
    "                    \"Category\": sqlalchemy.String(length=255),\n",
    "                    \"Number of Books\": sqlalchemy.Integer,\n",
    "                    \"Book Titles\": sqlalchemy.Text\n",
    "                })\n",
    "\n",
    "\n",
    "# Déconnexion\n",
    "#engine.dispose()\n"
   ]
  },
  {
   "cell_type": "code",
   "execution_count": 24,
   "id": "a121a1cc",
   "metadata": {},
   "outputs": [
    {
     "name": "stdout",
     "output_type": "stream",
     "text": [
      "(1, 'A Light in the Attic', Decimal('51.77'), 1, None, None)\n",
      "(2, 'Tipping the Velvet', Decimal('53.74'), 1, None, None)\n",
      "(3, 'Soumission', Decimal('50.10'), 1, None, None)\n",
      "(4, 'Sharp Objects', Decimal('47.82'), 1, None, None)\n",
      "(5, 'Sapiens: A Brief History of Humankind', Decimal('54.23'), 1, None, None)\n",
      "(6, 'The Requiem Red', Decimal('22.65'), 1, None, None)\n",
      "(7, 'The Dirty Little Secrets of Getting Your Dream Job', Decimal('33.34'), 1, None, None)\n",
      "(8, 'The Coming Woman: A Novel Based on the Life of the Infamous Feminist, Victoria Woodhull', Decimal('17.93'), 1, None, None)\n",
      "(9, 'The Boys in the Boat: Nine Americans and Their Epic Quest for Gold at the 1936 Berlin Olympics', Decimal('22.60'), 1, None, None)\n",
      "(10, 'The Black Maria', Decimal('52.15'), 1, None, None)\n"
     ]
    }
   ],
   "source": [
    "from sqlalchemy import create_engine, text\n",
    "import pandas as pd\n",
    "\n",
    "# Connexion via SQLAlchemy\n",
    "engine = create_engine(\"mysql+mysqlconnector://root:@localhost/books\")\n",
    "\n",
    "# Ouverture d’une connexion sécurisée\n",
    "with engine.connect() as conn:\n",
    "    \n",
    "    #  Pour exécuter une requête manuelle (SELECT brut)\n",
    "    result = conn.execute(text(\"SELECT * FROM Books limit 10\"))\n",
    "    rows = result.fetchall()\n",
    "    for row in rows:\n",
    "        print(row)\n",
    "\n",
    "    \n"
   ]
  },
  {
   "cell_type": "code",
   "execution_count": 25,
   "id": "f41572fd",
   "metadata": {},
   "outputs": [
    {
     "data": {
      "text/html": [
       "<div>\n",
       "<style scoped>\n",
       "    .dataframe tbody tr th:only-of-type {\n",
       "        vertical-align: middle;\n",
       "    }\n",
       "\n",
       "    .dataframe tbody tr th {\n",
       "        vertical-align: top;\n",
       "    }\n",
       "\n",
       "    .dataframe thead th {\n",
       "        text-align: right;\n",
       "    }\n",
       "</style>\n",
       "<table border=\"1\" class=\"dataframe\">\n",
       "  <thead>\n",
       "    <tr style=\"text-align: right;\">\n",
       "      <th></th>\n",
       "      <th>book_Id</th>\n",
       "      <th>title</th>\n",
       "      <th>price</th>\n",
       "      <th>availability</th>\n",
       "      <th>category_Id</th>\n",
       "      <th>rating_Id</th>\n",
       "    </tr>\n",
       "  </thead>\n",
       "  <tbody>\n",
       "    <tr>\n",
       "      <th>0</th>\n",
       "      <td>1</td>\n",
       "      <td>A Light in the Attic</td>\n",
       "      <td>51.77</td>\n",
       "      <td>1</td>\n",
       "      <td>None</td>\n",
       "      <td>None</td>\n",
       "    </tr>\n",
       "    <tr>\n",
       "      <th>1</th>\n",
       "      <td>2</td>\n",
       "      <td>Tipping the Velvet</td>\n",
       "      <td>53.74</td>\n",
       "      <td>1</td>\n",
       "      <td>None</td>\n",
       "      <td>None</td>\n",
       "    </tr>\n",
       "    <tr>\n",
       "      <th>2</th>\n",
       "      <td>3</td>\n",
       "      <td>Soumission</td>\n",
       "      <td>50.10</td>\n",
       "      <td>1</td>\n",
       "      <td>None</td>\n",
       "      <td>None</td>\n",
       "    </tr>\n",
       "    <tr>\n",
       "      <th>3</th>\n",
       "      <td>4</td>\n",
       "      <td>Sharp Objects</td>\n",
       "      <td>47.82</td>\n",
       "      <td>1</td>\n",
       "      <td>None</td>\n",
       "      <td>None</td>\n",
       "    </tr>\n",
       "    <tr>\n",
       "      <th>4</th>\n",
       "      <td>5</td>\n",
       "      <td>Sapiens: A Brief History of Humankind</td>\n",
       "      <td>54.23</td>\n",
       "      <td>1</td>\n",
       "      <td>None</td>\n",
       "      <td>None</td>\n",
       "    </tr>\n",
       "  </tbody>\n",
       "</table>\n",
       "</div>"
      ],
      "text/plain": [
       "   book_Id                                  title  price  availability  \\\n",
       "0        1                   A Light in the Attic  51.77             1   \n",
       "1        2                     Tipping the Velvet  53.74             1   \n",
       "2        3                             Soumission  50.10             1   \n",
       "3        4                          Sharp Objects  47.82             1   \n",
       "4        5  Sapiens: A Brief History of Humankind  54.23             1   \n",
       "\n",
       "  category_Id rating_Id  \n",
       "0        None      None  \n",
       "1        None      None  \n",
       "2        None      None  \n",
       "3        None      None  \n",
       "4        None      None  "
      ]
     },
     "execution_count": 25,
     "metadata": {},
     "output_type": "execute_result"
    }
   ],
   "source": [
    "#  Pour charger directement un DataFrame\n",
    "with engine.connect() as conn:\n",
    "    df_books2 = pd.read_sql(text(\"SELECT * FROM Books\"), con=conn)\n",
    "\n",
    "df_books2.head()"
   ]
  },
  {
   "cell_type": "markdown",
   "id": "ee49e6ca",
   "metadata": {},
   "source": [
    "Je vais remplacer les valeurs de la colonne 'rating' passer de str à int"
   ]
  },
  {
   "cell_type": "code",
   "execution_count": 31,
   "id": "f8995bf3",
   "metadata": {},
   "outputs": [
    {
     "data": {
      "text/html": [
       "<div>\n",
       "<style scoped>\n",
       "    .dataframe tbody tr th:only-of-type {\n",
       "        vertical-align: middle;\n",
       "    }\n",
       "\n",
       "    .dataframe tbody tr th {\n",
       "        vertical-align: top;\n",
       "    }\n",
       "\n",
       "    .dataframe thead th {\n",
       "        text-align: right;\n",
       "    }\n",
       "</style>\n",
       "<table border=\"1\" class=\"dataframe\">\n",
       "  <thead>\n",
       "    <tr style=\"text-align: right;\">\n",
       "      <th></th>\n",
       "      <th>title</th>\n",
       "      <th>rating</th>\n",
       "      <th>price</th>\n",
       "      <th>availability</th>\n",
       "    </tr>\n",
       "  </thead>\n",
       "  <tbody>\n",
       "    <tr>\n",
       "      <th>0</th>\n",
       "      <td>A Light in the Attic</td>\n",
       "      <td>3</td>\n",
       "      <td>51.77</td>\n",
       "      <td>In stock</td>\n",
       "    </tr>\n",
       "    <tr>\n",
       "      <th>1</th>\n",
       "      <td>Tipping the Velvet</td>\n",
       "      <td>1</td>\n",
       "      <td>53.74</td>\n",
       "      <td>In stock</td>\n",
       "    </tr>\n",
       "    <tr>\n",
       "      <th>2</th>\n",
       "      <td>Soumission</td>\n",
       "      <td>1</td>\n",
       "      <td>50.10</td>\n",
       "      <td>In stock</td>\n",
       "    </tr>\n",
       "    <tr>\n",
       "      <th>3</th>\n",
       "      <td>Sharp Objects</td>\n",
       "      <td>4</td>\n",
       "      <td>47.82</td>\n",
       "      <td>In stock</td>\n",
       "    </tr>\n",
       "    <tr>\n",
       "      <th>4</th>\n",
       "      <td>Sapiens: A Brief History of Humankind</td>\n",
       "      <td>5</td>\n",
       "      <td>54.23</td>\n",
       "      <td>In stock</td>\n",
       "    </tr>\n",
       "  </tbody>\n",
       "</table>\n",
       "</div>"
      ],
      "text/plain": [
       "                                   title rating  price availability\n",
       "0                   A Light in the Attic      3  51.77     In stock\n",
       "1                     Tipping the Velvet      1  53.74     In stock\n",
       "2                             Soumission      1  50.10     In stock\n",
       "3                          Sharp Objects      4  47.82     In stock\n",
       "4  Sapiens: A Brief History of Humankind      5  54.23     In stock"
      ]
     },
     "execution_count": 31,
     "metadata": {},
     "output_type": "execute_result"
    }
   ],
   "source": [
    "# Load the data\n",
    "df_Books = pd.read_csv('all_books.csv')\n",
    "\n",
    "# Replace the rating values\n",
    "df_Books['rating'] = df_Books['rating'].replace({\n",
    "    'One': '1',\n",
    "    'Two': '2',\n",
    "    'Three': '3',\n",
    "    'Four': '4',\n",
    "    'Five': '5'\n",
    "})\n",
    "\n",
    "# Display the updated dataframe\n",
    "df_Books.head()"
   ]
  },
  {
   "cell_type": "markdown",
   "id": "630616fa",
   "metadata": {},
   "source": [
    "Je vais mélanger les 2 df pour en faire un final"
   ]
  },
  {
   "cell_type": "code",
   "execution_count": 35,
   "id": "6ea90c14",
   "metadata": {},
   "outputs": [
    {
     "data": {
      "text/html": [
       "<div>\n",
       "<style scoped>\n",
       "    .dataframe tbody tr th:only-of-type {\n",
       "        vertical-align: middle;\n",
       "    }\n",
       "\n",
       "    .dataframe tbody tr th {\n",
       "        vertical-align: top;\n",
       "    }\n",
       "\n",
       "    .dataframe thead th {\n",
       "        text-align: right;\n",
       "    }\n",
       "</style>\n",
       "<table border=\"1\" class=\"dataframe\">\n",
       "  <thead>\n",
       "    <tr style=\"text-align: right;\">\n",
       "      <th></th>\n",
       "      <th>book_Id</th>\n",
       "      <th>title</th>\n",
       "      <th>price</th>\n",
       "      <th>availability</th>\n",
       "      <th>category_Id</th>\n",
       "      <th>rating_Id</th>\n",
       "      <th>rating</th>\n",
       "    </tr>\n",
       "  </thead>\n",
       "  <tbody>\n",
       "    <tr>\n",
       "      <th>0</th>\n",
       "      <td>1</td>\n",
       "      <td>A Light in the Attic</td>\n",
       "      <td>51.77</td>\n",
       "      <td>1</td>\n",
       "      <td>None</td>\n",
       "      <td>None</td>\n",
       "      <td>3</td>\n",
       "    </tr>\n",
       "    <tr>\n",
       "      <th>1</th>\n",
       "      <td>2</td>\n",
       "      <td>Tipping the Velvet</td>\n",
       "      <td>53.74</td>\n",
       "      <td>1</td>\n",
       "      <td>None</td>\n",
       "      <td>None</td>\n",
       "      <td>1</td>\n",
       "    </tr>\n",
       "    <tr>\n",
       "      <th>2</th>\n",
       "      <td>3</td>\n",
       "      <td>Soumission</td>\n",
       "      <td>50.10</td>\n",
       "      <td>1</td>\n",
       "      <td>None</td>\n",
       "      <td>None</td>\n",
       "      <td>1</td>\n",
       "    </tr>\n",
       "    <tr>\n",
       "      <th>3</th>\n",
       "      <td>4</td>\n",
       "      <td>Sharp Objects</td>\n",
       "      <td>47.82</td>\n",
       "      <td>1</td>\n",
       "      <td>None</td>\n",
       "      <td>None</td>\n",
       "      <td>4</td>\n",
       "    </tr>\n",
       "    <tr>\n",
       "      <th>4</th>\n",
       "      <td>5</td>\n",
       "      <td>Sapiens: A Brief History of Humankind</td>\n",
       "      <td>54.23</td>\n",
       "      <td>1</td>\n",
       "      <td>None</td>\n",
       "      <td>None</td>\n",
       "      <td>5</td>\n",
       "    </tr>\n",
       "  </tbody>\n",
       "</table>\n",
       "</div>"
      ],
      "text/plain": [
       "   book_Id                                  title  price  availability  \\\n",
       "0        1                   A Light in the Attic  51.77             1   \n",
       "1        2                     Tipping the Velvet  53.74             1   \n",
       "2        3                             Soumission  50.10             1   \n",
       "3        4                          Sharp Objects  47.82             1   \n",
       "4        5  Sapiens: A Brief History of Humankind  54.23             1   \n",
       "\n",
       "  category_Id rating_Id rating  \n",
       "0        None      None      3  \n",
       "1        None      None      1  \n",
       "2        None      None      1  \n",
       "3        None      None      4  \n",
       "4        None      None      5  "
      ]
     },
     "execution_count": 35,
     "metadata": {},
     "output_type": "execute_result"
    }
   ],
   "source": [
    "# Merge the DataFrames with df_books2 as the left DataFrame\n",
    "df_final_books = pd.merge(df_books2, df_Books, on='title', how='left')\n",
    "\n",
    "# Drop the duplicate columns, keeping the _x versions\n",
    "df_final_books = df_final_books.drop(columns=['price_y', 'availability_y'])\n",
    "\n",
    "# Rename the remaining columns to remove the _x suffix\n",
    "df_final_books = df_final_books.rename(columns={'price_x': 'price', 'availability_x': 'availability'})\n",
    "\n",
    "# Display the resulting DataFrame\n",
    "df_final_books.head()"
   ]
  },
  {
   "cell_type": "markdown",
   "id": "741cb35e",
   "metadata": {},
   "source": [
    "### Partie 4 : SQLite (local, sans serveur)\n",
    "\n",
    "Créer une base SQLite et des tables"
   ]
  },
  {
   "cell_type": "code",
   "execution_count": 36,
   "id": "2c2df810-245b-4f21-9527-5e81164ba2e6",
   "metadata": {},
   "outputs": [],
   "source": [
    "import sqlite3\n",
    "\n",
    "connection = sqlite3.connect(\"database_books.db\")\n",
    "\n",
    "create_books_table = '''\n",
    "CREATE TABLE IF NOT EXISTS Books (\n",
    "    book_id INTEGER PRIMARY KEY AUTOINCREMENT,\n",
    "    title TEXT,\n",
    "    price REAL,\n",
    "    availability BOOLEAN\n",
    ");\n",
    "'''\n",
    "connection.execute(create_books_table)\n",
    "connection.commit()\n"
   ]
  },
  {
   "cell_type": "code",
   "execution_count": 37,
   "id": "6a5d4ea1-4e6f-4a5c-961b-2ac378297308",
   "metadata": {},
   "outputs": [
    {
     "data": {
      "text/plain": [
       "2"
      ]
     },
     "execution_count": 37,
     "metadata": {},
     "output_type": "execute_result"
    }
   ],
   "source": [
    "#Insérer des données depuis pandas\n",
    "\n",
    "df.to_sql('Books', con=connection, if_exists='append', index=False)"
   ]
  },
  {
   "cell_type": "code",
   "execution_count": 38,
   "id": "b17118f0",
   "metadata": {},
   "outputs": [
    {
     "data": {
      "text/html": [
       "<div>\n",
       "<style scoped>\n",
       "    .dataframe tbody tr th:only-of-type {\n",
       "        vertical-align: middle;\n",
       "    }\n",
       "\n",
       "    .dataframe tbody tr th {\n",
       "        vertical-align: top;\n",
       "    }\n",
       "\n",
       "    .dataframe thead th {\n",
       "        text-align: right;\n",
       "    }\n",
       "</style>\n",
       "<table border=\"1\" class=\"dataframe\">\n",
       "  <thead>\n",
       "    <tr style=\"text-align: right;\">\n",
       "      <th></th>\n",
       "      <th>book_id</th>\n",
       "      <th>title</th>\n",
       "      <th>price</th>\n",
       "      <th>availability</th>\n",
       "    </tr>\n",
       "  </thead>\n",
       "  <tbody>\n",
       "    <tr>\n",
       "      <th>0</th>\n",
       "      <td>1</td>\n",
       "      <td>Book C</td>\n",
       "      <td>15.0</td>\n",
       "      <td>1</td>\n",
       "    </tr>\n",
       "    <tr>\n",
       "      <th>1</th>\n",
       "      <td>2</td>\n",
       "      <td>Book D</td>\n",
       "      <td>20.0</td>\n",
       "      <td>1</td>\n",
       "    </tr>\n",
       "    <tr>\n",
       "      <th>2</th>\n",
       "      <td>3</td>\n",
       "      <td>Book C</td>\n",
       "      <td>15.0</td>\n",
       "      <td>1</td>\n",
       "    </tr>\n",
       "    <tr>\n",
       "      <th>3</th>\n",
       "      <td>4</td>\n",
       "      <td>Book D</td>\n",
       "      <td>20.0</td>\n",
       "      <td>1</td>\n",
       "    </tr>\n",
       "  </tbody>\n",
       "</table>\n",
       "</div>"
      ],
      "text/plain": [
       "   book_id   title  price  availability\n",
       "0        1  Book C   15.0             1\n",
       "1        2  Book D   20.0             1\n",
       "2        3  Book C   15.0             1\n",
       "3        4  Book D   20.0             1"
      ]
     },
     "execution_count": 38,
     "metadata": {},
     "output_type": "execute_result"
    }
   ],
   "source": [
    "df_books3 = pd.read_sql(\"SELECT * FROM Books\", con=connection)\n",
    "\n",
    "df_books3.head()"
   ]
  },
  {
   "cell_type": "code",
   "execution_count": null,
   "id": "8918bc7b",
   "metadata": {},
   "outputs": [],
   "source": []
  }
 ],
 "metadata": {
  "kernelspec": {
   "display_name": "base",
   "language": "python",
   "name": "python3"
  },
  "language_info": {
   "codemirror_mode": {
    "name": "ipython",
    "version": 3
   },
   "file_extension": ".py",
   "mimetype": "text/x-python",
   "name": "python",
   "nbconvert_exporter": "python",
   "pygments_lexer": "ipython3",
   "version": "3.13.5"
  },
  "toc": {
   "base_numbering": 1,
   "nav_menu": {},
   "number_sections": true,
   "sideBar": true,
   "skip_h1_title": true,
   "title_cell": "Table of Contents",
   "title_sidebar": "Contents",
   "toc_cell": false,
   "toc_position": {},
   "toc_section_display": true,
   "toc_window_display": false
  }
 },
 "nbformat": 4,
 "nbformat_minor": 5
}
