{
 "cells": [
  {
   "cell_type": "markdown",
   "id": "37bf6d0b",
   "metadata": {},
   "source": [
    "## Suite Brief des Livres\n",
    "\n",
    "Reprendre votre brief des livres et créer une API FastAPI avec 2 routes simples de votre choix"
   ]
  },
  {
   "cell_type": "code",
   "execution_count": 1,
   "id": "dd29a8a7",
   "metadata": {},
   "outputs": [],
   "source": [
    "\n",
    "import sqlite3\n",
    "from sqlalchemy import create_engine, text\n",
    "import nest_asyncio\n",
    "import uvicorn\n",
    "import pandas as pd\n",
    "from fastapi import FastAPI, Form, Request\n",
    "from fastapi.responses import HTMLResponse\n"
   ]
  },
  {
   "cell_type": "code",
   "execution_count": 2,
   "id": "26130719",
   "metadata": {},
   "outputs": [
    {
     "data": {
      "text/html": [
       "<div>\n",
       "<style scoped>\n",
       "    .dataframe tbody tr th:only-of-type {\n",
       "        vertical-align: middle;\n",
       "    }\n",
       "\n",
       "    .dataframe tbody tr th {\n",
       "        vertical-align: top;\n",
       "    }\n",
       "\n",
       "    .dataframe thead th {\n",
       "        text-align: right;\n",
       "    }\n",
       "</style>\n",
       "<table border=\"1\" class=\"dataframe\">\n",
       "  <thead>\n",
       "    <tr style=\"text-align: right;\">\n",
       "      <th></th>\n",
       "      <th>title</th>\n",
       "      <th>rating</th>\n",
       "      <th>price</th>\n",
       "      <th>availability</th>\n",
       "      <th>category</th>\n",
       "    </tr>\n",
       "  </thead>\n",
       "  <tbody>\n",
       "    <tr>\n",
       "      <th>0</th>\n",
       "      <td>A Light in the Attic</td>\n",
       "      <td>Three</td>\n",
       "      <td>51.77</td>\n",
       "      <td>In stock</td>\n",
       "      <td>Books</td>\n",
       "    </tr>\n",
       "    <tr>\n",
       "      <th>1</th>\n",
       "      <td>Tipping the Velvet</td>\n",
       "      <td>One</td>\n",
       "      <td>53.74</td>\n",
       "      <td>In stock</td>\n",
       "      <td>Books</td>\n",
       "    </tr>\n",
       "    <tr>\n",
       "      <th>2</th>\n",
       "      <td>Soumission</td>\n",
       "      <td>One</td>\n",
       "      <td>50.10</td>\n",
       "      <td>In stock</td>\n",
       "      <td>Books</td>\n",
       "    </tr>\n",
       "    <tr>\n",
       "      <th>3</th>\n",
       "      <td>Sharp Objects</td>\n",
       "      <td>Four</td>\n",
       "      <td>47.82</td>\n",
       "      <td>In stock</td>\n",
       "      <td>Books</td>\n",
       "    </tr>\n",
       "    <tr>\n",
       "      <th>4</th>\n",
       "      <td>Sapiens: A Brief History of Humankind</td>\n",
       "      <td>Five</td>\n",
       "      <td>54.23</td>\n",
       "      <td>In stock</td>\n",
       "      <td>Books</td>\n",
       "    </tr>\n",
       "  </tbody>\n",
       "</table>\n",
       "</div>"
      ],
      "text/plain": [
       "                                   title rating  price availability category\n",
       "0                   A Light in the Attic  Three  51.77     In stock    Books\n",
       "1                     Tipping the Velvet    One  53.74     In stock    Books\n",
       "2                             Soumission    One  50.10     In stock    Books\n",
       "3                          Sharp Objects   Four  47.82     In stock    Books\n",
       "4  Sapiens: A Brief History of Humankind   Five  54.23     In stock    Books"
      ]
     },
     "execution_count": 2,
     "metadata": {},
     "output_type": "execute_result"
    }
   ],
   "source": [
    "df=pd.read_csv('books.csv')\n",
    "df.head()"
   ]
  },
  {
   "cell_type": "code",
   "execution_count": 3,
   "id": "864d0adb",
   "metadata": {},
   "outputs": [
    {
     "data": {
      "text/plain": [
       "(1723, 5)"
      ]
     },
     "execution_count": 3,
     "metadata": {},
     "output_type": "execute_result"
    }
   ],
   "source": [
    "df.shape"
   ]
  },
  {
   "cell_type": "markdown",
   "id": "ae677a41",
   "metadata": {},
   "source": [
    "## Avec MySQL"
   ]
  },
  {
   "cell_type": "code",
   "execution_count": 9,
   "id": "b2e33155",
   "metadata": {},
   "outputs": [],
   "source": [
    "\n",
    "# Connexion à la base MySQL\n",
    "engine = create_engine(\"mysql+mysqlconnector://root@localhost/books\")\n",
    "\n",
    "#"
   ]
  },
  {
   "cell_type": "code",
   "execution_count": 10,
   "id": "b87fe17a",
   "metadata": {},
   "outputs": [
    {
     "data": {
      "text/plain": [
       "-1"
      ]
     },
     "execution_count": 10,
     "metadata": {},
     "output_type": "execute_result"
    }
   ],
   "source": [
    "#Insérer des données depuis pandas\n",
    "\n",
    "df.to_sql('books_manel', con=engine, if_exists='replace', index=False)"
   ]
  },
  {
   "cell_type": "code",
   "execution_count": 11,
   "id": "2b503988",
   "metadata": {},
   "outputs": [
    {
     "data": {
      "text/html": [
       "<div>\n",
       "<style scoped>\n",
       "    .dataframe tbody tr th:only-of-type {\n",
       "        vertical-align: middle;\n",
       "    }\n",
       "\n",
       "    .dataframe tbody tr th {\n",
       "        vertical-align: top;\n",
       "    }\n",
       "\n",
       "    .dataframe thead th {\n",
       "        text-align: right;\n",
       "    }\n",
       "</style>\n",
       "<table border=\"1\" class=\"dataframe\">\n",
       "  <thead>\n",
       "    <tr style=\"text-align: right;\">\n",
       "      <th></th>\n",
       "      <th>title</th>\n",
       "      <th>rating</th>\n",
       "      <th>price</th>\n",
       "      <th>availability</th>\n",
       "      <th>category</th>\n",
       "    </tr>\n",
       "  </thead>\n",
       "  <tbody>\n",
       "    <tr>\n",
       "      <th>0</th>\n",
       "      <td>A Light in the Attic</td>\n",
       "      <td>Three</td>\n",
       "      <td>51.77</td>\n",
       "      <td>In stock</td>\n",
       "      <td>Books</td>\n",
       "    </tr>\n",
       "    <tr>\n",
       "      <th>1</th>\n",
       "      <td>Tipping the Velvet</td>\n",
       "      <td>One</td>\n",
       "      <td>53.74</td>\n",
       "      <td>In stock</td>\n",
       "      <td>Books</td>\n",
       "    </tr>\n",
       "    <tr>\n",
       "      <th>2</th>\n",
       "      <td>Soumission</td>\n",
       "      <td>One</td>\n",
       "      <td>50.10</td>\n",
       "      <td>In stock</td>\n",
       "      <td>Books</td>\n",
       "    </tr>\n",
       "    <tr>\n",
       "      <th>3</th>\n",
       "      <td>Sharp Objects</td>\n",
       "      <td>Four</td>\n",
       "      <td>47.82</td>\n",
       "      <td>In stock</td>\n",
       "      <td>Books</td>\n",
       "    </tr>\n",
       "    <tr>\n",
       "      <th>4</th>\n",
       "      <td>Sapiens: A Brief History of Humankind</td>\n",
       "      <td>Five</td>\n",
       "      <td>54.23</td>\n",
       "      <td>In stock</td>\n",
       "      <td>Books</td>\n",
       "    </tr>\n",
       "  </tbody>\n",
       "</table>\n",
       "</div>"
      ],
      "text/plain": [
       "                                   title rating  price availability category\n",
       "0                   A Light in the Attic  Three  51.77     In stock    Books\n",
       "1                     Tipping the Velvet    One  53.74     In stock    Books\n",
       "2                             Soumission    One  50.10     In stock    Books\n",
       "3                          Sharp Objects   Four  47.82     In stock    Books\n",
       "4  Sapiens: A Brief History of Humankind   Five  54.23     In stock    Books"
      ]
     },
     "execution_count": 11,
     "metadata": {},
     "output_type": "execute_result"
    }
   ],
   "source": [
    "#  Pour charger directement un DataFrame\n",
    "with engine.connect() as conn:\n",
    "    df_books2 = pd.read_sql(text(\"SELECT * FROM books_manel\"), con=conn)\n",
    "\n",
    "df_books2.head()"
   ]
  },
  {
   "cell_type": "code",
   "execution_count": 12,
   "id": "fb87234a",
   "metadata": {},
   "outputs": [
    {
     "data": {
      "text/plain": [
       "(1723, 5)"
      ]
     },
     "execution_count": 12,
     "metadata": {},
     "output_type": "execute_result"
    }
   ],
   "source": [
    "df_books2.shape"
   ]
  },
  {
   "cell_type": "markdown",
   "id": "14ba95fe",
   "metadata": {},
   "source": [
    "## Avec  SQLite"
   ]
  },
  {
   "cell_type": "code",
   "execution_count": 13,
   "id": "63971da5",
   "metadata": {},
   "outputs": [],
   "source": [
    "# --- Initialisation de la base SQLite ---\n",
    "connection = sqlite3.connect(\"books_db.db\")"
   ]
  },
  {
   "cell_type": "code",
   "execution_count": 14,
   "id": "7601e9f0",
   "metadata": {},
   "outputs": [
    {
     "data": {
      "text/plain": [
       "1723"
      ]
     },
     "execution_count": 14,
     "metadata": {},
     "output_type": "execute_result"
    }
   ],
   "source": [
    "#Insérer des données depuis pandas\n",
    "\n",
    "df.to_sql('books_manel', con=connection, if_exists='append', index=False)"
   ]
  },
  {
   "cell_type": "code",
   "execution_count": 15,
   "id": "e2d63d54",
   "metadata": {},
   "outputs": [
    {
     "data": {
      "text/html": [
       "<div>\n",
       "<style scoped>\n",
       "    .dataframe tbody tr th:only-of-type {\n",
       "        vertical-align: middle;\n",
       "    }\n",
       "\n",
       "    .dataframe tbody tr th {\n",
       "        vertical-align: top;\n",
       "    }\n",
       "\n",
       "    .dataframe thead th {\n",
       "        text-align: right;\n",
       "    }\n",
       "</style>\n",
       "<table border=\"1\" class=\"dataframe\">\n",
       "  <thead>\n",
       "    <tr style=\"text-align: right;\">\n",
       "      <th></th>\n",
       "      <th>title</th>\n",
       "      <th>rating</th>\n",
       "      <th>price</th>\n",
       "      <th>availability</th>\n",
       "      <th>category</th>\n",
       "    </tr>\n",
       "  </thead>\n",
       "  <tbody>\n",
       "    <tr>\n",
       "      <th>0</th>\n",
       "      <td>A Light in the Attic</td>\n",
       "      <td>Three</td>\n",
       "      <td>51.77</td>\n",
       "      <td>In stock</td>\n",
       "      <td>Books</td>\n",
       "    </tr>\n",
       "    <tr>\n",
       "      <th>1</th>\n",
       "      <td>Tipping the Velvet</td>\n",
       "      <td>One</td>\n",
       "      <td>53.74</td>\n",
       "      <td>In stock</td>\n",
       "      <td>Books</td>\n",
       "    </tr>\n",
       "    <tr>\n",
       "      <th>2</th>\n",
       "      <td>Sharp Objects</td>\n",
       "      <td>Four</td>\n",
       "      <td>47.82</td>\n",
       "      <td>In stock</td>\n",
       "      <td>Books</td>\n",
       "    </tr>\n",
       "    <tr>\n",
       "      <th>3</th>\n",
       "      <td>Sapiens: A Brief History of Humankind</td>\n",
       "      <td>Five</td>\n",
       "      <td>54.23</td>\n",
       "      <td>In stock</td>\n",
       "      <td>Books</td>\n",
       "    </tr>\n",
       "    <tr>\n",
       "      <th>4</th>\n",
       "      <td>The Requiem Red</td>\n",
       "      <td>One</td>\n",
       "      <td>22.65</td>\n",
       "      <td>In stock</td>\n",
       "      <td>Books</td>\n",
       "    </tr>\n",
       "  </tbody>\n",
       "</table>\n",
       "</div>"
      ],
      "text/plain": [
       "                                   title rating  price availability category\n",
       "0                   A Light in the Attic  Three  51.77     In stock    Books\n",
       "1                     Tipping the Velvet    One  53.74     In stock    Books\n",
       "2                          Sharp Objects   Four  47.82     In stock    Books\n",
       "3  Sapiens: A Brief History of Humankind   Five  54.23     In stock    Books\n",
       "4                        The Requiem Red    One  22.65     In stock    Books"
      ]
     },
     "execution_count": 15,
     "metadata": {},
     "output_type": "execute_result"
    }
   ],
   "source": [
    "# Lecture de la table Books dans un DataFrame\n",
    "df_books1 = pd.read_sql(\"SELECT * FROM books_manel;\", con=connection)\n",
    "\n",
    "# Affichage\n",
    "df_books1.head()"
   ]
  },
  {
   "cell_type": "code",
   "execution_count": 16,
   "id": "8ffc353d",
   "metadata": {},
   "outputs": [],
   "source": [
    "connection.close()"
   ]
  },
  {
   "cell_type": "markdown",
   "id": "be8b2941",
   "metadata": {},
   "source": [
    "## Mon API"
   ]
  },
  {
   "cell_type": "code",
   "execution_count": 17,
   "id": "99e192e3",
   "metadata": {},
   "outputs": [
    {
     "name": "stderr",
     "output_type": "stream",
     "text": [
      "INFO:     Started server process [14248]\n",
      "INFO:     Waiting for application startup.\n",
      "INFO:     Application startup complete.\n",
      "INFO:     Uvicorn running on http://127.0.0.1:4000 (Press CTRL+C to quit)\n"
     ]
    },
    {
     "name": "stdout",
     "output_type": "stream",
     "text": [
      "INFO:     127.0.0.1:50512 - \"GET / HTTP/1.1\" 404 Not Found\n",
      "INFO:     127.0.0.1:50512 - \"GET /favicon.ico HTTP/1.1\" 404 Not Found\n",
      "INFO:     127.0.0.1:50515 - \"GET /livres HTTP/1.1\" 200 OK\n",
      "INFO:     127.0.0.1:50518 - \"GET /add HTTP/1.1\" 200 OK\n"
     ]
    },
    {
     "name": "stderr",
     "output_type": "stream",
     "text": [
      "INFO:     Shutting down\n",
      "INFO:     Waiting for application shutdown.\n",
      "INFO:     Application shutdown complete.\n",
      "INFO:     Finished server process [14248]\n"
     ]
    }
   ],
   "source": [
    "\n",
    "nest_asyncio.apply()\n",
    "app = FastAPI()\n",
    "\n",
    "# --- Lire tous les livres ---\n",
    "@app.get(\"/livres\")\n",
    "async def get_books():\n",
    "    conn = sqlite3.connect(\"books_db.db\")\n",
    "    cur = conn.cursor()\n",
    "    cur.execute(\"SELECT * FROM books_manel;\")\n",
    "    rows = cur.fetchall()\n",
    "    conn.close()\n",
    "    return {\"books\": rows}\n",
    "\n",
    "@app.get(\"/livres1\")\n",
    "async def get_books():\n",
    "    conn = sqlite3.connect(\"books_db.db\")\n",
    "\n",
    "    # Charger en DataFrame\n",
    "    df_books = pd.read_sql(\"SELECT * FROM books_manel;\", con=conn)\n",
    "    conn.close()\n",
    "\n",
    "    # Transformer en JSON type tableau [{col:val, ...}, {...}]\n",
    "    books_list = df_books.to_dict(orient=\"records\")\n",
    "\n",
    "    return {\"books\": books_list}\n",
    "\n",
    "# --- Ajouter un livre ---\n",
    "@app.get(\"/add\", response_class=HTMLResponse)\n",
    "async def add():\n",
    "    # --- Trois guillemets pour écrire une chaine de caractères avec retour à la ligne ---\n",
    "    return \"\"\"\n",
    "    <h2>Ajouter un livre</h2>\n",
    "    <form action=\"/add-book\" method=\"post\">\n",
    "        Title : <input type=\"text\" name=\"title\"><br>\n",
    "        Rating : <input type=\"text\" name=\"rating\"><br>\n",
    "        Price : <input type=\"float\" name=\"price\"><br>\n",
    "        Availability : <input type=\"text\" name=\"availability\"><br>\n",
    "        Category : <input type=\"text\" name=\"category\"><br>\n",
    "        <input type=\"submit\" value=\"Ajouter\">\n",
    "    </form>\n",
    "    \"\"\"\n",
    "\n",
    "\n",
    "\n",
    "# --- Ajouter un livre via POST ---\n",
    "@app.post(\"/add-book\", response_class=HTMLResponse)\n",
    "async def add_book(title: str = Form(...), rating: str = Form (...), price: str = Form(...), availability: str = Form(...), category: str = Form(...)):\n",
    "    try:\n",
    "        conn = sqlite3.connect(\"books_db.db\")\n",
    "        cur = conn.cursor()\n",
    "        cur.execute(\"INSERT INTO books_manel (title, rating, price, availability, category) VALUES (?, ?, ?, ?, ?)\", (title, rating, price, availability, category))\n",
    "        conn.commit()\n",
    "        message = f\"Le livre \\\"{title}\\\" a été ajouté avec succès !\"\n",
    "    except sqlite3.IntegrityError:\n",
    "        message = f\"Erreur : le titre \\\"{title}\\\" est déjà utilisé.\"\n",
    "    finally:\n",
    "        conn.close()\n",
    "    return HTMLResponse(f\"<p>{message}</p><a href='/'>Retour</a>\")\n",
    "\n",
    "\n",
    "# --- Supprimer un livre ---\n",
    "@app.get(\"/delete-book/{title}\")\n",
    "async def delete_book(title: str):\n",
    "    conn = sqlite3.connect(\"books_db.db\")\n",
    "    cur = conn.cursor()\n",
    "    cur.execute(\"DELETE FROM books_manel WHERE title = ?\", (title,))\n",
    "    conn.commit()\n",
    "    conn.close()\n",
    "    return {\"message\": f\"Le livre \\\"{title}\\\" a été supprimé avec succès.\"}\n",
    "\n",
    "# --- Lancer l’app ---\n",
    "uvicorn.run(app, host=\"127.0.0.1\", port=4000)\n"
   ]
  },
  {
   "cell_type": "code",
   "execution_count": 76,
   "id": "c0289f7c",
   "metadata": {},
   "outputs": [
    {
     "data": {
      "text/html": [
       "<div>\n",
       "<style scoped>\n",
       "    .dataframe tbody tr th:only-of-type {\n",
       "        vertical-align: middle;\n",
       "    }\n",
       "\n",
       "    .dataframe tbody tr th {\n",
       "        vertical-align: top;\n",
       "    }\n",
       "\n",
       "    .dataframe thead th {\n",
       "        text-align: right;\n",
       "    }\n",
       "</style>\n",
       "<table border=\"1\" class=\"dataframe\">\n",
       "  <thead>\n",
       "    <tr style=\"text-align: right;\">\n",
       "      <th></th>\n",
       "      <th>title</th>\n",
       "      <th>rating</th>\n",
       "      <th>price</th>\n",
       "      <th>availability</th>\n",
       "      <th>category</th>\n",
       "    </tr>\n",
       "  </thead>\n",
       "  <tbody>\n",
       "    <tr>\n",
       "      <th>0</th>\n",
       "      <td>A Light in the Attic</td>\n",
       "      <td>Three</td>\n",
       "      <td>51.77</td>\n",
       "      <td>In stock</td>\n",
       "      <td>Books</td>\n",
       "    </tr>\n",
       "    <tr>\n",
       "      <th>1</th>\n",
       "      <td>Tipping the Velvet</td>\n",
       "      <td>One</td>\n",
       "      <td>53.74</td>\n",
       "      <td>In stock</td>\n",
       "      <td>Books</td>\n",
       "    </tr>\n",
       "    <tr>\n",
       "      <th>2</th>\n",
       "      <td>Soumission</td>\n",
       "      <td>One</td>\n",
       "      <td>50.10</td>\n",
       "      <td>In stock</td>\n",
       "      <td>Books</td>\n",
       "    </tr>\n",
       "    <tr>\n",
       "      <th>3</th>\n",
       "      <td>Sharp Objects</td>\n",
       "      <td>Four</td>\n",
       "      <td>47.82</td>\n",
       "      <td>In stock</td>\n",
       "      <td>Books</td>\n",
       "    </tr>\n",
       "    <tr>\n",
       "      <th>4</th>\n",
       "      <td>Sapiens: A Brief History of Humankind</td>\n",
       "      <td>Five</td>\n",
       "      <td>54.23</td>\n",
       "      <td>In stock</td>\n",
       "      <td>Books</td>\n",
       "    </tr>\n",
       "    <tr>\n",
       "      <th>...</th>\n",
       "      <td>...</td>\n",
       "      <td>...</td>\n",
       "      <td>...</td>\n",
       "      <td>...</td>\n",
       "      <td>...</td>\n",
       "    </tr>\n",
       "    <tr>\n",
       "      <th>1718</th>\n",
       "      <td>Mexican Today: New and Rediscovered Recipes fo...</td>\n",
       "      <td>Five</td>\n",
       "      <td>24.91</td>\n",
       "      <td>In stock</td>\n",
       "      <td>Food and Drink</td>\n",
       "    </tr>\n",
       "    <tr>\n",
       "      <th>1719</th>\n",
       "      <td>Vegan Vegetarian Omnivore: Dinner for Everyone...</td>\n",
       "      <td>Two</td>\n",
       "      <td>13.66</td>\n",
       "      <td>In stock</td>\n",
       "      <td>Food and Drink</td>\n",
       "    </tr>\n",
       "    <tr>\n",
       "      <th>1720</th>\n",
       "      <td>The Smitten Kitchen Cookbook</td>\n",
       "      <td>One</td>\n",
       "      <td>23.59</td>\n",
       "      <td>In stock</td>\n",
       "      <td>Food and Drink</td>\n",
       "    </tr>\n",
       "    <tr>\n",
       "      <th>1721</th>\n",
       "      <td>The Art of Simple Food: Notes, Lessons, and Re...</td>\n",
       "      <td>Three</td>\n",
       "      <td>34.32</td>\n",
       "      <td>In stock</td>\n",
       "      <td>Food and Drink</td>\n",
       "    </tr>\n",
       "    <tr>\n",
       "      <th>1722</th>\n",
       "      <td>Hungry Girl Clean &amp; Hungry: Easy All-Natural R...</td>\n",
       "      <td>Three</td>\n",
       "      <td>33.14</td>\n",
       "      <td>In stock</td>\n",
       "      <td>Food and Drink</td>\n",
       "    </tr>\n",
       "  </tbody>\n",
       "</table>\n",
       "<p>1723 rows × 5 columns</p>\n",
       "</div>"
      ],
      "text/plain": [
       "                                                  title rating  price  \\\n",
       "0                                  A Light in the Attic  Three  51.77   \n",
       "1                                    Tipping the Velvet    One  53.74   \n",
       "2                                            Soumission    One  50.10   \n",
       "3                                         Sharp Objects   Four  47.82   \n",
       "4                 Sapiens: A Brief History of Humankind   Five  54.23   \n",
       "...                                                 ...    ...    ...   \n",
       "1718  Mexican Today: New and Rediscovered Recipes fo...   Five  24.91   \n",
       "1719  Vegan Vegetarian Omnivore: Dinner for Everyone...    Two  13.66   \n",
       "1720                       The Smitten Kitchen Cookbook    One  23.59   \n",
       "1721  The Art of Simple Food: Notes, Lessons, and Re...  Three  34.32   \n",
       "1722  Hungry Girl Clean & Hungry: Easy All-Natural R...  Three  33.14   \n",
       "\n",
       "     availability        category  \n",
       "0        In stock           Books  \n",
       "1        In stock           Books  \n",
       "2        In stock           Books  \n",
       "3        In stock           Books  \n",
       "4        In stock           Books  \n",
       "...           ...             ...  \n",
       "1718     In stock  Food and Drink  \n",
       "1719     In stock  Food and Drink  \n",
       "1720     In stock  Food and Drink  \n",
       "1721     In stock  Food and Drink  \n",
       "1722     In stock  Food and Drink  \n",
       "\n",
       "[1723 rows x 5 columns]"
      ]
     },
     "execution_count": 76,
     "metadata": {},
     "output_type": "execute_result"
    }
   ],
   "source": [
    "df"
   ]
  }
 ],
 "metadata": {
  "kernelspec": {
   "display_name": "base",
   "language": "python",
   "name": "python3"
  },
  "language_info": {
   "codemirror_mode": {
    "name": "ipython",
    "version": 3
   },
   "file_extension": ".py",
   "mimetype": "text/x-python",
   "name": "python",
   "nbconvert_exporter": "python",
   "pygments_lexer": "ipython3",
   "version": "3.13.5"
  },
  "toc": {
   "base_numbering": 1,
   "nav_menu": {},
   "number_sections": true,
   "sideBar": true,
   "skip_h1_title": true,
   "title_cell": "Table of Contents",
   "title_sidebar": "Contents",
   "toc_cell": false,
   "toc_position": {
    "height": "calc(100% - 180px)",
    "left": "10px",
    "top": "150px",
    "width": "192.833px"
   },
   "toc_section_display": true,
   "toc_window_display": true
  }
 },
 "nbformat": 4,
 "nbformat_minor": 5
}
