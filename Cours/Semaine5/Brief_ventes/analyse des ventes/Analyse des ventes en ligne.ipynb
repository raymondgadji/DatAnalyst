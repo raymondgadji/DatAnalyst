{
 "cells": [
  {
   "cell_type": "markdown",
   "id": "d05e8e87",
   "metadata": {},
   "source": [
    "# Révision - Analyse de données sur les ventes d'une librairie"
   ]
  },
  {
   "cell_type": "markdown",
   "id": "1d79aebc",
   "metadata": {},
   "source": [
    "# 0 - contexte et objectifs"
   ]
  },
  {
   "cell_type": "markdown",
   "id": "883fcb72",
   "metadata": {},
   "source": [
    "Vous commencez votre mission en tant que Data Analyst chez une enseigne de Retail. On vous a donné accès à leur base de données pour analyse exploratoire : Produits, clients et ventes.\n",
    "Vous travaillez au service marketing , vous intervenez car l’entreprise souhaite faire le point : analyser ses points forts, ses points faibles, les comportements clients, etc. \n",
    "\n",
    "Par exemple, elle cherche à savoir si elle doit créer certaines offres, adapter certains prix, etc.\n",
    "\n",
    "On vous demande de faire une analyse en deux parties :\n",
    "\n",
    "Partie I - analyse des différents indicateurs généraux\n",
    "\n",
    "    Construire des indicateurs et graphiques autour du chiffre d'affaires. Rregarder l’évolution dans le temps\n",
    "    \n",
    "    faire un zoom sur les références, pour voir les tops et les flops, la répartition par catégorie, etc.\n",
    "    \n",
    "    etudier les profils des clients, et également la répartition du chiffre d'affaires entre eux\n",
    "\n",
    "Partie II - comportement des clients l’objectif est cette fois-ci de comprendre le comportement des clients en ligne.\n",
    "\n",
    "    étudier le lien entre le genre d’un client et les catégories des livres achetés\n",
    "    \n",
    "    étudier ensuite le lien entre l’âge des clients et le montant total des achats, la fréquence d’achat, la taille du panier moyen et les catégories des livres achetés.\n",
    "\n"
   ]
  },
  {
   "cell_type": "markdown",
   "id": "9146b256",
   "metadata": {},
   "source": [
    "# 1 - Exploration et  nettoyage des données "
   ]
  },
  {
   "cell_type": "code",
   "execution_count": 4,
   "id": "175279ef",
   "metadata": {},
   "outputs": [],
   "source": [
    "# Import de la librairie Pandas\n",
    "import pandas as pd\n",
    "\n",
    "# Import de la librairie matplotlib\n",
    "import matplotlib.pyplot as plt\n",
    "\n",
    "# Import de la librairie matplotlib pour les graphiques à lire dans la ligne\n",
    "%matplotlib inline\n",
    "\n",
    "# Import de seaborn pour des graphiques plus esthétiques\n",
    "import seaborn as sns\n"
   ]
  },
  {
   "cell_type": "markdown",
   "id": "ad56f18f",
   "metadata": {},
   "source": [
    "## 1.1 - Chargement des données"
   ]
  },
  {
   "cell_type": "markdown",
   "id": "8f14079e",
   "metadata": {},
   "source": [
    "Si vous utilisez anaconda -> je vous conseille de mettre les fichiers csv dans le même répertoire que le notebook\n",
    "\n",
    "Si vous utilisez google colab ->  il faut exécuter le code ci-dessous. \n",
    "\n",
    "from google.colab import files\n",
    "data_to_load = files.upload()"
   ]
  },
  {
   "cell_type": "markdown",
   "id": "1637f458",
   "metadata": {},
   "source": [
    "### 1.1.1 - customers"
   ]
  },
  {
   "cell_type": "code",
   "execution_count": 5,
   "id": "0675c090",
   "metadata": {},
   "outputs": [],
   "source": [
    "# Ouverture du fichier\n",
    "customers = pd.read_csv('clients.csv')"
   ]
  },
  {
   "cell_type": "code",
   "execution_count": 6,
   "id": "b70295b7",
   "metadata": {},
   "outputs": [
    {
     "name": "stdout",
     "output_type": "stream",
     "text": [
      "<class 'pandas.core.frame.DataFrame'>\n",
      "RangeIndex: 8623 entries, 0 to 8622\n",
      "Data columns (total 3 columns):\n",
      " #   Column     Non-Null Count  Dtype \n",
      "---  ------     --------------  ----- \n",
      " 0   client_id  8623 non-null   object\n",
      " 1   sex        8623 non-null   object\n",
      " 2   birth      8623 non-null   int64 \n",
      "dtypes: int64(1), object(2)\n",
      "memory usage: 202.2+ KB\n"
     ]
    }
   ],
   "source": [
    "# Affichage des informations \n",
    "customers.info()"
   ]
  },
  {
   "cell_type": "code",
   "execution_count": 7,
   "id": "32c566cc",
   "metadata": {},
   "outputs": [
    {
     "data": {
      "text/html": [
       "<div>\n",
       "<style scoped>\n",
       "    .dataframe tbody tr th:only-of-type {\n",
       "        vertical-align: middle;\n",
       "    }\n",
       "\n",
       "    .dataframe tbody tr th {\n",
       "        vertical-align: top;\n",
       "    }\n",
       "\n",
       "    .dataframe thead th {\n",
       "        text-align: right;\n",
       "    }\n",
       "</style>\n",
       "<table border=\"1\" class=\"dataframe\">\n",
       "  <thead>\n",
       "    <tr style=\"text-align: right;\">\n",
       "      <th></th>\n",
       "      <th>client_id</th>\n",
       "      <th>sex</th>\n",
       "      <th>birth</th>\n",
       "    </tr>\n",
       "  </thead>\n",
       "  <tbody>\n",
       "    <tr>\n",
       "      <th>0</th>\n",
       "      <td>c_4410</td>\n",
       "      <td>f</td>\n",
       "      <td>1967</td>\n",
       "    </tr>\n",
       "    <tr>\n",
       "      <th>1</th>\n",
       "      <td>c_7839</td>\n",
       "      <td>f</td>\n",
       "      <td>1975</td>\n",
       "    </tr>\n",
       "    <tr>\n",
       "      <th>2</th>\n",
       "      <td>c_1699</td>\n",
       "      <td>f</td>\n",
       "      <td>1984</td>\n",
       "    </tr>\n",
       "    <tr>\n",
       "      <th>3</th>\n",
       "      <td>c_5961</td>\n",
       "      <td>f</td>\n",
       "      <td>1962</td>\n",
       "    </tr>\n",
       "    <tr>\n",
       "      <th>4</th>\n",
       "      <td>c_5320</td>\n",
       "      <td>m</td>\n",
       "      <td>1943</td>\n",
       "    </tr>\n",
       "  </tbody>\n",
       "</table>\n",
       "</div>"
      ],
      "text/plain": [
       "  client_id sex  birth\n",
       "0    c_4410   f   1967\n",
       "1    c_7839   f   1975\n",
       "2    c_1699   f   1984\n",
       "3    c_5961   f   1962\n",
       "4    c_5320   m   1943"
      ]
     },
     "execution_count": 7,
     "metadata": {},
     "output_type": "execute_result"
    }
   ],
   "source": [
    "# Affichage des premières lignes\n",
    "\n",
    "customers.head()"
   ]
  },
  {
   "cell_type": "code",
   "execution_count": 8,
   "id": "c762e175",
   "metadata": {},
   "outputs": [
    {
     "data": {
      "text/html": [
       "<div>\n",
       "<style scoped>\n",
       "    .dataframe tbody tr th:only-of-type {\n",
       "        vertical-align: middle;\n",
       "    }\n",
       "\n",
       "    .dataframe tbody tr th {\n",
       "        vertical-align: top;\n",
       "    }\n",
       "\n",
       "    .dataframe thead th {\n",
       "        text-align: right;\n",
       "    }\n",
       "</style>\n",
       "<table border=\"1\" class=\"dataframe\">\n",
       "  <thead>\n",
       "    <tr style=\"text-align: right;\">\n",
       "      <th></th>\n",
       "      <th>client_id</th>\n",
       "      <th>sex</th>\n",
       "      <th>birth</th>\n",
       "    </tr>\n",
       "  </thead>\n",
       "  <tbody>\n",
       "    <tr>\n",
       "      <th>count</th>\n",
       "      <td>8623</td>\n",
       "      <td>8623</td>\n",
       "      <td>8623.000000</td>\n",
       "    </tr>\n",
       "    <tr>\n",
       "      <th>unique</th>\n",
       "      <td>8623</td>\n",
       "      <td>2</td>\n",
       "      <td>NaN</td>\n",
       "    </tr>\n",
       "    <tr>\n",
       "      <th>top</th>\n",
       "      <td>c_84</td>\n",
       "      <td>f</td>\n",
       "      <td>NaN</td>\n",
       "    </tr>\n",
       "    <tr>\n",
       "      <th>freq</th>\n",
       "      <td>1</td>\n",
       "      <td>4491</td>\n",
       "      <td>NaN</td>\n",
       "    </tr>\n",
       "    <tr>\n",
       "      <th>mean</th>\n",
       "      <td>NaN</td>\n",
       "      <td>NaN</td>\n",
       "      <td>1978.280877</td>\n",
       "    </tr>\n",
       "    <tr>\n",
       "      <th>std</th>\n",
       "      <td>NaN</td>\n",
       "      <td>NaN</td>\n",
       "      <td>16.919535</td>\n",
       "    </tr>\n",
       "    <tr>\n",
       "      <th>min</th>\n",
       "      <td>NaN</td>\n",
       "      <td>NaN</td>\n",
       "      <td>1929.000000</td>\n",
       "    </tr>\n",
       "    <tr>\n",
       "      <th>25%</th>\n",
       "      <td>NaN</td>\n",
       "      <td>NaN</td>\n",
       "      <td>1966.000000</td>\n",
       "    </tr>\n",
       "    <tr>\n",
       "      <th>50%</th>\n",
       "      <td>NaN</td>\n",
       "      <td>NaN</td>\n",
       "      <td>1979.000000</td>\n",
       "    </tr>\n",
       "    <tr>\n",
       "      <th>75%</th>\n",
       "      <td>NaN</td>\n",
       "      <td>NaN</td>\n",
       "      <td>1992.000000</td>\n",
       "    </tr>\n",
       "    <tr>\n",
       "      <th>max</th>\n",
       "      <td>NaN</td>\n",
       "      <td>NaN</td>\n",
       "      <td>2004.000000</td>\n",
       "    </tr>\n",
       "  </tbody>\n",
       "</table>\n",
       "</div>"
      ],
      "text/plain": [
       "       client_id   sex        birth\n",
       "count       8623  8623  8623.000000\n",
       "unique      8623     2          NaN\n",
       "top         c_84     f          NaN\n",
       "freq           1  4491          NaN\n",
       "mean         NaN   NaN  1978.280877\n",
       "std          NaN   NaN    16.919535\n",
       "min          NaN   NaN  1929.000000\n",
       "25%          NaN   NaN  1966.000000\n",
       "50%          NaN   NaN  1979.000000\n",
       "75%          NaN   NaN  1992.000000\n",
       "max          NaN   NaN  2004.000000"
      ]
     },
     "execution_count": 8,
     "metadata": {},
     "output_type": "execute_result"
    }
   ],
   "source": [
    "# Stats du dataframe\n",
    "customers.describe(include = 'all')"
   ]
  },
  {
   "cell_type": "markdown",
   "id": "1df024eb",
   "metadata": {},
   "source": [
    "Ce fichier comprend 3 colonnes :\n",
    "\n",
    "    Client_id : référence de chaque client\n",
    "    Sex : le genre du client\n",
    "    Birth : l'année de naissance du client\n",
    "\n"
   ]
  },
  {
   "cell_type": "code",
   "execution_count": 11,
   "id": "b3b839f8",
   "metadata": {},
   "outputs": [
    {
     "name": "stdout",
     "output_type": "stream",
     "text": [
      "     client_id sex  birth\n",
      "0       c_4410   f   1967\n",
      "1       c_7839   f   1975\n",
      "2       c_1699   f   1984\n",
      "3       c_5961   f   1962\n",
      "4       c_5320   m   1943\n",
      "...        ...  ..    ...\n",
      "8618    c_7920   m   1956\n",
      "8619    c_7403   f   1970\n",
      "8620    c_5119   m   1974\n",
      "8621    c_5643   f   1968\n",
      "8622      c_84   f   1982\n",
      "\n",
      "[8623 rows x 3 columns]\n"
     ]
    }
   ],
   "source": [
    "print(customers)"
   ]
  },
  {
   "cell_type": "code",
   "execution_count": 10,
   "id": "a34dc864",
   "metadata": {},
   "outputs": [
    {
     "data": {
      "text/plain": [
       "client_id    0.0\n",
       "sex          0.0\n",
       "birth        0.0\n",
       "dtype: float64"
      ]
     },
     "execution_count": 10,
     "metadata": {},
     "output_type": "execute_result"
    }
   ],
   "source": [
    "#valeurs manquantes\n",
    "customers.isna().mean()"
   ]
  },
  {
   "cell_type": "code",
   "execution_count": 12,
   "id": "09990d43",
   "metadata": {},
   "outputs": [
    {
     "data": {
      "text/plain": [
       "client_id    0\n",
       "sex          0\n",
       "birth        0\n",
       "dtype: int64"
      ]
     },
     "execution_count": 12,
     "metadata": {},
     "output_type": "execute_result"
    }
   ],
   "source": [
    "customers.isna().sum()"
   ]
  },
  {
   "cell_type": "code",
   "execution_count": 13,
   "id": "3f7fc887",
   "metadata": {},
   "outputs": [
    {
     "data": {
      "text/plain": [
       "np.int64(0)"
      ]
     },
     "execution_count": 13,
     "metadata": {},
     "output_type": "execute_result"
    }
   ],
   "source": [
    "#Doublon\n",
    "customers.duplicated().sum()"
   ]
  },
  {
   "cell_type": "code",
   "execution_count": 14,
   "id": "2872a8ed",
   "metadata": {},
   "outputs": [
    {
     "name": "stdout",
     "output_type": "stream",
     "text": [
      "Il y a 8623 clients uniques\n"
     ]
    }
   ],
   "source": [
    "print(\"Il y a\", customers.describe(include = 'all').loc[\"unique\",\"client_id\"], \"clients uniques\")"
   ]
  },
  {
   "cell_type": "code",
   "execution_count": 23,
   "id": "1a52e201",
   "metadata": {},
   "outputs": [
    {
     "name": "stdout",
     "output_type": "stream",
     "text": [
      "L'age moyen des clients est : 44 ans\n"
     ]
    }
   ],
   "source": [
    "print(\"L'age moyen des clients est :\", 2022- round(customers.describe(include = 'all').loc[\"mean\",\"birth\"]), \"ans\")"
   ]
  },
  {
   "cell_type": "code",
   "execution_count": 16,
   "id": "655e1894",
   "metadata": {},
   "outputs": [
    {
     "name": "stdout",
     "output_type": "stream",
     "text": [
      "La part des femmes : 0.52 %\n"
     ]
    }
   ],
   "source": [
    "print(\"La part des femmes :\", round(customers.describe(include = 'all').loc[\"freq\",\"sex\"] / \n",
    "      customers.describe(include = 'all').loc[\"count\",\"sex\"],2), \"%\")"
   ]
  },
  {
   "cell_type": "code",
   "execution_count": 30,
   "id": "9895c806",
   "metadata": {},
   "outputs": [
    {
     "name": "stdout",
     "output_type": "stream",
     "text": [
      "Âge moyen par sexe :\n",
      " sex\n",
      "f    44.0\n",
      "m    43.0 ans\n"
     ]
    }
   ],
   "source": [
    "#calculons l'age moyen par sexe \n",
    "\n",
    "# 2022 - customers.groupby(\"sex\").mean()\n",
    "\n",
    "age_moyen_par_sexe = 2022 - customers.groupby(\"sex\")[\"birth\"].mean().round()\n",
    "print(\"Âge moyen par sexe :\\n\", age_moyen_par_sexe.to_string(dtype=False), \"ans\")"
   ]
  },
  {
   "cell_type": "markdown",
   "id": "ac2e4138",
   "metadata": {},
   "source": [
    "L'âge moyen des femmes est de 44 ans et celui des hommes est de 43 ans"
   ]
  },
  {
   "cell_type": "code",
   "execution_count": 31,
   "id": "9bd30f72",
   "metadata": {},
   "outputs": [
    {
     "data": {
      "image/png": "[encoded data removed]",
      "text/plain": [
       "<Figure size 640x480 with 1 Axes>"
      ]
     },
     "metadata": {},
     "output_type": "display_data"
    }
   ],
   "source": [
    "age_moyen_par_sexe = 2025 - customers.groupby(\"sex\")[\"birth\"].mean()\n",
    "age_moyen_par_sexe.plot(kind=\"bar\", color=[\"#FF69B4\", \"#1E90FF\"])\n",
    "plt.title(\"Âge moyen par sexe en 2025\")\n",
    "plt.xlabel(\"Sexe\")\n",
    "plt.ylabel(\"Âge moyen (ans)\")\n",
    "plt.show()"
   ]
  },
  {
   "cell_type": "markdown",
   "id": "9c0bb77f",
   "metadata": {},
   "source": [
    "Le fichier customers n'a pas de valeurs nulles ni de doublons.\n"
   ]
  },
  {
   "cell_type": "markdown",
   "id": "4df0f0dd",
   "metadata": {},
   "source": [
    "### 1.1.2 - products"
   ]
  },
  {
   "cell_type": "code",
   "execution_count": 25,
   "id": "4570005d",
   "metadata": {},
   "outputs": [],
   "source": [
    "# Ouverture du fichier\n",
    "\n",
    "products = pd.read_csv('produits.csv')"
   ]
  },
  {
   "cell_type": "code",
   "execution_count": 26,
   "id": "c4bf4674",
   "metadata": {},
   "outputs": [
    {
     "name": "stdout",
     "output_type": "stream",
     "text": [
      "<class 'pandas.core.frame.DataFrame'>\n",
      "RangeIndex: 3287 entries, 0 to 3286\n",
      "Data columns (total 3 columns):\n",
      " #   Column   Non-Null Count  Dtype  \n",
      "---  ------   --------------  -----  \n",
      " 0   id_prod  3287 non-null   object \n",
      " 1   price    3287 non-null   float64\n",
      " 2   categ    3287 non-null   int64  \n",
      "dtypes: float64(1), int64(1), object(1)\n",
      "memory usage: 77.2+ KB\n"
     ]
    }
   ],
   "source": [
    "# Affichage des informations \n",
    "\n",
    "products.info()"
   ]
  },
  {
   "cell_type": "code",
   "execution_count": 27,
   "id": "a2b7eb2f",
   "metadata": {},
   "outputs": [
    {
     "data": {
      "text/html": [
       "<div>\n",
       "<style scoped>\n",
       "    .dataframe tbody tr th:only-of-type {\n",
       "        vertical-align: middle;\n",
       "    }\n",
       "\n",
       "    .dataframe tbody tr th {\n",
       "        vertical-align: top;\n",
       "    }\n",
       "\n",
       "    .dataframe thead th {\n",
       "        text-align: right;\n",
       "    }\n",
       "</style>\n",
       "<table border=\"1\" class=\"dataframe\">\n",
       "  <thead>\n",
       "    <tr style=\"text-align: right;\">\n",
       "      <th></th>\n",
       "      <th>id_prod</th>\n",
       "      <th>price</th>\n",
       "      <th>categ</th>\n",
       "    </tr>\n",
       "  </thead>\n",
       "  <tbody>\n",
       "    <tr>\n",
       "      <th>0</th>\n",
       "      <td>0_1421</td>\n",
       "      <td>19.99</td>\n",
       "      <td>0</td>\n",
       "    </tr>\n",
       "    <tr>\n",
       "      <th>1</th>\n",
       "      <td>0_1368</td>\n",
       "      <td>5.13</td>\n",
       "      <td>0</td>\n",
       "    </tr>\n",
       "    <tr>\n",
       "      <th>2</th>\n",
       "      <td>0_731</td>\n",
       "      <td>17.99</td>\n",
       "      <td>0</td>\n",
       "    </tr>\n",
       "    <tr>\n",
       "      <th>3</th>\n",
       "      <td>1_587</td>\n",
       "      <td>4.99</td>\n",
       "      <td>1</td>\n",
       "    </tr>\n",
       "    <tr>\n",
       "      <th>4</th>\n",
       "      <td>0_1507</td>\n",
       "      <td>3.99</td>\n",
       "      <td>0</td>\n",
       "    </tr>\n",
       "  </tbody>\n",
       "</table>\n",
       "</div>"
      ],
      "text/plain": [
       "  id_prod  price  categ\n",
       "0  0_1421  19.99      0\n",
       "1  0_1368   5.13      0\n",
       "2   0_731  17.99      0\n",
       "3   1_587   4.99      1\n",
       "4  0_1507   3.99      0"
      ]
     },
     "execution_count": 27,
     "metadata": {},
     "output_type": "execute_result"
    }
   ],
   "source": [
    "# Affichage des premières lignes\n",
    "\n",
    "products.head()"
   ]
  },
  {
   "cell_type": "code",
   "execution_count": 35,
   "id": "7fe24c43",
   "metadata": {},
   "outputs": [
    {
     "data": {
      "text/html": [
       "<div>\n",
       "<style scoped>\n",
       "    .dataframe tbody tr th:only-of-type {\n",
       "        vertical-align: middle;\n",
       "    }\n",
       "\n",
       "    .dataframe tbody tr th {\n",
       "        vertical-align: top;\n",
       "    }\n",
       "\n",
       "    .dataframe thead th {\n",
       "        text-align: right;\n",
       "    }\n",
       "</style>\n",
       "<table border=\"1\" class=\"dataframe\">\n",
       "  <thead>\n",
       "    <tr style=\"text-align: right;\">\n",
       "      <th></th>\n",
       "      <th>id_prod</th>\n",
       "      <th>price</th>\n",
       "      <th>categ</th>\n",
       "    </tr>\n",
       "  </thead>\n",
       "  <tbody>\n",
       "    <tr>\n",
       "      <th>0</th>\n",
       "      <td>False</td>\n",
       "      <td>False</td>\n",
       "      <td>False</td>\n",
       "    </tr>\n",
       "    <tr>\n",
       "      <th>1</th>\n",
       "      <td>False</td>\n",
       "      <td>False</td>\n",
       "      <td>False</td>\n",
       "    </tr>\n",
       "    <tr>\n",
       "      <th>2</th>\n",
       "      <td>False</td>\n",
       "      <td>False</td>\n",
       "      <td>False</td>\n",
       "    </tr>\n",
       "    <tr>\n",
       "      <th>3</th>\n",
       "      <td>False</td>\n",
       "      <td>False</td>\n",
       "      <td>False</td>\n",
       "    </tr>\n",
       "    <tr>\n",
       "      <th>4</th>\n",
       "      <td>False</td>\n",
       "      <td>False</td>\n",
       "      <td>False</td>\n",
       "    </tr>\n",
       "    <tr>\n",
       "      <th>...</th>\n",
       "      <td>...</td>\n",
       "      <td>...</td>\n",
       "      <td>...</td>\n",
       "    </tr>\n",
       "    <tr>\n",
       "      <th>3282</th>\n",
       "      <td>False</td>\n",
       "      <td>False</td>\n",
       "      <td>False</td>\n",
       "    </tr>\n",
       "    <tr>\n",
       "      <th>3283</th>\n",
       "      <td>False</td>\n",
       "      <td>False</td>\n",
       "      <td>False</td>\n",
       "    </tr>\n",
       "    <tr>\n",
       "      <th>3284</th>\n",
       "      <td>False</td>\n",
       "      <td>False</td>\n",
       "      <td>False</td>\n",
       "    </tr>\n",
       "    <tr>\n",
       "      <th>3285</th>\n",
       "      <td>False</td>\n",
       "      <td>False</td>\n",
       "      <td>False</td>\n",
       "    </tr>\n",
       "    <tr>\n",
       "      <th>3286</th>\n",
       "      <td>False</td>\n",
       "      <td>False</td>\n",
       "      <td>False</td>\n",
       "    </tr>\n",
       "  </tbody>\n",
       "</table>\n",
       "<p>3287 rows × 3 columns</p>\n",
       "</div>"
      ],
      "text/plain": [
       "      id_prod  price  categ\n",
       "0       False  False  False\n",
       "1       False  False  False\n",
       "2       False  False  False\n",
       "3       False  False  False\n",
       "4       False  False  False\n",
       "...       ...    ...    ...\n",
       "3282    False  False  False\n",
       "3283    False  False  False\n",
       "3284    False  False  False\n",
       "3285    False  False  False\n",
       "3286    False  False  False\n",
       "\n",
       "[3287 rows x 3 columns]"
      ]
     },
     "execution_count": 35,
     "metadata": {},
     "output_type": "execute_result"
    }
   ],
   "source": [
    "# valeurs manquantes en boolean\n",
    "products.isna()"
   ]
  },
  {
   "cell_type": "code",
   "execution_count": 32,
   "id": "d2cacfe2",
   "metadata": {},
   "outputs": [
    {
     "data": {
      "text/plain": [
       "id_prod    0.0\n",
       "price      0.0\n",
       "categ      0.0\n",
       "dtype: float64"
      ]
     },
     "execution_count": 32,
     "metadata": {},
     "output_type": "execute_result"
    }
   ],
   "source": [
    "# valeurs manquantes en moyenne\n",
    "products.isna().mean()\n"
   ]
  },
  {
   "cell_type": "code",
   "execution_count": 33,
   "id": "961fb5da",
   "metadata": {},
   "outputs": [
    {
     "data": {
      "text/plain": [
       "id_prod    0\n",
       "price      0\n",
       "categ      0\n",
       "dtype: int64"
      ]
     },
     "execution_count": 33,
     "metadata": {},
     "output_type": "execute_result"
    }
   ],
   "source": [
    "# valeurs manquantes en somme\n",
    "products.isna().sum()"
   ]
  },
  {
   "cell_type": "code",
   "execution_count": 36,
   "id": "ae9ab541",
   "metadata": {},
   "outputs": [
    {
     "data": {
      "text/plain": [
       "0       False\n",
       "1       False\n",
       "2       False\n",
       "3       False\n",
       "4       False\n",
       "        ...  \n",
       "3282    False\n",
       "3283    False\n",
       "3284    False\n",
       "3285    False\n",
       "3286    False\n",
       "Length: 3287, dtype: bool"
      ]
     },
     "execution_count": 36,
     "metadata": {},
     "output_type": "execute_result"
    }
   ],
   "source": [
    "# Doublons en boolean\n",
    "products.duplicated()"
   ]
  },
  {
   "cell_type": "code",
   "execution_count": 37,
   "id": "effe60a8",
   "metadata": {},
   "outputs": [
    {
     "data": {
      "text/plain": [
       "np.int64(0)"
      ]
     },
     "execution_count": 37,
     "metadata": {},
     "output_type": "execute_result"
    }
   ],
   "source": [
    "#Doublon\n",
    "products.duplicated().sum()\n"
   ]
  },
  {
   "cell_type": "code",
   "execution_count": 38,
   "id": "6bbcf49b",
   "metadata": {},
   "outputs": [
    {
     "data": {
      "text/html": [
       "<div>\n",
       "<style scoped>\n",
       "    .dataframe tbody tr th:only-of-type {\n",
       "        vertical-align: middle;\n",
       "    }\n",
       "\n",
       "    .dataframe tbody tr th {\n",
       "        vertical-align: top;\n",
       "    }\n",
       "\n",
       "    .dataframe thead th {\n",
       "        text-align: right;\n",
       "    }\n",
       "</style>\n",
       "<table border=\"1\" class=\"dataframe\">\n",
       "  <thead>\n",
       "    <tr style=\"text-align: right;\">\n",
       "      <th></th>\n",
       "      <th>id_prod</th>\n",
       "      <th>price</th>\n",
       "      <th>categ</th>\n",
       "    </tr>\n",
       "  </thead>\n",
       "  <tbody>\n",
       "    <tr>\n",
       "      <th>count</th>\n",
       "      <td>3287</td>\n",
       "      <td>3287.000000</td>\n",
       "      <td>3287.000000</td>\n",
       "    </tr>\n",
       "    <tr>\n",
       "      <th>unique</th>\n",
       "      <td>3287</td>\n",
       "      <td>NaN</td>\n",
       "      <td>NaN</td>\n",
       "    </tr>\n",
       "    <tr>\n",
       "      <th>top</th>\n",
       "      <td>0_1920</td>\n",
       "      <td>NaN</td>\n",
       "      <td>NaN</td>\n",
       "    </tr>\n",
       "    <tr>\n",
       "      <th>freq</th>\n",
       "      <td>1</td>\n",
       "      <td>NaN</td>\n",
       "      <td>NaN</td>\n",
       "    </tr>\n",
       "    <tr>\n",
       "      <th>mean</th>\n",
       "      <td>NaN</td>\n",
       "      <td>21.856641</td>\n",
       "      <td>0.370246</td>\n",
       "    </tr>\n",
       "    <tr>\n",
       "      <th>std</th>\n",
       "      <td>NaN</td>\n",
       "      <td>29.847908</td>\n",
       "      <td>0.615387</td>\n",
       "    </tr>\n",
       "    <tr>\n",
       "      <th>min</th>\n",
       "      <td>NaN</td>\n",
       "      <td>-1.000000</td>\n",
       "      <td>0.000000</td>\n",
       "    </tr>\n",
       "    <tr>\n",
       "      <th>25%</th>\n",
       "      <td>NaN</td>\n",
       "      <td>6.990000</td>\n",
       "      <td>0.000000</td>\n",
       "    </tr>\n",
       "    <tr>\n",
       "      <th>50%</th>\n",
       "      <td>NaN</td>\n",
       "      <td>13.060000</td>\n",
       "      <td>0.000000</td>\n",
       "    </tr>\n",
       "    <tr>\n",
       "      <th>75%</th>\n",
       "      <td>NaN</td>\n",
       "      <td>22.990000</td>\n",
       "      <td>1.000000</td>\n",
       "    </tr>\n",
       "    <tr>\n",
       "      <th>max</th>\n",
       "      <td>NaN</td>\n",
       "      <td>300.000000</td>\n",
       "      <td>2.000000</td>\n",
       "    </tr>\n",
       "  </tbody>\n",
       "</table>\n",
       "</div>"
      ],
      "text/plain": [
       "       id_prod        price        categ\n",
       "count     3287  3287.000000  3287.000000\n",
       "unique    3287          NaN          NaN\n",
       "top     0_1920          NaN          NaN\n",
       "freq         1          NaN          NaN\n",
       "mean       NaN    21.856641     0.370246\n",
       "std        NaN    29.847908     0.615387\n",
       "min        NaN    -1.000000     0.000000\n",
       "25%        NaN     6.990000     0.000000\n",
       "50%        NaN    13.060000     0.000000\n",
       "75%        NaN    22.990000     1.000000\n",
       "max        NaN   300.000000     2.000000"
      ]
     },
     "execution_count": 38,
     "metadata": {},
     "output_type": "execute_result"
    }
   ],
   "source": [
    "# Stats du dataframe\n",
    "products.describe(include = 'all')\n",
    "\n"
   ]
  },
  {
   "cell_type": "markdown",
   "id": "d67e5368",
   "metadata": {},
   "source": [
    "Votre conclusion ?\n",
    "\n"
   ]
  },
  {
   "cell_type": "markdown",
   "id": "10a0ee02",
   "metadata": {},
   "source": [
    "Je constate qu'il y a un produit avec un prix négatif (-1) _ cela pourrait être une erreur de saisie ou une donnée anormale à vérifier, car un prix négatif n’a pas de sens dans la plupart des contextes commerciaux.\n",
    "La ligne count est 3287 pour toutes les colonnes (id_prod, price, categ). Cela signifie qu’il y a 3287 produits au total, et aucune donnée ne manque dans ces colonnes (pas de NaN dans count).\n",
    "Le jeu de données est complet pour ces trois colonnes, ce qui est une bonne chose pour l’analyse.\n",
    "Chaque id_prod est unique (pas de doublons), car le nombre d’éléments uniques égale le nombre total de produits. Cela signifie que chaque produit a un identifiant distinct, ce qui est normal pour une colonne d’identification.\n",
    "Les prix varient énormément, de -1 à 300, avec une moyenne d’environ 21.86 €.\n",
    "L’écart-type élevé (29.85) montre que les prix sont très dispersés.\n",
    "La moitié des produits (entre 25% et 75%) ont des prix entre 6.99 € et 22.99 €, ce qui suggère que les prix extrêmes (négatifs ou très élevés) sont des cas rares.\n",
    "\n",
    "Je constate qu'il y a un produit avec un prix négatif (-1), ce qui pourrait être une erreur de saisie ou une donnée anormale à vérifier, car un prix négatif n’a pas de sens dans la plupart des cas.\n",
    "\n",
    "De plus :\n",
    "\n",
    "Il y a 3287 produits au total, et aucune donnée ne manque dans les colonnes id_prod, price, et categ.\n",
    "Chaque id_prod est unique, ce qui est normal pour une colonne d’identification.\n",
    "Les prix varient de -1 à 300 €, avec une moyenne d’environ 21.86 €. La moitié des produits ont des prix entre 6.99 € et 22.99 €, et l’écart-type élevé (29.85) montre une grande dispersion.\n",
    "La colonne categ semble contenir des catégories codées en nombres [0 1 2] ou (0, 1, 2), avec la majorité des produits dans la catégorie 0 (médiane = 0)."
   ]
  },
  {
   "cell_type": "code",
   "execution_count": 41,
   "id": "c618d924",
   "metadata": {},
   "outputs": [
    {
     "name": "stdout",
     "output_type": "stream",
     "text": [
      "     id_prod   price  categ\n",
      "0     0_1421   19.99      0\n",
      "1     0_1368    5.13      0\n",
      "2      0_731   17.99      0\n",
      "3      1_587    4.99      1\n",
      "4     0_1507    3.99      0\n",
      "...      ...     ...    ...\n",
      "3282    2_23  115.99      2\n",
      "3283   0_146   17.14      0\n",
      "3284   0_802   11.22      0\n",
      "3285   1_140   38.56      1\n",
      "3286  0_1920   25.16      0\n",
      "\n",
      "[3287 rows x 3 columns]\n"
     ]
    }
   ],
   "source": [
    "print(products)"
   ]
  },
  {
   "cell_type": "code",
   "execution_count": 43,
   "id": "b6765cc6",
   "metadata": {},
   "outputs": [
    {
     "name": "stdout",
     "output_type": "stream",
     "text": [
      "categ\n",
      "0    2309\n",
      "1     739\n",
      "2     239\n",
      "Name: count, dtype: int64\n"
     ]
    }
   ],
   "source": [
    "print(products.categ.value_counts())"
   ]
  },
  {
   "cell_type": "code",
   "execution_count": 44,
   "id": "426bf30e",
   "metadata": {},
   "outputs": [
    {
     "name": "stdout",
     "output_type": "stream",
     "text": [
      "0       0\n",
      "1       0\n",
      "2       0\n",
      "3       1\n",
      "4       0\n",
      "       ..\n",
      "3282    2\n",
      "3283    0\n",
      "3284    0\n",
      "3285    1\n",
      "3286    0\n",
      "Name: categ, Length: 3287, dtype: int64\n"
     ]
    }
   ],
   "source": [
    "print(products.categ)"
   ]
  },
  {
   "cell_type": "code",
   "execution_count": 45,
   "id": "6a8bc938",
   "metadata": {},
   "outputs": [
    {
     "name": "stdout",
     "output_type": "stream",
     "text": [
      "Index(['id_prod', 'price', 'categ'], dtype='object')\n"
     ]
    }
   ],
   "source": [
    "print(products.columns)"
   ]
  },
  {
   "cell_type": "code",
   "execution_count": 46,
   "id": "38c61fbb",
   "metadata": {},
   "outputs": [
    {
     "name": "stdout",
     "output_type": "stream",
     "text": [
      "[0 1 2]\n"
     ]
    }
   ],
   "source": [
    "print(products[\"categ\"].unique())"
   ]
  },
  {
   "cell_type": "code",
   "execution_count": 47,
   "id": "afafac1a",
   "metadata": {},
   "outputs": [
    {
     "name": "stdout",
     "output_type": "stream",
     "text": [
      "Prix moyen par catégorie :\n",
      " categ\n",
      "0     11.727280\n",
      "1     25.531421\n",
      "2    108.354686\n",
      "Name: price, dtype: float64\n"
     ]
    }
   ],
   "source": [
    "# calculer le prix moyen des produits par catégorie\n",
    "prix_moyen_par_categ = products.groupby(\"categ\")[\"price\"].mean()\n",
    "print(\"Prix moyen par catégorie :\\n\", prix_moyen_par_categ)"
   ]
  },
  {
   "cell_type": "markdown",
   "id": "099cce8d",
   "metadata": {},
   "source": [
    "Le prix moyen par catégorie est :\n",
    "\n",
    "* Catégorie 0  =>  11.727280 €,\n",
    "* Catégorie 1  =>  25.531421 €,\n",
    "* Catégorie 2  =>  108.354686 €.\n",
    "\n",
    "Cela montre que les prix augmentent avec le numéro de la catégorie, et la catégorie 0, qui contient 2309 produits (la majorité), a le prix moyen le plus bas.\n",
    "\n",
    "Observation :\n",
    "\n",
    "Le prix moyen augmente avec le numéro de la catégorie (0 < 1 < 2), ce qui pourrait indiquer que les catégories représentent des niveaux de gamme (bas, moyen, haut).\n",
    "La catégorie 2 a un prix moyen beaucoup plus élevé, ce qui suggère qu’elle contient des produits plus chers (peut-être des produits de luxe ou premium)."
   ]
  },
  {
   "cell_type": "markdown",
   "id": "9fa3f9f8",
   "metadata": {},
   "source": [
    "### Graphiques"
   ]
  },
  {
   "cell_type": "code",
   "execution_count": 48,
   "id": "5f690b81",
   "metadata": {},
   "outputs": [
    {
     "data": {
      "image/png": "[encoded data removed]",
      "text/plain": [
       "<Figure size 640x480 with 1 Axes>"
      ]
     },
     "metadata": {},
     "output_type": "display_data"
    }
   ],
   "source": [
    "# Données\n",
    "categories = [0, 1, 2]\n",
    "prix_moyen = [11.73, 25.53, 108.35]\n",
    "\n",
    "# Créer le graphique\n",
    "plt.bar(categories, prix_moyen, color=['#FF9999', '#66B2FF', '#99FF99'])\n",
    "plt.title(\"Prix moyen par catégorie\")\n",
    "plt.xlabel(\"Catégorie\")\n",
    "plt.ylabel(\"Prix moyen (€)\")\n",
    "plt.xticks(categories)\n",
    "plt.show()"
   ]
  },
  {
   "cell_type": "code",
   "execution_count": null,
   "id": "eb284803",
   "metadata": {},
   "outputs": [
    {
     "name": "stderr",
     "output_type": "stream",
     "text": [
      "C:\\Users\\Administrateur\\AppData\\Local\\Temp\\ipykernel_3264\\289581067.py:7: FutureWarning: \n",
      "\n",
      "Passing `palette` without assigning `hue` is deprecated and will be removed in v0.14.0. Assign the `x` variable to `hue` and set `legend=False` for the same effect.\n",
      "\n",
      "  sns.barplot(x='categ', y='prix_moyen', data=data, palette=['#FF9999', '#66B2FF', '#99FF99'])\n"
     ]
    },
    {
     "data": {
      "image/png": "[encoded data removed]",
      "text/plain": [
       "<Figure size 800x500 with 1 Axes>"
      ]
     },
     "metadata": {},
     "output_type": "display_data"
    }
   ],
   "source": [
    "# Données dans un DataFrame pour seaborn\n",
    "data = pd.DataFrame({'categ': [0, 1, 2], 'prix_moyen': [11.73, 25.53, 108.35]})\n",
    "\n",
    "# Créer le graphique\n",
    "plt.figure(figsize=(8, 5))\n",
    "sns.barplot(x='categ', y='prix_moyen', data=data, palette=['#FF9999', '#66B2FF', '#99FF99'])\n",
    "plt.title(\"Prix moyen par catégorie\")\n",
    "plt.xlabel(\"Catégorie\")\n",
    "plt.ylabel(\"Prix moyen (€)\")\n",
    "plt.show()"
   ]
  },
  {
   "cell_type": "markdown",
   "id": "b86e4f9c",
   "metadata": {},
   "source": [
    "Le prix moyen par catégorie est :\n",
    "\n",
    "* Catégorie 0  =>  11.73 €,\n",
    "* Catégorie 1 => 25.53 €,\n",
    "* Catégorie 2 => 108.35 €.\n",
    "\n",
    "J’ai créé un graphique à barres (voir ci-dessus) pour comparer ces prix. On remarque que le prix moyen augmente avec le numéro de la catégorie, et la catégorie 2, avec un prix moyen de 108.35 €, contient probablement des produits premium, malgré son faible nombre (239 produits)."
   ]
  },
  {
   "cell_type": "code",
   "execution_count": 50,
   "id": "1c3de97a",
   "metadata": {},
   "outputs": [
    {
     "name": "stdout",
     "output_type": "stream",
     "text": [
      "Prix moyen par catégorie (sans prix négatifs) :\n",
      " categ\n",
      "0     11.73\n",
      "1     25.53\n",
      "2    108.35\n",
      "Name: price, dtype: float64 €\n"
     ]
    }
   ],
   "source": [
    "prix_moyen_par_categ = products[products[\"price\"] >= 0].groupby(\"categ\")[\"price\"].mean().round(2)\n",
    "print(\"Prix moyen par catégorie (sans prix négatifs) :\\n\", prix_moyen_par_categ, \"€\")"
   ]
  },
  {
   "cell_type": "markdown",
   "id": "cc3811de",
   "metadata": {},
   "source": [
    "Distribution des prix"
   ]
  },
  {
   "cell_type": "code",
   "execution_count": 51,
   "id": "6739f305",
   "metadata": {},
   "outputs": [
    {
     "data": {
      "image/png": "[encoded data removed]",
      "text/plain": [
       "<Figure size 640x480 with 1 Axes>"
      ]
     },
     "metadata": {},
     "output_type": "display_data"
    }
   ],
   "source": [
    "sns.histplot(data=products, x=\"price\", hue=\"categ\", multiple=\"stack\")\n",
    "plt.title(\"Distribution des prix par catégorie\")\n",
    "plt.show()"
   ]
  },
  {
   "cell_type": "markdown",
   "id": "a2460427",
   "metadata": {},
   "source": [
    "### 1.1.3 - transactions\n"
   ]
  },
  {
   "cell_type": "code",
   "execution_count": 52,
   "id": "f4b99c1a",
   "metadata": {},
   "outputs": [],
   "source": [
    "# Ouverture du fichier\n",
    "# sales = pd.read_csv('ventes.csv')\n",
    "transactions = pd.read_csv('ventes.csv')"
   ]
  },
  {
   "cell_type": "code",
   "execution_count": 53,
   "id": "d7cebe83",
   "metadata": {},
   "outputs": [
    {
     "name": "stdout",
     "output_type": "stream",
     "text": [
      "<class 'pandas.core.frame.DataFrame'>\n",
      "RangeIndex: 679532 entries, 0 to 679531\n",
      "Data columns (total 4 columns):\n",
      " #   Column      Non-Null Count   Dtype \n",
      "---  ------      --------------   ----- \n",
      " 0   id_prod     679532 non-null  object\n",
      " 1   date        679532 non-null  object\n",
      " 2   session_id  679532 non-null  object\n",
      " 3   client_id   679532 non-null  object\n",
      "dtypes: object(4)\n",
      "memory usage: 20.7+ MB\n"
     ]
    }
   ],
   "source": [
    "# Affichage des informations \n",
    "transactions.info()"
   ]
  },
  {
   "cell_type": "code",
   "execution_count": 54,
   "id": "57807a7f",
   "metadata": {},
   "outputs": [
    {
     "data": {
      "text/html": [
       "<div>\n",
       "<style scoped>\n",
       "    .dataframe tbody tr th:only-of-type {\n",
       "        vertical-align: middle;\n",
       "    }\n",
       "\n",
       "    .dataframe tbody tr th {\n",
       "        vertical-align: top;\n",
       "    }\n",
       "\n",
       "    .dataframe thead th {\n",
       "        text-align: right;\n",
       "    }\n",
       "</style>\n",
       "<table border=\"1\" class=\"dataframe\">\n",
       "  <thead>\n",
       "    <tr style=\"text-align: right;\">\n",
       "      <th></th>\n",
       "      <th>id_prod</th>\n",
       "      <th>date</th>\n",
       "      <th>session_id</th>\n",
       "      <th>client_id</th>\n",
       "    </tr>\n",
       "  </thead>\n",
       "  <tbody>\n",
       "    <tr>\n",
       "      <th>0</th>\n",
       "      <td>0_1518</td>\n",
       "      <td>2022-05-20 13:21:29.043970</td>\n",
       "      <td>s_211425</td>\n",
       "      <td>c_103</td>\n",
       "    </tr>\n",
       "    <tr>\n",
       "      <th>1</th>\n",
       "      <td>1_251</td>\n",
       "      <td>2022-02-02 07:55:19.149409</td>\n",
       "      <td>s_158752</td>\n",
       "      <td>c_8534</td>\n",
       "    </tr>\n",
       "    <tr>\n",
       "      <th>2</th>\n",
       "      <td>0_1277</td>\n",
       "      <td>2022-06-18 15:44:33.155329</td>\n",
       "      <td>s_225667</td>\n",
       "      <td>c_6714</td>\n",
       "    </tr>\n",
       "    <tr>\n",
       "      <th>3</th>\n",
       "      <td>2_209</td>\n",
       "      <td>2021-06-24 04:19:29.835891</td>\n",
       "      <td>s_52962</td>\n",
       "      <td>c_6941</td>\n",
       "    </tr>\n",
       "    <tr>\n",
       "      <th>4</th>\n",
       "      <td>0_1509</td>\n",
       "      <td>2023-01-11 08:22:08.194479</td>\n",
       "      <td>s_325227</td>\n",
       "      <td>c_4232</td>\n",
       "    </tr>\n",
       "  </tbody>\n",
       "</table>\n",
       "</div>"
      ],
      "text/plain": [
       "  id_prod                        date session_id client_id\n",
       "0  0_1518  2022-05-20 13:21:29.043970   s_211425     c_103\n",
       "1   1_251  2022-02-02 07:55:19.149409   s_158752    c_8534\n",
       "2  0_1277  2022-06-18 15:44:33.155329   s_225667    c_6714\n",
       "3   2_209  2021-06-24 04:19:29.835891    s_52962    c_6941\n",
       "4  0_1509  2023-01-11 08:22:08.194479   s_325227    c_4232"
      ]
     },
     "execution_count": 54,
     "metadata": {},
     "output_type": "execute_result"
    }
   ],
   "source": [
    "# Affichage des premières lignes\n",
    "transactions.head()"
   ]
  },
  {
   "cell_type": "code",
   "execution_count": 55,
   "id": "bc5185c2",
   "metadata": {},
   "outputs": [
    {
     "data": {
      "text/html": [
       "<div>\n",
       "<style scoped>\n",
       "    .dataframe tbody tr th:only-of-type {\n",
       "        vertical-align: middle;\n",
       "    }\n",
       "\n",
       "    .dataframe tbody tr th {\n",
       "        vertical-align: top;\n",
       "    }\n",
       "\n",
       "    .dataframe thead th {\n",
       "        text-align: right;\n",
       "    }\n",
       "</style>\n",
       "<table border=\"1\" class=\"dataframe\">\n",
       "  <thead>\n",
       "    <tr style=\"text-align: right;\">\n",
       "      <th></th>\n",
       "      <th>id_prod</th>\n",
       "      <th>date</th>\n",
       "      <th>session_id</th>\n",
       "      <th>client_id</th>\n",
       "    </tr>\n",
       "  </thead>\n",
       "  <tbody>\n",
       "    <tr>\n",
       "      <th>count</th>\n",
       "      <td>679532</td>\n",
       "      <td>679532</td>\n",
       "      <td>679532</td>\n",
       "      <td>679532</td>\n",
       "    </tr>\n",
       "    <tr>\n",
       "      <th>unique</th>\n",
       "      <td>3267</td>\n",
       "      <td>679371</td>\n",
       "      <td>342316</td>\n",
       "      <td>8602</td>\n",
       "    </tr>\n",
       "    <tr>\n",
       "      <th>top</th>\n",
       "      <td>1_369</td>\n",
       "      <td>test_2021-03-01 02:30:02.237413</td>\n",
       "      <td>s_0</td>\n",
       "      <td>c_1609</td>\n",
       "    </tr>\n",
       "    <tr>\n",
       "      <th>freq</th>\n",
       "      <td>2252</td>\n",
       "      <td>13</td>\n",
       "      <td>200</td>\n",
       "      <td>25488</td>\n",
       "    </tr>\n",
       "  </tbody>\n",
       "</table>\n",
       "</div>"
      ],
      "text/plain": [
       "       id_prod                             date session_id client_id\n",
       "count   679532                           679532     679532    679532\n",
       "unique    3267                           679371     342316      8602\n",
       "top      1_369  test_2021-03-01 02:30:02.237413        s_0    c_1609\n",
       "freq      2252                               13        200     25488"
      ]
     },
     "execution_count": 55,
     "metadata": {},
     "output_type": "execute_result"
    }
   ],
   "source": [
    "# Stats du dataframe\n",
    "transactions.describe(include = 'all')"
   ]
  },
  {
   "cell_type": "markdown",
   "id": "65c98eb3",
   "metadata": {},
   "source": [
    "* Je remarque une fréquence très élevé de 25488 pour le client_id c_1609 \n",
    "* ensuite la session_id s_0 apparait 200 fois dans le dataframe\n",
    "* je note aussi le id_prod 1_369 apparait 2252 fois\n",
    "* Pour client_id c_1609 => \"Le client_id c_1609 a effectué 25488 transactions, soit environ 3.75 % des 679532 transactions totales, ce qui en fait un client très actif.\"\n",
    "* Pour id_prod 1_369 => \"Le produit 1_369 apparaît 2252 fois, soit environ 0.33 % des transactions totales, mais c’est beaucoup pour un seul produit parmi 3267 uniques.\"\n",
    "* Pour session_id s_0 => \"La session_id s_0 apparaît 200 fois, ce qui représente environ 0.06 % des 342316 sessions uniques, mais cela reste notable pour une seule session.\"\n",
    "-------------\n",
    "* \"Le client_id c_1609 pourrait être un compte professionnel ou une erreur de duplication.\"\n",
    "* \"La session_id s_0 pourrait indiquer une session mal enregistrée ou une activité intense sur une période.\"\n",
    "* \"Le id_prod 1_369 pourrait être un produit phare ou un article promotionnel très acheté.\""
   ]
  },
  {
   "cell_type": "code",
   "execution_count": 56,
   "id": "d53d01bc",
   "metadata": {},
   "outputs": [
    {
     "data": {
      "text/plain": [
       "id_prod       0.0\n",
       "date          0.0\n",
       "session_id    0.0\n",
       "client_id     0.0\n",
       "dtype: float64"
      ]
     },
     "execution_count": 56,
     "metadata": {},
     "output_type": "execute_result"
    }
   ],
   "source": [
    "#valeurs manquantes\n",
    "transactions.isna().mean()"
   ]
  },
  {
   "cell_type": "code",
   "execution_count": 57,
   "id": "27f1894b",
   "metadata": {},
   "outputs": [
    {
     "data": {
      "text/plain": [
       "np.int64(126)"
      ]
     },
     "execution_count": 57,
     "metadata": {},
     "output_type": "execute_result"
    }
   ],
   "source": [
    "#Doublon\n",
    "transactions.duplicated().sum()"
   ]
  },
  {
   "cell_type": "markdown",
   "id": "8511bbb9",
   "metadata": {},
   "source": [
    "Votre conclusion ?\n",
    "\n",
    "Qu'est-ce qu'on remarque ? \n",
    "\n",
    "En analysant les statistiques de transactions.describe(include='all'), je constate :\n",
    "\n",
    "* Une fréquence très élevée de 25488 pour le client_id c_1609, soit environ 3.75 % des 679532 transactions totales. Cela pourrait indiquer un gros acheteur ou une possible erreur de duplication à vérifier.\n",
    "* La session_id s_0 apparaît 200 fois, ce qui représente environ 0.06 % des 342316 sessions uniques. Cela pourrait suggérer une session prolongée ou une anomalie dans les données.\n",
    "* Le id_prod 1_369 apparaît 2252 fois, soit 0.33 % des transactions, ce qui en fait un produit très populaire, peut-être un best-seller.\n",
    "* La date \"test_2021-03-01 02:30:02.237413\" apparaît 13 fois, ce qui pourrait être une donnée de test à investiguer.\n",
    "* Il y a 8602 clients uniques et 3267 produits uniques, avec un total de 679532 transactions, et aucune valeur manquante."
   ]
  },
  {
   "cell_type": "code",
   "execution_count": 60,
   "id": "d2cef189",
   "metadata": {},
   "outputs": [
    {
     "data": {
      "image/png": "[encoded data removed]",
      "text/plain": [
       "<Figure size 900x600 with 1 Axes>"
      ]
     },
     "metadata": {},
     "output_type": "display_data"
    }
   ],
   "source": [
    "# Données\n",
    "data = pd.DataFrame({\n",
    "    'Identifiant': ['client_id c_1609', 'session_id s_0', 'id_prod 1_369'],\n",
    "    'Frequence': [25488, 200, 2252]\n",
    "})\n",
    "\n",
    "# Appliquer un style avec grille en fond\n",
    "sns.set_style(\"whitegrid\")\n",
    "\n",
    "# Créer le graphique\n",
    "plt.figure(figsize=(9, 6))  # Taille légèrement plus grande pour lisibilité\n",
    "\n",
    "# Utiliser hue avec la variable x et désactiver la légende\n",
    "sns.barplot(x='Identifiant', y='Frequence', hue='Identifiant', data=data, \n",
    "            palette=['#FF9999', '#66B2FF', '#99FF99'], legend=False)\n",
    "\n",
    "# Personnalisation\n",
    "plt.title(\"Fréquences élevées dans les transactions\", fontsize=14, pad=15)\n",
    "plt.xlabel(\"Identifiants\", fontsize=12)\n",
    "plt.ylabel(\"Nombre d'occurrences\", fontsize=12)\n",
    "plt.xticks(rotation=45, ha='right', fontsize=10)  # Rotation et alignement à droite\n",
    "plt.yticks(fontsize=10)\n",
    "\n",
    "# Ajouter les chiffres au-dessus des barres\n",
    "for i, v in enumerate(data['Frequence']):\n",
    "    plt.text(i, v + 200, str(v), ha='center', va='bottom', fontsize=10, \n",
    "             bbox=dict(facecolor='white', alpha=0.8, edgecolor='gray'))\n",
    "\n",
    "# Ajuster l'espacement et afficher\n",
    "plt.tight_layout()\n",
    "plt.show()"
   ]
  },
  {
   "cell_type": "markdown",
   "id": "0c622850",
   "metadata": {},
   "source": [
    "* Ce graphique à barres, créé avec Seaborn, montre les fréquences élevées dans les transactions. \n",
    "* Le client_id c_1609 domine avec 25488 occurrences, suivi par le id_prod 1_369 (2252) et la session_id s_0 (200). \n",
    "* La grille et les annotations facilitent la lecture des différences."
   ]
  },
  {
   "cell_type": "code",
   "execution_count": 65,
   "id": "f5205e31",
   "metadata": {},
   "outputs": [
    {
     "name": "stdout",
     "output_type": "stream",
     "text": [
      "Nombre de lignes avant : 679532\n",
      "Nombre de lignes après : 651651\n",
      "Nombre de lignes retirées : 27881\n",
      "\n",
      "Fréquences de client_id après filtrage :\n",
      "client_id\n",
      "c_6714    9167\n",
      "c_3454    6728\n",
      "c_4958    5186\n",
      "c_2140     402\n",
      "c_3263     398\n",
      "Name: count, dtype: int64\n",
      "\n",
      "Fréquences de session_id après filtrage :\n",
      "session_id\n",
      "s_118668    14\n",
      "s_96857     13\n",
      "s_21005     13\n",
      "s_215292    13\n",
      "s_342045    13\n",
      "Name: count, dtype: int64\n",
      "\n",
      "Fréquences de id_prod après filtrage :\n",
      "id_prod\n",
      "1_414    2141\n",
      "1_417    2140\n",
      "1_498    2077\n",
      "1_425    2053\n",
      "1_403    1922\n",
      "Name: count, dtype: int64\n"
     ]
    }
   ],
   "source": [
    "# retirer les lignes identifiées\n",
    "# Objectif __ Retirer les lignes où :\n",
    "# client_id est égal à \"c_1609\", session_id est égal à \"s_0\", \n",
    "# id_prod est égal à \"1_369\".\n",
    "\n",
    "# Créer un nouveau DataFrame sans les lignes identifiées\n",
    "transactions_cleaned = transactions[\n",
    "    (transactions[\"client_id\"] != \"c_1609\") & \n",
    "    (transactions[\"session_id\"] != \"s_0\") & \n",
    "    (transactions[\"id_prod\"] != \"1_369\")\n",
    "]\n",
    "\n",
    "# Vérifications\n",
    "print(\"Nombre de lignes avant :\", len(transactions))\n",
    "print(\"Nombre de lignes après :\", len(transactions_cleaned))\n",
    "\n",
    "# Compter les lignes retirées (pour info)\n",
    "lignes_a_retirer = len(transactions) - len(transactions_cleaned)\n",
    "print(\"Nombre de lignes retirées :\", lignes_a_retirer)\n",
    "\n",
    "# Vérifier les fréquences dans le nouveau DataFrame\n",
    "print(\"\\nFréquences de client_id après filtrage :\")\n",
    "print(transactions_cleaned[\"client_id\"].value_counts().head())\n",
    "print(\"\\nFréquences de session_id après filtrage :\")\n",
    "print(transactions_cleaned[\"session_id\"].value_counts().head())\n",
    "print(\"\\nFréquences de id_prod après filtrage :\")\n",
    "print(transactions_cleaned[\"id_prod\"].value_counts().head())"
   ]
  },
  {
   "cell_type": "code",
   "execution_count": 66,
   "id": "1e27bd4e",
   "metadata": {},
   "outputs": [
    {
     "name": "stdout",
     "output_type": "stream",
     "text": [
      "\n",
      "Vérification des identifiants retirés :\n",
      "client_id c_1609 : 0\n",
      "session_id s_0 : 0\n",
      "id_prod 1_369 : 0\n"
     ]
    }
   ],
   "source": [
    "print(\"\\nVérification des identifiants retirés :\")\n",
    "print(\"client_id c_1609 :\", transactions_cleaned[transactions_cleaned[\"client_id\"] == \"c_1609\"].shape[0])\n",
    "print(\"session_id s_0 :\", transactions_cleaned[transactions_cleaned[\"session_id\"] == \"s_0\"].shape[0])\n",
    "print(\"id_prod 1_369 :\", transactions_cleaned[transactions_cleaned[\"id_prod\"] == \"1_369\"].shape[0])"
   ]
  },
  {
   "cell_type": "markdown",
   "id": "71065dee",
   "metadata": {},
   "source": [
    "* J'ai corrigé une erreur dans mon code et remplacé .value par .value_counts(). \n",
    "* Après avoir retiré les lignes avec client_id c_1609, session_id s_0, et id_prod 1_369, le nouveau DataFrame transactions_cleaned contient [651651] lignes. \n",
    "* Les vérifications confirment que ces identifiants ne sont plus présents."
   ]
  },
  {
   "cell_type": "code",
   "execution_count": 69,
   "id": "0af11ba7",
   "metadata": {},
   "outputs": [
    {
     "name": "stdout",
     "output_type": "stream",
     "text": [
      "Nombre d'achats par client (5 premiers) :\n",
      " client_id\n",
      "c_1        39\n",
      "c_10       58\n",
      "c_100       8\n",
      "c_1000    119\n",
      "c_1001    102\n",
      "dtype: int64\n",
      "\n",
      "Nombre moyen d'achats par client : 75.78\n"
     ]
    }
   ],
   "source": [
    "# Calculer le nombre d'achats par client avec groupby et calculer ensuite le nombre d'achats moyen\n",
    "# Calculer le nombre d'achats par client\n",
    "achats_par_client = transactions_cleaned.groupby(\"client_id\").size()\n",
    "\n",
    "# Afficher les 5 premiers pour vérification\n",
    "print(\"Nombre d'achats par client (5 premiers) :\\n\", achats_par_client.head())\n",
    "\n",
    "# Calculer le nombre moyen d'achats par client\n",
    "nombre_moyen_achats = achats_par_client.mean()\n",
    "\n",
    "# Afficher le résultat arrondi\n",
    "print(\"\\nNombre moyen d'achats par client :\", round(nombre_moyen_achats, 2))\n"
   ]
  },
  {
   "cell_type": "code",
   "execution_count": 70,
   "id": "3f4b6dfa",
   "metadata": {},
   "outputs": [
    {
     "name": "stdout",
     "output_type": "stream",
     "text": [
      "Somme totale des achats : 651651\n",
      "Nombre total de lignes : 651651\n"
     ]
    }
   ],
   "source": [
    "print(\"Somme totale des achats :\", achats_par_client.sum())\n",
    "print(\"Nombre total de lignes :\", len(transactions_cleaned))"
   ]
  },
  {
   "cell_type": "code",
   "execution_count": 71,
   "id": "77786983",
   "metadata": {},
   "outputs": [
    {
     "name": "stdout",
     "output_type": "stream",
     "text": [
      "Nombre moyen d'achats par client (original) : 79.0\n"
     ]
    }
   ],
   "source": [
    "achats_par_client_original = transactions.groupby(\"client_id\").size()\n",
    "print(\"Nombre moyen d'achats par client (original) :\", round(achats_par_client_original.mean(), 2))"
   ]
  },
  {
   "cell_type": "markdown",
   "id": "9bafd872",
   "metadata": {},
   "source": [
    "J'ai calculé le nombre d'achats par client en utilisant groupby sur client_id avec .size(). Voici les 5 premiers résultats : \n",
    "* [Nombre d'achats par client (5 premiers) :\n",
    " client_id\n",
    "c_1        39\n",
    "c_10       58\n",
    "c_100       8\n",
    "c_1000    119\n",
    "c_1001    102\n",
    "dtype: int64]. \n",
    "* Le nombre moyen d'achats par client est de [Nombre moyen d'achats par client (original) : 79.0]. \n",
    "* Après avoir retiré les lignes avec client_id c_1609, session_id s_0, et id_prod 1_369, cette moyenne reflète mieux la distribution typique des achats."
   ]
  },
  {
   "cell_type": "code",
   "execution_count": 72,
   "id": "9a6263cd",
   "metadata": {},
   "outputs": [
    {
     "name": "stderr",
     "output_type": "stream",
     "text": [
      "C:\\Users\\Administrateur\\AppData\\Local\\Temp\\ipykernel_3264\\3006085448.py:5: FutureWarning: \n",
      "\n",
      "Passing `palette` without assigning `hue` is deprecated and will be removed in v0.14.0. Assign the `x` variable to `hue` and set `legend=False` for the same effect.\n",
      "\n",
      "  sns.barplot(x=top_10.index, y=top_10.values, palette='viridis')\n"
     ]
    },
    {
     "data": {
      "image/png": "[encoded data removed]",
      "text/plain": [
       "<Figure size 1000x600 with 1 Axes>"
      ]
     },
     "metadata": {},
     "output_type": "display_data"
    }
   ],
   "source": [
    "# Top 10 des clients par achats\n",
    "top_10 = achats_par_client.sort_values(ascending=False).head(10)\n",
    "\n",
    "plt.figure(figsize=(10, 6))\n",
    "sns.barplot(x=top_10.index, y=top_10.values, palette='viridis')\n",
    "plt.title(\"Top 10 des clients par nombre d'achats\")\n",
    "plt.xlabel(\"Client ID\")\n",
    "plt.ylabel(\"Nombre d'achats\")\n",
    "plt.xticks(rotation=45, ha='right')\n",
    "plt.tight_layout()\n",
    "plt.show()"
   ]
  },
  {
   "cell_type": "code",
   "execution_count": 73,
   "id": "2e2212dd",
   "metadata": {},
   "outputs": [
    {
     "data": {
      "image/png": "[encoded data removed]",
      "text/plain": [
       "<Figure size 800x600 with 1 Axes>"
      ]
     },
     "metadata": {},
     "output_type": "display_data"
    },
    {
     "name": "stdout",
     "output_type": "stream",
     "text": [
      "Médiane des achats : 51.0\n",
      "Moyenne des achats : 75.78\n",
      "Écart-type des achats : 149.63\n"
     ]
    }
   ],
   "source": [
    "# tracer un boxplot pour voir la distribution, voux pouvez utiliser plt.boxplot()\n",
    "import matplotlib.pyplot as plt\n",
    "\n",
    "# Calculer le nombre d'achats par client\n",
    "achats_par_client = transactions_cleaned.groupby(\"client_id\").size()\n",
    "\n",
    "# Convertir en liste\n",
    "achats_liste = achats_par_client.values\n",
    "\n",
    "# Créer le boxplot\n",
    "plt.figure(figsize=(8, 6))\n",
    "plt.boxplot(achats_liste, vert=True, patch_artist=True, \n",
    "            boxprops=dict(facecolor='#99CCFF', color='black'),\n",
    "            medianprops=dict(color='red', linewidth=2))\n",
    "\n",
    "# Personnalisation\n",
    "plt.title(\"Distribution des nombres d'achats par client\", fontsize=14, pad=10)\n",
    "plt.ylabel(\"Nombre d'achats\", fontsize=12)\n",
    "plt.xlabel(\"Clients\", fontsize=12)\n",
    "plt.grid(True, linestyle='--', alpha=0.7)\n",
    "plt.yticks(fontsize=10)\n",
    "\n",
    "# Afficher\n",
    "plt.show()\n",
    "\n",
    "# Stats pour vérification\n",
    "print(\"Médiane des achats :\", achats_par_client.median())\n",
    "print(\"Moyenne des achats :\", round(achats_par_client.mean(), 2))\n",
    "print(\"Écart-type des achats :\", round(achats_par_client.std(), 2))"
   ]
  },
  {
   "cell_type": "code",
   "execution_count": 74,
   "id": "a25b31f7",
   "metadata": {},
   "outputs": [
    {
     "name": "stdout",
     "output_type": "stream",
     "text": [
      "Médiane des achats : 51.0\n",
      "Moyenne des achats : 75.78\n"
     ]
    }
   ],
   "source": [
    "print(\"Médiane des achats :\", achats_par_client.median())\n",
    "print(\"Moyenne des achats :\", round(achats_par_client.mean(), 2))"
   ]
  },
  {
   "cell_type": "markdown",
   "id": "f5f29f6e",
   "metadata": {},
   "source": [
    "Qu'est-ce qu'on remarque ? \n"
   ]
  },
  {
   "cell_type": "markdown",
   "id": "61ff5d5b",
   "metadata": {},
   "source": [
    "J'ai tracé un boxplot avec plt.boxplot() pour visualiser la distribution des nombres d'achats par client après avoir retiré les lignes avec client_id c_1609, session_id s_0, et id_prod 1_369. On remarque que la médiane est de [valeur], la moyenne de [valeur], et il y a des outliers au-delà de [valeur], suggérant une distribution asymétrique avec quelques clients très actifs. La boîte et les moustaches montrent une variabilité importante dans les achats."
   ]
  },
  {
   "cell_type": "markdown",
   "id": "b7d4f71b",
   "metadata": {},
   "source": [
    "## 1.2 - Jointure des dataframes"
   ]
  },
  {
   "cell_type": "markdown",
   "id": "a612c914",
   "metadata": {},
   "source": [
    "1.2.1 - products & transactions"
   ]
  },
  {
   "cell_type": "code",
   "execution_count": null,
   "id": "bb3f74b6",
   "metadata": {},
   "outputs": [],
   "source": [
    "# Jointure entre transactions et products en prenant comme clé la colonne 'id_prod'\n",
    "# jointure externe \n",
    "# afin de conserver toutes les lignes de mon fichier transactions.\n",
    "\n",
    "df_final = pd.merge(transactions,products, on = 'id_prod', how= 'outer')"
   ]
  },
  {
   "cell_type": "code",
   "execution_count": null,
   "id": "0f58bd56",
   "metadata": {},
   "outputs": [],
   "source": [
    "#regardons les cas où le produit n'est pas vendu\n",
    "\n",
    "df_final[df_final._merge==\"right_only\"]"
   ]
  },
  {
   "cell_type": "code",
   "execution_count": null,
   "id": "98098e6f",
   "metadata": {},
   "outputs": [],
   "source": [
    "print(\"les produits qui ne sont pas vendus\",df_final[df_final._merge==\"right_only\"].id_prod.unique())"
   ]
  },
  {
   "cell_type": "code",
   "execution_count": null,
   "id": "64f1d312",
   "metadata": {},
   "outputs": [],
   "source": [
    "#on supprime les produits invendus\n",
    "\n",
    "index = df_final[df_final._merge==\"right_only\"]\n",
    "\n",
    "df_final.drop(index, inplace = True)"
   ]
  },
  {
   "cell_type": "code",
   "execution_count": null,
   "id": "5b6e7497",
   "metadata": {},
   "outputs": [],
   "source": [
    "#regardons les cas où le produit dans transaction n'est pas trouvé dans products\n",
    "df_final[df_final._merge==\"left_only\"]"
   ]
  },
  {
   "cell_type": "code",
   "execution_count": null,
   "id": "d65dfdc9",
   "metadata": {},
   "outputs": [],
   "source": [
    "df_final[df_final._merge==\"left_only\"].describe(include = \"all\")"
   ]
  },
  {
   "cell_type": "markdown",
   "id": "dc0dc4a0",
   "metadata": {},
   "source": [
    "Un produit a été vendu 221 fois, mais on ne connait pas son prix.\n",
    "Plusieurs possibilités : \n",
    "\n",
    "    - on supprime les lignes -> on sous-estimera le CA\n",
    "    \n",
    "    - on fait une imputation "
   ]
  },
  {
   "cell_type": "code",
   "execution_count": null,
   "id": "e144e193",
   "metadata": {},
   "outputs": [],
   "source": [
    "# faisons une imputation \n",
    "\n",
    "index = df_final[df_final._merge==\"left_only\"].index #on récupère l'index des lignes qu'il faut modifier \n",
    "\n",
    "df_final.loc[index,\"price\"] = 11.7\n",
    "\n",
    "df_final.loc[index,\"categ\"] = 0\n"
   ]
  },
  {
   "cell_type": "markdown",
   "id": "8fabc726",
   "metadata": {},
   "source": [
    "### 1.2.1 - ajout de customers"
   ]
  },
  {
   "cell_type": "code",
   "execution_count": null,
   "id": "c39adc42",
   "metadata": {},
   "outputs": [],
   "source": [
    "# faire la jointure \n",
    "\n"
   ]
  },
  {
   "cell_type": "code",
   "execution_count": null,
   "id": "71cedca9",
   "metadata": {},
   "outputs": [],
   "source": [
    "# Vérifier si des ventes concernent des clients absents de customers \n",
    "\n"
   ]
  },
  {
   "cell_type": "code",
   "execution_count": null,
   "id": "144e64fb",
   "metadata": {},
   "outputs": [],
   "source": [
    "# Vérifier si des clients n'ont fait aucun achat\n",
    "\n"
   ]
  },
  {
   "cell_type": "markdown",
   "id": "2d8e4810",
   "metadata": {},
   "source": [
    "# 2 Analyse globale du CA"
   ]
  },
  {
   "cell_type": "code",
   "execution_count": null,
   "id": "c2a70655",
   "metadata": {},
   "outputs": [],
   "source": [
    "df_final.head()"
   ]
  },
  {
   "cell_type": "code",
   "execution_count": 66,
   "id": "27ca3f33",
   "metadata": {},
   "outputs": [],
   "source": [
    "# calculer le CA total\n",
    "\n"
   ]
  },
  {
   "cell_type": "markdown",
   "id": "1692706d",
   "metadata": {},
   "source": [
    "## 2.1 Traitement de la date"
   ]
  },
  {
   "cell_type": "markdown",
   "id": "5436fe1a",
   "metadata": {},
   "source": [
    "On aimerait pouvoir faire des analyses du CA par an, par mois, par jour de la semaine, par catégorie de produit.\n",
    "On s'occupera des analyses des usages de clients dans le chapitre 3 "
   ]
  },
  {
   "cell_type": "markdown",
   "id": "ffae5f8f",
   "metadata": {},
   "source": [
    "On a besoin de traiter la date pour pouvoir faire ces analyses. \n",
    "On va créer des nouvelles colonnes à parti de ce champ"
   ]
  },
  {
   "cell_type": "code",
   "execution_count": null,
   "id": "9e20202d",
   "metadata": {},
   "outputs": [],
   "source": [
    "# Modification du type de ma colonne date\n",
    "df_final['date'] = pd.to_datetime(df_final['date'])"
   ]
  },
  {
   "cell_type": "code",
   "execution_count": null,
   "id": "c8551c18",
   "metadata": {},
   "outputs": [],
   "source": [
    "df_final['année'] = df_final['date'].dt.year"
   ]
  },
  {
   "cell_type": "code",
   "execution_count": null,
   "id": "7e3d761c",
   "metadata": {},
   "outputs": [],
   "source": [
    "df_final.head()"
   ]
  },
  {
   "cell_type": "markdown",
   "id": "b0323c85",
   "metadata": {},
   "source": [
    "En vous inspirant de ce qu'on vient de faire, créer :\n",
    "\n",
    "    un champ mois\n",
    "\n",
    "    un champ jour du mois\n",
    "\n",
    "    un champ jour de la semaine\n"
   ]
  },
  {
   "cell_type": "code",
   "execution_count": null,
   "id": "c482d5f3",
   "metadata": {},
   "outputs": [],
   "source": [
    "# A vous de jouer\n",
    "\n",
    "\n"
   ]
  },
  {
   "cell_type": "markdown",
   "id": "ed6f85eb",
   "metadata": {},
   "source": [
    "## 2.2 Analyse calendaire"
   ]
  },
  {
   "cell_type": "code",
   "execution_count": null,
   "id": "8e4c8467",
   "metadata": {},
   "outputs": [],
   "source": [
    "#Calcule du CA par année\n",
    "df_final.groupby(\"année\").price.sum()"
   ]
  },
  {
   "cell_type": "code",
   "execution_count": null,
   "id": "45fb58bc",
   "metadata": {},
   "outputs": [],
   "source": [
    "df_final.groupby(\"année\").price.sum().plot(kind = \"bar\", title=\"CA par année\",ylabel=\"CA\")"
   ]
  },
  {
   "cell_type": "markdown",
   "id": "8568bd6d",
   "metadata": {},
   "source": [
    "En vous inspirant de ce qu'on vient de faire :\n",
    "\n",
    "- Etudier le CA par mois. Qu'observons nous ? \n",
    "\n",
    "- Est-ce qu'il y a un effet fin de mois ? ou début de mois ?\n",
    "\n",
    "- Est-ce qu'il y a un effet WE? \n",
    "\n",
    "\n",
    "\n"
   ]
  },
  {
   "cell_type": "code",
   "execution_count": 57,
   "id": "1995688e",
   "metadata": {},
   "outputs": [],
   "source": [
    "# A vous de jouer\n",
    "\n",
    "\n",
    "\n"
   ]
  },
  {
   "cell_type": "markdown",
   "id": "802f9062",
   "metadata": {},
   "source": [
    "## 2.3 Analyse par catégorie\n",
    "\n"
   ]
  },
  {
   "cell_type": "code",
   "execution_count": 60,
   "id": "be25f068",
   "metadata": {},
   "outputs": [],
   "source": [
    "# reprendre le travail ci-dessous et le détailler par categorie\n",
    "\n",
    "\n"
   ]
  },
  {
   "cell_type": "code",
   "execution_count": null,
   "id": "e4306f96",
   "metadata": {},
   "outputs": [],
   "source": []
  },
  {
   "cell_type": "markdown",
   "id": "44bfa6b8",
   "metadata": {},
   "source": [
    "# 3 Analyse des usages des clients"
   ]
  },
  {
   "cell_type": "markdown",
   "id": "3f4b4b8b",
   "metadata": {},
   "source": [
    "## 3.1 Traitement de l'âge "
   ]
  },
  {
   "cell_type": "code",
   "execution_count": null,
   "id": "4d447621",
   "metadata": {},
   "outputs": [],
   "source": [
    "#créons  une colonne âge\n",
    "df_final['Age'] = 2022 - df_final['birth']"
   ]
  },
  {
   "cell_type": "code",
   "execution_count": null,
   "id": "115249de",
   "metadata": {},
   "outputs": [],
   "source": [
    "df_final.groupby(\"client_id\").mean().Age.hist(bins=40)\n",
    "\n",
    "plt.title(\"Répartition des clients par âge\")\n",
    "\n",
    "plt.xlabel(\"Age\")\n",
    "\n",
    "plt.ylabel(\"Nombre de clients\")"
   ]
  },
  {
   "cell_type": "markdown",
   "id": "77992732",
   "metadata": {},
   "source": [
    "Pour analyser les usages liés à l'âge, il est souvent plus pertinent de faire des tranches d'âge\n",
    "\n"
   ]
  },
  {
   "cell_type": "code",
   "execution_count": null,
   "id": "2085d6ad",
   "metadata": {},
   "outputs": [],
   "source": [
    "# On va créer 14 intervalles d'âges :\n",
    "\n",
    "labels = ['19-24','25-29','30-35','36-40','41-45','46-51','52-56','57-61','62-67','68-72','73-77','78-83','84-88','89-94']\n",
    "\n",
    "\n",
    "df_final['Age_tranche']= pd.cut(df_final['Age'], 14,labels=labels)"
   ]
  },
  {
   "cell_type": "markdown",
   "id": "8de28973",
   "metadata": {},
   "source": [
    "## 3.2 Analyse du chiffre d'affaires par client"
   ]
  },
  {
   "cell_type": "code",
   "execution_count": null,
   "id": "644b1b49",
   "metadata": {},
   "outputs": [],
   "source": [
    "# le nombre de clients uniques\n",
    "df_final.client_id.value_counts().shape"
   ]
  },
  {
   "cell_type": "code",
   "execution_count": null,
   "id": "7f9b0d4b",
   "metadata": {},
   "outputs": [],
   "source": [
    "# on regroupe mes données par client_id et on calcul le montant de leurs achats.\n",
    "df_client = df_final.groupby('client_id')[['price']].sum();\n",
    "df_client.head()"
   ]
  },
  {
   "cell_type": "markdown",
   "id": "258db4eb",
   "metadata": {},
   "source": [
    "Analyser le chiffre d'affaires par client : \n",
    "\n",
    "- est ce qu'il y a des outliers ? \n",
    "- si oui, quelle part du CA ils représentent ?\n",
    "- que peut-on supposer à leur sujet ? Comment les traiter dans notre analyse \n",
    "- étudier la distribution du CA par client en dehors de ces clients"
   ]
  },
  {
   "cell_type": "code",
   "execution_count": 68,
   "id": "8d0118b0",
   "metadata": {},
   "outputs": [],
   "source": [
    "# A vous de jouer\n",
    "\n"
   ]
  },
  {
   "cell_type": "markdown",
   "id": "34e4c559",
   "metadata": {},
   "source": [
    "## 3.3 Analyse des usages d'achat liés au sexe"
   ]
  },
  {
   "cell_type": "markdown",
   "id": "db3b9bf0",
   "metadata": {},
   "source": [
    "### 3.3.1 Calculer le CA par sexe"
   ]
  },
  {
   "cell_type": "code",
   "execution_count": 69,
   "id": "d0395d00",
   "metadata": {},
   "outputs": [],
   "source": [
    "# A vous de jouer"
   ]
  },
  {
   "cell_type": "markdown",
   "id": "1ee545de",
   "metadata": {},
   "source": [
    "### 3.3.2 Corrélation : Sexe et Catégorie"
   ]
  },
  {
   "cell_type": "markdown",
   "id": "b1cdc6ce",
   "metadata": {},
   "source": [
    "Les deux variables sont qualitatives.\n",
    "On va réaliser le test du Khi² pour vérifier si ces deux variables sont liées."
   ]
  },
  {
   "cell_type": "code",
   "execution_count": null,
   "id": "ce99bf7a",
   "metadata": {},
   "outputs": [],
   "source": [
    "# Création de ma table de contingence\n",
    "X = \"sex\"\n",
    "Y = \"categ\"\n",
    "\n",
    "cont_1 = df_final[[X,Y]].pivot_table(index=X,columns=Y,aggfunc=len,margins=True,margins_name=\"Total\")\n",
    "cont_1"
   ]
  },
  {
   "cell_type": "code",
   "execution_count": null,
   "id": "9b8110e2",
   "metadata": {},
   "outputs": [],
   "source": [
    "# Regardons la distibution si les variables étaient complétement independantes\n",
    "\n",
    "tx = cont_1.loc[:,[\"Total\"]]\n",
    "ty = cont_1.loc[[\"Total\"],:]\n",
    "n = len(df_final)\n",
    "indep = round(tx.dot(ty) / n)"
   ]
  },
  {
   "cell_type": "code",
   "execution_count": null,
   "id": "dae27389",
   "metadata": {},
   "outputs": [],
   "source": [
    "# regardons où l'écart est le plus important\n",
    "(cont_1 - indep)/indep"
   ]
  },
  {
   "cell_type": "code",
   "execution_count": null,
   "id": "94f132e3",
   "metadata": {},
   "outputs": [],
   "source": [
    "# importons le module chi2_contingency de la librairie scipy pour faire un chi2\n",
    "from scipy.stats import chi2_contingency as chi2_contingency"
   ]
  },
  {
   "cell_type": "code",
   "execution_count": null,
   "id": "7168b5fd",
   "metadata": {},
   "outputs": [],
   "source": [
    "chi2, p = chi2_contingency(cont_1)"
   ]
  },
  {
   "cell_type": "code",
   "execution_count": null,
   "id": "a3a575c6",
   "metadata": {},
   "outputs": [],
   "source": [
    "chi2"
   ]
  },
  {
   "cell_type": "markdown",
   "id": "30bc5b10",
   "metadata": {},
   "source": [
    "Avec une p-value inférieure à 0.05% on peut rejeter l'hypothèse 0 d'indépendance."
   ]
  },
  {
   "cell_type": "code",
   "execution_count": null,
   "id": "6ea37319",
   "metadata": {},
   "outputs": [],
   "source": [
    "import seaborn as sns\n",
    "\n",
    "\n",
    "c = cont_1.fillna(0) # On remplace les valeurs nulles par 0\n",
    "measure = (c-indep)**2/indep\n",
    "xi_n = measure.sum().sum()\n",
    "table = measure/xi_n\n",
    "sns.heatmap(table.iloc[:-1,:-1],annot=c.iloc[:-1,:-1])\n",
    "plt.title('Matrice de corrélation entre le sexe et la catégorie de produit')\n",
    "plt.show()"
   ]
  },
  {
   "cell_type": "markdown",
   "id": "1e8d09b4",
   "metadata": {},
   "source": [
    "On remarque une forte corrélation entre les hommes et la catégorie 1."
   ]
  },
  {
   "cell_type": "markdown",
   "id": "12ac1cc8",
   "metadata": {},
   "source": [
    "### 3.3.3 Test de corrélation : sexe et nombre d'achats"
   ]
  },
  {
   "cell_type": "code",
   "execution_count": null,
   "id": "81c6e003",
   "metadata": {},
   "outputs": [],
   "source": [
    "nb_achats = df_final.groupby([\"client_id\",\"sex\"],as_index=False)[[\"session_id\"]].count()"
   ]
  },
  {
   "cell_type": "code",
   "execution_count": null,
   "id": "f1fa8cb8",
   "metadata": {},
   "outputs": [],
   "source": [
    "nb_achats[['sex','session_id']].hist(by='sex',alpha = 0.5, bins = 50, sharex=True)"
   ]
  },
  {
   "cell_type": "code",
   "execution_count": null,
   "id": "bd3face1",
   "metadata": {},
   "outputs": [],
   "source": [
    "import statsmodels.api as sm\n",
    "from statsmodels.formula.api import ols"
   ]
  },
  {
   "cell_type": "code",
   "execution_count": null,
   "id": "25473d14",
   "metadata": {},
   "outputs": [],
   "source": [
    "lm = ols('session_id ~ sex', data = nb_achats).fit()\n",
    "import statsmodels.api; \n",
    "table = sm.stats.anova_lm(lm)"
   ]
  },
  {
   "cell_type": "code",
   "execution_count": null,
   "id": "932957b6",
   "metadata": {},
   "outputs": [],
   "source": [
    "table"
   ]
  },
  {
   "cell_type": "code",
   "execution_count": null,
   "id": "8cc10d03",
   "metadata": {},
   "outputs": [],
   "source": [
    "lm.summary()"
   ]
  },
  {
   "cell_type": "markdown",
   "id": "ba002617",
   "metadata": {},
   "source": [
    "## 3.4 Analyse des usages d'achat liés à l'âge¶"
   ]
  },
  {
   "cell_type": "markdown",
   "id": "19a450b0",
   "metadata": {},
   "source": [
    "### 3.4.1 Corrélation âge et CA"
   ]
  },
  {
   "cell_type": "markdown",
   "id": "ac28bb40",
   "metadata": {},
   "source": [
    "On peut considérer l'âge comme une variable quantitative. Le CA l'est aussi. "
   ]
  },
  {
   "cell_type": "code",
   "execution_count": null,
   "id": "b17611ad",
   "metadata": {},
   "outputs": [],
   "source": [
    "df_age_ca = df_final[['Age','price']]"
   ]
  },
  {
   "cell_type": "code",
   "execution_count": null,
   "id": "18dc8bb9",
   "metadata": {},
   "outputs": [],
   "source": [
    "df_age_ca = df_age_ca.groupby('Age').agg({'price':'sum'}).reset_index()"
   ]
  },
  {
   "cell_type": "code",
   "execution_count": null,
   "id": "4ba96179",
   "metadata": {},
   "outputs": [],
   "source": [
    "df_age_ca"
   ]
  },
  {
   "cell_type": "code",
   "execution_count": null,
   "id": "6acc2336",
   "metadata": {},
   "outputs": [],
   "source": [
    "import matplotlib.pyplot as plt\n",
    "\n",
    "plt.plot(df_age_ca[\"Age\"],df_age_ca[\"price\"],'o')\n",
    "plt.xlabel(\"Age\")\n",
    "plt.ylabel(\"ca\")\n",
    "plt.grid()\n",
    "plt.title('Répartition du CA par âge')\n",
    "plt.show()"
   ]
  },
  {
   "cell_type": "code",
   "execution_count": null,
   "id": "515f02b7",
   "metadata": {},
   "outputs": [],
   "source": [
    "#corrélation de pearson \n",
    "df_age_ca.corr()"
   ]
  },
  {
   "cell_type": "code",
   "execution_count": null,
   "id": "f4ff217d",
   "metadata": {},
   "outputs": [],
   "source": [
    "#test sperman\n",
    "from scipy import stats\n",
    "from scipy.stats import spearmanr"
   ]
  },
  {
   "cell_type": "code",
   "execution_count": null,
   "id": "369b0cf2",
   "metadata": {},
   "outputs": [],
   "source": [
    "stats.spearmanr(df_age_ca['Age'],df_age_ca['price'])"
   ]
  },
  {
   "cell_type": "code",
   "execution_count": null,
   "id": "7daa2ff8",
   "metadata": {},
   "outputs": [],
   "source": [
    "df_age_ca.corr( method = \"spearman\")"
   ]
  },
  {
   "cell_type": "markdown",
   "id": "141a5cad",
   "metadata": {},
   "source": [
    "### 3.4.2 corrélation tranche d'âge et catégorie de produit"
   ]
  },
  {
   "cell_type": "code",
   "execution_count": 80,
   "id": "f537606d",
   "metadata": {},
   "outputs": [],
   "source": [
    "#A vous de jouer "
   ]
  },
  {
   "cell_type": "markdown",
   "id": "2df931b4",
   "metadata": {},
   "source": [
    "### 3.4.3 corrélation tranche d'âge et fréquence d'achat"
   ]
  },
  {
   "cell_type": "code",
   "execution_count": null,
   "id": "1e182772",
   "metadata": {},
   "outputs": [],
   "source": []
  },
  {
   "cell_type": "markdown",
   "id": "bb9d5049",
   "metadata": {},
   "source": [
    "### 3.4.4 corrélation tranche d'âge et Panier moyen"
   ]
  },
  {
   "cell_type": "markdown",
   "id": "8512d262",
   "metadata": {},
   "source": [
    "# 4 synthèse"
   ]
  },
  {
   "cell_type": "code",
   "execution_count": null,
   "id": "1bb29524",
   "metadata": {},
   "outputs": [],
   "source": []
  }
 ],
 "metadata": {
  "kernelspec": {
   "display_name": "base",
   "language": "python",
   "name": "python3"
  },
  "language_info": {
   "codemirror_mode": {
    "name": "ipython",
    "version": 3
   },
   "file_extension": ".py",
   "mimetype": "text/x-python",
   "name": "python",
   "nbconvert_exporter": "python",
   "pygments_lexer": "ipython3",
   "version": "3.13.5"
  },
  "toc": {
   "base_numbering": 1,
   "nav_menu": {},
   "number_sections": true,
   "sideBar": true,
   "skip_h1_title": true,
   "title_cell": "Table of Contents",
   "title_sidebar": "Contents",
   "toc_cell": false,
   "toc_position": {},
   "toc_section_display": true,
   "toc_window_display": false
  }
 },
 "nbformat": 4,
 "nbformat_minor": 5
}
