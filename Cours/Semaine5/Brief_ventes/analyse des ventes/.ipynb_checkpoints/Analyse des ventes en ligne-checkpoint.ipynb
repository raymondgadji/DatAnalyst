{
 "cells": [
  {
   "cell_type": "markdown",
   "id": "d05e8e87",
   "metadata": {},
   "source": [
    "# Révision - Analyse de données sur les ventes d'une librairie"
   ]
  },
  {
   "cell_type": "markdown",
   "id": "1d79aebc",
   "metadata": {},
   "source": [
    "# 0 - contexte et objectifs"
   ]
  },
  {
   "cell_type": "markdown",
   "id": "883fcb72",
   "metadata": {},
   "source": [
    "Vous commencez votre mission en tant que Data Analyst chez une enseigne de Retail. On vous a donné accès à leur base de données pour analyse exploratoire : Produits, clients et ventes.\n",
    "Vous travaillez au service marketing , vous intervenez car l’entreprise souhaite faire le point : analyser ses points forts, ses points faibles, les comportements clients, etc. \n",
    "\n",
    "Par exemple, elle cherche à savoir si elle doit créer certaines offres, adapter certains prix, etc.\n",
    "\n",
    "On vous demande de faire une analyse en deux parties :\n",
    "\n",
    "Partie I - analyse des différents indicateurs généraux\n",
    "\n",
    "    Construire des indicateurs et graphiques autour du chiffre d'affaires. Rregarder l’évolution dans le temps\n",
    "    \n",
    "    faire un zoom sur les références, pour voir les tops et les flops, la répartition par catégorie, etc.\n",
    "    \n",
    "    etudier les profils des clients, et également la répartition du chiffre d'affaires entre eux\n",
    "\n",
    "Partie II - comportement des clients l’objectif est cette fois-ci de comprendre le comportement des clients en ligne.\n",
    "\n",
    "    étudier le lien entre le genre d’un client et les catégories des livres achetés\n",
    "    \n",
    "    étudier ensuite le lien entre l’âge des clients et le montant total des achats, la fréquence d’achat, la taille du panier moyen et les catégories des livres achetés.\n",
    "\n"
   ]
  },
  {
   "cell_type": "markdown",
   "id": "9146b256",
   "metadata": {},
   "source": [
    "# 1 - Exploration et  nettoyage des données "
   ]
  },
  {
   "cell_type": "code",
   "execution_count": 1,
   "id": "175279ef",
   "metadata": {},
   "outputs": [],
   "source": [
    "# Import de la librairie Pandas\n",
    "import pandas as pd\n",
    "\n",
    "# Import de la librairie matplotlib\n",
    "import matplotlib.pyplot as plt"
   ]
  },
  {
   "cell_type": "markdown",
   "id": "ad56f18f",
   "metadata": {},
   "source": [
    "## 1.1 - Chargement des données"
   ]
  },
  {
   "cell_type": "markdown",
   "id": "8f14079e",
   "metadata": {},
   "source": [
    "Si vous utilisez anaconda -> je vous conseille de mettre les fichiers csv dans le même répertoire que le notebook\n",
    "\n",
    "Si vous utilisez google colab ->  il faut exécuter le code ci-dessous. \n",
    "\n",
    "from google.colab import files\n",
    "data_to_load = files.upload()"
   ]
  },
  {
   "cell_type": "markdown",
   "id": "1637f458",
   "metadata": {},
   "source": [
    "### 1.1.1 - customers"
   ]
  },
  {
   "cell_type": "code",
   "execution_count": 4,
   "id": "0675c090",
   "metadata": {},
   "outputs": [],
   "source": [
    "# Ouverture du fichier\n",
    "customers = pd.read_csv('clients.csv')"
   ]
  },
  {
   "cell_type": "code",
   "execution_count": 5,
   "id": "b70295b7",
   "metadata": {},
   "outputs": [
    {
     "name": "stdout",
     "output_type": "stream",
     "text": [
      "<class 'pandas.core.frame.DataFrame'>\n",
      "RangeIndex: 8623 entries, 0 to 8622\n",
      "Data columns (total 3 columns):\n",
      " #   Column     Non-Null Count  Dtype \n",
      "---  ------     --------------  ----- \n",
      " 0   client_id  8623 non-null   object\n",
      " 1   sex        8623 non-null   object\n",
      " 2   birth      8623 non-null   int64 \n",
      "dtypes: int64(1), object(2)\n",
      "memory usage: 202.2+ KB\n"
     ]
    }
   ],
   "source": [
    "# Affichage des informations \n",
    "customers.info()"
   ]
  },
  {
   "cell_type": "code",
   "execution_count": 48,
   "id": "32c566cc",
   "metadata": {},
   "outputs": [
    {
     "data": {
      "text/html": [
       "<div>\n",
       "<style scoped>\n",
       "    .dataframe tbody tr th:only-of-type {\n",
       "        vertical-align: middle;\n",
       "    }\n",
       "\n",
       "    .dataframe tbody tr th {\n",
       "        vertical-align: top;\n",
       "    }\n",
       "\n",
       "    .dataframe thead th {\n",
       "        text-align: right;\n",
       "    }\n",
       "</style>\n",
       "<table border=\"1\" class=\"dataframe\">\n",
       "  <thead>\n",
       "    <tr style=\"text-align: right;\">\n",
       "      <th></th>\n",
       "      <th>client_id</th>\n",
       "      <th>sex</th>\n",
       "      <th>birth</th>\n",
       "    </tr>\n",
       "  </thead>\n",
       "  <tbody>\n",
       "    <tr>\n",
       "      <th>0</th>\n",
       "      <td>c_4410</td>\n",
       "      <td>f</td>\n",
       "      <td>1967</td>\n",
       "    </tr>\n",
       "    <tr>\n",
       "      <th>1</th>\n",
       "      <td>c_7839</td>\n",
       "      <td>f</td>\n",
       "      <td>1975</td>\n",
       "    </tr>\n",
       "    <tr>\n",
       "      <th>2</th>\n",
       "      <td>c_1699</td>\n",
       "      <td>f</td>\n",
       "      <td>1984</td>\n",
       "    </tr>\n",
       "    <tr>\n",
       "      <th>3</th>\n",
       "      <td>c_5961</td>\n",
       "      <td>f</td>\n",
       "      <td>1962</td>\n",
       "    </tr>\n",
       "    <tr>\n",
       "      <th>4</th>\n",
       "      <td>c_5320</td>\n",
       "      <td>m</td>\n",
       "      <td>1943</td>\n",
       "    </tr>\n",
       "  </tbody>\n",
       "</table>\n",
       "</div>"
      ],
      "text/plain": [
       "  client_id sex  birth\n",
       "0    c_4410   f   1967\n",
       "1    c_7839   f   1975\n",
       "2    c_1699   f   1984\n",
       "3    c_5961   f   1962\n",
       "4    c_5320   m   1943"
      ]
     },
     "execution_count": 48,
     "metadata": {},
     "output_type": "execute_result"
    }
   ],
   "source": [
    "# Affichage des premières lignes\n",
    "\n",
    "customers.head()"
   ]
  },
  {
   "cell_type": "code",
   "execution_count": 13,
   "id": "c762e175",
   "metadata": {},
   "outputs": [
    {
     "data": {
      "text/html": [
       "<div>\n",
       "<style scoped>\n",
       "    .dataframe tbody tr th:only-of-type {\n",
       "        vertical-align: middle;\n",
       "    }\n",
       "\n",
       "    .dataframe tbody tr th {\n",
       "        vertical-align: top;\n",
       "    }\n",
       "\n",
       "    .dataframe thead th {\n",
       "        text-align: right;\n",
       "    }\n",
       "</style>\n",
       "<table border=\"1\" class=\"dataframe\">\n",
       "  <thead>\n",
       "    <tr style=\"text-align: right;\">\n",
       "      <th></th>\n",
       "      <th>client_id</th>\n",
       "      <th>sex</th>\n",
       "      <th>birth</th>\n",
       "    </tr>\n",
       "  </thead>\n",
       "  <tbody>\n",
       "    <tr>\n",
       "      <th>count</th>\n",
       "      <td>8623</td>\n",
       "      <td>8623</td>\n",
       "      <td>8623.000000</td>\n",
       "    </tr>\n",
       "    <tr>\n",
       "      <th>unique</th>\n",
       "      <td>8623</td>\n",
       "      <td>2</td>\n",
       "      <td>NaN</td>\n",
       "    </tr>\n",
       "    <tr>\n",
       "      <th>top</th>\n",
       "      <td>c_4410</td>\n",
       "      <td>f</td>\n",
       "      <td>NaN</td>\n",
       "    </tr>\n",
       "    <tr>\n",
       "      <th>freq</th>\n",
       "      <td>1</td>\n",
       "      <td>4491</td>\n",
       "      <td>NaN</td>\n",
       "    </tr>\n",
       "    <tr>\n",
       "      <th>mean</th>\n",
       "      <td>NaN</td>\n",
       "      <td>NaN</td>\n",
       "      <td>1978.280877</td>\n",
       "    </tr>\n",
       "    <tr>\n",
       "      <th>std</th>\n",
       "      <td>NaN</td>\n",
       "      <td>NaN</td>\n",
       "      <td>16.919535</td>\n",
       "    </tr>\n",
       "    <tr>\n",
       "      <th>min</th>\n",
       "      <td>NaN</td>\n",
       "      <td>NaN</td>\n",
       "      <td>1929.000000</td>\n",
       "    </tr>\n",
       "    <tr>\n",
       "      <th>25%</th>\n",
       "      <td>NaN</td>\n",
       "      <td>NaN</td>\n",
       "      <td>1966.000000</td>\n",
       "    </tr>\n",
       "    <tr>\n",
       "      <th>50%</th>\n",
       "      <td>NaN</td>\n",
       "      <td>NaN</td>\n",
       "      <td>1979.000000</td>\n",
       "    </tr>\n",
       "    <tr>\n",
       "      <th>75%</th>\n",
       "      <td>NaN</td>\n",
       "      <td>NaN</td>\n",
       "      <td>1992.000000</td>\n",
       "    </tr>\n",
       "    <tr>\n",
       "      <th>max</th>\n",
       "      <td>NaN</td>\n",
       "      <td>NaN</td>\n",
       "      <td>2004.000000</td>\n",
       "    </tr>\n",
       "  </tbody>\n",
       "</table>\n",
       "</div>"
      ],
      "text/plain": [
       "       client_id   sex        birth\n",
       "count       8623  8623  8623.000000\n",
       "unique      8623     2          NaN\n",
       "top       c_4410     f          NaN\n",
       "freq           1  4491          NaN\n",
       "mean         NaN   NaN  1978.280877\n",
       "std          NaN   NaN    16.919535\n",
       "min          NaN   NaN  1929.000000\n",
       "25%          NaN   NaN  1966.000000\n",
       "50%          NaN   NaN  1979.000000\n",
       "75%          NaN   NaN  1992.000000\n",
       "max          NaN   NaN  2004.000000"
      ]
     },
     "execution_count": 13,
     "metadata": {},
     "output_type": "execute_result"
    }
   ],
   "source": [
    "# Stats du dataframe\n",
    "customers.describe(include = 'all')"
   ]
  },
  {
   "cell_type": "markdown",
   "id": "1df024eb",
   "metadata": {},
   "source": [
    "Ce fichier comprend 3 colonnes :\n",
    "\n",
    "    Client_id : référence de chaque client\n",
    "    Sex : le genre du client\n",
    "    Birth : l'année de naissance du client\n",
    "\n"
   ]
  },
  {
   "cell_type": "code",
   "execution_count": 7,
   "id": "a34dc864",
   "metadata": {},
   "outputs": [
    {
     "data": {
      "text/plain": [
       "client_id    0.0\n",
       "sex          0.0\n",
       "birth        0.0\n",
       "dtype: float64"
      ]
     },
     "execution_count": 7,
     "metadata": {},
     "output_type": "execute_result"
    }
   ],
   "source": [
    "#valeurs manquantes\n",
    "customers.isna().mean()"
   ]
  },
  {
   "cell_type": "code",
   "execution_count": 8,
   "id": "3f7fc887",
   "metadata": {},
   "outputs": [
    {
     "data": {
      "text/plain": [
       "0"
      ]
     },
     "execution_count": 8,
     "metadata": {},
     "output_type": "execute_result"
    }
   ],
   "source": [
    "#Doublon\n",
    "customers.duplicated().sum()"
   ]
  },
  {
   "cell_type": "code",
   "execution_count": 16,
   "id": "2872a8ed",
   "metadata": {},
   "outputs": [
    {
     "name": "stdout",
     "output_type": "stream",
     "text": [
      "Il y a 8623 clients uniques\n"
     ]
    }
   ],
   "source": [
    "print(\"Il y a\", customers.describe(include = 'all').loc[\"unique\",\"client_id\"], \"clients uniques\")"
   ]
  },
  {
   "cell_type": "code",
   "execution_count": 43,
   "id": "1a52e201",
   "metadata": {},
   "outputs": [
    {
     "name": "stdout",
     "output_type": "stream",
     "text": [
      "L'age moyen est : 44 ans\n"
     ]
    }
   ],
   "source": [
    "print(\"L'age moyen est :\", 2022- round(customers.describe(include = 'all').loc[\"mean\",\"birth\"]), \"ans\")"
   ]
  },
  {
   "cell_type": "code",
   "execution_count": 45,
   "id": "655e1894",
   "metadata": {},
   "outputs": [
    {
     "name": "stdout",
     "output_type": "stream",
     "text": [
      "La part des femmes : 0.52 %\n"
     ]
    }
   ],
   "source": [
    "print(\"La part des femmes :\", round(customers.describe(include = 'all').loc[\"freq\",\"sex\"] / \n",
    "      customers.describe(include = 'all').loc[\"count\",\"sex\"],2), \"%\")"
   ]
  },
  {
   "cell_type": "code",
   "execution_count": 47,
   "id": "9895c806",
   "metadata": {},
   "outputs": [
    {
     "data": {
      "text/html": [
       "<div>\n",
       "<style scoped>\n",
       "    .dataframe tbody tr th:only-of-type {\n",
       "        vertical-align: middle;\n",
       "    }\n",
       "\n",
       "    .dataframe tbody tr th {\n",
       "        vertical-align: top;\n",
       "    }\n",
       "\n",
       "    .dataframe thead th {\n",
       "        text-align: right;\n",
       "    }\n",
       "</style>\n",
       "<table border=\"1\" class=\"dataframe\">\n",
       "  <thead>\n",
       "    <tr style=\"text-align: right;\">\n",
       "      <th></th>\n",
       "      <th>birth</th>\n",
       "    </tr>\n",
       "    <tr>\n",
       "      <th>sex</th>\n",
       "      <th></th>\n",
       "    </tr>\n",
       "  </thead>\n",
       "  <tbody>\n",
       "    <tr>\n",
       "      <th>f</th>\n",
       "      <td>44.005121</td>\n",
       "    </tr>\n",
       "    <tr>\n",
       "      <th>m</th>\n",
       "      <td>43.408277</td>\n",
       "    </tr>\n",
       "  </tbody>\n",
       "</table>\n",
       "</div>"
      ],
      "text/plain": [
       "         birth\n",
       "sex           \n",
       "f    44.005121\n",
       "m    43.408277"
      ]
     },
     "execution_count": 47,
     "metadata": {},
     "output_type": "execute_result"
    }
   ],
   "source": [
    "#calculons l'age moyen par sexe \n",
    "\n",
    "2022 - customers.groupby(\"sex\").mean()"
   ]
  },
  {
   "cell_type": "markdown",
   "id": "9c0bb77f",
   "metadata": {},
   "source": [
    "Le fichier customers n'a pas de valeurs nulles ni de doublons.\n"
   ]
  },
  {
   "cell_type": "markdown",
   "id": "4df0f0dd",
   "metadata": {},
   "source": [
    "### 1.1.2 - products"
   ]
  },
  {
   "cell_type": "code",
   "execution_count": 26,
   "id": "4570005d",
   "metadata": {},
   "outputs": [],
   "source": [
    "# Ouverture du fichier\n",
    "\n"
   ]
  },
  {
   "cell_type": "code",
   "execution_count": 27,
   "id": "c4bf4674",
   "metadata": {},
   "outputs": [],
   "source": [
    "# Affichage des informations \n",
    "\n"
   ]
  },
  {
   "cell_type": "code",
   "execution_count": null,
   "id": "a2b7eb2f",
   "metadata": {},
   "outputs": [],
   "source": [
    "# Affichage des premières lignes\n",
    "\n"
   ]
  },
  {
   "cell_type": "code",
   "execution_count": 29,
   "id": "d2cacfe2",
   "metadata": {},
   "outputs": [],
   "source": [
    "#valeurs manquantes\n",
    "\n"
   ]
  },
  {
   "cell_type": "code",
   "execution_count": 30,
   "id": "effe60a8",
   "metadata": {},
   "outputs": [],
   "source": [
    "#Doublon\n",
    "\n"
   ]
  },
  {
   "cell_type": "code",
   "execution_count": 28,
   "id": "6bbcf49b",
   "metadata": {},
   "outputs": [],
   "source": [
    "# Stats du dataframe\n",
    "\n"
   ]
  },
  {
   "cell_type": "markdown",
   "id": "d67e5368",
   "metadata": {},
   "source": [
    "Votre conclusion ?\n",
    "\n"
   ]
  },
  {
   "cell_type": "code",
   "execution_count": null,
   "id": "afafac1a",
   "metadata": {},
   "outputs": [],
   "source": [
    "# calculer le prix moyen des produits par catégorie"
   ]
  },
  {
   "cell_type": "markdown",
   "id": "a2460427",
   "metadata": {},
   "source": [
    "### 1.1.3 - transactions\n"
   ]
  },
  {
   "cell_type": "code",
   "execution_count": 34,
   "id": "f4b99c1a",
   "metadata": {},
   "outputs": [],
   "source": [
    "# Ouverture du fichier\n"
   ]
  },
  {
   "cell_type": "code",
   "execution_count": 35,
   "id": "d7cebe83",
   "metadata": {},
   "outputs": [],
   "source": [
    "# Affichage des informations \n"
   ]
  },
  {
   "cell_type": "code",
   "execution_count": 36,
   "id": "bc5185c2",
   "metadata": {},
   "outputs": [],
   "source": [
    "# Stats du dataframe\n"
   ]
  },
  {
   "cell_type": "code",
   "execution_count": 37,
   "id": "d53d01bc",
   "metadata": {},
   "outputs": [],
   "source": [
    "#valeurs manquantes\n"
   ]
  },
  {
   "cell_type": "code",
   "execution_count": 38,
   "id": "27f1894b",
   "metadata": {},
   "outputs": [],
   "source": [
    "#Doublon\n",
    "\n"
   ]
  },
  {
   "cell_type": "markdown",
   "id": "8511bbb9",
   "metadata": {},
   "source": [
    "Votre conclusion ?\n",
    "\n",
    "Qu'est-ce qu'on remarque ? \n",
    "\n",
    "\n"
   ]
  },
  {
   "cell_type": "code",
   "execution_count": 40,
   "id": "f5205e31",
   "metadata": {},
   "outputs": [],
   "source": [
    "# retirer les lignes identifiées\n",
    "\n"
   ]
  },
  {
   "cell_type": "code",
   "execution_count": null,
   "id": "0af11ba7",
   "metadata": {},
   "outputs": [],
   "source": [
    "# Calculer le nombre d'achats par client avec groupby et calculer ensuite le nombre d'achats moyen\n",
    "\n"
   ]
  },
  {
   "cell_type": "code",
   "execution_count": null,
   "id": "2e2212dd",
   "metadata": {},
   "outputs": [],
   "source": [
    "# tracer un boxplot pour voir la distribution, voux pouvez utiliser plt.boxplot()"
   ]
  },
  {
   "cell_type": "markdown",
   "id": "f5f29f6e",
   "metadata": {},
   "source": [
    "Qu'est-ce qu'on remarque ? \n"
   ]
  },
  {
   "cell_type": "markdown",
   "id": "b7d4f71b",
   "metadata": {},
   "source": [
    "## 1.2 - Jointure des dataframes"
   ]
  },
  {
   "cell_type": "markdown",
   "id": "a612c914",
   "metadata": {},
   "source": [
    "1.2.1 - products & transactions"
   ]
  },
  {
   "cell_type": "code",
   "execution_count": null,
   "id": "bb3f74b6",
   "metadata": {},
   "outputs": [],
   "source": [
    "# Jointure entre transactions et products en prenant comme clé la colonne 'id_prod'\n",
    "# jointure externe \n",
    "# afin de conserver toutes les lignes de mon fichier transactions.\n",
    "\n",
    "df_final = pd.merge(transactions,products, on = 'id_prod', how= 'outer')"
   ]
  },
  {
   "cell_type": "code",
   "execution_count": null,
   "id": "0f58bd56",
   "metadata": {},
   "outputs": [],
   "source": [
    "#regardons les cas où le produit n'est pas vendu\n",
    "\n",
    "df_final[df_final._merge==\"right_only\"]"
   ]
  },
  {
   "cell_type": "code",
   "execution_count": null,
   "id": "98098e6f",
   "metadata": {},
   "outputs": [],
   "source": [
    "print(\"les produits qui ne sont pas vendus\",df_final[df_final._merge==\"right_only\"].id_prod.unique())"
   ]
  },
  {
   "cell_type": "code",
   "execution_count": null,
   "id": "64f1d312",
   "metadata": {},
   "outputs": [],
   "source": [
    "#on supprime les produits invendus\n",
    "\n",
    "index = df_final[df_final._merge==\"right_only\"]\n",
    "\n",
    "df_final.drop(index, inplace = True)"
   ]
  },
  {
   "cell_type": "code",
   "execution_count": null,
   "id": "5b6e7497",
   "metadata": {},
   "outputs": [],
   "source": [
    "#regardons les cas où le produit dans transaction n'est pas trouvé dans products\n",
    "df_final[df_final._merge==\"left_only\"]"
   ]
  },
  {
   "cell_type": "code",
   "execution_count": null,
   "id": "d65dfdc9",
   "metadata": {},
   "outputs": [],
   "source": [
    "df_final[df_final._merge==\"left_only\"].describe(include = \"all\")"
   ]
  },
  {
   "cell_type": "markdown",
   "id": "dc0dc4a0",
   "metadata": {},
   "source": [
    "Un produit a été vendu 221 fois, mais on ne connait pas son prix.\n",
    "Plusieurs possibilités : \n",
    "\n",
    "    - on supprime les lignes -> on sous-estimera le CA\n",
    "    \n",
    "    - on fait une imputation "
   ]
  },
  {
   "cell_type": "code",
   "execution_count": null,
   "id": "e144e193",
   "metadata": {},
   "outputs": [],
   "source": [
    "# faisons une imputation \n",
    "\n",
    "index = df_final[df_final._merge==\"left_only\"].index #on récupère l'index des lignes qu'il faut modifier \n",
    "\n",
    "df_final.loc[index,\"price\"] = 11.7\n",
    "\n",
    "df_final.loc[index,\"categ\"] = 0\n"
   ]
  },
  {
   "cell_type": "markdown",
   "id": "8fabc726",
   "metadata": {},
   "source": [
    "### 1.2.1 - ajout de customers"
   ]
  },
  {
   "cell_type": "code",
   "execution_count": null,
   "id": "c39adc42",
   "metadata": {},
   "outputs": [],
   "source": [
    "# faire la jointure \n",
    "\n"
   ]
  },
  {
   "cell_type": "code",
   "execution_count": null,
   "id": "71cedca9",
   "metadata": {},
   "outputs": [],
   "source": [
    "# Vérifier si des ventes concernent des clients absents de customers \n",
    "\n"
   ]
  },
  {
   "cell_type": "code",
   "execution_count": null,
   "id": "144e64fb",
   "metadata": {},
   "outputs": [],
   "source": [
    "# Vérifier si des clients n'ont fait aucun achat\n",
    "\n"
   ]
  },
  {
   "cell_type": "markdown",
   "id": "2d8e4810",
   "metadata": {},
   "source": [
    "# 2 Analyse globale du CA"
   ]
  },
  {
   "cell_type": "code",
   "execution_count": null,
   "id": "c2a70655",
   "metadata": {},
   "outputs": [],
   "source": [
    "df_final.head()"
   ]
  },
  {
   "cell_type": "code",
   "execution_count": 66,
   "id": "27ca3f33",
   "metadata": {},
   "outputs": [],
   "source": [
    "# calculer le CA total\n",
    "\n"
   ]
  },
  {
   "cell_type": "markdown",
   "id": "1692706d",
   "metadata": {},
   "source": [
    "## 2.1 Traitement de la date"
   ]
  },
  {
   "cell_type": "markdown",
   "id": "5436fe1a",
   "metadata": {},
   "source": [
    "On aimerait pouvoir faire des analyses du CA par an, par mois, par jour de la semaine, par catégorie de produit.\n",
    "On s'occupera des analyses des usages de clients dans le chapitre 3 "
   ]
  },
  {
   "cell_type": "markdown",
   "id": "ffae5f8f",
   "metadata": {},
   "source": [
    "On a besoin de traiter la date pour pouvoir faire ces analyses. \n",
    "On va créer des nouvelles colonnes à parti de ce champ"
   ]
  },
  {
   "cell_type": "code",
   "execution_count": null,
   "id": "9e20202d",
   "metadata": {},
   "outputs": [],
   "source": [
    "# Modification du type de ma colonne date\n",
    "df_final['date'] = pd.to_datetime(df_final['date'])"
   ]
  },
  {
   "cell_type": "code",
   "execution_count": null,
   "id": "c8551c18",
   "metadata": {},
   "outputs": [],
   "source": [
    "df_final['année'] = df_final['date'].dt.year"
   ]
  },
  {
   "cell_type": "code",
   "execution_count": null,
   "id": "7e3d761c",
   "metadata": {},
   "outputs": [],
   "source": [
    "df_final.head()"
   ]
  },
  {
   "cell_type": "markdown",
   "id": "b0323c85",
   "metadata": {},
   "source": [
    "En vous inspirant de ce qu'on vient de faire, créer :\n",
    "\n",
    "    un champ mois\n",
    "\n",
    "    un champ jour du mois\n",
    "\n",
    "    un champ jour de la semaine\n"
   ]
  },
  {
   "cell_type": "code",
   "execution_count": null,
   "id": "c482d5f3",
   "metadata": {},
   "outputs": [],
   "source": [
    "# A vous de jouer\n",
    "\n",
    "\n"
   ]
  },
  {
   "cell_type": "markdown",
   "id": "ed6f85eb",
   "metadata": {},
   "source": [
    "## 2.2 Analyse calendaire"
   ]
  },
  {
   "cell_type": "code",
   "execution_count": null,
   "id": "8e4c8467",
   "metadata": {},
   "outputs": [],
   "source": [
    "#Calcule du CA par année\n",
    "df_final.groupby(\"année\").price.sum()"
   ]
  },
  {
   "cell_type": "code",
   "execution_count": null,
   "id": "45fb58bc",
   "metadata": {},
   "outputs": [],
   "source": [
    "df_final.groupby(\"année\").price.sum().plot(kind = \"bar\", title=\"CA par année\",ylabel=\"CA\")"
   ]
  },
  {
   "cell_type": "markdown",
   "id": "8568bd6d",
   "metadata": {},
   "source": [
    "En vous inspirant de ce qu'on vient de faire :\n",
    "\n",
    "- Etudier le CA par mois. Qu'observons nous ? \n",
    "\n",
    "- Est-ce qu'il y a un effet fin de mois ? ou début de mois ?\n",
    "\n",
    "- Est-ce qu'il y a un effet WE? \n",
    "\n",
    "\n",
    "\n"
   ]
  },
  {
   "cell_type": "code",
   "execution_count": 57,
   "id": "1995688e",
   "metadata": {},
   "outputs": [],
   "source": [
    "# A vous de jouer\n",
    "\n",
    "\n",
    "\n"
   ]
  },
  {
   "cell_type": "markdown",
   "id": "802f9062",
   "metadata": {},
   "source": [
    "## 2.3 Analyse par catégorie\n",
    "\n"
   ]
  },
  {
   "cell_type": "code",
   "execution_count": 60,
   "id": "be25f068",
   "metadata": {},
   "outputs": [],
   "source": [
    "# reprendre le travail ci-dessous et le détailler par categorie\n",
    "\n",
    "\n"
   ]
  },
  {
   "cell_type": "code",
   "execution_count": null,
   "id": "e4306f96",
   "metadata": {},
   "outputs": [],
   "source": []
  },
  {
   "cell_type": "markdown",
   "id": "44bfa6b8",
   "metadata": {},
   "source": [
    "# 3 Analyse des usages des clients"
   ]
  },
  {
   "cell_type": "markdown",
   "id": "3f4b4b8b",
   "metadata": {},
   "source": [
    "## 3.1 Traitement de l'âge "
   ]
  },
  {
   "cell_type": "code",
   "execution_count": null,
   "id": "4d447621",
   "metadata": {},
   "outputs": [],
   "source": [
    "#créons  une colonne âge\n",
    "df_final['Age'] = 2022 - df_final['birth']"
   ]
  },
  {
   "cell_type": "code",
   "execution_count": null,
   "id": "115249de",
   "metadata": {},
   "outputs": [],
   "source": [
    "df_final.groupby(\"client_id\").mean().Age.hist(bins=40)\n",
    "\n",
    "plt.title(\"Répartition des clients par âge\")\n",
    "\n",
    "plt.xlabel(\"Age\")\n",
    "\n",
    "plt.ylabel(\"Nombre de clients\")"
   ]
  },
  {
   "cell_type": "markdown",
   "id": "77992732",
   "metadata": {},
   "source": [
    "Pour analyser les usages liés à l'âge, il est souvent plus pertinent de faire des tranches d'âge\n",
    "\n"
   ]
  },
  {
   "cell_type": "code",
   "execution_count": null,
   "id": "2085d6ad",
   "metadata": {},
   "outputs": [],
   "source": [
    "# On va créer 14 intervalles d'âges :\n",
    "\n",
    "labels = ['19-24','25-29','30-35','36-40','41-45','46-51','52-56','57-61','62-67','68-72','73-77','78-83','84-88','89-94']\n",
    "\n",
    "\n",
    "df_final['Age_tranche']= pd.cut(df_final['Age'], 14,labels=labels)"
   ]
  },
  {
   "cell_type": "markdown",
   "id": "8de28973",
   "metadata": {},
   "source": [
    "## 3.2 Analyse du chiffre d'affaires par client"
   ]
  },
  {
   "cell_type": "code",
   "execution_count": null,
   "id": "644b1b49",
   "metadata": {},
   "outputs": [],
   "source": [
    "# le nombre de clients uniques\n",
    "df_final.client_id.value_counts().shape"
   ]
  },
  {
   "cell_type": "code",
   "execution_count": null,
   "id": "7f9b0d4b",
   "metadata": {},
   "outputs": [],
   "source": [
    "# on regroupe mes données par client_id et on calcul le montant de leurs achats.\n",
    "df_client = df_final.groupby('client_id')[['price']].sum();\n",
    "df_client.head()"
   ]
  },
  {
   "cell_type": "markdown",
   "id": "258db4eb",
   "metadata": {},
   "source": [
    "Analyser le chiffre d'affaires par client : \n",
    "\n",
    "- est ce qu'il y a des outliers ? \n",
    "- si oui, quelle part du CA ils représentent ?\n",
    "- que peut-on supposer à leur sujet ? Comment les traiter dans notre analyse \n",
    "- étudier la distribution du CA par client en dehors de ces clients"
   ]
  },
  {
   "cell_type": "code",
   "execution_count": 68,
   "id": "8d0118b0",
   "metadata": {},
   "outputs": [],
   "source": [
    "# A vous de jouer\n",
    "\n"
   ]
  },
  {
   "cell_type": "markdown",
   "id": "34e4c559",
   "metadata": {},
   "source": [
    "## 3.3 Analyse des usages d'achat liés au sexe"
   ]
  },
  {
   "cell_type": "markdown",
   "id": "db3b9bf0",
   "metadata": {},
   "source": [
    "### 3.3.1 Calculer le CA par sexe"
   ]
  },
  {
   "cell_type": "code",
   "execution_count": 69,
   "id": "d0395d00",
   "metadata": {},
   "outputs": [],
   "source": [
    "# A vous de jouer"
   ]
  },
  {
   "cell_type": "markdown",
   "id": "1ee545de",
   "metadata": {},
   "source": [
    "### 3.3.2 Corrélation : Sexe et Catégorie"
   ]
  },
  {
   "cell_type": "markdown",
   "id": "b1cdc6ce",
   "metadata": {},
   "source": [
    "Les deux variables sont qualitatives.\n",
    "On va réaliser le test du Khi² pour vérifier si ces deux variables sont liées."
   ]
  },
  {
   "cell_type": "code",
   "execution_count": null,
   "id": "ce99bf7a",
   "metadata": {},
   "outputs": [],
   "source": [
    "# Création de ma table de contingence\n",
    "X = \"sex\"\n",
    "Y = \"categ\"\n",
    "\n",
    "cont_1 = df_final[[X,Y]].pivot_table(index=X,columns=Y,aggfunc=len,margins=True,margins_name=\"Total\")\n",
    "cont_1"
   ]
  },
  {
   "cell_type": "code",
   "execution_count": null,
   "id": "9b8110e2",
   "metadata": {},
   "outputs": [],
   "source": [
    "# Regardons la distibution si les variables étaient complétement independantes\n",
    "\n",
    "tx = cont_1.loc[:,[\"Total\"]]\n",
    "ty = cont_1.loc[[\"Total\"],:]\n",
    "n = len(df_final)\n",
    "indep = round(tx.dot(ty) / n)"
   ]
  },
  {
   "cell_type": "code",
   "execution_count": null,
   "id": "dae27389",
   "metadata": {},
   "outputs": [],
   "source": [
    "# regardons où l'écart est le plus important\n",
    "(cont_1 - indep)/indep"
   ]
  },
  {
   "cell_type": "code",
   "execution_count": null,
   "id": "94f132e3",
   "metadata": {},
   "outputs": [],
   "source": [
    "# importons le module chi2_contingency de la librairie scipy pour faire un chi2\n",
    "from scipy.stats import chi2_contingency as chi2_contingency"
   ]
  },
  {
   "cell_type": "code",
   "execution_count": null,
   "id": "7168b5fd",
   "metadata": {},
   "outputs": [],
   "source": [
    "chi2, p = chi2_contingency(cont_1)"
   ]
  },
  {
   "cell_type": "code",
   "execution_count": null,
   "id": "a3a575c6",
   "metadata": {},
   "outputs": [],
   "source": [
    "chi2"
   ]
  },
  {
   "cell_type": "markdown",
   "id": "30bc5b10",
   "metadata": {},
   "source": [
    "Avec une p-value inférieure à 0.05% on peut rejeter l'hypothèse 0 d'indépendance."
   ]
  },
  {
   "cell_type": "code",
   "execution_count": null,
   "id": "6ea37319",
   "metadata": {},
   "outputs": [],
   "source": [
    "import seaborn as sns\n",
    "\n",
    "\n",
    "c = cont_1.fillna(0) # On remplace les valeurs nulles par 0\n",
    "measure = (c-indep)**2/indep\n",
    "xi_n = measure.sum().sum()\n",
    "table = measure/xi_n\n",
    "sns.heatmap(table.iloc[:-1,:-1],annot=c.iloc[:-1,:-1])\n",
    "plt.title('Matrice de corrélation entre le sexe et la catégorie de produit')\n",
    "plt.show()"
   ]
  },
  {
   "cell_type": "markdown",
   "id": "1e8d09b4",
   "metadata": {},
   "source": [
    "On remarque une forte corrélation entre les hommes et la catégorie 1."
   ]
  },
  {
   "cell_type": "markdown",
   "id": "12ac1cc8",
   "metadata": {},
   "source": [
    "### 3.3.3 Test de corrélation : sexe et nombre d'achats"
   ]
  },
  {
   "cell_type": "code",
   "execution_count": null,
   "id": "81c6e003",
   "metadata": {},
   "outputs": [],
   "source": [
    "nb_achats = df_final.groupby([\"client_id\",\"sex\"],as_index=False)[[\"session_id\"]].count()"
   ]
  },
  {
   "cell_type": "code",
   "execution_count": null,
   "id": "f1fa8cb8",
   "metadata": {},
   "outputs": [],
   "source": [
    "nb_achats[['sex','session_id']].hist(by='sex',alpha = 0.5, bins = 50, sharex=True)"
   ]
  },
  {
   "cell_type": "code",
   "execution_count": null,
   "id": "bd3face1",
   "metadata": {},
   "outputs": [],
   "source": [
    "import statsmodels.api as sm\n",
    "from statsmodels.formula.api import ols"
   ]
  },
  {
   "cell_type": "code",
   "execution_count": null,
   "id": "25473d14",
   "metadata": {},
   "outputs": [],
   "source": [
    "lm = ols('session_id ~ sex', data = nb_achats).fit()\n",
    "import statsmodels.api; \n",
    "table = sm.stats.anova_lm(lm)"
   ]
  },
  {
   "cell_type": "code",
   "execution_count": null,
   "id": "932957b6",
   "metadata": {},
   "outputs": [],
   "source": [
    "table"
   ]
  },
  {
   "cell_type": "code",
   "execution_count": null,
   "id": "8cc10d03",
   "metadata": {},
   "outputs": [],
   "source": [
    "lm.summary()"
   ]
  },
  {
   "cell_type": "markdown",
   "id": "ba002617",
   "metadata": {},
   "source": [
    "## 3.4 Analyse des usages d'achat liés à l'âge¶"
   ]
  },
  {
   "cell_type": "markdown",
   "id": "19a450b0",
   "metadata": {},
   "source": [
    "### 3.4.1 Corrélation âge et CA"
   ]
  },
  {
   "cell_type": "markdown",
   "id": "ac28bb40",
   "metadata": {},
   "source": [
    "On peut considérer l'âge comme une variable quantitative. Le CA l'est aussi. "
   ]
  },
  {
   "cell_type": "code",
   "execution_count": null,
   "id": "b17611ad",
   "metadata": {},
   "outputs": [],
   "source": [
    "df_age_ca = df_final[['Age','price']]"
   ]
  },
  {
   "cell_type": "code",
   "execution_count": null,
   "id": "18dc8bb9",
   "metadata": {},
   "outputs": [],
   "source": [
    "df_age_ca = df_age_ca.groupby('Age').agg({'price':'sum'}).reset_index()"
   ]
  },
  {
   "cell_type": "code",
   "execution_count": null,
   "id": "4ba96179",
   "metadata": {},
   "outputs": [],
   "source": [
    "df_age_ca"
   ]
  },
  {
   "cell_type": "code",
   "execution_count": null,
   "id": "6acc2336",
   "metadata": {},
   "outputs": [],
   "source": [
    "import matplotlib.pyplot as plt\n",
    "\n",
    "plt.plot(df_age_ca[\"Age\"],df_age_ca[\"price\"],'o')\n",
    "plt.xlabel(\"Age\")\n",
    "plt.ylabel(\"ca\")\n",
    "plt.grid()\n",
    "plt.title('Répartition du CA par âge')\n",
    "plt.show()"
   ]
  },
  {
   "cell_type": "code",
   "execution_count": null,
   "id": "515f02b7",
   "metadata": {},
   "outputs": [],
   "source": [
    "#corrélation de pearson \n",
    "df_age_ca.corr()"
   ]
  },
  {
   "cell_type": "code",
   "execution_count": null,
   "id": "f4ff217d",
   "metadata": {},
   "outputs": [],
   "source": [
    "#test sperman\n",
    "from scipy import stats\n",
    "from scipy.stats import spearmanr"
   ]
  },
  {
   "cell_type": "code",
   "execution_count": null,
   "id": "369b0cf2",
   "metadata": {},
   "outputs": [],
   "source": [
    "stats.spearmanr(df_age_ca['Age'],df_age_ca['price'])"
   ]
  },
  {
   "cell_type": "code",
   "execution_count": null,
   "id": "7daa2ff8",
   "metadata": {},
   "outputs": [],
   "source": [
    "df_age_ca.corr( method = \"spearman\")"
   ]
  },
  {
   "cell_type": "markdown",
   "id": "141a5cad",
   "metadata": {},
   "source": [
    "### 3.4.2 corrélation tranche d'âge et catégorie de produit"
   ]
  },
  {
   "cell_type": "code",
   "execution_count": 80,
   "id": "f537606d",
   "metadata": {},
   "outputs": [],
   "source": [
    "#A vous de jouer "
   ]
  },
  {
   "cell_type": "markdown",
   "id": "2df931b4",
   "metadata": {},
   "source": [
    "### 3.4.3 corrélation tranche d'âge et fréquence d'achat"
   ]
  },
  {
   "cell_type": "code",
   "execution_count": null,
   "id": "1e182772",
   "metadata": {},
   "outputs": [],
   "source": []
  },
  {
   "cell_type": "markdown",
   "id": "bb9d5049",
   "metadata": {},
   "source": [
    "### 3.4.4 corrélation tranche d'âge et Panier moyen"
   ]
  },
  {
   "cell_type": "markdown",
   "id": "8512d262",
   "metadata": {},
   "source": [
    "# 4 synthèse"
   ]
  },
  {
   "cell_type": "code",
   "execution_count": null,
   "id": "1bb29524",
   "metadata": {},
   "outputs": [],
   "source": []
  }
 ],
 "metadata": {
  "kernelspec": {
   "display_name": "Python 3 (ipykernel)",
   "language": "python",
   "name": "python3"
  },
  "language_info": {
   "codemirror_mode": {
    "name": "ipython",
    "version": 3
   },
   "file_extension": ".py",
   "mimetype": "text/x-python",
   "name": "python",
   "nbconvert_exporter": "python",
   "pygments_lexer": "ipython3",
   "version": "3.9.12"
  },
  "toc": {
   "base_numbering": 1,
   "nav_menu": {},
   "number_sections": true,
   "sideBar": true,
   "skip_h1_title": true,
   "title_cell": "Table of Contents",
   "title_sidebar": "Contents",
   "toc_cell": false,
   "toc_position": {},
   "toc_section_display": true,
   "toc_window_display": false
  }
 },
 "nbformat": 4,
 "nbformat_minor": 5
}
