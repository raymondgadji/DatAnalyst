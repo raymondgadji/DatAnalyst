{
 "cells": [
  {
   "cell_type": "markdown",
   "id": "a5977efe",
   "metadata": {},
   "source": [
    "# Analyse des ventes"
   ]
  },
  {
   "cell_type": "markdown",
   "id": "5ef47295",
   "metadata": {},
   "source": [
    "Import Panda _ Import Numpy _ Import Matplotlib"
   ]
  },
  {
   "cell_type": "code",
   "execution_count": 1,
   "id": "09c2306c",
   "metadata": {},
   "outputs": [],
   "source": [
    "import pandas as pd \n",
    "import numpy as np\n",
    "import matplotlib.pyplot as plt "
   ]
  },
  {
   "cell_type": "code",
   "execution_count": null,
   "id": "4b97dbbb",
   "metadata": {},
   "outputs": [],
   "source": [
    "df_ventes = pd.read_csv('data/ventes.xlsx', sep=',')"
   ]
  }
 ],
 "metadata": {
  "kernelspec": {
   "display_name": "base",
   "language": "python",
   "name": "python3"
  },
  "language_info": {
   "codemirror_mode": {
    "name": "ipython",
    "version": 3
   },
   "file_extension": ".py",
   "mimetype": "text/x-python",
   "name": "python",
   "nbconvert_exporter": "python",
   "pygments_lexer": "ipython3",
   "version": "3.13.5"
  }
 },
 "nbformat": 4,
 "nbformat_minor": 5
}
