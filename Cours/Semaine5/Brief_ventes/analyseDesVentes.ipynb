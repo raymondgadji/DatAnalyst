{
 "cells": [
  {
   "cell_type": "markdown",
   "id": "a5977efe",
   "metadata": {},
   "source": [
    "# Analyse des ventes"
   ]
  },
  {
   "cell_type": "markdown",
   "id": "5ef47295",
   "metadata": {},
   "source": [
    "Import Panda _ Import Numpy _ Import Matplotlib"
   ]
  },
  {
   "cell_type": "code",
   "execution_count": 21,
   "id": "09c2306c",
   "metadata": {},
   "outputs": [],
   "source": [
    "import pandas as pd \n",
    "import numpy as np\n",
    "import matplotlib.pyplot as plt \n",
    "import seaborn as sns\n",
    "%matplotlib inline"
   ]
  },
  {
   "cell_type": "markdown",
   "id": "559a84a5",
   "metadata": {},
   "source": [
    "Installer un lecteur de fichier xlsx"
   ]
  },
  {
   "cell_type": "code",
   "execution_count": 2,
   "id": "09da2a52",
   "metadata": {},
   "outputs": [
    {
     "name": "stdout",
     "output_type": "stream",
     "text": [
      "Requirement already satisfied: openpyxl in c:\\programdata\\anaconda3\\lib\\site-packages (3.1.5)\n",
      "Requirement already satisfied: et-xmlfile in c:\\programdata\\anaconda3\\lib\\site-packages (from openpyxl) (1.1.0)\n"
     ]
    }
   ],
   "source": [
    "! pip install openpyxl"
   ]
  },
  {
   "cell_type": "markdown",
   "id": "0d59ae01",
   "metadata": {},
   "source": [
    "Lire le fichier xlsx"
   ]
  },
  {
   "cell_type": "code",
   "execution_count": 3,
   "id": "ea1b5cbb",
   "metadata": {},
   "outputs": [],
   "source": [
    "# Lire le fichier Excel\n",
    "df = pd.read_excel('data/ventes.xlsx')"
   ]
  },
  {
   "cell_type": "code",
   "execution_count": 4,
   "id": "a7f61a1c",
   "metadata": {},
   "outputs": [],
   "source": [
    "# Lire le fichier Excel\n",
    "df = pd.read_excel('data/produits.xlsx')"
   ]
  },
  {
   "cell_type": "code",
   "execution_count": 5,
   "id": "0e2801f7",
   "metadata": {},
   "outputs": [],
   "source": [
    "# Lire le fichier Excel\n",
    "df = pd.read_excel('data/clients.xlsx')"
   ]
  },
  {
   "cell_type": "markdown",
   "id": "95f3f01f",
   "metadata": {},
   "source": [
    "Convertir le xlsx en csv"
   ]
  },
  {
   "cell_type": "code",
   "execution_count": 6,
   "id": "a8c115ee",
   "metadata": {},
   "outputs": [],
   "source": [
    "# Convertir et Sauvegarder le fichier xlsx en CSV\n",
    "df.to_csv('data/ventes.csv', index=False)"
   ]
  },
  {
   "cell_type": "code",
   "execution_count": 7,
   "id": "8cd582ff",
   "metadata": {},
   "outputs": [],
   "source": [
    "df.to_csv('data/produits.csv', index=False)\n"
   ]
  },
  {
   "cell_type": "code",
   "execution_count": 8,
   "id": "9c90c0b2",
   "metadata": {},
   "outputs": [],
   "source": [
    "df.to_csv('data/clients.csv', index=False)\n"
   ]
  },
  {
   "cell_type": "markdown",
   "id": "e30d6d1b",
   "metadata": {},
   "source": [
    "Analyser le fichier des ventes"
   ]
  },
  {
   "cell_type": "code",
   "execution_count": 9,
   "id": "71e1ce06",
   "metadata": {},
   "outputs": [],
   "source": [
    "df_ventes = pd.read_csv('data/ventes.csv')"
   ]
  },
  {
   "cell_type": "code",
   "execution_count": 10,
   "id": "aca9a1a0",
   "metadata": {},
   "outputs": [
    {
     "name": "stdout",
     "output_type": "stream",
     "text": [
      "  client_id sex  birth\n",
      "0    z_4410   f   1967\n",
      "1      7839   f   1975\n",
      "2    c_1699   f   1984\n",
      "3    c_5961   g   1962\n",
      "4    c_5320   m   1943\n"
     ]
    }
   ],
   "source": [
    "print(df_ventes.head())"
   ]
  },
  {
   "cell_type": "code",
   "execution_count": 11,
   "id": "1cd46a29",
   "metadata": {},
   "outputs": [
    {
     "name": "stdout",
     "output_type": "stream",
     "text": [
      "<class 'pandas.core.frame.DataFrame'>\n",
      "RangeIndex: 8623 entries, 0 to 8622\n",
      "Data columns (total 3 columns):\n",
      " #   Column     Non-Null Count  Dtype \n",
      "---  ------     --------------  ----- \n",
      " 0   client_id  8623 non-null   object\n",
      " 1   sex        8623 non-null   object\n",
      " 2   birth      8623 non-null   int64 \n",
      "dtypes: int64(1), object(2)\n",
      "memory usage: 202.2+ KB\n",
      "None\n"
     ]
    }
   ],
   "source": [
    "print(df_ventes.info())"
   ]
  },
  {
   "cell_type": "code",
   "execution_count": 12,
   "id": "9dc207a3",
   "metadata": {},
   "outputs": [
    {
     "name": "stdout",
     "output_type": "stream",
     "text": [
      "8623\n"
     ]
    }
   ],
   "source": [
    "print(len(df_ventes))\n",
    "# Il y a 323961 lignes dans le fichier ventes"
   ]
  },
  {
   "cell_type": "markdown",
   "id": "ba563966",
   "metadata": {},
   "source": [
    "Convertir la colonne \"date\" en \"datetime\""
   ]
  },
  {
   "cell_type": "code",
   "execution_count": 19,
   "id": "657ffaaa",
   "metadata": {},
   "outputs": [
    {
     "name": "stdout",
     "output_type": "stream",
     "text": [
      "Index(['client_id', 'sex', 'birth'], dtype='object')\n"
     ]
    }
   ],
   "source": [
    "print(df_ventes.columns)"
   ]
  },
  {
   "cell_type": "code",
   "execution_count": 20,
   "id": "25dbbe83",
   "metadata": {},
   "outputs": [
    {
     "data": {
      "text/html": [
       "<div>\n",
       "<style scoped>\n",
       "    .dataframe tbody tr th:only-of-type {\n",
       "        vertical-align: middle;\n",
       "    }\n",
       "\n",
       "    .dataframe tbody tr th {\n",
       "        vertical-align: top;\n",
       "    }\n",
       "\n",
       "    .dataframe thead th {\n",
       "        text-align: right;\n",
       "    }\n",
       "</style>\n",
       "<table border=\"1\" class=\"dataframe\">\n",
       "  <thead>\n",
       "    <tr style=\"text-align: right;\">\n",
       "      <th></th>\n",
       "      <th>client_id</th>\n",
       "      <th>sex</th>\n",
       "      <th>birth</th>\n",
       "    </tr>\n",
       "  </thead>\n",
       "  <tbody>\n",
       "    <tr>\n",
       "      <th>0</th>\n",
       "      <td>z_4410</td>\n",
       "      <td>f</td>\n",
       "      <td>1967</td>\n",
       "    </tr>\n",
       "    <tr>\n",
       "      <th>1</th>\n",
       "      <td>7839</td>\n",
       "      <td>f</td>\n",
       "      <td>1975</td>\n",
       "    </tr>\n",
       "    <tr>\n",
       "      <th>2</th>\n",
       "      <td>c_1699</td>\n",
       "      <td>f</td>\n",
       "      <td>1984</td>\n",
       "    </tr>\n",
       "    <tr>\n",
       "      <th>3</th>\n",
       "      <td>c_5961</td>\n",
       "      <td>g</td>\n",
       "      <td>1962</td>\n",
       "    </tr>\n",
       "    <tr>\n",
       "      <th>4</th>\n",
       "      <td>c_5320</td>\n",
       "      <td>m</td>\n",
       "      <td>1943</td>\n",
       "    </tr>\n",
       "  </tbody>\n",
       "</table>\n",
       "</div>"
      ],
      "text/plain": [
       "  client_id sex  birth\n",
       "0    z_4410   f   1967\n",
       "1      7839   f   1975\n",
       "2    c_1699   f   1984\n",
       "3    c_5961   g   1962\n",
       "4    c_5320   m   1943"
      ]
     },
     "execution_count": 20,
     "metadata": {},
     "output_type": "execute_result"
    }
   ],
   "source": [
    "df_ventes.head()"
   ]
  },
  {
   "cell_type": "code",
   "execution_count": 22,
   "id": "3606711c",
   "metadata": {},
   "outputs": [
    {
     "data": {
      "text/html": [
       "<div>\n",
       "<style scoped>\n",
       "    .dataframe tbody tr th:only-of-type {\n",
       "        vertical-align: middle;\n",
       "    }\n",
       "\n",
       "    .dataframe tbody tr th {\n",
       "        vertical-align: top;\n",
       "    }\n",
       "\n",
       "    .dataframe thead th {\n",
       "        text-align: right;\n",
       "    }\n",
       "</style>\n",
       "<table border=\"1\" class=\"dataframe\">\n",
       "  <thead>\n",
       "    <tr style=\"text-align: right;\">\n",
       "      <th></th>\n",
       "      <th>client_id</th>\n",
       "      <th>sex</th>\n",
       "      <th>birth</th>\n",
       "    </tr>\n",
       "  </thead>\n",
       "  <tbody>\n",
       "    <tr>\n",
       "      <th>count</th>\n",
       "      <td>8623</td>\n",
       "      <td>8623</td>\n",
       "      <td>8623.000000</td>\n",
       "    </tr>\n",
       "    <tr>\n",
       "      <th>unique</th>\n",
       "      <td>8623</td>\n",
       "      <td>3</td>\n",
       "      <td>NaN</td>\n",
       "    </tr>\n",
       "    <tr>\n",
       "      <th>top</th>\n",
       "      <td>c_84</td>\n",
       "      <td>f</td>\n",
       "      <td>NaN</td>\n",
       "    </tr>\n",
       "    <tr>\n",
       "      <th>freq</th>\n",
       "      <td>1</td>\n",
       "      <td>4490</td>\n",
       "      <td>NaN</td>\n",
       "    </tr>\n",
       "    <tr>\n",
       "      <th>mean</th>\n",
       "      <td>NaN</td>\n",
       "      <td>NaN</td>\n",
       "      <td>1977.372376</td>\n",
       "    </tr>\n",
       "    <tr>\n",
       "      <th>std</th>\n",
       "      <td>NaN</td>\n",
       "      <td>NaN</td>\n",
       "      <td>54.363542</td>\n",
       "    </tr>\n",
       "    <tr>\n",
       "      <th>min</th>\n",
       "      <td>NaN</td>\n",
       "      <td>NaN</td>\n",
       "      <td>-1967.000000</td>\n",
       "    </tr>\n",
       "    <tr>\n",
       "      <th>25%</th>\n",
       "      <td>NaN</td>\n",
       "      <td>NaN</td>\n",
       "      <td>1966.000000</td>\n",
       "    </tr>\n",
       "    <tr>\n",
       "      <th>50%</th>\n",
       "      <td>NaN</td>\n",
       "      <td>NaN</td>\n",
       "      <td>1979.000000</td>\n",
       "    </tr>\n",
       "    <tr>\n",
       "      <th>75%</th>\n",
       "      <td>NaN</td>\n",
       "      <td>NaN</td>\n",
       "      <td>1992.000000</td>\n",
       "    </tr>\n",
       "    <tr>\n",
       "      <th>max</th>\n",
       "      <td>NaN</td>\n",
       "      <td>NaN</td>\n",
       "      <td>2004.000000</td>\n",
       "    </tr>\n",
       "  </tbody>\n",
       "</table>\n",
       "</div>"
      ],
      "text/plain": [
       "       client_id   sex        birth\n",
       "count       8623  8623  8623.000000\n",
       "unique      8623     3          NaN\n",
       "top         c_84     f          NaN\n",
       "freq           1  4490          NaN\n",
       "mean         NaN   NaN  1977.372376\n",
       "std          NaN   NaN    54.363542\n",
       "min          NaN   NaN -1967.000000\n",
       "25%          NaN   NaN  1966.000000\n",
       "50%          NaN   NaN  1979.000000\n",
       "75%          NaN   NaN  1992.000000\n",
       "max          NaN   NaN  2004.000000"
      ]
     },
     "execution_count": 22,
     "metadata": {},
     "output_type": "execute_result"
    }
   ],
   "source": [
    "df_ventes.describe(include='all')"
   ]
  }
 ],
 "metadata": {
  "kernelspec": {
   "display_name": "base",
   "language": "python",
   "name": "python3"
  },
  "language_info": {
   "codemirror_mode": {
    "name": "ipython",
    "version": 3
   },
   "file_extension": ".py",
   "mimetype": "text/x-python",
   "name": "python",
   "nbconvert_exporter": "python",
   "pygments_lexer": "ipython3",
   "version": "3.13.5"
  }
 },
 "nbformat": 4,
 "nbformat_minor": 5
}
