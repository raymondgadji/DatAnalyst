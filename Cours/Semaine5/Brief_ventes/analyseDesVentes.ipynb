{
 "cells": [
  {
   "cell_type": "markdown",
   "id": "a5977efe",
   "metadata": {},
   "source": [
    "# Analyse des ventes"
   ]
  },
  {
   "cell_type": "markdown",
   "id": "5ef47295",
   "metadata": {},
   "source": [
    "Import Panda _ Import Numpy _ Import Matplotlib"
   ]
  },
  {
   "cell_type": "code",
   "execution_count": 15,
   "id": "09c2306c",
   "metadata": {},
   "outputs": [],
   "source": [
    "import pandas as pd \n",
    "import numpy as np\n",
    "import matplotlib.pyplot as plt \n",
    "import seaborn as sns"
   ]
  },
  {
   "cell_type": "markdown",
   "id": "559a84a5",
   "metadata": {},
   "source": [
    "Installer un lecteur de fichier xlsx"
   ]
  },
  {
   "cell_type": "code",
   "execution_count": 8,
   "id": "09da2a52",
   "metadata": {},
   "outputs": [
    {
     "name": "stdout",
     "output_type": "stream",
     "text": [
      "Collecting openpyxl\n",
      "  Downloading openpyxl-3.1.5-py2.py3-none-any.whl.metadata (2.5 kB)\n",
      "Collecting et-xmlfile (from openpyxl)\n",
      "  Downloading et_xmlfile-2.0.0-py3-none-any.whl.metadata (2.7 kB)\n",
      "Downloading openpyxl-3.1.5-py2.py3-none-any.whl (250 kB)\n",
      "Downloading et_xmlfile-2.0.0-py3-none-any.whl (18 kB)\n",
      "Installing collected packages: et-xmlfile, openpyxl\n",
      "\n",
      "   -------------------- ------------------- 1/2 [openpyxl]\n",
      "   -------------------- ------------------- 1/2 [openpyxl]\n",
      "   -------------------- ------------------- 1/2 [openpyxl]\n",
      "   -------------------- ------------------- 1/2 [openpyxl]\n",
      "   -------------------- ------------------- 1/2 [openpyxl]\n",
      "   -------------------- ------------------- 1/2 [openpyxl]\n",
      "   -------------------- ------------------- 1/2 [openpyxl]\n",
      "   -------------------- ------------------- 1/2 [openpyxl]\n",
      "   -------------------- ------------------- 1/2 [openpyxl]\n",
      "   -------------------- ------------------- 1/2 [openpyxl]\n",
      "   -------------------- ------------------- 1/2 [openpyxl]\n",
      "   -------------------- ------------------- 1/2 [openpyxl]\n",
      "   -------------------- ------------------- 1/2 [openpyxl]\n",
      "   -------------------- ------------------- 1/2 [openpyxl]\n",
      "   -------------------- ------------------- 1/2 [openpyxl]\n",
      "   -------------------- ------------------- 1/2 [openpyxl]\n",
      "   -------------------- ------------------- 1/2 [openpyxl]\n",
      "   -------------------- ------------------- 1/2 [openpyxl]\n",
      "   -------------------- ------------------- 1/2 [openpyxl]\n",
      "   -------------------- ------------------- 1/2 [openpyxl]\n",
      "   ---------------------------------------- 2/2 [openpyxl]\n",
      "\n",
      "Successfully installed et-xmlfile-2.0.0 openpyxl-3.1.5\n"
     ]
    }
   ],
   "source": [
    "! pip install openpyxl"
   ]
  },
  {
   "cell_type": "markdown",
   "id": "0d59ae01",
   "metadata": {},
   "source": [
    "Lire le fichier xlsx"
   ]
  },
  {
   "cell_type": "code",
   "execution_count": 9,
   "id": "ea1b5cbb",
   "metadata": {},
   "outputs": [],
   "source": [
    "# Lire le fichier Excel\n",
    "df = pd.read_excel('data/ventes.xlsx')"
   ]
  },
  {
   "cell_type": "code",
   "execution_count": 11,
   "id": "a7f61a1c",
   "metadata": {},
   "outputs": [],
   "source": [
    "# Lire le fichier Excel\n",
    "df = pd.read_excel('data/produits.xlsx')"
   ]
  },
  {
   "cell_type": "code",
   "execution_count": 12,
   "id": "0e2801f7",
   "metadata": {},
   "outputs": [],
   "source": [
    "# Lire le fichier Excel\n",
    "df = pd.read_excel('data/clients.xlsx')"
   ]
  },
  {
   "cell_type": "markdown",
   "id": "95f3f01f",
   "metadata": {},
   "source": [
    "Convertir le xlsx en csv"
   ]
  },
  {
   "cell_type": "code",
   "execution_count": 10,
   "id": "a8c115ee",
   "metadata": {},
   "outputs": [],
   "source": [
    "# Convertir et Sauvegarder le fichier xlsx en CSV\n",
    "df.to_csv('data/ventes.csv', index=False)"
   ]
  },
  {
   "cell_type": "code",
   "execution_count": 13,
   "id": "8cd582ff",
   "metadata": {},
   "outputs": [],
   "source": [
    "df.to_csv('data/produits.csv', index=False)\n"
   ]
  },
  {
   "cell_type": "code",
   "execution_count": 14,
   "id": "9c90c0b2",
   "metadata": {},
   "outputs": [],
   "source": [
    "df.to_csv('data/clients.csv', index=False)\n"
   ]
  },
  {
   "cell_type": "markdown",
   "id": "e30d6d1b",
   "metadata": {},
   "source": [
    "Analyser le fichier des ventes"
   ]
  },
  {
   "cell_type": "code",
   "execution_count": 16,
   "id": "71e1ce06",
   "metadata": {},
   "outputs": [],
   "source": [
    "df_ventes = pd.read_csv('data/ventes.csv')"
   ]
  },
  {
   "cell_type": "code",
   "execution_count": 17,
   "id": "aca9a1a0",
   "metadata": {},
   "outputs": [
    {
     "name": "stdout",
     "output_type": "stream",
     "text": [
      "  id_prod                        date session_id client_id\n",
      "0  0_1483  2021-04-10 18:37:28.723910    s_18746    c_4450\n",
      "1   2_226  2022-02-03 01:55:53.276402   s_159142     c_277\n",
      "2   1_374  2021-09-23 15:13:46.938559    s_94290    c_4270\n",
      "3  0_2186  2021-10-17 03:27:18.783634   s_105936    c_4597\n",
      "4  0_1351  2021-07-17 20:34:25.800563    s_63642    c_1242\n"
     ]
    }
   ],
   "source": [
    "print(df_ventes.head())"
   ]
  },
  {
   "cell_type": "code",
   "execution_count": 18,
   "id": "1cd46a29",
   "metadata": {},
   "outputs": [
    {
     "name": "stdout",
     "output_type": "stream",
     "text": [
      "<class 'pandas.core.frame.DataFrame'>\n",
      "RangeIndex: 337016 entries, 0 to 337015\n",
      "Data columns (total 4 columns):\n",
      " #   Column      Non-Null Count   Dtype \n",
      "---  ------      --------------   ----- \n",
      " 0   id_prod     337016 non-null  object\n",
      " 1   date        337016 non-null  object\n",
      " 2   session_id  337016 non-null  object\n",
      " 3   client_id   337016 non-null  object\n",
      "dtypes: object(4)\n",
      "memory usage: 10.3+ MB\n",
      "None\n"
     ]
    }
   ],
   "source": [
    "print(df_ventes.info())"
   ]
  },
  {
   "cell_type": "code",
   "execution_count": 56,
   "id": "9dc207a3",
   "metadata": {},
   "outputs": [
    {
     "name": "stdout",
     "output_type": "stream",
     "text": [
      "323961\n"
     ]
    }
   ],
   "source": [
    "print(len(df_ventes))\n",
    "# Il y a 323961 lignes dans le fichier ventes"
   ]
  },
  {
   "cell_type": "markdown",
   "id": "ba563966",
   "metadata": {},
   "source": [
    "Convertir la colonne \"date\" en \"datetime\""
   ]
  },
  {
   "cell_type": "code",
   "execution_count": null,
   "id": "4db92766",
   "metadata": {},
   "outputs": [
    {
     "name": "stdout",
     "output_type": "stream",
     "text": [
      "test_2021-03-01 02:30:02.237420\n"
     ]
    }
   ],
   "source": [
    "# df_ventes['date'] = pd.to_datetime(df_ventes['date']) il y a une erreur dans la conversion de la colonne date\n",
    "# Afficher la ligne problématique (position 1431)\n",
    "print(df_ventes.iloc[1431]['date'])"
   ]
  },
  {
   "cell_type": "code",
   "execution_count": 21,
   "id": "d5052398",
   "metadata": {},
   "outputs": [],
   "source": [
    "df_ventes['date'] = df_ventes['date'].str.replace('test_', '')\n"
   ]
  },
  {
   "cell_type": "code",
   "execution_count": 22,
   "id": "02b8a1f7",
   "metadata": {},
   "outputs": [],
   "source": [
    "df_ventes['date'] = pd.to_datetime(df_ventes['date'], format='%Y-%m-%d %H:%M:%S.%f')"
   ]
  },
  {
   "cell_type": "code",
   "execution_count": 23,
   "id": "0f1a89f0",
   "metadata": {},
   "outputs": [
    {
     "name": "stdout",
     "output_type": "stream",
     "text": [
      "0        2021-04-10 18:37:28.723910\n",
      "1        2022-02-03 01:55:53.276402\n",
      "2        2021-09-23 15:13:46.938559\n",
      "3        2021-10-17 03:27:18.783634\n",
      "4        2021-07-17 20:34:25.800563\n",
      "                    ...            \n",
      "337011   2021-05-28 12:35:46.214839\n",
      "337012   2021-06-19 00:19:23.917703\n",
      "337013   2021-03-16 17:31:59.442007\n",
      "337014   2021-10-30 16:50:15.997750\n",
      "337015   2021-06-26 14:38:19.732946\n",
      "Name: date, Length: 337016, dtype: datetime64[ns]\n"
     ]
    }
   ],
   "source": [
    "print(df_ventes['date'])"
   ]
  },
  {
   "cell_type": "code",
   "execution_count": 25,
   "id": "139cc550",
   "metadata": {},
   "outputs": [
    {
     "name": "stdout",
     "output_type": "stream",
     "text": [
      "2021-03-01 02:30:02.237420\n"
     ]
    }
   ],
   "source": [
    "print(df_ventes.iloc[1431]['date'])"
   ]
  },
  {
   "cell_type": "code",
   "execution_count": 24,
   "id": "209c0cda",
   "metadata": {},
   "outputs": [
    {
     "name": "stdout",
     "output_type": "stream",
     "text": [
      "<class 'pandas.core.frame.DataFrame'>\n",
      "RangeIndex: 337016 entries, 0 to 337015\n",
      "Data columns (total 4 columns):\n",
      " #   Column      Non-Null Count   Dtype         \n",
      "---  ------      --------------   -----         \n",
      " 0   id_prod     337016 non-null  object        \n",
      " 1   date        337016 non-null  datetime64[ns]\n",
      " 2   session_id  337016 non-null  object        \n",
      " 3   client_id   337016 non-null  object        \n",
      "dtypes: datetime64[ns](1), object(3)\n",
      "memory usage: 10.3+ MB\n",
      "None\n"
     ]
    }
   ],
   "source": [
    "print(df_ventes.info())"
   ]
  },
  {
   "cell_type": "markdown",
   "id": "f220a3c0",
   "metadata": {},
   "source": [
    "Vérifier les autres colonnes id_prod, session_id, client_id"
   ]
  },
  {
   "cell_type": "code",
   "execution_count": 26,
   "id": "4aa05063",
   "metadata": {},
   "outputs": [
    {
     "name": "stdout",
     "output_type": "stream",
     "text": [
      "0    0_1483\n",
      "1     2_226\n",
      "2     1_374\n",
      "3    0_2186\n",
      "4    0_1351\n",
      "Name: id_prod, dtype: object\n"
     ]
    }
   ],
   "source": [
    "print(df_ventes['id_prod'].head())"
   ]
  },
  {
   "cell_type": "markdown",
   "id": "4d00a8fa",
   "metadata": {},
   "source": [
    "Vérifier les valeurs unique dans id_prod"
   ]
  },
  {
   "cell_type": "code",
   "execution_count": 27,
   "id": "38ddeedd",
   "metadata": {},
   "outputs": [
    {
     "name": "stdout",
     "output_type": "stream",
     "text": [
      "3266\n"
     ]
    }
   ],
   "source": [
    "print(df_ventes['id_prod'].nunique())  # Nombre d'identifiants uniques"
   ]
  },
  {
   "cell_type": "code",
   "execution_count": 28,
   "id": "a1801322",
   "metadata": {},
   "outputs": [
    {
     "name": "stdout",
     "output_type": "stream",
     "text": [
      "id_prod\n",
      "1_369    1081\n",
      "1_417    1062\n",
      "1_498    1036\n",
      "1_414    1027\n",
      "1_425    1013\n",
      "Name: count, dtype: int64\n"
     ]
    }
   ],
   "source": [
    "print(df_ventes['id_prod'].value_counts().head())  # Fréquence des plus communs"
   ]
  },
  {
   "cell_type": "markdown",
   "id": "a27bf64a",
   "metadata": {},
   "source": [
    "isoler le numéro après l'underscore"
   ]
  },
  {
   "cell_type": "code",
   "execution_count": 29,
   "id": "76f1c7f0",
   "metadata": {},
   "outputs": [],
   "source": [
    "df_ventes['id_prod_num'] = df_ventes['id_prod'].str.split('_').str[1].astype(int)"
   ]
  },
  {
   "cell_type": "code",
   "execution_count": 30,
   "id": "35616fe1",
   "metadata": {},
   "outputs": [
    {
     "name": "stdout",
     "output_type": "stream",
     "text": [
      "0    1483\n",
      "1     226\n",
      "2     374\n",
      "3    2186\n",
      "4    1351\n",
      "Name: id_prod_num, dtype: int64\n"
     ]
    }
   ],
   "source": [
    "print(df_ventes['id_prod_num'].head())"
   ]
  },
  {
   "cell_type": "code",
   "execution_count": 31,
   "id": "2d570a62",
   "metadata": {},
   "outputs": [],
   "source": [
    "df_ventes['id_prod_num'] = df_ventes['id_prod_num'].astype('int32')"
   ]
  },
  {
   "cell_type": "code",
   "execution_count": 32,
   "id": "3d25177f",
   "metadata": {},
   "outputs": [
    {
     "name": "stdout",
     "output_type": "stream",
     "text": [
      "<class 'pandas.core.frame.DataFrame'>\n",
      "RangeIndex: 337016 entries, 0 to 337015\n",
      "Data columns (total 5 columns):\n",
      " #   Column       Non-Null Count   Dtype         \n",
      "---  ------       --------------   -----         \n",
      " 0   id_prod      337016 non-null  object        \n",
      " 1   date         337016 non-null  datetime64[ns]\n",
      " 2   session_id   337016 non-null  object        \n",
      " 3   client_id    337016 non-null  object        \n",
      " 4   id_prod_num  337016 non-null  int32         \n",
      "dtypes: datetime64[ns](1), int32(1), object(3)\n",
      "memory usage: 11.6+ MB\n",
      "None\n"
     ]
    }
   ],
   "source": [
    "print(df_ventes.info())"
   ]
  },
  {
   "cell_type": "markdown",
   "id": "b94cbd78",
   "metadata": {},
   "source": [
    "Vérification des autres colonnes"
   ]
  },
  {
   "cell_type": "code",
   "execution_count": 33,
   "id": "2a59d72c",
   "metadata": {},
   "outputs": [
    {
     "name": "stdout",
     "output_type": "stream",
     "text": [
      "0     s_18746\n",
      "1    s_159142\n",
      "2     s_94290\n",
      "3    s_105936\n",
      "4     s_63642\n",
      "Name: session_id, dtype: object\n"
     ]
    }
   ],
   "source": [
    "print(df_ventes['session_id'].head())"
   ]
  },
  {
   "cell_type": "code",
   "execution_count": null,
   "id": "21bc6767",
   "metadata": {},
   "outputs": [],
   "source": [
    "# on constate que la session_id: format s_ + numéro unique"
   ]
  },
  {
   "cell_type": "code",
   "execution_count": 34,
   "id": "093022c1",
   "metadata": {},
   "outputs": [
    {
     "name": "stdout",
     "output_type": "stream",
     "text": [
      "169195\n"
     ]
    }
   ],
   "source": [
    "print(df_ventes['session_id'].nunique())"
   ]
  },
  {
   "cell_type": "code",
   "execution_count": null,
   "id": "62d1e64a",
   "metadata": {},
   "outputs": [],
   "source": [
    "# Il y a 169 195 identifiants de session uniques sur 337 016 lignes, ce qui signifie \n",
    "# qu'il y a des sessions avec plusieurs entrées (ventes multiples par session, par #exemple).\n"
   ]
  },
  {
   "cell_type": "code",
   "execution_count": 36,
   "id": "744b9c55",
   "metadata": {},
   "outputs": [
    {
     "name": "stdout",
     "output_type": "stream",
     "text": [
      "session_id\n",
      "s_0         200\n",
      "s_118668     14\n",
      "s_21005      13\n",
      "s_96857      13\n",
      "s_93892      12\n",
      "s_168560     12\n",
      "s_137262     11\n",
      "s_86536      11\n",
      "s_129114     11\n",
      "s_163784     11\n",
      "Name: count, dtype: int64\n"
     ]
    }
   ],
   "source": [
    "print(df_ventes['session_id'].value_counts().head(10))  \n",
    "# Top 10 des sessions les plus fréquentes"
   ]
  },
  {
   "cell_type": "code",
   "execution_count": 37,
   "id": "082b5bba",
   "metadata": {},
   "outputs": [
    {
     "name": "stdout",
     "output_type": "stream",
     "text": [
      "       id_prod                       date session_id client_id  id_prod_num\n",
      "0       0_1483 2021-04-10 18:37:28.723910    s_18746    c_4450         1483\n",
      "140432   1_685 2021-04-10 18:25:09.319011    s_18746    c_4450          685\n",
      "164513  0_1395 2021-04-10 18:32:27.342375    s_18746    c_4450         1395\n"
     ]
    }
   ],
   "source": [
    "print(df_ventes[df_ventes['session_id'] == 's_18746'])"
   ]
  },
  {
   "cell_type": "markdown",
   "id": "ab5f44f8",
   "metadata": {},
   "source": [
    "synthèse de la colonne \"session_id\""
   ]
  },
  {
   "cell_type": "code",
   "execution_count": 39,
   "id": "ae0991bf",
   "metadata": {},
   "outputs": [
    {
     "name": "stdout",
     "output_type": "stream",
     "text": [
      "<class 'pandas.core.series.Series'>\n",
      "RangeIndex: 337016 entries, 0 to 337015\n",
      "Series name: session_id\n",
      "Non-Null Count   Dtype \n",
      "--------------   ----- \n",
      "337016 non-null  object\n",
      "dtypes: object(1)\n",
      "memory usage: 2.6+ MB\n",
      "None\n"
     ]
    }
   ],
   "source": [
    "print(df_ventes.session_id.info())"
   ]
  },
  {
   "cell_type": "markdown",
   "id": "446ae7f0",
   "metadata": {},
   "source": [
    "Analyser les autres colonnes"
   ]
  },
  {
   "cell_type": "code",
   "execution_count": 38,
   "id": "f04b3573",
   "metadata": {},
   "outputs": [
    {
     "name": "stdout",
     "output_type": "stream",
     "text": [
      "0    c_4450\n",
      "1     c_277\n",
      "2    c_4270\n",
      "3    c_4597\n",
      "4    c_1242\n",
      "Name: client_id, dtype: object\n"
     ]
    }
   ],
   "source": [
    "print(df_ventes['client_id'].head())"
   ]
  },
  {
   "cell_type": "code",
   "execution_count": 40,
   "id": "552ef4b6",
   "metadata": {},
   "outputs": [
    {
     "name": "stdout",
     "output_type": "stream",
     "text": [
      "8602\n"
     ]
    }
   ],
   "source": [
    "print(df_ventes['client_id'].nunique())"
   ]
  },
  {
   "cell_type": "code",
   "execution_count": 41,
   "id": "c62c3cae",
   "metadata": {},
   "outputs": [
    {
     "name": "stdout",
     "output_type": "stream",
     "text": [
      "client_id\n",
      "c_1609    12855\n",
      "c_6714     4473\n",
      "c_3454     3275\n",
      "c_4958     2562\n",
      "c_2140      195\n",
      "c_7959      195\n",
      "c_8026      193\n",
      "c_2595      193\n",
      "c_3725      190\n",
      "c_7421      189\n",
      "Name: count, dtype: int64\n"
     ]
    }
   ],
   "source": [
    "print(df_ventes['client_id'].value_counts().head(10))  \n",
    "# Top 10 des clients les plus fréquents"
   ]
  },
  {
   "cell_type": "code",
   "execution_count": 42,
   "id": "0f5a0c80",
   "metadata": {},
   "outputs": [
    {
     "name": "stdout",
     "output_type": "stream",
     "text": [
      "<class 'pandas.core.series.Series'>\n",
      "RangeIndex: 337016 entries, 0 to 337015\n",
      "Series name: client_id\n",
      "Non-Null Count   Dtype \n",
      "--------------   ----- \n",
      "337016 non-null  object\n",
      "dtypes: object(1)\n",
      "memory usage: 2.6+ MB\n",
      "None\n"
     ]
    }
   ],
   "source": [
    "print(df_ventes.client_id.info())"
   ]
  },
  {
   "cell_type": "markdown",
   "id": "bf182066",
   "metadata": {},
   "source": [
    "Conclusion jusqu'ici"
   ]
  },
  {
   "cell_type": "code",
   "execution_count": 57,
   "id": "8aa7e939",
   "metadata": {},
   "outputs": [
    {
     "name": "stdout",
     "output_type": "stream",
     "text": [
      "323961\n"
     ]
    }
   ],
   "source": [
    "print(len(df_ventes))\n",
    "# Il y a 323961 lignes dans le fichier ventes"
   ]
  },
  {
   "cell_type": "code",
   "execution_count": 43,
   "id": "a6971ecb",
   "metadata": {},
   "outputs": [
    {
     "data": {
      "text/html": [
       "<div>\n",
       "<style scoped>\n",
       "    .dataframe tbody tr th:only-of-type {\n",
       "        vertical-align: middle;\n",
       "    }\n",
       "\n",
       "    .dataframe tbody tr th {\n",
       "        vertical-align: top;\n",
       "    }\n",
       "\n",
       "    .dataframe thead th {\n",
       "        text-align: right;\n",
       "    }\n",
       "</style>\n",
       "<table border=\"1\" class=\"dataframe\">\n",
       "  <thead>\n",
       "    <tr style=\"text-align: right;\">\n",
       "      <th></th>\n",
       "      <th>id_prod</th>\n",
       "      <th>date</th>\n",
       "      <th>session_id</th>\n",
       "      <th>client_id</th>\n",
       "      <th>id_prod_num</th>\n",
       "    </tr>\n",
       "  </thead>\n",
       "  <tbody>\n",
       "    <tr>\n",
       "      <th>count</th>\n",
       "      <td>337016</td>\n",
       "      <td>337016</td>\n",
       "      <td>337016</td>\n",
       "      <td>337016</td>\n",
       "      <td>337016.000000</td>\n",
       "    </tr>\n",
       "    <tr>\n",
       "      <th>unique</th>\n",
       "      <td>3266</td>\n",
       "      <td>NaN</td>\n",
       "      <td>169195</td>\n",
       "      <td>8602</td>\n",
       "      <td>NaN</td>\n",
       "    </tr>\n",
       "    <tr>\n",
       "      <th>top</th>\n",
       "      <td>1_369</td>\n",
       "      <td>NaN</td>\n",
       "      <td>s_0</td>\n",
       "      <td>c_1609</td>\n",
       "      <td>NaN</td>\n",
       "    </tr>\n",
       "    <tr>\n",
       "      <th>freq</th>\n",
       "      <td>1081</td>\n",
       "      <td>NaN</td>\n",
       "      <td>200</td>\n",
       "      <td>12855</td>\n",
       "      <td>NaN</td>\n",
       "    </tr>\n",
       "    <tr>\n",
       "      <th>mean</th>\n",
       "      <td>NaN</td>\n",
       "      <td>2021-09-02 23:36:14.710825216</td>\n",
       "      <td>NaN</td>\n",
       "      <td>NaN</td>\n",
       "      <td>1021.670102</td>\n",
       "    </tr>\n",
       "    <tr>\n",
       "      <th>min</th>\n",
       "      <td>NaN</td>\n",
       "      <td>2021-03-01 00:01:07.843138</td>\n",
       "      <td>NaN</td>\n",
       "      <td>NaN</td>\n",
       "      <td>0.000000</td>\n",
       "    </tr>\n",
       "    <tr>\n",
       "      <th>25%</th>\n",
       "      <td>NaN</td>\n",
       "      <td>2021-05-30 17:03:33.746926592</td>\n",
       "      <td>NaN</td>\n",
       "      <td>NaN</td>\n",
       "      <td>414.000000</td>\n",
       "    </tr>\n",
       "    <tr>\n",
       "      <th>50%</th>\n",
       "      <td>NaN</td>\n",
       "      <td>2021-09-07 02:42:00.239463680</td>\n",
       "      <td>NaN</td>\n",
       "      <td>NaN</td>\n",
       "      <td>1143.000000</td>\n",
       "    </tr>\n",
       "    <tr>\n",
       "      <th>75%</th>\n",
       "      <td>NaN</td>\n",
       "      <td>2021-12-08 03:28:22.504391168</td>\n",
       "      <td>NaN</td>\n",
       "      <td>NaN</td>\n",
       "      <td>1474.000000</td>\n",
       "    </tr>\n",
       "    <tr>\n",
       "      <th>max</th>\n",
       "      <td>NaN</td>\n",
       "      <td>2022-02-28 23:59:58.040472</td>\n",
       "      <td>NaN</td>\n",
       "      <td>NaN</td>\n",
       "      <td>2307.000000</td>\n",
       "    </tr>\n",
       "    <tr>\n",
       "      <th>std</th>\n",
       "      <td>NaN</td>\n",
       "      <td>NaN</td>\n",
       "      <td>NaN</td>\n",
       "      <td>NaN</td>\n",
       "      <td>612.277388</td>\n",
       "    </tr>\n",
       "  </tbody>\n",
       "</table>\n",
       "</div>"
      ],
      "text/plain": [
       "       id_prod                           date session_id client_id  \\\n",
       "count   337016                         337016     337016    337016   \n",
       "unique    3266                            NaN     169195      8602   \n",
       "top      1_369                            NaN        s_0    c_1609   \n",
       "freq      1081                            NaN        200     12855   \n",
       "mean       NaN  2021-09-02 23:36:14.710825216        NaN       NaN   \n",
       "min        NaN     2021-03-01 00:01:07.843138        NaN       NaN   \n",
       "25%        NaN  2021-05-30 17:03:33.746926592        NaN       NaN   \n",
       "50%        NaN  2021-09-07 02:42:00.239463680        NaN       NaN   \n",
       "75%        NaN  2021-12-08 03:28:22.504391168        NaN       NaN   \n",
       "max        NaN     2022-02-28 23:59:58.040472        NaN       NaN   \n",
       "std        NaN                            NaN        NaN       NaN   \n",
       "\n",
       "          id_prod_num  \n",
       "count   337016.000000  \n",
       "unique            NaN  \n",
       "top               NaN  \n",
       "freq              NaN  \n",
       "mean      1021.670102  \n",
       "min          0.000000  \n",
       "25%        414.000000  \n",
       "50%       1143.000000  \n",
       "75%       1474.000000  \n",
       "max       2307.000000  \n",
       "std        612.277388  "
      ]
     },
     "execution_count": 43,
     "metadata": {},
     "output_type": "execute_result"
    }
   ],
   "source": [
    "df_ventes.describe(include='all')"
   ]
  },
  {
   "cell_type": "markdown",
   "id": "00fa3cdb",
   "metadata": {},
   "source": [
    "Investigate pour s_0 et c_1609"
   ]
  },
  {
   "cell_type": "code",
   "execution_count": 44,
   "id": "8fec280a",
   "metadata": {},
   "outputs": [
    {
     "name": "stdout",
     "output_type": "stream",
     "text": [
      "      id_prod                       date session_id client_id  id_prod_num\n",
      "1431      T_0 2021-03-01 02:30:02.237420        s_0      ct_1            0\n",
      "2365      T_0 2021-03-01 02:30:02.237446        s_0      ct_1            0\n",
      "2895      T_0 2021-03-01 02:30:02.237414        s_0      ct_1            0\n",
      "5955      T_0 2021-03-01 02:30:02.237441        s_0      ct_0            0\n",
      "7283      T_0 2021-03-01 02:30:02.237434        s_0      ct_1            0\n",
      "13745     T_0 2021-03-01 02:30:02.237443        s_0      ct_0            0\n",
      "20470     T_0 2021-03-01 02:30:02.237442        s_0      ct_0            0\n",
      "22347     T_0 2021-03-01 02:30:02.237412        s_0      ct_1            0\n",
      "26359     T_0 2021-03-01 02:30:02.237439        s_0      ct_1            0\n",
      "26407     T_0 2021-03-01 02:30:02.237426        s_0      ct_0            0\n"
     ]
    }
   ],
   "source": [
    "print(df_ventes[df_ventes['session_id'] == 's_0'].head(10))  \n",
    "# Vérifier les lignes pour s_0"
   ]
  },
  {
   "cell_type": "code",
   "execution_count": 47,
   "id": "971fdc7c",
   "metadata": {},
   "outputs": [
    {
     "name": "stdout",
     "output_type": "stream",
     "text": [
      "    id_prod                       date session_id client_id  id_prod_num\n",
      "62   0_1420 2021-11-23 15:03:23.901688   s_123928    c_1609         1420\n",
      "64    1_281 2021-12-01 01:18:04.655872   s_127578    c_1609          281\n",
      "83   0_1579 2021-05-03 19:46:14.181245    s_29458    c_1609         1579\n",
      "99    1_414 2022-02-23 05:56:09.841213   s_169492    c_1609          414\n",
      "101  0_1163 2021-06-24 03:10:06.949281    s_52929    c_1609         1163\n",
      "145  0_1208 2022-01-01 20:33:02.227704   s_143535    c_1609         1208\n",
      "174    1_29 2021-06-08 16:34:34.024441    s_45871    c_1609           29\n",
      "272  0_1559 2022-01-30 14:42:39.759354   s_157449    c_1609         1559\n",
      "290   1_311 2021-05-23 14:04:54.397922    s_38462    c_1609          311\n",
      "291  0_1479 2021-07-12 22:18:17.451341    s_61450    c_1609         1479\n"
     ]
    }
   ],
   "source": [
    "print(df_ventes[df_ventes['client_id'] == 'c_1609'].head(10))  \n",
    "# Vérifier les lignes pour c_1609"
   ]
  },
  {
   "cell_type": "markdown",
   "id": "4411fa3a",
   "metadata": {},
   "source": [
    "Filtrage"
   ]
  },
  {
   "cell_type": "code",
   "execution_count": 59,
   "id": "6e23a4aa",
   "metadata": {},
   "outputs": [],
   "source": [
    "df_ventes = df_ventes[df_ventes['session_id'] != 's_0']"
   ]
  },
  {
   "cell_type": "code",
   "execution_count": 60,
   "id": "d7a71399",
   "metadata": {},
   "outputs": [],
   "source": [
    "df_ventes = df_ventes[df_ventes['client_id'] != 'c_1609']"
   ]
  },
  {
   "cell_type": "code",
   "execution_count": 46,
   "id": "d427ee3a",
   "metadata": {},
   "outputs": [
    {
     "data": {
      "text/plain": [
       "count       336816\n",
       "unique      169194\n",
       "top       s_118668\n",
       "freq            14\n",
       "Name: session_id, dtype: object"
      ]
     },
     "execution_count": 46,
     "metadata": {},
     "output_type": "execute_result"
    }
   ],
   "source": [
    "df_ventes.session_id.describe(include='all')"
   ]
  },
  {
   "cell_type": "code",
   "execution_count": 49,
   "id": "f56a028c",
   "metadata": {},
   "outputs": [
    {
     "data": {
      "text/plain": [
       "count     323961\n",
       "unique      8599\n",
       "top       c_6714\n",
       "freq        4473\n",
       "Name: client_id, dtype: object"
      ]
     },
     "execution_count": 49,
     "metadata": {},
     "output_type": "execute_result"
    }
   ],
   "source": [
    "df_ventes.client_id.describe(include='all')"
   ]
  },
  {
   "cell_type": "markdown",
   "id": "dcd22b8e",
   "metadata": {},
   "source": [
    "Conclusion à ce stade"
   ]
  },
  {
   "cell_type": "code",
   "execution_count": 50,
   "id": "ec0807bc",
   "metadata": {},
   "outputs": [
    {
     "data": {
      "text/html": [
       "<div>\n",
       "<style scoped>\n",
       "    .dataframe tbody tr th:only-of-type {\n",
       "        vertical-align: middle;\n",
       "    }\n",
       "\n",
       "    .dataframe tbody tr th {\n",
       "        vertical-align: top;\n",
       "    }\n",
       "\n",
       "    .dataframe thead th {\n",
       "        text-align: right;\n",
       "    }\n",
       "</style>\n",
       "<table border=\"1\" class=\"dataframe\">\n",
       "  <thead>\n",
       "    <tr style=\"text-align: right;\">\n",
       "      <th></th>\n",
       "      <th>id_prod</th>\n",
       "      <th>date</th>\n",
       "      <th>session_id</th>\n",
       "      <th>client_id</th>\n",
       "      <th>id_prod_num</th>\n",
       "    </tr>\n",
       "  </thead>\n",
       "  <tbody>\n",
       "    <tr>\n",
       "      <th>count</th>\n",
       "      <td>323961</td>\n",
       "      <td>323961</td>\n",
       "      <td>323961</td>\n",
       "      <td>323961</td>\n",
       "      <td>323961.000000</td>\n",
       "    </tr>\n",
       "    <tr>\n",
       "      <th>unique</th>\n",
       "      <td>3263</td>\n",
       "      <td>NaN</td>\n",
       "      <td>163693</td>\n",
       "      <td>8599</td>\n",
       "      <td>NaN</td>\n",
       "    </tr>\n",
       "    <tr>\n",
       "      <th>top</th>\n",
       "      <td>1_369</td>\n",
       "      <td>NaN</td>\n",
       "      <td>s_118668</td>\n",
       "      <td>c_6714</td>\n",
       "      <td>NaN</td>\n",
       "    </tr>\n",
       "    <tr>\n",
       "      <th>freq</th>\n",
       "      <td>1054</td>\n",
       "      <td>NaN</td>\n",
       "      <td>14</td>\n",
       "      <td>4473</td>\n",
       "      <td>NaN</td>\n",
       "    </tr>\n",
       "    <tr>\n",
       "      <th>mean</th>\n",
       "      <td>NaN</td>\n",
       "      <td>2021-09-03 02:24:03.384141568</td>\n",
       "      <td>NaN</td>\n",
       "      <td>NaN</td>\n",
       "      <td>1014.610478</td>\n",
       "    </tr>\n",
       "    <tr>\n",
       "      <th>min</th>\n",
       "      <td>NaN</td>\n",
       "      <td>2021-03-01 00:01:07.843138</td>\n",
       "      <td>NaN</td>\n",
       "      <td>NaN</td>\n",
       "      <td>0.000000</td>\n",
       "    </tr>\n",
       "    <tr>\n",
       "      <th>25%</th>\n",
       "      <td>NaN</td>\n",
       "      <td>2021-05-30 22:31:01.628747008</td>\n",
       "      <td>NaN</td>\n",
       "      <td>NaN</td>\n",
       "      <td>412.000000</td>\n",
       "    </tr>\n",
       "    <tr>\n",
       "      <th>50%</th>\n",
       "      <td>NaN</td>\n",
       "      <td>2021-09-06 23:48:11.058424064</td>\n",
       "      <td>NaN</td>\n",
       "      <td>NaN</td>\n",
       "      <td>1133.000000</td>\n",
       "    </tr>\n",
       "    <tr>\n",
       "      <th>75%</th>\n",
       "      <td>NaN</td>\n",
       "      <td>2021-12-08 08:11:52.855463936</td>\n",
       "      <td>NaN</td>\n",
       "      <td>NaN</td>\n",
       "      <td>1472.000000</td>\n",
       "    </tr>\n",
       "    <tr>\n",
       "      <th>max</th>\n",
       "      <td>NaN</td>\n",
       "      <td>2022-02-28 23:59:58.040472</td>\n",
       "      <td>NaN</td>\n",
       "      <td>NaN</td>\n",
       "      <td>2307.000000</td>\n",
       "    </tr>\n",
       "    <tr>\n",
       "      <th>std</th>\n",
       "      <td>NaN</td>\n",
       "      <td>NaN</td>\n",
       "      <td>NaN</td>\n",
       "      <td>NaN</td>\n",
       "      <td>613.044190</td>\n",
       "    </tr>\n",
       "  </tbody>\n",
       "</table>\n",
       "</div>"
      ],
      "text/plain": [
       "       id_prod                           date session_id client_id  \\\n",
       "count   323961                         323961     323961    323961   \n",
       "unique    3263                            NaN     163693      8599   \n",
       "top      1_369                            NaN   s_118668    c_6714   \n",
       "freq      1054                            NaN         14      4473   \n",
       "mean       NaN  2021-09-03 02:24:03.384141568        NaN       NaN   \n",
       "min        NaN     2021-03-01 00:01:07.843138        NaN       NaN   \n",
       "25%        NaN  2021-05-30 22:31:01.628747008        NaN       NaN   \n",
       "50%        NaN  2021-09-06 23:48:11.058424064        NaN       NaN   \n",
       "75%        NaN  2021-12-08 08:11:52.855463936        NaN       NaN   \n",
       "max        NaN     2022-02-28 23:59:58.040472        NaN       NaN   \n",
       "std        NaN                            NaN        NaN       NaN   \n",
       "\n",
       "          id_prod_num  \n",
       "count   323961.000000  \n",
       "unique            NaN  \n",
       "top               NaN  \n",
       "freq              NaN  \n",
       "mean      1014.610478  \n",
       "min          0.000000  \n",
       "25%        412.000000  \n",
       "50%       1133.000000  \n",
       "75%       1472.000000  \n",
       "max       2307.000000  \n",
       "std        613.044190  "
      ]
     },
     "execution_count": 50,
     "metadata": {},
     "output_type": "execute_result"
    }
   ],
   "source": [
    "df_ventes.describe(include='all')"
   ]
  },
  {
   "cell_type": "code",
   "execution_count": 61,
   "id": "cf9614e9",
   "metadata": {},
   "outputs": [
    {
     "name": "stdout",
     "output_type": "stream",
     "text": [
      "323961\n"
     ]
    }
   ],
   "source": [
    "print(len(df_ventes))"
   ]
  },
  {
   "cell_type": "markdown",
   "id": "d9381ea4",
   "metadata": {},
   "source": [
    "Investigate pour s_118668 et c_6714"
   ]
  },
  {
   "cell_type": "code",
   "execution_count": 51,
   "id": "4bcb5b84",
   "metadata": {},
   "outputs": [
    {
     "name": "stdout",
     "output_type": "stream",
     "text": [
      "       id_prod                       date session_id client_id  id_prod_num\n",
      "32767   0_1108 2021-11-12 20:20:33.659396   s_118668    c_5995         1108\n",
      "37741   0_1334 2021-11-12 20:08:40.783542   s_118668    c_5995         1334\n",
      "56278   0_1400 2021-11-12 21:24:36.491177   s_118668    c_5995         1400\n",
      "107722   2_209 2021-11-12 20:00:00.956739   s_118668    c_5995          209\n",
      "111473    1_81 2021-11-12 20:24:02.266858   s_118668    c_5995           81\n",
      "120480  0_1430 2021-11-12 20:36:39.252082   s_118668    c_5995         1430\n",
      "133028  0_1488 2021-11-12 20:23:50.319430   s_118668    c_5995         1488\n",
      "156789  0_1089 2021-11-12 20:02:54.200624   s_118668    c_5995         1089\n",
      "158735   1_498 2021-11-12 20:18:11.950251   s_118668    c_5995          498\n",
      "167546  0_1564 2021-11-12 20:09:17.901543   s_118668    c_5995         1564\n",
      "181551   1_396 2021-11-12 20:54:33.612303   s_118668    c_5995          396\n",
      "239700   1_293 2021-11-12 21:23:52.304426   s_118668    c_5995          293\n",
      "244755  0_1519 2021-11-12 20:01:58.131234   s_118668    c_5995         1519\n",
      "334671  0_1612 2021-11-12 20:27:59.185956   s_118668    c_5995         1612\n"
     ]
    }
   ],
   "source": [
    "print(df_ventes[df_ventes['session_id'] == 's_118668'].head(14))  \n",
    "# Vérifier les lignes pour s_118668"
   ]
  }
 ],
 "metadata": {
  "kernelspec": {
   "display_name": "base",
   "language": "python",
   "name": "python3"
  },
  "language_info": {
   "codemirror_mode": {
    "name": "ipython",
    "version": 3
   },
   "file_extension": ".py",
   "mimetype": "text/x-python",
   "name": "python",
   "nbconvert_exporter": "python",
   "pygments_lexer": "ipython3",
   "version": "3.13.5"
  }
 },
 "nbformat": 4,
 "nbformat_minor": 5
}
