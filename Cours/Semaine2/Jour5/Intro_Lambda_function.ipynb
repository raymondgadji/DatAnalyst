{
 "cells": [
  {
   "cell_type": "markdown",
   "metadata": {},
   "source": [
    "# Avant de commencer :\n",
    "\n",
    "- Lisez le fichier README.md\n",
    "- Commentez autant que possible et utilisez les ressources indiquées dans le fichier README.md\n",
    "- Bon apprentissage !\n"
   ]
  },
  {
   "cell_type": "markdown",
   "metadata": {},
   "source": [
    "# Défi — Passer une expression Lambda à une fonction\n",
    "\n",
    "Dans le prochain exercice, vous allez créer une fonction qui retourne une expression lambda.  \n",
    "Créez une fonction appelée `modify_list`.  \n",
    "Cette fonction prend deux arguments : une liste et une expression lambda.  \n",
    "La fonction parcourt la liste et applique l’expression lambda à chaque élément de la liste.\n"
   ]
  },
  {
   "cell_type": "code",
   "execution_count": null,
   "metadata": {},
   "outputs": [
    {
     "name": "stdout",
     "output_type": "stream",
     "text": [
      "[2, 4, 6, 8]\n"
     ]
    }
   ],
   "source": [
    "def modify_list(lst, lmbda):\n",
    "    \"\"\"\n",
    "    Input: list and lambda expression\n",
    "    Output: the transformed list\n",
    "    \"\"\"\n",
    "    # lmbda = lambda x: x * 2  # Example lambda function ; c'est une fonction lambda\n",
    "    # your code here\n",
    "    return [lmbda(x) for x in lst]\n",
    "\n",
    "numbers = [1, 2, 3, 4]\n",
    "result = modify_list(numbers, lambda x: x * 2)\n",
    "print(result)  # Output: [2, 4, 6, 8]\n",
    "    "
   ]
  },
  {
   "cell_type": "markdown",
   "metadata": {},
   "source": [
    "#### Maintenant, nous allons définir une expression lambda qui transformera les éléments de la liste.\n",
    "\n",
    "Dans la cellule ci-dessous, créez une expression lambda qui convertit des degrés Celsius en Kelvin.  \n",
    "Rappel : 0 °C + 273,15 = 273,15 K\n"
   ]
  },
  {
   "cell_type": "code",
   "execution_count": 6,
   "metadata": {},
   "outputs": [
    {
     "name": "stdout",
     "output_type": "stream",
     "text": [
      "293.15\n"
     ]
    }
   ],
   "source": [
    "# your code here\n",
    "# kelvin_to_celsius = lambda x: x - 273.15\n",
    "celcius_to_kelvin = lambda t: t + 273.15\n",
    "\n",
    "print(celcius_to_kelvin(20))  # Output: 273.15\n"
   ]
  },
  {
   "cell_type": "markdown",
   "metadata": {},
   "source": [
    "#### Enfin, convertissez la liste de températures ci-dessous de Celsius en Kelvin.\n"
   ]
  },
  {
   "cell_type": "code",
   "execution_count": 7,
   "metadata": {},
   "outputs": [
    {
     "name": "stdout",
     "output_type": "stream",
     "text": [
      "[285.15, 296.15, 311.15, 218.14999999999998, 297.15]\n"
     ]
    }
   ],
   "source": [
    "temps = [12, 23, 38, -55, 24]\n",
    "\n",
    "# your code here\n",
    "temps_kelvin = modify_list(temps, celcius_to_kelvin)\n",
    "print(temps_kelvin)\n"
   ]
  },
  {
   "cell_type": "markdown",
   "metadata": {},
   "source": [
    "#### Dans cette partie, nous allons définir une fonction qui retourne une expression lambda\n",
    "\n",
    "Dans la cellule ci-dessous, écrivez une expression lambda qui prend deux nombres et retourne 1 si l’un est divisible par l’autre, et 0 sinon.  \n",
    "Appelez cette expression lambda `mod`.\n"
   ]
  },
  {
   "cell_type": "code",
   "execution_count": null,
   "metadata": {},
   "outputs": [],
   "source": [
    "# your code here\n"
   ]
  },
  {
   "cell_type": "markdown",
   "metadata": {},
   "source": [
    "#### Maintenant, créez une fonction qui retourne `mod`.  \n",
    "Cette fonction ne prend qu’un seul argument : le premier nombre utilisé dans la fonction lambda `mod`.\n",
    "\n",
    "Remarque : la fonction lambda ci-dessus prenait deux arguments.  \n",
    "La fonction lambda dans l’instruction `return` ne prend qu’un argument,  \n",
    "mais elle utilise aussi l’argument passé à la fonction.\n"
   ]
  },
  {
   "cell_type": "code",
   "execution_count": null,
   "metadata": {},
   "outputs": [],
   "source": [
    "def divisor(b):\n",
    "    \"\"\"\n",
    "    Input: a number\n",
    "    Output: a function that returns 1 if the number is \n",
    "    divisible by another number (to be passed later) and zero otherwise.\n",
    "    \"\"\"\n",
    "    return\n",
    "    \n",
    "    # your code here"
   ]
  },
  {
   "cell_type": "markdown",
   "metadata": {},
   "source": [
    "#### Enfin, passez le nombre 5 à `divisor`.  \n",
    "Maintenant, la fonction vérifiera si un nombre est divisible par 5.  \n",
    "Affectez cette fonction à `divisible5`.\n"
   ]
  },
  {
   "cell_type": "code",
   "execution_count": null,
   "metadata": {},
   "outputs": [],
   "source": [
    "# your code here\n"
   ]
  },
  {
   "cell_type": "markdown",
   "metadata": {},
   "source": [
    "Testez votre   function dans les cas suivants:"
   ]
  },
  {
   "cell_type": "code",
   "execution_count": null,
   "metadata": {},
   "outputs": [],
   "source": [
    "divisible5(10)"
   ]
  },
  {
   "cell_type": "code",
   "execution_count": null,
   "metadata": {},
   "outputs": [],
   "source": [
    "divisible5(8)"
   ]
  },
  {
   "cell_type": "markdown",
   "metadata": {},
   "source": [
    "# Défi Bonus — Utiliser des expressions Lambda dans des compréhensions de liste\n",
    "\n",
    "Dans ce défi, nous allons combiner deux listes en utilisant une expression lambda à l’intérieur d’une compréhension de liste.\n",
    "\n",
    "Pour cela, nous allons introduire la fonction `zip`.  \n",
    "La fonction `zip` retourne un itérateur de tuples.\n"
   ]
  },
  {
   "cell_type": "code",
   "execution_count": 10,
   "metadata": {},
   "outputs": [
    {
     "data": {
      "text/plain": [
       "[(1,), (2,), (3,), (4,), (5,)]"
      ]
     },
     "execution_count": 10,
     "metadata": {},
     "output_type": "execute_result"
    }
   ],
   "source": [
    "# Here is an example of passing one list to the zip function. \n",
    "# Since the zip function returns an iterator, we need to evaluate the iterator by using a list comprehension.\n",
    "\n",
    "l = [1,2,3,4,5]\n",
    "[x for x in zip(l)]"
   ]
  },
  {
   "cell_type": "markdown",
   "metadata": {},
   "source": [
    "Usage  de `zip` function, iteratons à travers les deux listes and ajoutons les  elements par position.\n",
    "Parcourir list1 et list2 en parallèle, et ajouter les éléments de même position (par exemple concaténer des chaînes)."
   ]
  },
  {
   "cell_type": "code",
   "execution_count": null,
   "metadata": {},
   "outputs": [],
   "source": [
    "list1 = ['Green', 'cheese', 'English', 'tomato']\n",
    "list2 = ['eggs', 'cheese', 'cucumber', 'tomato']\n",
    "\n",
    "# your code here\n",
    "\n"
   ]
  },
  {
   "cell_type": "markdown",
   "metadata": {},
   "source": [
    "# Défi Bonus — Utiliser des expressions Lambda comme arguments\n",
    "\n",
    "#### Dans ce défi, nous allons associer deux listes avec `zip` et trier le résultat selon le tuple obtenu.\n",
    "\n",
    "Dans la cellule ci-dessous, prenez les deux listes fournies, associez-les avec `zip` puis triez-les en fonction de la première lettre du deuxième élément de chaque tuple.  \n",
    "Faites cela en utilisant une fonction lambda.\n"
   ]
  },
  {
   "cell_type": "code",
   "execution_count": 1,
   "metadata": {},
   "outputs": [],
   "source": [
    "list1 = ['Engineering', 'Computer Science', 'Political Science', 'Mathematics']\n",
    "list2 = ['Lab', 'Homework', 'Essay', 'Module']\n",
    "\n",
    "# your code here"
   ]
  },
  {
   "cell_type": "markdown",
   "metadata": {},
   "source": [
    "# Défi Bonus — Trier un dictionnaire par valeurs\n",
    "\n",
    "À partir du dictionnaire ci-dessous, triez-le par valeurs plutôt que par clés.  \n",
    "Utilisez une expression lambda pour spécifier que la clé de tri est la valeur.\n",
    "\n",
    "\n"
   ]
  },
  {
   "cell_type": "code",
   "execution_count": null,
   "metadata": {},
   "outputs": [],
   "source": [
    "d = {'Honda': 1997, 'Toyota': 1995, 'Audi': 2001, 'BMW': 2005}\n",
    "\n",
    "# your code here\n",
    "\n",
    "# Trier par valeurs en utilisant une lambda\n",
    "sorted_d = dict(sorted(d.items(), key=lambda x: x[1]))\n",
    "\n",
    "print(sorted_d)"
   ]
  }
 ],
 "metadata": {
  "kernelspec": {
   "display_name": "Python 3",
   "language": "python",
   "name": "python3"
  },
  "language_info": {
   "codemirror_mode": {
    "name": "ipython",
    "version": 3
   },
   "file_extension": ".py",
   "mimetype": "text/x-python",
   "name": "python",
   "nbconvert_exporter": "python",
   "pygments_lexer": "ipython3",
   "version": "3.13.5"
  }
 },
 "nbformat": 4,
 "nbformat_minor": 2
}
