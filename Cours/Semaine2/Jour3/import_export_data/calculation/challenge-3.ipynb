{
 "cells": [
  {
   "cell_type": "markdown",
   "metadata": {
    "toc": true
   },
   "source": [
    "<h1>Table of Contents<span class=\"tocSkip\"></span></h1>\n",
    "<div class=\"toc\"><ul class=\"toc-item\"><li><span><a href=\"#Challenge-3\" data-toc-modified-id=\"Challenge-3-1\"><span class=\"toc-item-num\">1&nbsp;&nbsp;</span>Challenge 3</a></span><ul class=\"toc-item\"><li><span><a href=\"#Q1:-How-to-identify-VIP-&amp;-Preferred-Customers?\" data-toc-modified-id=\"Q1:-How-to-identify-VIP-&amp;-Preferred-Customers?-1.1\"><span class=\"toc-item-num\">1.1&nbsp;&nbsp;</span>Q1: How to identify VIP &amp; Preferred Customers?</a></span></li><li><span><a href=\"#How-to-label-customers-whose-aggregated-amount_spent-is-in-a-given-quantile-range?\" data-toc-modified-id=\"How-to-label-customers-whose-aggregated-amount_spent-is-in-a-given-quantile-range?-1.2\"><span class=\"toc-item-num\">1.2&nbsp;&nbsp;</span>How to label customers whose aggregated <code>amount_spent</code> is in a given quantile range?</a></span><ul class=\"toc-item\"><li><ul class=\"toc-item\"><li><span><a href=\"#Sub-Problem-1:-How-to-aggregate-the--amount_spent-for-unique-customers?\" data-toc-modified-id=\"Sub-Problem-1:-How-to-aggregate-the--amount_spent-for-unique-customers?-1.2.0.1\"><span class=\"toc-item-num\">1.2.0.1&nbsp;&nbsp;</span>Sub Problem 1: How to aggregate the  <code>amount_spent</code> for unique customers?</a></span></li><li><span><a href=\"#Sub-Problem-2:-How-to-select-customers-whose-aggregated-amount_spent-is-in-a-given-quantile-range?\" data-toc-modified-id=\"Sub-Problem-2:-How-to-select-customers-whose-aggregated-amount_spent-is-in-a-given-quantile-range?-1.2.0.2\"><span class=\"toc-item-num\">1.2.0.2&nbsp;&nbsp;</span>Sub Problem 2: How to select customers whose aggregated <code>amount_spent</code> is in a given quantile range?</a></span></li><li><span><a href=\"#Sub-Problem-3:-How-to-label-selected-customers-as-&quot;VIP&quot;-or-&quot;Preferred&quot;?\" data-toc-modified-id=\"Sub-Problem-3:-How-to-label-selected-customers-as-&quot;VIP&quot;-or-&quot;Preferred&quot;?-1.2.0.3\"><span class=\"toc-item-num\">1.2.0.3&nbsp;&nbsp;</span>Sub Problem 3: How to label selected customers as \"VIP\" or \"Preferred\"?</a></span></li></ul></li></ul></li><li><span><a href=\"#Q2:-How-to-identify-which-country-has-the-most-VIP-Customers?\" data-toc-modified-id=\"Q2:-How-to-identify-which-country-has-the-most-VIP-Customers?-1.3\"><span class=\"toc-item-num\">1.3&nbsp;&nbsp;</span>Q2: How to identify which country has the most VIP Customers?</a></span></li><li><span><a href=\"#Q3:-How-to-identify-which-country-has-the-most-VIP+Preferred-Customers-combined?\" data-toc-modified-id=\"Q3:-How-to-identify-which-country-has-the-most-VIP+Preferred-Customers-combined?-1.4\"><span class=\"toc-item-num\">1.4&nbsp;&nbsp;</span>Q3: How to identify which country has the most VIP+Preferred Customers combined?</a></span></li></ul></li></ul></div>"
   ]
  },
  {
   "cell_type": "markdown",
   "metadata": {},
   "source": [
    "# Challenge 3\n",
    "\n",
    "In this challenge we will work on the `Orders` data set. In your work you will apply the thinking process and workflow we showed you in Challenge 2.\n",
    "\n",
    "You are serving as a Business Intelligence Analyst at the headquarter of an international fashion goods chain store. Your boss today asked you to do two things for her:\n",
    "\n",
    "**First, identify two groups of customers from the data set.** The first group is **VIP Customers** whose **aggregated expenses** at your global chain stores are **above the 95th percentile** (aka. 0.95 quantile). The second group is **Preferred Customers** whose **aggregated expenses** are **between the 75th and 95th percentile**.\n",
    "\n",
    "**Second, identify which country has the most of your VIP customers, and which country has the most of your VIP+Preferred Customers combined.**"
   ]
  },
  {
   "cell_type": "markdown",
   "metadata": {},
   "source": [
    "## Q1: How to identify VIP & Preferred Customers?\n",
    "\n",
    "We start by importing all the required libraries:"
   ]
  },
  {
   "cell_type": "code",
   "execution_count": 17,
   "metadata": {},
   "outputs": [],
   "source": [
    "# import required libraries\n",
    "import numpy as np\n",
    "import pandas as pd"
   ]
  },
  {
   "cell_type": "markdown",
   "metadata": {},
   "source": [
    "Next, import `Orders` from Ironhack's database into a dataframe variable called `orders`. Print the head of `orders` to overview the data:"
   ]
  },
  {
   "cell_type": "code",
   "execution_count": 18,
   "metadata": {},
   "outputs": [
    {
     "data": {
      "text/html": [
       "<div>\n",
       "<style scoped>\n",
       "    .dataframe tbody tr th:only-of-type {\n",
       "        vertical-align: middle;\n",
       "    }\n",
       "\n",
       "    .dataframe tbody tr th {\n",
       "        vertical-align: top;\n",
       "    }\n",
       "\n",
       "    .dataframe thead th {\n",
       "        text-align: right;\n",
       "    }\n",
       "</style>\n",
       "<table border=\"1\" class=\"dataframe\">\n",
       "  <thead>\n",
       "    <tr style=\"text-align: right;\">\n",
       "      <th></th>\n",
       "      <th>Unnamed: 0</th>\n",
       "      <th>InvoiceNo</th>\n",
       "      <th>StockCode</th>\n",
       "      <th>year</th>\n",
       "      <th>month</th>\n",
       "      <th>day</th>\n",
       "      <th>hour</th>\n",
       "      <th>Description</th>\n",
       "      <th>Quantity</th>\n",
       "      <th>InvoiceDate</th>\n",
       "      <th>UnitPrice</th>\n",
       "      <th>CustomerID</th>\n",
       "      <th>Country</th>\n",
       "      <th>amount_spent</th>\n",
       "    </tr>\n",
       "  </thead>\n",
       "  <tbody>\n",
       "    <tr>\n",
       "      <th>0</th>\n",
       "      <td>0</td>\n",
       "      <td>536365</td>\n",
       "      <td>85123A</td>\n",
       "      <td>2010</td>\n",
       "      <td>12</td>\n",
       "      <td>3</td>\n",
       "      <td>8</td>\n",
       "      <td>white hanging heart t-light holder</td>\n",
       "      <td>6</td>\n",
       "      <td>2010-12-01 08:26:00</td>\n",
       "      <td>2.55</td>\n",
       "      <td>17850</td>\n",
       "      <td>United Kingdom</td>\n",
       "      <td>15.30</td>\n",
       "    </tr>\n",
       "    <tr>\n",
       "      <th>1</th>\n",
       "      <td>1</td>\n",
       "      <td>536365</td>\n",
       "      <td>71053</td>\n",
       "      <td>2010</td>\n",
       "      <td>12</td>\n",
       "      <td>3</td>\n",
       "      <td>8</td>\n",
       "      <td>white metal lantern</td>\n",
       "      <td>6</td>\n",
       "      <td>2010-12-01 08:26:00</td>\n",
       "      <td>3.39</td>\n",
       "      <td>17850</td>\n",
       "      <td>United Kingdom</td>\n",
       "      <td>20.34</td>\n",
       "    </tr>\n",
       "    <tr>\n",
       "      <th>2</th>\n",
       "      <td>2</td>\n",
       "      <td>536365</td>\n",
       "      <td>84406B</td>\n",
       "      <td>2010</td>\n",
       "      <td>12</td>\n",
       "      <td>3</td>\n",
       "      <td>8</td>\n",
       "      <td>cream cupid hearts coat hanger</td>\n",
       "      <td>8</td>\n",
       "      <td>2010-12-01 08:26:00</td>\n",
       "      <td>2.75</td>\n",
       "      <td>17850</td>\n",
       "      <td>United Kingdom</td>\n",
       "      <td>22.00</td>\n",
       "    </tr>\n",
       "    <tr>\n",
       "      <th>3</th>\n",
       "      <td>3</td>\n",
       "      <td>536365</td>\n",
       "      <td>84029G</td>\n",
       "      <td>2010</td>\n",
       "      <td>12</td>\n",
       "      <td>3</td>\n",
       "      <td>8</td>\n",
       "      <td>knitted union flag hot water bottle</td>\n",
       "      <td>6</td>\n",
       "      <td>2010-12-01 08:26:00</td>\n",
       "      <td>3.39</td>\n",
       "      <td>17850</td>\n",
       "      <td>United Kingdom</td>\n",
       "      <td>20.34</td>\n",
       "    </tr>\n",
       "    <tr>\n",
       "      <th>4</th>\n",
       "      <td>4</td>\n",
       "      <td>536365</td>\n",
       "      <td>84029E</td>\n",
       "      <td>2010</td>\n",
       "      <td>12</td>\n",
       "      <td>3</td>\n",
       "      <td>8</td>\n",
       "      <td>red woolly hottie white heart.</td>\n",
       "      <td>6</td>\n",
       "      <td>2010-12-01 08:26:00</td>\n",
       "      <td>3.39</td>\n",
       "      <td>17850</td>\n",
       "      <td>United Kingdom</td>\n",
       "      <td>20.34</td>\n",
       "    </tr>\n",
       "  </tbody>\n",
       "</table>\n",
       "</div>"
      ],
      "text/plain": [
       "   Unnamed: 0  InvoiceNo StockCode  year  month  day  hour  \\\n",
       "0           0     536365    85123A  2010     12    3     8   \n",
       "1           1     536365     71053  2010     12    3     8   \n",
       "2           2     536365    84406B  2010     12    3     8   \n",
       "3           3     536365    84029G  2010     12    3     8   \n",
       "4           4     536365    84029E  2010     12    3     8   \n",
       "\n",
       "                           Description  Quantity          InvoiceDate  \\\n",
       "0   white hanging heart t-light holder         6  2010-12-01 08:26:00   \n",
       "1                  white metal lantern         6  2010-12-01 08:26:00   \n",
       "2       cream cupid hearts coat hanger         8  2010-12-01 08:26:00   \n",
       "3  knitted union flag hot water bottle         6  2010-12-01 08:26:00   \n",
       "4       red woolly hottie white heart.         6  2010-12-01 08:26:00   \n",
       "\n",
       "   UnitPrice  CustomerID         Country  amount_spent  \n",
       "0       2.55       17850  United Kingdom         15.30  \n",
       "1       3.39       17850  United Kingdom         20.34  \n",
       "2       2.75       17850  United Kingdom         22.00  \n",
       "3       3.39       17850  United Kingdom         20.34  \n",
       "4       3.39       17850  United Kingdom         20.34  "
      ]
     },
     "execution_count": 18,
     "metadata": {},
     "output_type": "execute_result"
    }
   ],
   "source": [
    "# your code here\n",
    "df_orders = pd.read_csv('orders.csv')\n",
    "df_orders.head()"
   ]
  },
  {
   "cell_type": "code",
   "execution_count": 19,
   "metadata": {},
   "outputs": [
    {
     "name": "stdout",
     "output_type": "stream",
     "text": [
      "       Unnamed: 0  InvoiceNo StockCode  year  month  day  hour  \\\n",
      "0               0     536365    85123A  2010     12    3     8   \n",
      "1               1     536365     71053  2010     12    3     8   \n",
      "2               2     536365    84406B  2010     12    3     8   \n",
      "3               3     536365    84029G  2010     12    3     8   \n",
      "4               4     536365    84029E  2010     12    3     8   \n",
      "...           ...        ...       ...   ...    ...  ...   ...   \n",
      "72778      112199     545872     82552  2011      3    1    14   \n",
      "72779      112200     545872     22245  2011      3    1    14   \n",
      "72780      112201     545872     22243  2011      3    1    14   \n",
      "72781      112202     545872     22244  2011      3    1    14   \n",
      "72782      112203     545872    46000R  2011      3    1    14   \n",
      "\n",
      "                               Description  Quantity          InvoiceDate  \\\n",
      "0       white hanging heart t-light holder         6  2010-12-01 08:26:00   \n",
      "1                      white metal lantern         6  2010-12-01 08:26:00   \n",
      "2           cream cupid hearts coat hanger         8  2010-12-01 08:26:00   \n",
      "3      knitted union flag hot water bottle         6  2010-12-01 08:26:00   \n",
      "4           red woolly hottie white heart.         6  2010-12-01 08:26:00   \n",
      "...                                    ...       ...                  ...   \n",
      "72778                  washroom metal sign         2  2011-03-07 14:51:00   \n",
      "72779         hook, 1 hanger ,magic garden         3  2011-03-07 14:51:00   \n",
      "72780    5 hook hanger red magic toadstool         3  2011-03-07 14:51:00   \n",
      "72781           3 hook hanger magic garden         3  2011-03-07 14:51:00   \n",
      "72782         polyester filler pad 45x30cm         2  2011-03-07 14:51:00   \n",
      "\n",
      "       UnitPrice  CustomerID         Country  amount_spent  \n",
      "0           2.55       17850  United Kingdom         15.30  \n",
      "1           3.39       17850  United Kingdom         20.34  \n",
      "2           2.75       17850  United Kingdom         22.00  \n",
      "3           3.39       17850  United Kingdom         20.34  \n",
      "4           3.39       17850  United Kingdom         20.34  \n",
      "...          ...         ...             ...           ...  \n",
      "72778       1.45       15752  United Kingdom          2.90  \n",
      "72779       0.85       15752  United Kingdom          2.55  \n",
      "72780       1.65       15752  United Kingdom          4.95  \n",
      "72781       1.95       15752  United Kingdom          5.85  \n",
      "72782       1.45       15752   United Kingdo           NaN  \n",
      "\n",
      "[72783 rows x 14 columns]\n"
     ]
    }
   ],
   "source": [
    "print(df_orders)"
   ]
  },
  {
   "cell_type": "code",
   "execution_count": 27,
   "metadata": {},
   "outputs": [
    {
     "data": {
      "text/plain": [
       "Index(['Unnamed: 0', 'InvoiceNo', 'StockCode', 'year', 'month', 'day', 'hour',\n",
       "       'Description', 'Quantity', 'InvoiceDate', 'UnitPrice', 'CustomerID',\n",
       "       'Country', 'amount_spent'],\n",
       "      dtype='object')"
      ]
     },
     "execution_count": 27,
     "metadata": {},
     "output_type": "execute_result"
    }
   ],
   "source": [
    "df_orders.columns.shape\n",
    "df_orders.columns"
   ]
  },
  {
   "cell_type": "markdown",
   "metadata": {},
   "source": [
    "---\n",
    "\n",
    "\"Identify VIP and Preferred Customers\" is the non-technical goal of your boss. You need to translate that goal into technical languages that data analysts use:\n",
    "\n",
    "## How to label customers whose aggregated `amount_spent` is in a given quantile range?\n"
   ]
  },
  {
   "cell_type": "markdown",
   "metadata": {},
   "source": [
    "We break down the main problem into several sub problems:\n",
    "\n",
    "#### Sub Problem 1: How to aggregate the  `amount_spent` for unique customers?\n",
    "\n",
    "#### Sub Problem 2: How to select customers whose aggregated `amount_spent` is in a given quantile range?\n",
    "\n",
    "#### Sub Problem 3: How to label selected customers as \"VIP\" or \"Preferred\"?\n",
    "\n",
    "*Note: If you want to break down the main problem in a different way, please feel free to revise the sub problems above.*\n",
    "\n",
    "Now in the workspace below, tackle each of the sub problems using the iterative problem solving workflow. Insert cells as necessary to write your codes and explain your steps."
   ]
  },
  {
   "cell_type": "code",
   "execution_count": 23,
   "metadata": {},
   "outputs": [
    {
     "data": {
      "text/plain": [
       "CustomerID\n",
       "12346    77183.60\n",
       "12347     1187.18\n",
       "12348     1120.24\n",
       "12350      334.40\n",
       "12352     1281.15\n",
       "Name: amount_spent, dtype: float64"
      ]
     },
     "execution_count": 23,
     "metadata": {},
     "output_type": "execute_result"
    }
   ],
   "source": [
    "# your code here\n",
    "agg_spent = df_orders.groupby('CustomerID')['amount_spent'].sum()\n",
    "agg_spent.head()"
   ]
  },
  {
   "cell_type": "code",
   "execution_count": 24,
   "metadata": {},
   "outputs": [
    {
     "name": "stdout",
     "output_type": "stream",
     "text": [
      "CustomerID\n",
      "12346    77183.60\n",
      "12347     1187.18\n",
      "12348     1120.24\n",
      "12350      334.40\n",
      "12352     1281.15\n",
      "           ...   \n",
      "18259      376.30\n",
      "18260      787.77\n",
      "18269      168.60\n",
      "18280      180.60\n",
      "18283      317.90\n",
      "Name: amount_spent, Length: 1786, dtype: float64\n"
     ]
    }
   ],
   "source": [
    "agg_spent = df_orders.groupby('CustomerID')['amount_spent'].sum()\n",
    "print(agg_spent)"
   ]
  },
  {
   "cell_type": "code",
   "execution_count": null,
   "metadata": {},
   "outputs": [],
   "source": []
  },
  {
   "cell_type": "markdown",
   "metadata": {},
   "source": [
    "Now we'll leave it to you to solve Q2 & Q3, which you can leverage from your solution for Q1:\n",
    "\n",
    "## Q2: How to identify which country has the most VIP Customers?"
   ]
  },
  {
   "cell_type": "code",
   "execution_count": 21,
   "metadata": {},
   "outputs": [],
   "source": [
    "# your code here"
   ]
  },
  {
   "cell_type": "markdown",
   "metadata": {},
   "source": [
    "## Q3: How to identify which country has the most VIP+Preferred Customers combined?"
   ]
  },
  {
   "cell_type": "code",
   "execution_count": 22,
   "metadata": {},
   "outputs": [],
   "source": [
    "# your code here"
   ]
  }
 ],
 "metadata": {
  "kernelspec": {
   "display_name": "Python 3",
   "language": "python",
   "name": "python3"
  },
  "language_info": {
   "codemirror_mode": {
    "name": "ipython",
    "version": 3
   },
   "file_extension": ".py",
   "mimetype": "text/x-python",
   "name": "python",
   "nbconvert_exporter": "python",
   "pygments_lexer": "ipython3",
   "version": "3.13.5"
  },
  "toc": {
   "base_numbering": 1,
   "nav_menu": {},
   "number_sections": true,
   "sideBar": true,
   "skip_h1_title": false,
   "title_cell": "Table of Contents",
   "title_sidebar": "Contents",
   "toc_cell": true,
   "toc_position": {},
   "toc_section_display": true,
   "toc_window_display": false
  }
 },
 "nbformat": 4,
 "nbformat_minor": 2
}
