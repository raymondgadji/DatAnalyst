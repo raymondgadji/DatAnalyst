{
 "cells": [
  {
   "cell_type": "markdown",
   "metadata": {},
   "source": [
    "# Descriptive Statistics Review"
   ]
  },
  {
   "cell_type": "markdown",
   "metadata": {},
   "source": [
    "## Before you start:\n",
    "\n",
    "- Read the README.md file\n",
    "- Comment as much as you can\n",
    "- Happy learning!"
   ]
  },
  {
   "cell_type": "markdown",
   "metadata": {},
   "source": [
    "## Context"
   ]
  },
  {
   "cell_type": "markdown",
   "metadata": {},
   "source": [
    "![img](./diamonds.jpg)"
   ]
  },
  {
   "cell_type": "markdown",
   "metadata": {},
   "source": [
    "In this lab we are going to work with data to understand the characteristics of a diamond that are most likely to influence its price. In this first part of the lab, we will explore and clean our data. \n",
    "\n",
    "The dataset we will be using is comprised of approximately 54k rows and 11 different columns. As always, a row represents a single observation (in this case a diamond) and each of the columns represent a different feature of a diamond.\n",
    "\n",
    "The following codebook was provided together with the dataset to clarify what each column represents:\n"
   ]
  },
  {
   "cell_type": "markdown",
   "metadata": {},
   "source": [
    "| Column  | Description  |\n",
    "|---|---|\n",
    "| Price  | Price in US dollars (326-18,823)  |\n",
    "| Carat  | Weight of the diamond (0.2--5.01)  |\n",
    "| Cut  | Quality of the cut (Fair, Good, Very Good, Premium, Ideal)  |\n",
    "| Color  | Diamond colour, from J (worst) to D (best)  |\n",
    "| Clarity  | A measurement of how clear the diamond is (I1 (worst), SI2, SI1, VS2, VS1, VVS2, VVS1, IF (best))   |\n",
    "| x  | Length in mm (0--10.74)  |\n",
    "| y  | Width in mm (0--58.9)  |\n",
    "| z  | Depth in mm (0--31.8)  |\n",
    "| Depth  | Total depth percentage = z / mean(x, y) = 2 * z / (x + y) (43--79)  |\n",
    "| Table  | Width of top of diamond relative to widest point (43--95)  |"
   ]
  },
  {
   "cell_type": "markdown",
   "metadata": {},
   "source": [
    "## Libraries\n",
    "Pandas and numpy will be needed for the analysis of the data. Don't worry about the seaborn and matplotlib import at the moment, you will learn more about them next week, but we will be using some of their functionalities."
   ]
  },
  {
   "cell_type": "code",
   "execution_count": 49,
   "metadata": {},
   "outputs": [],
   "source": [
    "import pandas as pd\n",
    "import numpy as np\n",
    "import seaborn as sns\n",
    "import matplotlib.pyplot as plt"
   ]
  },
  {
   "cell_type": "code",
   "execution_count": 50,
   "metadata": {},
   "outputs": [
    {
     "name": "stdout",
     "output_type": "stream",
     "text": [
      "Requirement already satisfied: seaborn in c:\\python313\\lib\\site-packages (0.13.2)\n",
      "Requirement already satisfied: numpy!=1.24.0,>=1.20 in c:\\python313\\lib\\site-packages (from seaborn) (2.3.1)\n",
      "Requirement already satisfied: pandas>=1.2 in c:\\python313\\lib\\site-packages (from seaborn) (2.3.1)\n",
      "Requirement already satisfied: matplotlib!=3.6.1,>=3.4 in c:\\python313\\lib\\site-packages (from seaborn) (3.10.3)\n",
      "Requirement already satisfied: contourpy>=1.0.1 in c:\\python313\\lib\\site-packages (from matplotlib!=3.6.1,>=3.4->seaborn) (1.3.2)\n",
      "Requirement already satisfied: cycler>=0.10 in c:\\python313\\lib\\site-packages (from matplotlib!=3.6.1,>=3.4->seaborn) (0.12.1)\n",
      "Requirement already satisfied: fonttools>=4.22.0 in c:\\python313\\lib\\site-packages (from matplotlib!=3.6.1,>=3.4->seaborn) (4.58.5)\n",
      "Requirement already satisfied: kiwisolver>=1.3.1 in c:\\python313\\lib\\site-packages (from matplotlib!=3.6.1,>=3.4->seaborn) (1.4.8)\n",
      "Requirement already satisfied: packaging>=20.0 in c:\\users\\administrateur\\appdata\\roaming\\python\\python313\\site-packages (from matplotlib!=3.6.1,>=3.4->seaborn) (25.0)\n",
      "Requirement already satisfied: pillow>=8 in c:\\python313\\lib\\site-packages (from matplotlib!=3.6.1,>=3.4->seaborn) (11.3.0)\n",
      "Requirement already satisfied: pyparsing>=2.3.1 in c:\\python313\\lib\\site-packages (from matplotlib!=3.6.1,>=3.4->seaborn) (3.2.3)\n",
      "Requirement already satisfied: python-dateutil>=2.7 in c:\\users\\administrateur\\appdata\\roaming\\python\\python313\\site-packages (from matplotlib!=3.6.1,>=3.4->seaborn) (2.9.0.post0)\n",
      "Requirement already satisfied: pytz>=2020.1 in c:\\python313\\lib\\site-packages (from pandas>=1.2->seaborn) (2025.2)\n",
      "Requirement already satisfied: tzdata>=2022.7 in c:\\python313\\lib\\site-packages (from pandas>=1.2->seaborn) (2025.2)\n",
      "Requirement already satisfied: six>=1.5 in c:\\users\\administrateur\\appdata\\roaming\\python\\python313\\site-packages (from python-dateutil>=2.7->matplotlib!=3.6.1,>=3.4->seaborn) (1.17.0)\n"
     ]
    }
   ],
   "source": [
    "#! pip install --quiet seaborn matplotlib\n",
    "! pip install seaborn  "
   ]
  },
  {
   "cell_type": "markdown",
   "metadata": {},
   "source": [
    "First import the data from the .csv file provided and assign it to a variable named `diamonds` and drop the column with the index."
   ]
  },
  {
   "cell_type": "code",
   "execution_count": 51,
   "metadata": {},
   "outputs": [],
   "source": [
    "#your code here\n",
    "diamonds = pd.read_csv('diamonds.csv')\n"
   ]
  },
  {
   "cell_type": "markdown",
   "metadata": {},
   "source": [
    "# 1. Taking the first look at the data.\n",
    "Let's see how the data looks by using pandas methods like `head()`, `info()` and `describe()`. \n",
    "\n",
    "**First, use the `head` method.**"
   ]
  },
  {
   "cell_type": "code",
   "execution_count": 52,
   "metadata": {},
   "outputs": [
    {
     "name": "stdout",
     "output_type": "stream",
     "text": [
      "<class 'pandas.core.frame.DataFrame'>\n",
      "RangeIndex: 53940 entries, 0 to 53939\n",
      "Data columns (total 11 columns):\n",
      " #   Column      Non-Null Count  Dtype  \n",
      "---  ------      --------------  -----  \n",
      " 0   Unnamed: 0  53940 non-null  int64  \n",
      " 1   carat       53940 non-null  float64\n",
      " 2   cut         53940 non-null  object \n",
      " 3   color       53940 non-null  object \n",
      " 4   clarity     53940 non-null  object \n",
      " 5   depth       53940 non-null  float64\n",
      " 6   table       53940 non-null  float64\n",
      " 7   price       53940 non-null  int64  \n",
      " 8   x           53940 non-null  float64\n",
      " 9   y           53940 non-null  float64\n",
      " 10  z           53940 non-null  float64\n",
      "dtypes: float64(6), int64(2), object(3)\n",
      "memory usage: 4.5+ MB\n"
     ]
    }
   ],
   "source": [
    "diamonds.info()\n",
    "# The info method provides a concise summary of the DataFrame,\n",
    "# including the number of non-null entries, data types, and memory usage."
   ]
  },
  {
   "cell_type": "code",
   "execution_count": 53,
   "metadata": {},
   "outputs": [
    {
     "data": {
      "text/html": [
       "<div>\n",
       "<style scoped>\n",
       "    .dataframe tbody tr th:only-of-type {\n",
       "        vertical-align: middle;\n",
       "    }\n",
       "\n",
       "    .dataframe tbody tr th {\n",
       "        vertical-align: top;\n",
       "    }\n",
       "\n",
       "    .dataframe thead th {\n",
       "        text-align: right;\n",
       "    }\n",
       "</style>\n",
       "<table border=\"1\" class=\"dataframe\">\n",
       "  <thead>\n",
       "    <tr style=\"text-align: right;\">\n",
       "      <th></th>\n",
       "      <th>Unnamed: 0</th>\n",
       "      <th>carat</th>\n",
       "      <th>depth</th>\n",
       "      <th>table</th>\n",
       "      <th>price</th>\n",
       "      <th>x</th>\n",
       "      <th>y</th>\n",
       "      <th>z</th>\n",
       "    </tr>\n",
       "  </thead>\n",
       "  <tbody>\n",
       "    <tr>\n",
       "      <th>count</th>\n",
       "      <td>53940.00</td>\n",
       "      <td>53940.00</td>\n",
       "      <td>53940.00</td>\n",
       "      <td>53940.00</td>\n",
       "      <td>53940.00</td>\n",
       "      <td>53940.00</td>\n",
       "      <td>53940.00</td>\n",
       "      <td>53940.00</td>\n",
       "    </tr>\n",
       "    <tr>\n",
       "      <th>mean</th>\n",
       "      <td>26970.50</td>\n",
       "      <td>0.80</td>\n",
       "      <td>61.75</td>\n",
       "      <td>57.46</td>\n",
       "      <td>3932.80</td>\n",
       "      <td>5.73</td>\n",
       "      <td>5.73</td>\n",
       "      <td>3.54</td>\n",
       "    </tr>\n",
       "    <tr>\n",
       "      <th>std</th>\n",
       "      <td>15571.28</td>\n",
       "      <td>0.47</td>\n",
       "      <td>1.43</td>\n",
       "      <td>2.23</td>\n",
       "      <td>3989.44</td>\n",
       "      <td>1.12</td>\n",
       "      <td>1.14</td>\n",
       "      <td>0.71</td>\n",
       "    </tr>\n",
       "    <tr>\n",
       "      <th>min</th>\n",
       "      <td>1.00</td>\n",
       "      <td>0.20</td>\n",
       "      <td>43.00</td>\n",
       "      <td>43.00</td>\n",
       "      <td>326.00</td>\n",
       "      <td>0.00</td>\n",
       "      <td>0.00</td>\n",
       "      <td>0.00</td>\n",
       "    </tr>\n",
       "    <tr>\n",
       "      <th>25%</th>\n",
       "      <td>13485.75</td>\n",
       "      <td>0.40</td>\n",
       "      <td>61.00</td>\n",
       "      <td>56.00</td>\n",
       "      <td>950.00</td>\n",
       "      <td>4.71</td>\n",
       "      <td>4.72</td>\n",
       "      <td>2.91</td>\n",
       "    </tr>\n",
       "    <tr>\n",
       "      <th>50%</th>\n",
       "      <td>26970.50</td>\n",
       "      <td>0.70</td>\n",
       "      <td>61.80</td>\n",
       "      <td>57.00</td>\n",
       "      <td>2401.00</td>\n",
       "      <td>5.70</td>\n",
       "      <td>5.71</td>\n",
       "      <td>3.53</td>\n",
       "    </tr>\n",
       "    <tr>\n",
       "      <th>75%</th>\n",
       "      <td>40455.25</td>\n",
       "      <td>1.04</td>\n",
       "      <td>62.50</td>\n",
       "      <td>59.00</td>\n",
       "      <td>5324.25</td>\n",
       "      <td>6.54</td>\n",
       "      <td>6.54</td>\n",
       "      <td>4.04</td>\n",
       "    </tr>\n",
       "    <tr>\n",
       "      <th>max</th>\n",
       "      <td>53940.00</td>\n",
       "      <td>5.01</td>\n",
       "      <td>79.00</td>\n",
       "      <td>95.00</td>\n",
       "      <td>18823.00</td>\n",
       "      <td>10.74</td>\n",
       "      <td>58.90</td>\n",
       "      <td>31.80</td>\n",
       "    </tr>\n",
       "  </tbody>\n",
       "</table>\n",
       "</div>"
      ],
      "text/plain": [
       "       Unnamed: 0    carat    depth    table    price        x        y  \\\n",
       "count    53940.00 53940.00 53940.00 53940.00 53940.00 53940.00 53940.00   \n",
       "mean     26970.50     0.80    61.75    57.46  3932.80     5.73     5.73   \n",
       "std      15571.28     0.47     1.43     2.23  3989.44     1.12     1.14   \n",
       "min          1.00     0.20    43.00    43.00   326.00     0.00     0.00   \n",
       "25%      13485.75     0.40    61.00    56.00   950.00     4.71     4.72   \n",
       "50%      26970.50     0.70    61.80    57.00  2401.00     5.70     5.71   \n",
       "75%      40455.25     1.04    62.50    59.00  5324.25     6.54     6.54   \n",
       "max      53940.00     5.01    79.00    95.00 18823.00    10.74    58.90   \n",
       "\n",
       "             z  \n",
       "count 53940.00  \n",
       "mean      3.54  \n",
       "std       0.71  \n",
       "min       0.00  \n",
       "25%       2.91  \n",
       "50%       3.53  \n",
       "75%       4.04  \n",
       "max      31.80  "
      ]
     },
     "execution_count": 53,
     "metadata": {},
     "output_type": "execute_result"
    }
   ],
   "source": [
    "diamonds.describe()\n",
    "# The describe method provides a summary of the DataFrame, \n",
    "# including count, mean, standard deviation, min, max, \n",
    "# and quartiles for numerical columns."
   ]
  },
  {
   "cell_type": "code",
   "execution_count": 54,
   "metadata": {},
   "outputs": [
    {
     "data": {
      "text/html": [
       "<div>\n",
       "<style scoped>\n",
       "    .dataframe tbody tr th:only-of-type {\n",
       "        vertical-align: middle;\n",
       "    }\n",
       "\n",
       "    .dataframe tbody tr th {\n",
       "        vertical-align: top;\n",
       "    }\n",
       "\n",
       "    .dataframe thead th {\n",
       "        text-align: right;\n",
       "    }\n",
       "</style>\n",
       "<table border=\"1\" class=\"dataframe\">\n",
       "  <thead>\n",
       "    <tr style=\"text-align: right;\">\n",
       "      <th></th>\n",
       "      <th>Unnamed: 0</th>\n",
       "      <th>carat</th>\n",
       "      <th>cut</th>\n",
       "      <th>color</th>\n",
       "      <th>clarity</th>\n",
       "      <th>depth</th>\n",
       "      <th>table</th>\n",
       "      <th>price</th>\n",
       "      <th>x</th>\n",
       "      <th>y</th>\n",
       "      <th>z</th>\n",
       "    </tr>\n",
       "  </thead>\n",
       "  <tbody>\n",
       "    <tr>\n",
       "      <th>0</th>\n",
       "      <td>1</td>\n",
       "      <td>0.23</td>\n",
       "      <td>Ideal</td>\n",
       "      <td>E</td>\n",
       "      <td>SI2</td>\n",
       "      <td>61.50</td>\n",
       "      <td>55.00</td>\n",
       "      <td>326</td>\n",
       "      <td>3.95</td>\n",
       "      <td>3.98</td>\n",
       "      <td>2.43</td>\n",
       "    </tr>\n",
       "    <tr>\n",
       "      <th>1</th>\n",
       "      <td>2</td>\n",
       "      <td>0.21</td>\n",
       "      <td>Premium</td>\n",
       "      <td>E</td>\n",
       "      <td>SI1</td>\n",
       "      <td>59.80</td>\n",
       "      <td>61.00</td>\n",
       "      <td>326</td>\n",
       "      <td>3.89</td>\n",
       "      <td>3.84</td>\n",
       "      <td>2.31</td>\n",
       "    </tr>\n",
       "    <tr>\n",
       "      <th>2</th>\n",
       "      <td>3</td>\n",
       "      <td>0.23</td>\n",
       "      <td>Good</td>\n",
       "      <td>E</td>\n",
       "      <td>VS1</td>\n",
       "      <td>56.90</td>\n",
       "      <td>65.00</td>\n",
       "      <td>327</td>\n",
       "      <td>4.05</td>\n",
       "      <td>4.07</td>\n",
       "      <td>2.31</td>\n",
       "    </tr>\n",
       "    <tr>\n",
       "      <th>3</th>\n",
       "      <td>4</td>\n",
       "      <td>0.29</td>\n",
       "      <td>Premium</td>\n",
       "      <td>I</td>\n",
       "      <td>VS2</td>\n",
       "      <td>62.40</td>\n",
       "      <td>58.00</td>\n",
       "      <td>334</td>\n",
       "      <td>4.20</td>\n",
       "      <td>4.23</td>\n",
       "      <td>2.63</td>\n",
       "    </tr>\n",
       "    <tr>\n",
       "      <th>4</th>\n",
       "      <td>5</td>\n",
       "      <td>0.31</td>\n",
       "      <td>Good</td>\n",
       "      <td>J</td>\n",
       "      <td>SI2</td>\n",
       "      <td>63.30</td>\n",
       "      <td>58.00</td>\n",
       "      <td>335</td>\n",
       "      <td>4.34</td>\n",
       "      <td>4.35</td>\n",
       "      <td>2.75</td>\n",
       "    </tr>\n",
       "  </tbody>\n",
       "</table>\n",
       "</div>"
      ],
      "text/plain": [
       "   Unnamed: 0  carat      cut color clarity  depth  table  price    x    y  \\\n",
       "0           1   0.23    Ideal     E     SI2  61.50  55.00    326 3.95 3.98   \n",
       "1           2   0.21  Premium     E     SI1  59.80  61.00    326 3.89 3.84   \n",
       "2           3   0.23     Good     E     VS1  56.90  65.00    327 4.05 4.07   \n",
       "3           4   0.29  Premium     I     VS2  62.40  58.00    334 4.20 4.23   \n",
       "4           5   0.31     Good     J     SI2  63.30  58.00    335 4.34 4.35   \n",
       "\n",
       "     z  \n",
       "0 2.43  \n",
       "1 2.31  \n",
       "2 2.31  \n",
       "3 2.63  \n",
       "4 2.75  "
      ]
     },
     "execution_count": 54,
     "metadata": {},
     "output_type": "execute_result"
    }
   ],
   "source": [
    "#your code here\n",
    "diamonds.head()\n",
    "# The head method returns the first 5 rows of the DataFrame by default. "
   ]
  },
  {
   "cell_type": "code",
   "execution_count": 55,
   "metadata": {},
   "outputs": [
    {
     "data": {
      "text/plain": [
       "(53940, 11)"
      ]
     },
     "execution_count": 55,
     "metadata": {},
     "output_type": "execute_result"
    }
   ],
   "source": [
    "diamonds.shape"
   ]
  },
  {
   "cell_type": "code",
   "execution_count": 56,
   "metadata": {},
   "outputs": [
    {
     "name": "stdout",
     "output_type": "stream",
     "text": [
      "  clarity  clarity_numeric\n",
      "0     SI2                1\n",
      "1     SI1                2\n",
      "2     VS1                4\n",
      "3     VS2                3\n",
      "4     SI2                1\n"
     ]
    }
   ],
   "source": [
    "#your code here\n",
    "# Définir l'ordre de clarté du pire au meilleur,\n",
    "clarity_scale = {\n",
    "    'I1': 0,\n",
    "    'SI2': 1,\n",
    "    'SI1': 2,\n",
    "    'VS2': 3,\n",
    "    'VS1': 4,\n",
    "    'VVS2': 5,\n",
    "    'VVS1': 6,\n",
    "    'IF': 7\n",
    "}\n",
    "\n",
    "#Créer une nouvelle colonne avec le score numérique,\n",
    "diamonds['clarity_numeric'] = diamonds['clarity'].map(clarity_scale)\n",
    "\n",
    "# Vérifier le résultat,\n",
    "print(diamonds[['clarity', 'clarity_numeric']].head())"
   ]
  },
  {
   "cell_type": "markdown",
   "metadata": {},
   "source": [
    "We can see the first 5 rows of the dataset using the `head` method. This by itself doesn't tell us much about the data that we have, but we can have a first look at the features (columns) and some of the values that each one takes.\n",
    "\n",
    "**What do you see? Make some comments about the values you see in each column, comparing them with the codebook. Is that what you would expect for these variables?**"
   ]
  },
  {
   "cell_type": "code",
   "execution_count": 57,
   "metadata": {},
   "outputs": [],
   "source": [
    "#your code here"
   ]
  },
  {
   "cell_type": "markdown",
   "metadata": {},
   "source": [
    "It is very important to know the amount of data we have, because everything will depend on that, from the quality of the analysis to the choice of our infrastracture.\n",
    "\n",
    "**Check the shape of the data**"
   ]
  },
  {
   "cell_type": "code",
   "execution_count": 58,
   "metadata": {},
   "outputs": [],
   "source": [
    "#your code here"
   ]
  },
  {
   "cell_type": "markdown",
   "metadata": {},
   "source": [
    "The `clarity` column is confusing because we are not diamond experts. Let's create a new column with a new scale that is more understandable for us.\n",
    "\n",
    "**Create a new column with numbers from 0 to 7. The lowest would be 0 with value `I1` and the greatest 7 with value `IF`**"
   ]
  },
  {
   "cell_type": "code",
   "execution_count": null,
   "metadata": {},
   "outputs": [],
   "source": []
  },
  {
   "cell_type": "markdown",
   "metadata": {},
   "source": [
    "It makes sense to do the same with the `color` column.\n",
    "\n",
    "**Do the same with values from 0 to 6. Read the codebook to see the match**"
   ]
  },
  {
   "cell_type": "code",
   "execution_count": 59,
   "metadata": {},
   "outputs": [
    {
     "name": "stdout",
     "output_type": "stream",
     "text": [
      "  color  color_numeric\n",
      "0     E              5\n",
      "1     E              5\n",
      "2     E              5\n",
      "3     I              1\n",
      "4     J              0\n"
     ]
    }
   ],
   "source": [
    "#your code here\n",
    "# Définir l'échelle de couleur du pire au meilleur\n",
    "color_scale = {\n",
    "    'J': 0,\n",
    "    'I': 1,\n",
    "    'H': 2,\n",
    "    'G': 3,\n",
    "    'F': 4,\n",
    "    'E': 5,\n",
    "    'D': 6\n",
    "}\n",
    "\n",
    "# Créer une nouvelle colonne avec l'échelle numérique\n",
    "diamonds['color_numeric'] = diamonds['color'].map(color_scale)\n",
    "\n",
    "# Vérifier le résultat\n",
    "print(diamonds[['color', 'color_numeric']].head())"
   ]
  },
  {
   "cell_type": "markdown",
   "metadata": {},
   "source": [
    "With the `info` method, we can see the features of the dataset, and the amount of observations (rows) that have a non-null value and the types of the features. \n",
    "\n",
    "**Now use the `info` method and comparing with the shape, comment on what you see**"
   ]
  },
  {
   "cell_type": "code",
   "execution_count": 60,
   "metadata": {},
   "outputs": [
    {
     "name": "stdout",
     "output_type": "stream",
     "text": [
      "<class 'pandas.core.frame.DataFrame'>\n",
      "RangeIndex: 53940 entries, 0 to 53939\n",
      "Data columns (total 13 columns):\n",
      " #   Column           Non-Null Count  Dtype  \n",
      "---  ------           --------------  -----  \n",
      " 0   Unnamed: 0       53940 non-null  int64  \n",
      " 1   carat            53940 non-null  float64\n",
      " 2   cut              53940 non-null  object \n",
      " 3   color            53940 non-null  object \n",
      " 4   clarity          53940 non-null  object \n",
      " 5   depth            53940 non-null  float64\n",
      " 6   table            53940 non-null  float64\n",
      " 7   price            53940 non-null  int64  \n",
      " 8   x                53940 non-null  float64\n",
      " 9   y                53940 non-null  float64\n",
      " 10  z                53940 non-null  float64\n",
      " 11  clarity_numeric  53940 non-null  int64  \n",
      " 12  color_numeric    53940 non-null  int64  \n",
      "dtypes: float64(6), int64(4), object(3)\n",
      "memory usage: 5.4+ MB\n"
     ]
    }
   ],
   "source": [
    "#your code here\n",
    "diamonds.info()"
   ]
  },
  {
   "cell_type": "markdown",
   "metadata": {},
   "source": [
    "In the last line of the info output, you have some information about the types of the columns. As you know, it is a good idea to check if the types of each column is what you expect. If a column has the right type, we will be able to do all the operations that we want to do. \n",
    "\n",
    "For instance, if we have a column that is a `date` with a `string` format, we will have the data but we won't be able to do a simple operation, such as format the date the way that we would like.\n",
    "\n",
    "Changing the data type to the one we needs can help us to solve a lot of problems in our data.\n",
    "\n",
    "**Check the types of each column and comment if it matches with the expected**"
   ]
  },
  {
   "cell_type": "code",
   "execution_count": 61,
   "metadata": {},
   "outputs": [],
   "source": [
    "#your code here"
   ]
  },
  {
   "cell_type": "markdown",
   "metadata": {},
   "source": [
    "# 2. A deeper look: checking the basic statistics.\n",
    "\n",
    "The `describe` method gives us an overview of our data. From here we can see all the descriptive metrics for our variables.\n",
    "\n",
    "**Use the `describe` method and comment on what you see**"
   ]
  },
  {
   "cell_type": "code",
   "execution_count": 62,
   "metadata": {},
   "outputs": [
    {
     "data": {
      "text/plain": [
       "<bound method NDFrame.describe of        Unnamed: 0  carat        cut color clarity  depth  table  price    x  \\\n",
       "0               1   0.23      Ideal     E     SI2  61.50  55.00    326 3.95   \n",
       "1               2   0.21    Premium     E     SI1  59.80  61.00    326 3.89   \n",
       "2               3   0.23       Good     E     VS1  56.90  65.00    327 4.05   \n",
       "3               4   0.29    Premium     I     VS2  62.40  58.00    334 4.20   \n",
       "4               5   0.31       Good     J     SI2  63.30  58.00    335 4.34   \n",
       "...           ...    ...        ...   ...     ...    ...    ...    ...  ...   \n",
       "53935       53936   0.72      Ideal     D     SI1  60.80  57.00   2757 5.75   \n",
       "53936       53937   0.72       Good     D     SI1  63.10  55.00   2757 5.69   \n",
       "53937       53938   0.70  Very Good     D     SI1  62.80  60.00   2757 5.66   \n",
       "53938       53939   0.86    Premium     H     SI2  61.00  58.00   2757 6.15   \n",
       "53939       53940   0.75      Ideal     D     SI2  62.20  55.00   2757 5.83   \n",
       "\n",
       "         y    z  clarity_numeric  color_numeric  \n",
       "0     3.98 2.43                1              5  \n",
       "1     3.84 2.31                2              5  \n",
       "2     4.07 2.31                4              5  \n",
       "3     4.23 2.63                3              1  \n",
       "4     4.35 2.75                1              0  \n",
       "...    ...  ...              ...            ...  \n",
       "53935 5.76 3.50                2              6  \n",
       "53936 5.75 3.61                2              6  \n",
       "53937 5.68 3.56                2              6  \n",
       "53938 6.12 3.74                1              2  \n",
       "53939 5.87 3.64                1              6  \n",
       "\n",
       "[53940 rows x 13 columns]>"
      ]
     },
     "execution_count": 62,
     "metadata": {},
     "output_type": "execute_result"
    }
   ],
   "source": [
    "#your code and comments here\n",
    "diamonds.describe"
   ]
  },
  {
   "cell_type": "markdown",
   "metadata": {},
   "source": [
    "You have probably noticed that the columns x, y and z have a minimum value of 0. This means that there are one or more rows (or observations) in our dataset that are supposedly representing a diamond that has lenght, width or depth of 0. Considering that we're talking about a physical object, this is impossible!\n",
    "\n",
    "Now let's proceed to check the rows that have a value of 0 in any of the x, y or z columns. By doing this we want to check if the data we are missing can be obtained using the data that we do have.\n",
    "\n",
    "**Check the columns with `x`, `y` and `z` with value 0 in all of them and comment what you see**"
   ]
  },
  {
   "cell_type": "code",
   "execution_count": 63,
   "metadata": {},
   "outputs": [
    {
     "name": "stdout",
     "output_type": "stream",
     "text": [
      "       Unnamed: 0  carat        cut color clarity  depth  table  price    x  \\\n",
      "2207         2208   1.00    Premium     G     SI2  59.10  59.00   3142 6.55   \n",
      "2314         2315   1.01    Premium     H      I1  58.10  59.00   3167 6.66   \n",
      "4791         4792   1.10    Premium     G     SI2  63.00  59.00   3696 6.50   \n",
      "5471         5472   1.01    Premium     F     SI2  59.20  58.00   3837 6.50   \n",
      "10167       10168   1.50       Good     G      I1  64.00  61.00   4731 7.15   \n",
      "11182       11183   1.07      Ideal     F     SI2  61.60  56.00   4954 0.00   \n",
      "11963       11964   1.00  Very Good     H     VS2  63.30  53.00   5139 0.00   \n",
      "13601       13602   1.15      Ideal     G     VS2  59.20  56.00   5564 6.88   \n",
      "15951       15952   1.14       Fair     G     VS1  57.50  67.00   6381 0.00   \n",
      "24394       24395   2.18    Premium     H     SI2  59.40  61.00  12631 8.49   \n",
      "24520       24521   1.56      Ideal     G     VS2  62.20  54.00  12800 0.00   \n",
      "26123       26124   2.25    Premium     I     SI1  61.30  58.00  15397 8.52   \n",
      "26243       26244   1.20    Premium     D    VVS1  62.10  59.00  15686 0.00   \n",
      "27112       27113   2.20    Premium     H     SI1  61.20  59.00  17265 8.42   \n",
      "27429       27430   2.25    Premium     H     SI2  62.80  59.00  18034 0.00   \n",
      "27503       27504   2.02    Premium     H     VS2  62.70  53.00  18207 8.02   \n",
      "27739       27740   2.80       Good     G     SI2  63.80  58.00  18788 8.90   \n",
      "49556       49557   0.71       Good     F     SI2  64.10  60.00   2130 0.00   \n",
      "49557       49558   0.71       Good     F     SI2  64.10  60.00   2130 0.00   \n",
      "51506       51507   1.12    Premium     G      I1  60.40  59.00   2383 6.71   \n",
      "\n",
      "         y    z  clarity_numeric  color_numeric  \n",
      "2207  6.48 0.00                1              3  \n",
      "2314  6.60 0.00                0              2  \n",
      "4791  6.47 0.00                1              3  \n",
      "5471  6.47 0.00                1              4  \n",
      "10167 7.04 0.00                0              3  \n",
      "11182 6.62 0.00                1              4  \n",
      "11963 0.00 0.00                3              2  \n",
      "13601 6.83 0.00                3              3  \n",
      "15951 0.00 0.00                4              3  \n",
      "24394 8.45 0.00                1              2  \n",
      "24520 0.00 0.00                3              3  \n",
      "26123 8.42 0.00                2              1  \n",
      "26243 0.00 0.00                6              6  \n",
      "27112 8.37 0.00                2              2  \n",
      "27429 0.00 0.00                1              2  \n",
      "27503 7.95 0.00                3              2  \n",
      "27739 8.85 0.00                1              3  \n",
      "49556 0.00 0.00                1              4  \n",
      "49557 0.00 0.00                1              4  \n",
      "51506 6.67 0.00                0              3  \n",
      "Nombre de lignes avec x, y ou z = 0 : 20\n"
     ]
    }
   ],
   "source": [
    "#your code here\n",
    "diamonds_zero_xyz = diamonds[\n",
    "    (diamonds['x'] == 0) | (diamonds['y'] == 0) | (diamonds['z'] == 0)\n",
    "]\n",
    "\n",
    "# Afficher les lignes concernées\n",
    "print(diamonds_zero_xyz)\n",
    "\n",
    "# Afficher combien de lignes sont concernées\n",
    "print(f\"Nombre de lignes avec x, y ou z = 0 : {diamonds_zero_xyz.shape[0]}\")"
   ]
  },
  {
   "cell_type": "markdown",
   "metadata": {},
   "source": [
    "As you can see, we have 20 rows that have a value of 0 in some or all the aforementioned columns.\n",
    "Most of them (12) are missing the z value, which we can obtain using the columns depth, x and y. \n",
    "\n",
    "20 rows with issues represent just 0.03% of our data (20 out of 53940) so it wouldn't be a big deal to remove them. Still, lets try to keep all the data we have. \n",
    "\n",
    "For those 12 rows, we will create a function that applies the formula given in the codebook and get the value of z. We will drop the other rows (8), since they are missing all 3 values or 2 of them.\n",
    "\n",
    "**Create a function named `calculate_z` that applies the function in the codebook to one single row you give to the function**"
   ]
  },
  {
   "cell_type": "code",
   "execution_count": 64,
   "metadata": {},
   "outputs": [],
   "source": [
    "#your code here\n",
    "# Créer une fonction pour calculer z à partir de depth, x et y\n",
    "def calculate_z(row):\n",
    "    \"\"\"\n",
    "    Calcule la profondeur z pour une ligne donnée en utilisant :\n",
    "    Depth = z / moyenne(x, y)  →  z = Depth * (x + y) / 2\n",
    "    \"\"\"\n",
    "    return row['depth'] * (row['x'] + row['y']) / 2"
   ]
  },
  {
   "cell_type": "markdown",
   "metadata": {},
   "source": [
    "**Apply it just to the rows with incorrect values**"
   ]
  },
  {
   "cell_type": "code",
   "execution_count": 65,
   "metadata": {},
   "outputs": [
    {
     "name": "stdout",
     "output_type": "stream",
     "text": [
      "         x    y  depth      z\n",
      "2207  6.55 6.48  59.10 385.04\n",
      "2314  6.66 6.60  58.10 385.20\n",
      "4791  6.50 6.47  63.00 408.55\n",
      "5471  6.50 6.47  59.20 383.91\n",
      "10167 7.15 7.04  64.00 454.08\n"
     ]
    }
   ],
   "source": [
    "#your code here\n",
    "# Trouver les lignes avec z = 0 mais x et y valides\n",
    "find_missing_z = (diamonds['z'] == 0) & (diamonds['x'] > 0) & (diamonds['y'] > 0)\n",
    "\n",
    "# Appliquer uniquement à ces lignes pour remplacer z\n",
    "diamonds.loc[find_missing_z, 'z'] = diamonds[find_missing_z].apply(calculate_z, axis=1)\n",
    "\n",
    "# Vérifier\n",
    "print(diamonds.loc[find_missing_z, ['x', 'y', 'depth', 'z']].head())"
   ]
  },
  {
   "cell_type": "markdown",
   "metadata": {},
   "source": [
    "If we leave the other 8 values as they are, it would negatively affect our analysis, because these are data that do not make logical sense. Therefore it is better to consider those values as NaN values, since they are probably the result of a mistake or error during process of measuring and storing these values in a dataset.\n",
    "\n",
    "To replace them we can use the pandas .replace() method and np.NaN.\n",
    "\n",
    "**Replace the zero values in the `z` column for a NaN**"
   ]
  },
  {
   "cell_type": "code",
   "execution_count": 66,
   "metadata": {},
   "outputs": [
    {
     "name": "stdout",
     "output_type": "stream",
     "text": [
      "8\n"
     ]
    }
   ],
   "source": [
    "#your code here\n",
    "# Remplacer les valeurs 0 dans la colonne 'z' par NaN\n",
    "diamonds['z'] = diamonds['z'].replace(0, np.nan)\n",
    "\n",
    "# Vérifier le résultat\n",
    "print(diamonds['z'].isna().sum())"
   ]
  },
  {
   "cell_type": "markdown",
   "metadata": {},
   "source": [
    "----\n",
    "# Bonus: check the new z values\n",
    "Since we need to be 100% sure of our data, let's create a function that validates our z. To do so, we will use the same formula, but this time we will calculate the value of depth with the new value assigned to z.\n",
    "\n",
    "**Create a function named `validate_z` that compares the `z`  in cells above with the one thrown by the formula and run it with the rows you changed in the cells above**"
   ]
  },
  {
   "cell_type": "code",
   "execution_count": 67,
   "metadata": {},
   "outputs": [
    {
     "name": "stdout",
     "output_type": "stream",
     "text": [
      "Nombre de lignes validées : 12\n",
      "Nombre total vérifiées : 53932\n"
     ]
    }
   ],
   "source": [
    "#your code here\n",
    "# Définir la fonction de validation\n",
    "def validate_z(row):\n",
    "    \"\"\"\n",
    "    Vérifie si la profondeur calculée à partir du z actuel\n",
    "    correspond bien à la valeur de 'depth' enregistrée.\n",
    "    \"\"\"\n",
    "    # Éviter la division par zéro\n",
    "    if (row['x'] + row['y']) == 0:\n",
    "        return False\n",
    "    \n",
    "    # Calculer depth à partir de z\n",
    "    computed_depth = row['z'] / ((row['x'] + row['y']) / 2)\n",
    "    \n",
    "    # Autoriser une petite marge d'erreur\n",
    "    return abs(computed_depth - row['depth']) < 1e-6\n",
    "\n",
    "# Filtrer les lignes qu'on avait modifiées\n",
    "mask_replaced_z = (diamonds['z'].notna()) & (diamonds['x'] > 0) & (diamonds['y'] > 0)\n",
    "\n",
    "# Appliquer la vérification\n",
    "validation_results = diamonds[mask_replaced_z].apply(validate_z, axis=1)\n",
    "\n",
    "# Vérifier combien sont correctes\n",
    "print(f\"Nombre de lignes validées : {validation_results.sum()}\")\n",
    "print(f\"Nombre total vérifiées : {validation_results.shape[0]}\")"
   ]
  },
  {
   "cell_type": "markdown",
   "metadata": {},
   "source": [
    "Let's check the data again with the `describe()` method."
   ]
  },
  {
   "cell_type": "markdown",
   "metadata": {},
   "source": [
    "The minimum value for x, y and z should now be a positive number, as it should be for the physical measurements of an object."
   ]
  },
  {
   "cell_type": "markdown",
   "metadata": {},
   "source": [
    "Let's finish by checking for NaN values in the data. Since we introduced them ourselves using 'replace', we will surely find some, but there may be more that are unrelated to the x, y and z columns. Checking NaNs is a fundamental part of data cleaning and it's always better to do this kind of operations before proceeding with analysis.\n",
    "\n",
    "**Check how many NaNs do you have, comment what you would do with those values, and then do so**"
   ]
  },
  {
   "cell_type": "code",
   "execution_count": 68,
   "metadata": {},
   "outputs": [
    {
     "data": {
      "text/html": [
       "<div>\n",
       "<style scoped>\n",
       "    .dataframe tbody tr th:only-of-type {\n",
       "        vertical-align: middle;\n",
       "    }\n",
       "\n",
       "    .dataframe tbody tr th {\n",
       "        vertical-align: top;\n",
       "    }\n",
       "\n",
       "    .dataframe thead th {\n",
       "        text-align: right;\n",
       "    }\n",
       "</style>\n",
       "<table border=\"1\" class=\"dataframe\">\n",
       "  <thead>\n",
       "    <tr style=\"text-align: right;\">\n",
       "      <th></th>\n",
       "      <th>count</th>\n",
       "      <th>mean</th>\n",
       "      <th>std</th>\n",
       "      <th>min</th>\n",
       "      <th>25%</th>\n",
       "      <th>50%</th>\n",
       "      <th>75%</th>\n",
       "      <th>max</th>\n",
       "    </tr>\n",
       "  </thead>\n",
       "  <tbody>\n",
       "    <tr>\n",
       "      <th>Unnamed: 0</th>\n",
       "      <td>53940.00</td>\n",
       "      <td>26970.50</td>\n",
       "      <td>15571.28</td>\n",
       "      <td>1.00</td>\n",
       "      <td>13485.75</td>\n",
       "      <td>26970.50</td>\n",
       "      <td>40455.25</td>\n",
       "      <td>53940.00</td>\n",
       "    </tr>\n",
       "    <tr>\n",
       "      <th>carat</th>\n",
       "      <td>53940.00</td>\n",
       "      <td>0.80</td>\n",
       "      <td>0.47</td>\n",
       "      <td>0.20</td>\n",
       "      <td>0.40</td>\n",
       "      <td>0.70</td>\n",
       "      <td>1.04</td>\n",
       "      <td>5.01</td>\n",
       "    </tr>\n",
       "    <tr>\n",
       "      <th>depth</th>\n",
       "      <td>53940.00</td>\n",
       "      <td>61.75</td>\n",
       "      <td>1.43</td>\n",
       "      <td>43.00</td>\n",
       "      <td>61.00</td>\n",
       "      <td>61.80</td>\n",
       "      <td>62.50</td>\n",
       "      <td>79.00</td>\n",
       "    </tr>\n",
       "    <tr>\n",
       "      <th>table</th>\n",
       "      <td>53940.00</td>\n",
       "      <td>57.46</td>\n",
       "      <td>2.23</td>\n",
       "      <td>43.00</td>\n",
       "      <td>56.00</td>\n",
       "      <td>57.00</td>\n",
       "      <td>59.00</td>\n",
       "      <td>95.00</td>\n",
       "    </tr>\n",
       "    <tr>\n",
       "      <th>price</th>\n",
       "      <td>53940.00</td>\n",
       "      <td>3932.80</td>\n",
       "      <td>3989.44</td>\n",
       "      <td>326.00</td>\n",
       "      <td>950.00</td>\n",
       "      <td>2401.00</td>\n",
       "      <td>5324.25</td>\n",
       "      <td>18823.00</td>\n",
       "    </tr>\n",
       "    <tr>\n",
       "      <th>x</th>\n",
       "      <td>53940.00</td>\n",
       "      <td>5.73</td>\n",
       "      <td>1.12</td>\n",
       "      <td>0.00</td>\n",
       "      <td>4.71</td>\n",
       "      <td>5.70</td>\n",
       "      <td>6.54</td>\n",
       "      <td>10.74</td>\n",
       "    </tr>\n",
       "    <tr>\n",
       "      <th>y</th>\n",
       "      <td>53940.00</td>\n",
       "      <td>5.73</td>\n",
       "      <td>1.14</td>\n",
       "      <td>0.00</td>\n",
       "      <td>4.72</td>\n",
       "      <td>5.71</td>\n",
       "      <td>6.54</td>\n",
       "      <td>58.90</td>\n",
       "    </tr>\n",
       "    <tr>\n",
       "      <th>z</th>\n",
       "      <td>53932.00</td>\n",
       "      <td>3.64</td>\n",
       "      <td>6.80</td>\n",
       "      <td>1.07</td>\n",
       "      <td>2.91</td>\n",
       "      <td>3.53</td>\n",
       "      <td>4.04</td>\n",
       "      <td>566.23</td>\n",
       "    </tr>\n",
       "    <tr>\n",
       "      <th>clarity_numeric</th>\n",
       "      <td>53940.00</td>\n",
       "      <td>3.05</td>\n",
       "      <td>1.65</td>\n",
       "      <td>0.00</td>\n",
       "      <td>2.00</td>\n",
       "      <td>3.00</td>\n",
       "      <td>4.00</td>\n",
       "      <td>7.00</td>\n",
       "    </tr>\n",
       "    <tr>\n",
       "      <th>color_numeric</th>\n",
       "      <td>53940.00</td>\n",
       "      <td>3.41</td>\n",
       "      <td>1.70</td>\n",
       "      <td>0.00</td>\n",
       "      <td>2.00</td>\n",
       "      <td>3.00</td>\n",
       "      <td>5.00</td>\n",
       "      <td>6.00</td>\n",
       "    </tr>\n",
       "  </tbody>\n",
       "</table>\n",
       "</div>"
      ],
      "text/plain": [
       "                   count     mean      std    min      25%      50%      75%  \\\n",
       "Unnamed: 0      53940.00 26970.50 15571.28   1.00 13485.75 26970.50 40455.25   \n",
       "carat           53940.00     0.80     0.47   0.20     0.40     0.70     1.04   \n",
       "depth           53940.00    61.75     1.43  43.00    61.00    61.80    62.50   \n",
       "table           53940.00    57.46     2.23  43.00    56.00    57.00    59.00   \n",
       "price           53940.00  3932.80  3989.44 326.00   950.00  2401.00  5324.25   \n",
       "x               53940.00     5.73     1.12   0.00     4.71     5.70     6.54   \n",
       "y               53940.00     5.73     1.14   0.00     4.72     5.71     6.54   \n",
       "z               53932.00     3.64     6.80   1.07     2.91     3.53     4.04   \n",
       "clarity_numeric 53940.00     3.05     1.65   0.00     2.00     3.00     4.00   \n",
       "color_numeric   53940.00     3.41     1.70   0.00     2.00     3.00     5.00   \n",
       "\n",
       "                     max  \n",
       "Unnamed: 0      53940.00  \n",
       "carat               5.01  \n",
       "depth              79.00  \n",
       "table              95.00  \n",
       "price           18823.00  \n",
       "x                  10.74  \n",
       "y                  58.90  \n",
       "z                 566.23  \n",
       "clarity_numeric     7.00  \n",
       "color_numeric       6.00  "
      ]
     },
     "execution_count": 68,
     "metadata": {},
     "output_type": "execute_result"
    }
   ],
   "source": [
    "#your code here\n",
    "# Plus de décimales et transposé\n",
    "pd.set_option('display.float_format', '{:.2f}'.format)\n",
    "\n",
    "# Résumé statistique transposé pour meilleure lecture\n",
    "diamonds.describe().T"
   ]
  },
  {
   "cell_type": "code",
   "execution_count": null,
   "metadata": {},
   "outputs": [],
   "source": []
  },
  {
   "cell_type": "markdown",
   "metadata": {},
   "source": [
    "# 3. Checking for outliers\n",
    "Now we are going to revisit the summary table to check for outliers.\n",
    "\n",
    "**Use the `describe` method again and comment on what you see. After that, check if you have any outliers** "
   ]
  },
  {
   "cell_type": "code",
   "execution_count": 71,
   "metadata": {},
   "outputs": [],
   "source": [
    "#your code here\n"
   ]
  },
  {
   "cell_type": "code",
   "execution_count": null,
   "metadata": {},
   "outputs": [],
   "source": [
    "#your comments here"
   ]
  },
  {
   "cell_type": "markdown",
   "metadata": {},
   "source": [
    "To manage these outliers, we are going to filter our DataFrame, we're going to take all the values that have a price higher than the 75th percentile.\n",
    "\n",
    "**Look for that quantile and filter the dataframe to clearly see the outliers. What do you think?**"
   ]
  },
  {
   "cell_type": "code",
   "execution_count": null,
   "metadata": {},
   "outputs": [],
   "source": [
    "#your code here"
   ]
  },
  {
   "cell_type": "markdown",
   "metadata": {},
   "source": [
    "Our dataset is really big and the outliers are really far apart from the rest of the values. To see this more clearly we will use a boxplot, which plots the median, 25th and 75th quartile, the maximum and minimum, as well as any outliers."
   ]
  },
  {
   "cell_type": "code",
   "execution_count": null,
   "metadata": {},
   "outputs": [
    {
     "data": {
      "image/png": "[encoded data removed]",
      "text/plain": [
       "<Figure size 1000x500 with 2 Axes>"
      ]
     },
     "metadata": {},
     "output_type": "display_data"
    }
   ],
   "source": [
    "#Run this code\n",
    "fig, ax = plt.subplots(1,2, figsize=(10, 5))\n",
    "sns.boxplot(y=diamonds.y, ax=ax[0])\n",
    "sns.boxplot(y=diamonds.z, ax=ax[1])\n",
    "plt.subplots_adjust(wspace=0.5)"
   ]
  },
  {
   "cell_type": "markdown",
   "metadata": {},
   "source": [
    "Now we can see that all the values are within an acceptable range, but we have 2 big outliers in y and 1 in z. Now we know that our max values for y should be around 10 and the values for z should be around 6, so let's filter our dataset to find values higher than 10 in it.\n"
   ]
  },
  {
   "cell_type": "code",
   "execution_count": null,
   "metadata": {},
   "outputs": [],
   "source": [
    "#your code here"
   ]
  },
  {
   "cell_type": "markdown",
   "metadata": {},
   "source": [
    "Now that we have found the outlier, let's use the function we defined earlier to correct this value. First, we need to change the value to 0 (because that's how we defined the function before) and then we will apply it.\n",
    "\n",
    "**Apply `calculate_z` for the row with the outlier**"
   ]
  },
  {
   "cell_type": "code",
   "execution_count": null,
   "metadata": {},
   "outputs": [],
   "source": [
    "#your code here"
   ]
  },
  {
   "cell_type": "markdown",
   "metadata": {},
   "source": [
    "Let's check if we actually corrected the outlier."
   ]
  },
  {
   "cell_type": "code",
   "execution_count": null,
   "metadata": {},
   "outputs": [
    {
     "data": {
      "text/plain": [
       "Unnamed: 0             48411\n",
       "carat                   0.51\n",
       "cut                Very Good\n",
       "color                      E\n",
       "clarity                  VS1\n",
       "depth                   61.8\n",
       "table                   54.7\n",
       "price                   1970\n",
       "x                       5.12\n",
       "y                       5.15\n",
       "z                       31.8\n",
       "clarity_numeric            4\n",
       "Name: 48410, dtype: object"
      ]
     },
     "execution_count": 29,
     "metadata": {},
     "output_type": "execute_result"
    }
   ],
   "source": [
    "diamonds.loc[48410]"
   ]
  },
  {
   "cell_type": "markdown",
   "metadata": {},
   "source": [
    "Cool! Now let's validate our new `z`. We will check if we obtain the same value of depth using our validate function. If the formula applies, this means could approximate the real value of `z`.\n",
    "\n",
    "**Apply `validate_z` to the row used earlier**"
   ]
  },
  {
   "cell_type": "code",
   "execution_count": null,
   "metadata": {},
   "outputs": [],
   "source": [
    "#your code here"
   ]
  },
  {
   "cell_type": "markdown",
   "metadata": {},
   "source": [
    "Now let's do the same for `y`. First, let's filter the DataFrame to find the outliers. We said that the maximum values should be around 10, so let's check what are the values above 10.\n",
    "\n",
    "**Check the values greater than 10 in the `y` column** "
   ]
  },
  {
   "cell_type": "code",
   "execution_count": null,
   "metadata": {},
   "outputs": [],
   "source": [
    "#your code here"
   ]
  },
  {
   "cell_type": "markdown",
   "metadata": {},
   "source": [
    "We can clearly see that the 31.8 in row 49189 is an outlier for the y value. Also, we can see that the 58.9 value for `y` in row 24067 is actually its depth, so it was a mistake when they introduced the data. Let's create a function to fix these outliers.\n",
    "\n",
    "**Create a function named `calculate_y` to calculate `y` using `z` and `x` the same way you did above**"
   ]
  },
  {
   "cell_type": "code",
   "execution_count": null,
   "metadata": {},
   "outputs": [],
   "source": [
    "#your code here"
   ]
  },
  {
   "cell_type": "markdown",
   "metadata": {},
   "source": [
    "We will check the rows that had an outlier in `y`, to check that the values were changed.\n",
    "\n",
    "**Check those rows (also validating with your function) and comment what you see**"
   ]
  },
  {
   "cell_type": "markdown",
   "metadata": {},
   "source": [
    "Now that we have corrected or dropped all of our outliers, lets plot another box plot to double check."
   ]
  },
  {
   "cell_type": "code",
   "execution_count": null,
   "metadata": {},
   "outputs": [
    {
     "data": {
      "image/png": "[encoded data removed]",
      "text/plain": [
       "<Figure size 1000x500 with 2 Axes>"
      ]
     },
     "metadata": {},
     "output_type": "display_data"
    }
   ],
   "source": [
    "#Run this code\n",
    "fig, ax = plt.subplots(1,2, figsize=(10, 5))\n",
    "sns.boxplot(y=diamonds.y, ax=ax[0])\n",
    "sns.boxplot(y=diamonds.z, ax=ax[1])\n",
    "plt.subplots_adjust(wspace=0.5)"
   ]
  },
  {
   "cell_type": "markdown",
   "metadata": {},
   "source": [
    "**What do you think? Are these values more reasonable?**\n"
   ]
  },
  {
   "cell_type": "code",
   "execution_count": null,
   "metadata": {},
   "outputs": [],
   "source": [
    "#your thoughts here"
   ]
  },
  {
   "cell_type": "markdown",
   "metadata": {},
   "source": [
    "**Once you are happy with your cleaning, save the cleaned data and continue to csv. Your new csv should be named ``diamonds_clean``**"
   ]
  },
  {
   "cell_type": "code",
   "execution_count": null,
   "metadata": {},
   "outputs": [],
   "source": [
    "#your code here"
   ]
  }
 ],
 "metadata": {
  "kernelspec": {
   "display_name": "Python 3",
   "language": "python",
   "name": "python3"
  },
  "language_info": {
   "codemirror_mode": {
    "name": "ipython",
    "version": 3
   },
   "file_extension": ".py",
   "mimetype": "text/x-python",
   "name": "python",
   "nbconvert_exporter": "python",
   "pygments_lexer": "ipython3",
   "version": "3.13.5"
  }
 },
 "nbformat": 4,
 "nbformat_minor": 2
}
