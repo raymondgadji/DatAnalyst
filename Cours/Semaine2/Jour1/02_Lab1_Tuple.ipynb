{
  "cells": [
    {
      "cell_type": "markdown",
      "metadata": {},
      "source": [
        "## Défi 1 : Tuples\n",
        "\n",
        "#### Do you know you can create tuples with only one element?\n",
        "\n",
        "**In the cell below, define a variable `tup` with a single element `\"I\"`.**\n",
        "\n",
        "*Hint: you need to add a comma (`,`) after the single element.*"
      ]
    },
    {
      "cell_type": "code",
      "execution_count": 1,
      "metadata": {},
      "outputs": [
        {
          "name": "stdout",
          "output_type": "stream",
          "text": [
            "('I',)\n"
          ]
        }
      ],
      "source": [
        "# Your code here\n",
        "tup = (\"I\", )\n",
        "print(tup)\n",
        "\n"
      ]
    },
    {
      "cell_type": "markdown",
      "metadata": {},
      "source": [
        "#### Print the type of `tup`. \n",
        "\n",
        "Make sure its type is correct (i.e. *tuple* instead of *str*)."
      ]
    },
    {
      "cell_type": "code",
      "execution_count": 2,
      "metadata": {},
      "outputs": [
        {
          "name": "stdout",
          "output_type": "stream",
          "text": [
            "<class 'tuple'>\n"
          ]
        }
      ],
      "source": [
        "# Your code here\n",
        "type(tup)\n",
        "print(type(tup))\n",
        "\n"
      ]
    },
    {
      "cell_type": "markdown",
      "metadata": {},
      "source": [
        "#### Now try to append the following elements to `tup`. \n",
        "\n",
        "Are you able to do it? Explain.\n",
        "\n",
        "```\n",
        "\"r\", \"o\", \"n\", \"h\", \"a\", \"c\", \"k',\n",
        "```"
      ]
    },
    {
      "cell_type": "code",
      "execution_count": null,
      "metadata": {},
      "outputs": [],
      "source": [
        "# Your code here\n",
        "# tup.append(\"r\", \"o\", \"n\", \"h\", \"a\", \"c\", \"k\")\n",
        "# print(tup) ERROR: 'tuple' object has no attribute 'append'\n",
        "\n",
        "# Your explanation here\n",
        "#It is impossible to modify a tuple, as it is immutable.\n",
        "# Tuples are immutable, meaning they cannot be changed after creation. \n"
      ]
    },
    {
      "cell_type": "markdown",
      "metadata": {},
      "source": [
        "#### How about re-assign a new value to an existing tuple?\n",
        "\n",
        "Re-assign the following elements to `tup`. Are you able to do it? Explain.\n",
        "\n",
        "```\n",
        "\"I\", \"r\", \"o\", \"n\", \"h\", \"a\", \"c\", \"k\"\n",
        "```"
      ]
    },
    {
      "cell_type": "code",
      "execution_count": 7,
      "metadata": {},
      "outputs": [
        {
          "name": "stdout",
          "output_type": "stream",
          "text": [
            "('I', 'r', 'o', 'n', 'h', 'a', 'c', 'k')\n"
          ]
        }
      ],
      "source": [
        "# Your code here\n",
        "tup = (\"I\", \"r\", \"o\", \"n\", \"h\", \"a\", \"c\", \"k\")\n",
        "print(tup)\n",
        "\n",
        "# Your explanation here\n",
        "# Tuples are immutable, meaning they cannot be changed after creation. \n"
      ]
    },
    {
      "cell_type": "markdown",
      "metadata": {},
      "source": [
        "#### Split `tup` into `tup1` and `tup2` with 4 elements in each. \n",
        "\n",
        "`tup1` should be `(\"I\", \"r\", \"o\", \"n\")` and `tup2` should be `(\"h\", \"a\", \"c\", \"k\")`.\n",
        "\n",
        "*Hint: use positive index numbers for `tup1` assignment and use negative index numbers for `tup2` assignment. Positive index numbers count from the beginning whereas negative index numbers count from the end of the sequence.*\n",
        "\n",
        "Also print `tup1` and `tup2`."
      ]
    },
    {
      "cell_type": "code",
      "execution_count": null,
      "metadata": {},
      "outputs": [],
      "source": [
        "# Your code here\n",
        "tup.split(\"I\", \"r\", \"o\", \"n\", \"h\", \"a\", \"c\", \"k\")\n",
        "print(tup.split())\n",
        "# tup1 = (\"I\", \"r\", \"o\", \"n\", \"h\")\n",
        "# print(tup1)\n"
      ]
    },
    {
      "cell_type": "markdown",
      "metadata": {},
      "source": [
        "#### Add `tup1` and `tup2` into `tup3` using the `+` operator.\n",
        "\n",
        "Then print `tup3` and check if `tup3` equals to `tup`."
      ]
    },
    {
      "cell_type": "code",
      "execution_count": null,
      "metadata": {},
      "outputs": [],
      "source": [
        "# Your code here\n"
      ]
    },
    {
      "cell_type": "markdown",
      "metadata": {},
      "source": [
        "#### Count the number of elements in `tup1` and `tup2`. Then add the two counts together and check if the sum is the same as the number of elements in `tup3`."
      ]
    },
    {
      "cell_type": "code",
      "execution_count": null,
      "metadata": {},
      "outputs": [],
      "source": [
        "# Your code here\n"
      ]
    },
    {
      "cell_type": "markdown",
      "metadata": {},
      "source": [
        "#### What is the index number of `\"h\"` in `tup3`?"
      ]
    },
    {
      "cell_type": "code",
      "execution_count": null,
      "metadata": {},
      "outputs": [],
      "source": [
        "# Your code here\n"
      ]
    },
    {
      "cell_type": "markdown",
      "metadata": {},
      "source": [
        "#### Now, use a FOR loop to check whether each letter in the following list is present in `tup3`:\n",
        "\n",
        "```\n",
        "letters = [\"a\", \"b\", \"c\", \"d\", \"e\"]\n",
        "```\n",
        "\n",
        "For each letter you check, print `True` if it is present in `tup3` otherwise print `False`.\n",
        "\n",
        "*Hint: you only need to loop `letters`. You don't need to loop `tup3` because there is a Python operator `in` you can use. See [reference](https://stackoverflow.com/questions/17920147/how-to-check-if-a-tuple-contains-an-element-in-python).*"
      ]
    },
    {
      "cell_type": "code",
      "execution_count": null,
      "metadata": {},
      "outputs": [],
      "source": [
        "# Your code here\n"
      ]
    },
    {
      "cell_type": "markdown",
      "metadata": {},
      "source": [
        "#### How many times does each letter in `letters` appear in `tup3`?\n",
        "\n",
        "Affichez the number of occurrence of each letter."
      ]
    },
    {
      "cell_type": "code",
      "execution_count": null,
      "metadata": {},
      "outputs": [],
      "source": [
        "# Your code here\n"
      ]
    }
  ],
  "metadata": {
    "kernelspec": {
      "display_name": "Python 3",
      "language": "python",
      "name": "python3"
    },
    "language_info": {
      "codemirror_mode": {
        "name": "ipython",
        "version": 3
      },
      "file_extension": ".py",
      "mimetype": "text/x-python",
      "name": "python",
      "nbconvert_exporter": "python",
      "pygments_lexer": "ipython3",
      "version": "3.13.5"
    }
  },
  "nbformat": 4,
  "nbformat_minor": 2
}
