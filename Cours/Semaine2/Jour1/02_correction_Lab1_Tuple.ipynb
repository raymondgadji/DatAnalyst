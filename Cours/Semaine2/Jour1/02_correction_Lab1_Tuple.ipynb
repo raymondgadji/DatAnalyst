{
  "cells": [
    {
      "cell_type": "markdown",
      "metadata": {},
      "source": [
        "## Défi 1 : Tuples\n",
        "\n",
        "#### Saviez-vous qu’il est possible de créer un tuple avec un seul élément ?\n",
        "\n",
        "Dans la cellule ci-dessous, définissez une variable tup contenant un seul élément \"I\".\n",
        "\n",
        "Astuce : vous devez ajouter une virgule (,) après l’unique élément."
      ]
    },
    {
      "cell_type": "code",
      "execution_count": 3,
      "metadata": {},
      "outputs": [],
      "source": [
        "# Your code here\n",
        "t1 = (42,)      # Tuple contenant un seul entier\n",
        "t2 = ('hello',)\n",
        "tup=(\"I\",)"
      ]
    },
    {
      "cell_type": "markdown",
      "metadata": {},
      "source": [
        "#### Affichez le type de tup.\n",
        "\n",
        "Assurez-vous que son type est correct (tuple et non str)."
      ]
    },
    {
      "cell_type": "code",
      "execution_count": null,
      "metadata": {},
      "outputs": [
        {
          "name": "stdout",
          "output_type": "stream",
          "text": [
            "<class 'tuple'>\n"
          ]
        }
      ],
      "source": [
        "# Your code here\n",
        "tup=(\"I\",)\n",
        "print(type(tup))"
      ]
    },
    {
      "cell_type": "markdown",
      "metadata": {},
      "source": [
        "#### Essayez maintenant d’ajouter les éléments suivants à tup.\n",
        "\n",
        "Pouvez-vous le faire ? Expliquez.\n",
        "\n",
        "\"s\", \"p\", \"i\", \"m\", \"l\", \"o\", \"n\""
      ]
    },
    {
      "cell_type": "code",
      "execution_count": null,
      "metadata": {},
      "outputs": [],
      "source": [
        "tup=(\"I\",)\n",
        "tup += (\"S\",)"
      ]
    },
    {
      "cell_type": "code",
      "execution_count": null,
      "metadata": {},
      "outputs": [
        {
          "name": "stdout",
          "output_type": "stream",
          "text": [
            "('I', 'S', 'P', 'I', 'M', 'L', 'O', 'N')\n"
          ]
        }
      ],
      "source": [
        "# Your code here\n",
        "\n",
        "# Your explanation here \n",
        "#créer un nouveau tuple en combinant l’ancien et les nouveaux éléments.\n",
        "# Tuple initial\n",
        "tup =(\"I\",)\n",
        "\n",
        "# Nouveaux éléments\n",
        "new_elements = (\"S\", \"P\", \"I\", \"M\", \"L\", \"O\", \"N\")\n",
        "\n",
        "# Création d'un nouveau tuple en concaténant\n",
        "tup = tup + new_elements\n",
        "\n",
        "print(tup)\n",
        "\n",
        "## on peut “ajouter” des éléments, mais seulement en recréant un nouveau tuple par concaténation."
      ]
    },
    {
      "cell_type": "markdown",
      "metadata": {},
      "source": [
        "#### Et si vous réaffectiez une nouvelle valeur à un tuple existant ?\n",
        "\n",
        "\n",
        "Réaffectez les éléments suivants à tup. Pouvez-vous le faire ? Expliquez.\n",
        "\n",
        "```\n",
        "\"S\", \"I\", \"M\", \"P\", \"L\", \"O\", \"N\"\n",
        "```\n"
      ]
    },
    {
      "cell_type": "code",
      "execution_count": null,
      "metadata": {},
      "outputs": [],
      "source": [
        "# Your code here\n",
        "# Tuple initial\n",
        "tup = (\"I\",)\n",
        "\n",
        "# Réaffectation d'un nouveau tuple\n",
        "tup = (\"s\", \"p\", \"i\", \"m\", \"l\", \"o\", \"n\")\n",
        "\n",
        "print(tup)\n",
        "# Your explanation here : \n",
        "# Oui !\n",
        "# Tu ne modifies pas le tuple existant, tu crées juste un nouveau tuple et tu le réaffectes au même nom de variable.\n"
      ]
    },
    {
      "cell_type": "markdown",
      "metadata": {},
      "source": [
        "#### Divisez `tup` en `tup1` et `tup2` avec 4 éléments chacun.\n",
        "\n",
        "`tup1` doit être `(\"S\", \"I\", \"M\", \"P\")` et `tup2` doit être `(\"L\", \"O\", \"N\")`.\n",
        "\n",
        "*Astuce : utilisez des indices positifs pour l’affectation de `tup1` et des indices négatifs pour l’affectation de `tup2`. Les indices positifs comptent depuis le début, tandis que les indices négatifs comptent depuis la fin de la séquence.*\n",
        "\n",
        "Affichez également `tup1` et `tup2`.\n"
      ]
    },
    {
      "cell_type": "code",
      "execution_count": 22,
      "metadata": {},
      "outputs": [
        {
          "name": "stdout",
          "output_type": "stream",
          "text": [
            "tup1: ('s', 'i', 'm', 'p')\n",
            "tup2: ('l', 'o', 'n')\n"
          ]
        }
      ],
      "source": [
        "# Your code here\n",
        "tup = (\"s\", \"i\", \"m\", \"p\", \"l\", \"o\", \"n\")\n",
        "\n",
        "tup1 = tup[:4]\n",
        "\n",
        "#tup1 = (\"S\", \"I\", \"M\", \"P\", \"L\", \"O\", \"N\")\n",
        "\n",
        "tup2 = tup[-3:]  # Les 3 derniers éléments (L, O, N)\n",
        "\n",
        "print(\"tup1:\", tup1)\n",
        "print(\"tup2:\", tup2)"
      ]
    },
    {
      "cell_type": "markdown",
      "metadata": {},
      "source": [
        "#### Additionnez `tup1` et `tup2` dans `tup3` en utilisant l’opérateur `+`.\n",
        "\n",
        "Ensuite, affichez `tup3` et vérifiez si `tup3` est égal à `tup`.\n"
      ]
    },
    {
      "cell_type": "code",
      "execution_count": 23,
      "metadata": {},
      "outputs": [
        {
          "name": "stdout",
          "output_type": "stream",
          "text": [
            "tip3: ('s', 'i', 'm', 'p', 'l', 'o', 'n')\n"
          ]
        },
        {
          "data": {
            "text/plain": [
              "True"
            ]
          },
          "execution_count": 23,
          "metadata": {},
          "output_type": "execute_result"
        }
      ],
      "source": [
        "# Your code here\n",
        "tup3 = tup1 + tup2\n",
        "\n",
        "print(\"tip3:\", tup3)\n",
        "\n",
        "tup3 == tup"
      ]
    },
    {
      "cell_type": "markdown",
      "metadata": {},
      "source": [
        "#### Comptez le nombre d’éléments dans `tup1` et `tup2`.  \n",
        "Ensuite, additionnez les deux nombres et vérifiez si la somme est égale au nombre d’éléments dans `tup3`.\n"
      ]
    },
    {
      "cell_type": "code",
      "execution_count": 24,
      "metadata": {},
      "outputs": [
        {
          "name": "stdout",
          "output_type": "stream",
          "text": [
            "Nombre d'éléments dans tup1 : 4\n",
            "Nombre d'éléments dans tup2 : 3\n"
          ]
        }
      ],
      "source": [
        "# Your code here\n",
        "# Comptage\n",
        "len_tup1 = len(tup1)\n",
        "len_tup2 = len(tup2)\n",
        "\n",
        "print(\"Nombre d'éléments dans tup1 :\", len_tup1)\n",
        "print(\"Nombre d'éléments dans tup2 :\", len_tup2)"
      ]
    },
    {
      "cell_type": "markdown",
      "metadata": {},
      "source": [
        "#### Quel est le numéro d’indice de `\"L\"` dans `tup3` ?\n"
      ]
    },
    {
      "cell_type": "code",
      "execution_count": 26,
      "metadata": {},
      "outputs": [
        {
          "name": "stdout",
          "output_type": "stream",
          "text": [
            "Indice de 'l' : 4\n"
          ]
        }
      ],
      "source": [
        "# Your code here\n",
        "index_L = tup3.index(\"l\")\n",
        "print(\"Indice de 'l' :\", index_L)\n"
      ]
    },
    {
      "cell_type": "markdown",
      "metadata": {},
      "source": [
        "#### #### Maintenant, utilisez une boucle **FOR** pour vérifier si chaque lettre de la liste suivante est présente dans `tup3` :\n",
        "\n",
        "\n",
        "```\n",
        "letters = [\"a\", \"b\", \"c\", \"d\", \"e\"]\n",
        "```\n",
        "\n",
        "Pour chaque lettre vérifiée, affichez `True` si elle est présente dans `tup3`, sinon affichez `False`.\n",
        "\n",
        "*Astuce : vous devez uniquement parcourir `letters`. Il n’est pas nécessaire de parcourir `tup3` car l’opérateur Python `in` peut être utilisé. Voir [référence](https://stackoverflow.com/questions/17920147/how-to-check-if-a-tuple-contains-an-element-in-python).*\n"
      ]
    },
    {
      "cell_type": "code",
      "execution_count": 27,
      "metadata": {},
      "outputs": [
        {
          "name": "stdout",
          "output_type": "stream",
          "text": [
            "False\n",
            "False\n",
            "False\n",
            "False\n",
            "False\n"
          ]
        }
      ],
      "source": [
        "# Your code here\n",
        "# Tuple de référence\n",
        "tup3 = (\"S\", \"I\", \"M\", \"P\", \"L\", \"O\", \"N\")\n",
        "\n",
        "# Liste des lettres à vérifier\n",
        "letters = [\"a\", \"b\", \"c\", \"d\", \"e\"]\n",
        "\n",
        "# Boucle FOR pour vérifier chaque lettre\n",
        "for letter in letters:\n",
        "    print(letter in tup3)\n"
      ]
    },
    {
      "cell_type": "markdown",
      "metadata": {},
      "source": [
        "#### Combien de fois chaque lettre dans `letters` apparaît-elle dans `tup3` ?\n",
        "\n",
        "Affichez le nombre d’occurrences de chaque lettre.\n"
      ]
    },
    {
      "cell_type": "code",
      "execution_count": 29,
      "metadata": {},
      "outputs": [
        {
          "name": "stdout",
          "output_type": "stream",
          "text": [
            "Lettre : 'a' → Nombre d'occurrences : 0\n",
            "Lettre : 'b' → Nombre d'occurrences : 0\n",
            "Lettre : 'P' → Nombre d'occurrences : 1\n",
            "Lettre : 'd' → Nombre d'occurrences : 0\n",
            "Lettre : 'e' → Nombre d'occurrences : 0\n"
          ]
        }
      ],
      "source": [
        "# Your code here\n",
        "# Tuple de référence\n",
        "tup3 = (\"S\", \"I\", \"M\", \"P\", \"L\", \"O\", \"N\")\n",
        "\n",
        "# Liste des lettres à vérifier\n",
        "letters = [\"a\", \"b\", \"P\", \"d\", \"e\"]\n",
        "\n",
        "# Boucle FOR pour compter et afficher\n",
        "for letter in letters:\n",
        "    count = tup3.count(letter)\n",
        "    print(f\"Lettre : '{letter}' → Nombre d'occurrences : {count}\")\n"
      ]
    }
  ],
  "metadata": {
    "kernelspec": {
      "display_name": "Python 3",
      "language": "python",
      "name": "python3"
    },
    "language_info": {
      "codemirror_mode": {
        "name": "ipython",
        "version": 3
      },
      "file_extension": ".py",
      "mimetype": "text/x-python",
      "name": "python",
      "nbconvert_exporter": "python",
      "pygments_lexer": "ipython3",
      "version": "3.13.5"
    }
  },
  "nbformat": 4,
  "nbformat_minor": 2
}
